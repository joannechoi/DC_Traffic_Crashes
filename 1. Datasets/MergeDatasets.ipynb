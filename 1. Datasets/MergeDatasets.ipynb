{
  "nbformat": 4,
  "nbformat_minor": 0,
  "metadata": {
    "colab": {
      "name": "MergeDatasets.ipynb",
      "provenance": []
    },
    "kernelspec": {
      "name": "python3",
      "display_name": "Python 3"
    },
    "language_info": {
      "name": "python"
    }
  },
  "cells": [
    {
      "cell_type": "code",
      "execution_count": 1,
      "metadata": {
        "colab": {
          "base_uri": "https://localhost:8080/"
        },
        "id": "h_MqwIquqD3o",
        "outputId": "66019ac3-98cc-4932-b8b0-159c77ad9244"
      },
      "outputs": [
        {
          "output_type": "stream",
          "name": "stdout",
          "text": [
            "Drive already mounted at /content/drive; to attempt to forcibly remount, call drive.mount(\"/content/drive\", force_remount=True).\n",
            "/content/drive/My Drive/DATA606 Capstone/Raw Data\n"
          ]
        }
      ],
      "source": [
        "from google.colab import drive\n",
        "drive.mount('/content/drive')\n",
        "%cd /content/drive/My Drive/DATA606 Capstone/Raw Data"
      ]
    },
    {
      "cell_type": "code",
      "source": [
        "import pandas as pd"
      ],
      "metadata": {
        "id": "mPqrix_lqK4e"
      },
      "execution_count": 2,
      "outputs": []
    },
    {
      "cell_type": "code",
      "source": [
        "weather = pd.read_csv('WeatherData15-19.csv')"
      ],
      "metadata": {
        "id": "9lnt6lY5qVYO"
      },
      "execution_count": 3,
      "outputs": []
    },
    {
      "cell_type": "code",
      "source": [
        "crash = pd.read_csv('rawCrash.csv')"
      ],
      "metadata": {
        "colab": {
          "base_uri": "https://localhost:8080/"
        },
        "id": "F3lJ3NcOqoCj",
        "outputId": "cb478eaa-2f09-4d33-bb96-df76c2a5ac5f"
      },
      "execution_count": 4,
      "outputs": [
        {
          "output_type": "stream",
          "name": "stderr",
          "text": [
            "/usr/local/lib/python3.7/dist-packages/IPython/core/interactiveshell.py:2882: DtypeWarning: Columns (5) have mixed types.Specify dtype option on import or set low_memory=False.\n",
            "  exec(code_obj, self.user_global_ns, self.user_ns)\n"
          ]
        }
      ]
    },
    {
      "cell_type": "code",
      "source": [
        "#crash = crash[['DATE', 'TIME', 'ADDRESS', 'LATITUDE', 'LONGITUDE', 'XCOORD','YCOORD', 'WARD', ]]"
      ],
      "metadata": {
        "id": "UsrEfcxU73Fj"
      },
      "execution_count": 5,
      "outputs": []
    },
    {
      "cell_type": "code",
      "source": [
        "crash['DATE'] = pd.to_datetime(crash['DATE'])\n",
        "weather['Date time'] = pd.to_datetime(weather['Date time'])"
      ],
      "metadata": {
        "id": "bWMGaPRw7JYU"
      },
      "execution_count": 6,
      "outputs": []
    },
    {
      "cell_type": "code",
      "source": [
        "data = pd.merge(crash, weather, how = 'outer', \n",
        "                  left_on = crash['DATE'],\n",
        "                  right_on = weather['Date time'])"
      ],
      "metadata": {
        "id": "x2V_Gn3JrwE1"
      },
      "execution_count": 7,
      "outputs": []
    },
    {
      "cell_type": "code",
      "source": [
        "data = data.drop(columns = ['key_0', 'Unnamed: 0'])"
      ],
      "metadata": {
        "id": "x8YCJcQ7sHvb"
      },
      "execution_count": 8,
      "outputs": []
    },
    {
      "cell_type": "code",
      "source": [
        "data = data.sort_values(by='DATE')"
      ],
      "metadata": {
        "id": "E0Z25QcU8lMJ"
      },
      "execution_count": 9,
      "outputs": []
    },
    {
      "cell_type": "code",
      "source": [
        "data.columns"
      ],
      "metadata": {
        "colab": {
          "base_uri": "https://localhost:8080/"
        },
        "id": "u1DCzAAu8uuu",
        "outputId": "9e749d07-cc67-430e-b939-7468650ac9b0"
      },
      "execution_count": 10,
      "outputs": [
        {
          "output_type": "execute_result",
          "data": {
            "text/plain": [
              "Index(['X', 'Y', 'OBJECTID', 'CRIMEID', 'CCN', 'REPORTDATE', 'ROUTEID',\n",
              "       'MEASURE', 'OFFSET', 'STREETSEGID', 'ROADWAYSEGID', 'FROMDATE',\n",
              "       'TODATE', 'MARID', 'ADDRESS', 'LATITUDE', 'LONGITUDE', 'XCOORD',\n",
              "       'YCOORD', 'WARD', 'EVENTID', 'MAR_ADDRESS', 'MAR_SCORE',\n",
              "       'MAJORINJURIES_BICYCLIST', 'MINORINJURIES_BICYCLIST',\n",
              "       'UNKNOWNINJURIES_BICYCLIST', 'FATAL_BICYCLIST', 'MAJORINJURIES_DRIVER',\n",
              "       'MINORINJURIES_DRIVER', 'UNKNOWNINJURIES_DRIVER', 'FATAL_DRIVER',\n",
              "       'MAJORINJURIES_PEDESTRIAN', 'MINORINJURIES_PEDESTRIAN',\n",
              "       'UNKNOWNINJURIES_PEDESTRIAN', 'FATAL_PEDESTRIAN', 'TOTAL_VEHICLES',\n",
              "       'TOTAL_BICYCLES', 'TOTAL_PEDESTRIANS', 'PEDESTRIANSIMPAIRED',\n",
              "       'BICYCLISTSIMPAIRED', 'DRIVERSIMPAIRED', 'TOTAL_TAXIS',\n",
              "       'TOTAL_GOVERNMENT', 'SPEEDING_INVOLVED', 'NEARESTINTROUTEID',\n",
              "       'NEARESTINTSTREETNAME', 'OFFINTERSECTION', 'INTAPPROACHDIRECTION',\n",
              "       'LOCATIONERROR', 'LASTUPDATEDATE', 'MPDLATITUDE', 'MPDLONGITUDE',\n",
              "       'MPDGEOX', 'MPDGEOY', 'BLOCKKEY', 'SUBBLOCKKEY', 'FATALPASSENGER',\n",
              "       'MAJORINJURIESPASSENGER', 'MINORINJURIESPASSENGER',\n",
              "       'UNKNOWNINJURIESPASSENGER', 'DATE', 'TIME', 'Name', 'Date time',\n",
              "       'Maximum Temperature', 'Minimum Temperature', 'Temperature',\n",
              "       'Wind Chill', 'Heat Index', 'Precipitation', 'Snow', 'Snow Depth',\n",
              "       'Wind Speed', 'Wind Direction', 'Wind Gust', 'Visibility',\n",
              "       'Cloud Cover', 'Relative Humidity', 'Conditions'],\n",
              "      dtype='object')"
            ]
          },
          "metadata": {},
          "execution_count": 10
        }
      ]
    },
    {
      "cell_type": "code",
      "source": [
        "data.to_csv('crash_weather_2015-2019.csv')"
      ],
      "metadata": {
        "id": "OBDvmPGEsIRK"
      },
      "execution_count": 11,
      "outputs": []
    },
    {
      "cell_type": "code",
      "source": [
        ""
      ],
      "metadata": {
        "id": "0CwrAjR-sgvw"
      },
      "execution_count": 11,
      "outputs": []
    }
  ]
}
