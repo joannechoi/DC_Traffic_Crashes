{
  "nbformat": 4,
  "nbformat_minor": 0,
  "metadata": {
    "colab": {
      "name": "dccrash_InjurySeverityClassification.ipynb",
      "provenance": [],
      "collapsed_sections": []
    },
    "kernelspec": {
      "name": "python3",
      "display_name": "Python 3"
    },
    "language_info": {
      "name": "python"
    }
  },
  "cells": [
    {
      "cell_type": "code",
      "execution_count": 1,
      "metadata": {
        "colab": {
          "base_uri": "https://localhost:8080/"
        },
        "id": "LKUBzCgy-1cF",
        "outputId": "208dcddc-e853-47a8-e030-8d28410476c7"
      },
      "outputs": [
        {
          "output_type": "stream",
          "name": "stdout",
          "text": [
            "Drive already mounted at /content/drive; to attempt to forcibly remount, call drive.mount(\"/content/drive\", force_remount=True).\n",
            "/content/drive/My Drive/DATA606 Capstone/Raw Data\n"
          ]
        }
      ],
      "source": [
        "from google.colab import drive\n",
        "drive.mount('/content/drive')\n",
        "%cd /content/drive/My Drive/DATA606 Capstone/Raw Data"
      ]
    },
    {
      "cell_type": "code",
      "source": [
        "import pandas as pd\n",
        "import numpy as np\n",
        "import matplotlib.pyplot as plt\n",
        "import seaborn as sn\n",
        "import seaborn as sns\n",
        "import plotly.express as px\n",
        "from sklearn.ensemble import RandomForestClassifier\n",
        "from xgboost import XGBClassifier\n",
        "from sklearn.model_selection import train_test_split\n",
        "from sklearn.model_selection import GridSearchCV\n",
        "from sklearn.metrics import confusion_matrix, ConfusionMatrixDisplay, classification_report\n",
        "from sklearn import metrics \n",
        "from imblearn.over_sampling import SMOTE\n",
        "import graphviz\n",
        "from sklearn.tree import export_graphviz\n",
        "import warnings\n",
        "warnings.filterwarnings('ignore')\n",
        "pd.set_option('display.max_rows', None)\n",
        "plt.rcParams['figure.figsize'] = (10,8)"
      ],
      "metadata": {
        "id": "4DqivB-u_D22"
      },
      "execution_count": 2,
      "outputs": []
    },
    {
      "cell_type": "code",
      "source": [
        "df = pd.read_csv('crash_weather_2015-2019.csv')\n",
        "df.info()"
      ],
      "metadata": {
        "colab": {
          "base_uri": "https://localhost:8080/"
        },
        "id": "vbjbR47D_aPK",
        "outputId": "e6101b1b-1965-4755-9d9d-ddcde6a7760c"
      },
      "execution_count": 3,
      "outputs": [
        {
          "output_type": "stream",
          "name": "stdout",
          "text": [
            "<class 'pandas.core.frame.DataFrame'>\n",
            "RangeIndex: 129145 entries, 0 to 129144\n",
            "Data columns (total 80 columns):\n",
            " #   Column                      Non-Null Count   Dtype  \n",
            "---  ------                      --------------   -----  \n",
            " 0   Unnamed: 0                  129145 non-null  int64  \n",
            " 1   X                           129145 non-null  float64\n",
            " 2   Y                           129145 non-null  float64\n",
            " 3   OBJECTID                    129145 non-null  int64  \n",
            " 4   CRIMEID                     129145 non-null  int64  \n",
            " 5   CCN                         129145 non-null  object \n",
            " 6   REPORTDATE                  129145 non-null  object \n",
            " 7   ROUTEID                     129145 non-null  object \n",
            " 8   MEASURE                     129145 non-null  float64\n",
            " 9   OFFSET                      129145 non-null  float64\n",
            " 10  STREETSEGID                 113667 non-null  float64\n",
            " 11  ROADWAYSEGID                113667 non-null  float64\n",
            " 12  FROMDATE                    129145 non-null  object \n",
            " 13  TODATE                      129145 non-null  object \n",
            " 14  MARID                       129145 non-null  int64  \n",
            " 15  ADDRESS                     129071 non-null  object \n",
            " 16  LATITUDE                    129143 non-null  float64\n",
            " 17  LONGITUDE                   129143 non-null  float64\n",
            " 18  XCOORD                      129145 non-null  float64\n",
            " 19  YCOORD                      129145 non-null  float64\n",
            " 20  WARD                        129143 non-null  object \n",
            " 21  EVENTID                     129145 non-null  object \n",
            " 22  MAR_ADDRESS                 119998 non-null  object \n",
            " 23  MAR_SCORE                   129145 non-null  float64\n",
            " 24  MAJORINJURIES_BICYCLIST     129145 non-null  int64  \n",
            " 25  MINORINJURIES_BICYCLIST     129145 non-null  int64  \n",
            " 26  UNKNOWNINJURIES_BICYCLIST   129145 non-null  int64  \n",
            " 27  FATAL_BICYCLIST             129145 non-null  int64  \n",
            " 28  MAJORINJURIES_DRIVER        129145 non-null  int64  \n",
            " 29  MINORINJURIES_DRIVER        129145 non-null  int64  \n",
            " 30  UNKNOWNINJURIES_DRIVER      129145 non-null  int64  \n",
            " 31  FATAL_DRIVER                129145 non-null  int64  \n",
            " 32  MAJORINJURIES_PEDESTRIAN    129145 non-null  int64  \n",
            " 33  MINORINJURIES_PEDESTRIAN    129145 non-null  int64  \n",
            " 34  UNKNOWNINJURIES_PEDESTRIAN  129145 non-null  int64  \n",
            " 35  FATAL_PEDESTRIAN            129145 non-null  int64  \n",
            " 36  TOTAL_VEHICLES              129145 non-null  int64  \n",
            " 37  TOTAL_BICYCLES              129145 non-null  int64  \n",
            " 38  TOTAL_PEDESTRIANS           129145 non-null  int64  \n",
            " 39  PEDESTRIANSIMPAIRED         129145 non-null  int64  \n",
            " 40  BICYCLISTSIMPAIRED          129145 non-null  int64  \n",
            " 41  DRIVERSIMPAIRED             129145 non-null  int64  \n",
            " 42  TOTAL_TAXIS                 129145 non-null  int64  \n",
            " 43  TOTAL_GOVERNMENT            129145 non-null  int64  \n",
            " 44  SPEEDING_INVOLVED           129145 non-null  int64  \n",
            " 45  NEARESTINTROUTEID           129145 non-null  object \n",
            " 46  NEARESTINTSTREETNAME        129145 non-null  object \n",
            " 47  OFFINTERSECTION             129145 non-null  float64\n",
            " 48  INTAPPROACHDIRECTION        129145 non-null  object \n",
            " 49  LOCATIONERROR               3462 non-null    object \n",
            " 50  LASTUPDATEDATE              129145 non-null  object \n",
            " 51  MPDLATITUDE                 122620 non-null  float64\n",
            " 52  MPDLONGITUDE                122620 non-null  float64\n",
            " 53  MPDGEOX                     105201 non-null  float64\n",
            " 54  MPDGEOY                     105201 non-null  float64\n",
            " 55  BLOCKKEY                    129145 non-null  object \n",
            " 56  SUBBLOCKKEY                 129145 non-null  object \n",
            " 57  FATALPASSENGER              129145 non-null  int64  \n",
            " 58  MAJORINJURIESPASSENGER      129145 non-null  int64  \n",
            " 59  MINORINJURIESPASSENGER      129145 non-null  int64  \n",
            " 60  UNKNOWNINJURIESPASSENGER    129145 non-null  int64  \n",
            " 61  DATE                        129145 non-null  object \n",
            " 62  TIME                        129145 non-null  object \n",
            " 63  Name                        129145 non-null  object \n",
            " 64  Date time                   129145 non-null  object \n",
            " 65  Maximum Temperature         129145 non-null  float64\n",
            " 66  Minimum Temperature         129145 non-null  float64\n",
            " 67  Temperature                 129145 non-null  float64\n",
            " 68  Wind Chill                  56293 non-null   float64\n",
            " 69  Heat Index                  44269 non-null   float64\n",
            " 70  Precipitation               129145 non-null  float64\n",
            " 71  Snow                        129145 non-null  float64\n",
            " 72  Snow Depth                  129145 non-null  float64\n",
            " 73  Wind Speed                  129145 non-null  float64\n",
            " 74  Wind Direction              129145 non-null  float64\n",
            " 75  Wind Gust                   80814 non-null   float64\n",
            " 76  Visibility                  129145 non-null  float64\n",
            " 77  Cloud Cover                 129145 non-null  float64\n",
            " 78  Relative Humidity           129145 non-null  float64\n",
            " 79  Conditions                  129145 non-null  object \n",
            "dtypes: float64(30), int64(29), object(21)\n",
            "memory usage: 78.8+ MB\n"
          ]
        }
      ]
    },
    {
      "cell_type": "code",
      "source": [
        "df = df[df['TOTAL_VEHICLES'] > 0]"
      ],
      "metadata": {
        "id": "Ofqs_-unFYbR"
      },
      "execution_count": 4,
      "outputs": []
    },
    {
      "cell_type": "code",
      "source": [
        "df['REPORTDATE'] = pd.to_datetime(df['REPORTDATE'], errors='coerce')\n",
        "df = df.loc[(df['REPORTDATE'].dt.year > 2015) & (df['REPORTDATE'].dt.year < 2020)]\n",
        "\n",
        "# Extract year, month, day, hour and weekday\n",
        "df['YEAR']=df['REPORTDATE'].dt.year\n",
        "df['MONTH']=df['REPORTDATE'].dt.strftime('%b')\n",
        "df['HOUR']=df['REPORTDATE'].dt.hour\n",
        "df['WEEKDAY']=df['REPORTDATE'].dt.strftime('%a')"
      ],
      "metadata": {
        "id": "KU9rMNIF_g8a"
      },
      "execution_count": 5,
      "outputs": []
    },
    {
      "cell_type": "code",
      "source": [
        "targets = ['MINORINJURIES_DRIVER','MAJORINJURIES_DRIVER', 'FATAL_DRIVER'] \n",
        "features = ['Temperature','Visibility','Cloud Cover', 'Wind Speed',\n",
        "            'Precipitation', 'Conditions', 'MONTH', 'HOUR', 'WEEKDAY']"
      ],
      "metadata": {
        "id": "2hk5dCurAuO0"
      },
      "execution_count": 6,
      "outputs": []
    },
    {
      "cell_type": "code",
      "source": [
        "df1 = df[(df['MINORINJURIES_DRIVER'] > 0) | (df['MAJORINJURIES_DRIVER'] > 0) | (df['FATAL_DRIVER'] > 0)] \n",
        "label_df = df1[['MINORINJURIES_DRIVER','MAJORINJURIES_DRIVER','FATAL_DRIVER']]\n",
        "label_df.head()"
      ],
      "metadata": {
        "colab": {
          "base_uri": "https://localhost:8080/",
          "height": 206
        },
        "id": "QVv6BzI9sLpZ",
        "outputId": "cfa06eee-7ed7-43df-95f7-48973c42c90a"
      },
      "execution_count": 7,
      "outputs": [
        {
          "output_type": "execute_result",
          "data": {
            "text/plain": [
              "       MINORINJURIES_DRIVER  MAJORINJURIES_DRIVER  FATAL_DRIVER\n",
              "22411                     1                     0             0\n",
              "22414                     1                     0             0\n",
              "22430                     1                     0             0\n",
              "22440                     1                     0             0\n",
              "22442                     1                     0             0"
            ],
            "text/html": [
              "\n",
              "  <div id=\"df-8b71642c-90a2-4145-add7-44ad7654d28c\">\n",
              "    <div class=\"colab-df-container\">\n",
              "      <div>\n",
              "<style scoped>\n",
              "    .dataframe tbody tr th:only-of-type {\n",
              "        vertical-align: middle;\n",
              "    }\n",
              "\n",
              "    .dataframe tbody tr th {\n",
              "        vertical-align: top;\n",
              "    }\n",
              "\n",
              "    .dataframe thead th {\n",
              "        text-align: right;\n",
              "    }\n",
              "</style>\n",
              "<table border=\"1\" class=\"dataframe\">\n",
              "  <thead>\n",
              "    <tr style=\"text-align: right;\">\n",
              "      <th></th>\n",
              "      <th>MINORINJURIES_DRIVER</th>\n",
              "      <th>MAJORINJURIES_DRIVER</th>\n",
              "      <th>FATAL_DRIVER</th>\n",
              "    </tr>\n",
              "  </thead>\n",
              "  <tbody>\n",
              "    <tr>\n",
              "      <th>22411</th>\n",
              "      <td>1</td>\n",
              "      <td>0</td>\n",
              "      <td>0</td>\n",
              "    </tr>\n",
              "    <tr>\n",
              "      <th>22414</th>\n",
              "      <td>1</td>\n",
              "      <td>0</td>\n",
              "      <td>0</td>\n",
              "    </tr>\n",
              "    <tr>\n",
              "      <th>22430</th>\n",
              "      <td>1</td>\n",
              "      <td>0</td>\n",
              "      <td>0</td>\n",
              "    </tr>\n",
              "    <tr>\n",
              "      <th>22440</th>\n",
              "      <td>1</td>\n",
              "      <td>0</td>\n",
              "      <td>0</td>\n",
              "    </tr>\n",
              "    <tr>\n",
              "      <th>22442</th>\n",
              "      <td>1</td>\n",
              "      <td>0</td>\n",
              "      <td>0</td>\n",
              "    </tr>\n",
              "  </tbody>\n",
              "</table>\n",
              "</div>\n",
              "      <button class=\"colab-df-convert\" onclick=\"convertToInteractive('df-8b71642c-90a2-4145-add7-44ad7654d28c')\"\n",
              "              title=\"Convert this dataframe to an interactive table.\"\n",
              "              style=\"display:none;\">\n",
              "        \n",
              "  <svg xmlns=\"http://www.w3.org/2000/svg\" height=\"24px\"viewBox=\"0 0 24 24\"\n",
              "       width=\"24px\">\n",
              "    <path d=\"M0 0h24v24H0V0z\" fill=\"none\"/>\n",
              "    <path d=\"M18.56 5.44l.94 2.06.94-2.06 2.06-.94-2.06-.94-.94-2.06-.94 2.06-2.06.94zm-11 1L8.5 8.5l.94-2.06 2.06-.94-2.06-.94L8.5 2.5l-.94 2.06-2.06.94zm10 10l.94 2.06.94-2.06 2.06-.94-2.06-.94-.94-2.06-.94 2.06-2.06.94z\"/><path d=\"M17.41 7.96l-1.37-1.37c-.4-.4-.92-.59-1.43-.59-.52 0-1.04.2-1.43.59L10.3 9.45l-7.72 7.72c-.78.78-.78 2.05 0 2.83L4 21.41c.39.39.9.59 1.41.59.51 0 1.02-.2 1.41-.59l7.78-7.78 2.81-2.81c.8-.78.8-2.07 0-2.86zM5.41 20L4 18.59l7.72-7.72 1.47 1.35L5.41 20z\"/>\n",
              "  </svg>\n",
              "      </button>\n",
              "      \n",
              "  <style>\n",
              "    .colab-df-container {\n",
              "      display:flex;\n",
              "      flex-wrap:wrap;\n",
              "      gap: 12px;\n",
              "    }\n",
              "\n",
              "    .colab-df-convert {\n",
              "      background-color: #E8F0FE;\n",
              "      border: none;\n",
              "      border-radius: 50%;\n",
              "      cursor: pointer;\n",
              "      display: none;\n",
              "      fill: #1967D2;\n",
              "      height: 32px;\n",
              "      padding: 0 0 0 0;\n",
              "      width: 32px;\n",
              "    }\n",
              "\n",
              "    .colab-df-convert:hover {\n",
              "      background-color: #E2EBFA;\n",
              "      box-shadow: 0px 1px 2px rgba(60, 64, 67, 0.3), 0px 1px 3px 1px rgba(60, 64, 67, 0.15);\n",
              "      fill: #174EA6;\n",
              "    }\n",
              "\n",
              "    [theme=dark] .colab-df-convert {\n",
              "      background-color: #3B4455;\n",
              "      fill: #D2E3FC;\n",
              "    }\n",
              "\n",
              "    [theme=dark] .colab-df-convert:hover {\n",
              "      background-color: #434B5C;\n",
              "      box-shadow: 0px 1px 3px 1px rgba(0, 0, 0, 0.15);\n",
              "      filter: drop-shadow(0px 1px 2px rgba(0, 0, 0, 0.3));\n",
              "      fill: #FFFFFF;\n",
              "    }\n",
              "  </style>\n",
              "\n",
              "      <script>\n",
              "        const buttonEl =\n",
              "          document.querySelector('#df-8b71642c-90a2-4145-add7-44ad7654d28c button.colab-df-convert');\n",
              "        buttonEl.style.display =\n",
              "          google.colab.kernel.accessAllowed ? 'block' : 'none';\n",
              "\n",
              "        async function convertToInteractive(key) {\n",
              "          const element = document.querySelector('#df-8b71642c-90a2-4145-add7-44ad7654d28c');\n",
              "          const dataTable =\n",
              "            await google.colab.kernel.invokeFunction('convertToInteractive',\n",
              "                                                     [key], {});\n",
              "          if (!dataTable) return;\n",
              "\n",
              "          const docLinkHtml = 'Like what you see? Visit the ' +\n",
              "            '<a target=\"_blank\" href=https://colab.research.google.com/notebooks/data_table.ipynb>data table notebook</a>'\n",
              "            + ' to learn more about interactive tables.';\n",
              "          element.innerHTML = '';\n",
              "          dataTable['output_type'] = 'display_data';\n",
              "          await google.colab.output.renderOutput(dataTable, element);\n",
              "          const docLink = document.createElement('div');\n",
              "          docLink.innerHTML = docLinkHtml;\n",
              "          element.appendChild(docLink);\n",
              "        }\n",
              "      </script>\n",
              "    </div>\n",
              "  </div>\n",
              "  "
            ]
          },
          "metadata": {},
          "execution_count": 7
        }
      ]
    },
    {
      "cell_type": "code",
      "source": [
        "print(label_df['MINORINJURIES_DRIVER'].value_counts())\n",
        "print(label_df['MAJORINJURIES_DRIVER'].value_counts())\n",
        "print(label_df['FATAL_DRIVER'].value_counts())"
      ],
      "metadata": {
        "colab": {
          "base_uri": "https://localhost:8080/"
        },
        "id": "bN2AbPwZCcmn",
        "outputId": "7ed41e21-3b36-4d0f-e903-59b2967353e2"
      },
      "execution_count": 8,
      "outputs": [
        {
          "output_type": "stream",
          "name": "stdout",
          "text": [
            "1     14270\n",
            "2      1939\n",
            "0       780\n",
            "3       140\n",
            "4        15\n",
            "5         6\n",
            "11        1\n",
            "6         1\n",
            "Name: MINORINJURIES_DRIVER, dtype: int64\n",
            "0    16284\n",
            "1      849\n",
            "2       17\n",
            "3        2\n",
            "Name: MAJORINJURIES_DRIVER, dtype: int64\n",
            "0    17088\n",
            "1       63\n",
            "2        1\n",
            "Name: FATAL_DRIVER, dtype: int64\n"
          ]
        }
      ]
    },
    {
      "cell_type": "code",
      "source": [
        "label_df.loc[label_df['MINORINJURIES_DRIVER'] > 0, ['Severity']] = 'Minor'\n",
        "label_df.loc[label_df['MAJORINJURIES_DRIVER'] > 0, ['Severity']] = 'Major'\n",
        "label_df.loc[label_df['FATAL_DRIVER'] > 0, ['Severity']] = 'Fatal'"
      ],
      "metadata": {
        "id": "zRsqQUCskoX5"
      },
      "execution_count": 9,
      "outputs": []
    },
    {
      "cell_type": "code",
      "source": [
        "print(label_df['Severity'].value_counts())"
      ],
      "metadata": {
        "colab": {
          "base_uri": "https://localhost:8080/"
        },
        "id": "L0NqrlLwdsqM",
        "outputId": "4547fc53-97eb-4327-aab9-9604698ad020"
      },
      "execution_count": 10,
      "outputs": [
        {
          "output_type": "stream",
          "name": "stdout",
          "text": [
            "Minor    16224\n",
            "Major      864\n",
            "Fatal       64\n",
            "Name: Severity, dtype: int64\n"
          ]
        }
      ]
    },
    {
      "cell_type": "code",
      "source": [
        "df_features=df1[features].copy()\n",
        "df_features.info()"
      ],
      "metadata": {
        "colab": {
          "base_uri": "https://localhost:8080/"
        },
        "id": "jFweMlxxBK8I",
        "outputId": "830f0c78-2660-4442-c4ff-db2d1a93a9f8"
      },
      "execution_count": 11,
      "outputs": [
        {
          "output_type": "stream",
          "name": "stdout",
          "text": [
            "<class 'pandas.core.frame.DataFrame'>\n",
            "Int64Index: 17152 entries, 22411 to 129143\n",
            "Data columns (total 9 columns):\n",
            " #   Column         Non-Null Count  Dtype  \n",
            "---  ------         --------------  -----  \n",
            " 0   Temperature    17152 non-null  float64\n",
            " 1   Visibility     17152 non-null  float64\n",
            " 2   Cloud Cover    17152 non-null  float64\n",
            " 3   Wind Speed     17152 non-null  float64\n",
            " 4   Precipitation  17152 non-null  float64\n",
            " 5   Conditions     17152 non-null  object \n",
            " 6   MONTH          17152 non-null  object \n",
            " 7   HOUR           17152 non-null  int64  \n",
            " 8   WEEKDAY        17152 non-null  object \n",
            "dtypes: float64(5), int64(1), object(3)\n",
            "memory usage: 1.3+ MB\n"
          ]
        }
      ]
    },
    {
      "cell_type": "code",
      "source": [
        "heat_corr = df_features.corr()\n",
        "plt.figure(figsize=(20, 10))\n",
        "sns.heatmap(heat_corr, annot=True, cmap='BuPu')\n",
        "plt.title(\"Correlation Matrix\")\n",
        "plt.show()"
      ],
      "metadata": {
        "colab": {
          "base_uri": "https://localhost:8080/",
          "height": 607
        },
        "id": "4RHCxEMCRThs",
        "outputId": "b871b675-b21a-42a7-eddd-bd3ee6c70848"
      },
      "execution_count": 12,
      "outputs": [
        {
          "output_type": "display_data",
          "data": {
            "text/plain": [
              "<Figure size 1440x720 with 2 Axes>"
            ],
            "image/png": "[encoded data removed]"
          },
          "metadata": {
            "needs_background": "light"
          }
        }
      ]
    },
    {
      "cell_type": "code",
      "source": [
        "df_features.shape"
      ],
      "metadata": {
        "colab": {
          "base_uri": "https://localhost:8080/"
        },
        "id": "vZ4OPThwBN3A",
        "outputId": "e4c9132c-8c89-4095-f7a0-735d51917c65"
      },
      "execution_count": 13,
      "outputs": [
        {
          "output_type": "execute_result",
          "data": {
            "text/plain": [
              "(17152, 9)"
            ]
          },
          "metadata": {},
          "execution_count": 13
        }
      ]
    },
    {
      "cell_type": "code",
      "source": [
        "df_features.isnull().sum()"
      ],
      "metadata": {
        "colab": {
          "base_uri": "https://localhost:8080/"
        },
        "id": "dVkxUEs7BYWO",
        "outputId": "b3ec4261-78a2-400f-f35d-55cabaa45e0e"
      },
      "execution_count": 14,
      "outputs": [
        {
          "output_type": "execute_result",
          "data": {
            "text/plain": [
              "Temperature      0\n",
              "Visibility       0\n",
              "Cloud Cover      0\n",
              "Wind Speed       0\n",
              "Precipitation    0\n",
              "Conditions       0\n",
              "MONTH            0\n",
              "HOUR             0\n",
              "WEEKDAY          0\n",
              "dtype: int64"
            ]
          },
          "metadata": {},
          "execution_count": 14
        }
      ]
    },
    {
      "cell_type": "code",
      "source": [
        "df_features = pd.get_dummies(df_features)\n",
        "df_features.columns"
      ],
      "metadata": {
        "colab": {
          "base_uri": "https://localhost:8080/"
        },
        "id": "OfxTXyT4ecP9",
        "outputId": "2e29fed0-e383-4dd4-8726-325ff8fa167a"
      },
      "execution_count": 15,
      "outputs": [
        {
          "output_type": "execute_result",
          "data": {
            "text/plain": [
              "Index(['Temperature', 'Visibility', 'Cloud Cover', 'Wind Speed',\n",
              "       'Precipitation', 'HOUR', 'Conditions_Clear', 'Conditions_Overcast',\n",
              "       'Conditions_Partially cloudy', 'Conditions_Rain',\n",
              "       'Conditions_Rain, Overcast', 'Conditions_Rain, Partially cloudy',\n",
              "       'Conditions_Snow', 'Conditions_Snow, Overcast',\n",
              "       'Conditions_Snow, Partially cloudy', 'MONTH_Apr', 'MONTH_Aug',\n",
              "       'MONTH_Dec', 'MONTH_Feb', 'MONTH_Jan', 'MONTH_Jul', 'MONTH_Jun',\n",
              "       'MONTH_Mar', 'MONTH_May', 'MONTH_Nov', 'MONTH_Oct', 'MONTH_Sep',\n",
              "       'WEEKDAY_Fri', 'WEEKDAY_Mon', 'WEEKDAY_Sat', 'WEEKDAY_Sun',\n",
              "       'WEEKDAY_Thu', 'WEEKDAY_Tue', 'WEEKDAY_Wed'],\n",
              "      dtype='object')"
            ]
          },
          "metadata": {},
          "execution_count": 15
        }
      ]
    },
    {
      "cell_type": "code",
      "source": [
        "hour_dummy = pd.get_dummies(df_features['HOUR'])\n",
        "hour_dummy.columns = ['Hour_0','Hour_1','Hour_2','Hour_3','Hour_4','Hour_5','Hour_6','Hour_7','Hour_8','Hour_9',\n",
        "                 'Hour_10','Hour_11','Hour_12','Hour_13','Hour_14','Hour_15','Hour_16','Hour_17','Hour_18',\n",
        "                 'Hour_19','Hour_20','Hour_21','Hour_22','Hour_23']\n",
        "df_features = pd.concat([df_features, hour_dummy] , axis = 1)"
      ],
      "metadata": {
        "id": "S3-IQ_SxjX-N"
      },
      "execution_count": 16,
      "outputs": []
    },
    {
      "cell_type": "code",
      "source": [
        "df_features.drop(columns='HOUR', inplace=True)\n",
        "df_features.columns"
      ],
      "metadata": {
        "colab": {
          "base_uri": "https://localhost:8080/"
        },
        "id": "mVWruYGRkCke",
        "outputId": "d9345062-ccbc-48f0-d5ba-e93e4110ff64"
      },
      "execution_count": 17,
      "outputs": [
        {
          "output_type": "execute_result",
          "data": {
            "text/plain": [
              "Index(['Temperature', 'Visibility', 'Cloud Cover', 'Wind Speed',\n",
              "       'Precipitation', 'Conditions_Clear', 'Conditions_Overcast',\n",
              "       'Conditions_Partially cloudy', 'Conditions_Rain',\n",
              "       'Conditions_Rain, Overcast', 'Conditions_Rain, Partially cloudy',\n",
              "       'Conditions_Snow', 'Conditions_Snow, Overcast',\n",
              "       'Conditions_Snow, Partially cloudy', 'MONTH_Apr', 'MONTH_Aug',\n",
              "       'MONTH_Dec', 'MONTH_Feb', 'MONTH_Jan', 'MONTH_Jul', 'MONTH_Jun',\n",
              "       'MONTH_Mar', 'MONTH_May', 'MONTH_Nov', 'MONTH_Oct', 'MONTH_Sep',\n",
              "       'WEEKDAY_Fri', 'WEEKDAY_Mon', 'WEEKDAY_Sat', 'WEEKDAY_Sun',\n",
              "       'WEEKDAY_Thu', 'WEEKDAY_Tue', 'WEEKDAY_Wed', 'Hour_0', 'Hour_1',\n",
              "       'Hour_2', 'Hour_3', 'Hour_4', 'Hour_5', 'Hour_6', 'Hour_7', 'Hour_8',\n",
              "       'Hour_9', 'Hour_10', 'Hour_11', 'Hour_12', 'Hour_13', 'Hour_14',\n",
              "       'Hour_15', 'Hour_16', 'Hour_17', 'Hour_18', 'Hour_19', 'Hour_20',\n",
              "       'Hour_21', 'Hour_22', 'Hour_23'],\n",
              "      dtype='object')"
            ]
          },
          "metadata": {},
          "execution_count": 17
        }
      ]
    },
    {
      "cell_type": "code",
      "source": [
        "print(df_features.shape)\n",
        "print(label_df.shape)"
      ],
      "metadata": {
        "colab": {
          "base_uri": "https://localhost:8080/"
        },
        "id": "GG6QvL6Ek8d4",
        "outputId": "5bc6aed6-2f47-4912-db39-9e45ec58f236"
      },
      "execution_count": 18,
      "outputs": [
        {
          "output_type": "stream",
          "name": "stdout",
          "text": [
            "(17152, 57)\n",
            "(17152, 4)\n"
          ]
        }
      ]
    },
    {
      "cell_type": "markdown",
      "source": [
        "## Injury Severity Classification"
      ],
      "metadata": {
        "id": "RlknRpgYZtYD"
      }
    },
    {
      "cell_type": "code",
      "source": [
        "y = label_df['Severity']\n",
        "X = df_features\n",
        "\n",
        "X_train, X_test, y_train, y_test = train_test_split(X, y, test_size=0.3, random_state=42)"
      ],
      "metadata": {
        "id": "vpe5ewoqb1Vp"
      },
      "execution_count": 19,
      "outputs": []
    },
    {
      "cell_type": "markdown",
      "source": [
        "### Random Forest (Unbalanaced)"
      ],
      "metadata": {
        "id": "m5rlkkrSbOWq"
      }
    },
    {
      "cell_type": "code",
      "source": [
        "rf = RandomForestClassifier(n_estimators=100, random_state=42)\n",
        "\n",
        "rf.fit(X_train, y_train)\n",
        "\n",
        "y_pred_rf = rf.predict(X_test)"
      ],
      "metadata": {
        "id": "EnSsRp-Zb8t0"
      },
      "execution_count": 20,
      "outputs": []
    },
    {
      "cell_type": "code",
      "source": [
        "print(metrics.classification_report(y_test, y_pred_rf))"
      ],
      "metadata": {
        "colab": {
          "base_uri": "https://localhost:8080/"
        },
        "id": "loDYN7UTZMq_",
        "outputId": "35df54ef-4d61-49e3-bec3-b75e384953cd"
      },
      "execution_count": 21,
      "outputs": [
        {
          "output_type": "stream",
          "name": "stdout",
          "text": [
            "              precision    recall  f1-score   support\n",
            "\n",
            "       Fatal       0.00      0.00      0.00        25\n",
            "       Major       0.10      0.03      0.05       251\n",
            "       Minor       0.95      0.99      0.97      4870\n",
            "\n",
            "    accuracy                           0.93      5146\n",
            "   macro avg       0.35      0.34      0.34      5146\n",
            "weighted avg       0.90      0.93      0.92      5146\n",
            "\n"
          ]
        }
      ]
    },
    {
      "cell_type": "code",
      "source": [
        "confusion_matrix = metrics.confusion_matrix(y_test, y_pred_rf)\n",
        "confusion_matrix"
      ],
      "metadata": {
        "colab": {
          "base_uri": "https://localhost:8080/"
        },
        "id": "ITHY6m7Khoep",
        "outputId": "83d9d0d3-6093-4a3e-d06e-18ef6a56bd43"
      },
      "execution_count": 22,
      "outputs": [
        {
          "output_type": "execute_result",
          "data": {
            "text/plain": [
              "array([[   0,    0,   25],\n",
              "       [   0,    8,  243],\n",
              "       [   1,   72, 4797]])"
            ]
          },
          "metadata": {},
          "execution_count": 22
        }
      ]
    },
    {
      "cell_type": "code",
      "source": [
        "label = ['Fatal', 'Major', 'Minor']\n",
        "cm_rf = metrics.confusion_matrix(y_test, y_pred_rf, labels=label)\n",
        "cm_display = metrics.ConfusionMatrixDisplay(confusion_matrix = cm_rf, display_labels=label)\n",
        "cm_display.plot(cmap='BuPu')\n",
        "plt.show()"
      ],
      "metadata": {
        "colab": {
          "base_uri": "https://localhost:8080/",
          "height": 497
        },
        "id": "84oNolgQfSqF",
        "outputId": "ada281cb-c763-41b7-e261-f6ba845a09fb"
      },
      "execution_count": 23,
      "outputs": [
        {
          "output_type": "display_data",
          "data": {
            "text/plain": [
              "<Figure size 720x576 with 2 Axes>"
            ],
            "image/png": "[encoded data removed]"
          },
          "metadata": {
            "needs_background": "light"
          }
        }
      ]
    },
    {
      "cell_type": "markdown",
      "source": [
        "### XGBoost (Unbalanced)"
      ],
      "metadata": {
        "id": "tAw2nKyR68pB"
      }
    },
    {
      "cell_type": "code",
      "source": [
        "xgb = XGBClassifier(use_label_encoder=False, eval_metric='mlogloss', random_state=42)\n",
        "xgb.fit(X_train, y_train)\n",
        "y_pred_xgb = xgb.predict(X_test)"
      ],
      "metadata": {
        "id": "hb_mP_d_69-s"
      },
      "execution_count": 24,
      "outputs": []
    },
    {
      "cell_type": "code",
      "source": [
        "print(metrics.classification_report(y_test, y_pred_xgb))"
      ],
      "metadata": {
        "colab": {
          "base_uri": "https://localhost:8080/"
        },
        "id": "EN4TVlRR7AFV",
        "outputId": "1231cf75-0273-43ed-c7e1-0fa3d23440d4"
      },
      "execution_count": 25,
      "outputs": [
        {
          "output_type": "stream",
          "name": "stdout",
          "text": [
            "              precision    recall  f1-score   support\n",
            "\n",
            "       Fatal       0.00      0.00      0.00        25\n",
            "       Major       0.00      0.00      0.00       251\n",
            "       Minor       0.95      1.00      0.97      4870\n",
            "\n",
            "    accuracy                           0.95      5146\n",
            "   macro avg       0.32      0.33      0.32      5146\n",
            "weighted avg       0.90      0.95      0.92      5146\n",
            "\n"
          ]
        }
      ]
    },
    {
      "cell_type": "code",
      "source": [
        "cm_xgb = metrics.confusion_matrix(y_test, y_pred_xgb, labels=label)\n",
        "cm_display = metrics.ConfusionMatrixDisplay(confusion_matrix = cm_xgb, display_labels=label)\n",
        "cm_display.plot(cmap='BuPu')\n",
        "plt.show()"
      ],
      "metadata": {
        "colab": {
          "base_uri": "https://localhost:8080/",
          "height": 497
        },
        "id": "y6cqJrEs7BfF",
        "outputId": "0f20cd17-27c6-48d6-e641-5261673a7e08"
      },
      "execution_count": 26,
      "outputs": [
        {
          "output_type": "display_data",
          "data": {
            "text/plain": [
              "<Figure size 720x576 with 2 Axes>"
            ],
            "image/png": "[encoded data removed]"
          },
          "metadata": {
            "needs_background": "light"
          }
        }
      ]
    },
    {
      "cell_type": "markdown",
      "source": [
        "## SMOTE - Balance the data"
      ],
      "metadata": {
        "id": "oNEeTX_kocoz"
      }
    },
    {
      "cell_type": "code",
      "source": [
        "print('After OverSampling, the shape of train_X: {}'.format(X.shape))\n",
        "print('After OverSampling, the shape of train_y: {} \\n'.format(y.shape))\n",
        "\n",
        "print(\"Before OverSampling, counts of label '0': {}\".format(sum(y == 0)))\n",
        "print(\"Before OverSampling, counts of label '1': {} \\n\".format(sum(y == 1)))\n",
        "print(\"Before OverSampling, counts of label '2': {} \\n\".format(sum(y == 2)))\n",
        "\n",
        "sm = SMOTE(random_state=42)\n",
        "X_res, y_res = sm.fit_resample(X_train, y_train)\n",
        "\n",
        "print('After OverSampling, the shape of train_X: {}'.format(X_res.shape))\n",
        "print('After OverSampling, the shape of train_y: {} \\n'.format(y_res.shape))\n",
        "\n",
        "print(\"After OverSampling, counts of label '0': {}\".format(sum(y_res == 0)))\n",
        "print(\"After OverSampling, counts of label '1': {} \\n\".format(sum(y_res == 1)))\n",
        "print(\"After OverSampling, counts of label '2': {} \\n\".format(sum(y_res == 2)))"
      ],
      "metadata": {
        "colab": {
          "base_uri": "https://localhost:8080/"
        },
        "id": "OdXcVFuqDWk1",
        "outputId": "aa5acd44-0aa0-4ad8-9cfb-daf9b311048d"
      },
      "execution_count": 27,
      "outputs": [
        {
          "output_type": "stream",
          "name": "stdout",
          "text": [
            "After OverSampling, the shape of train_X: (17152, 57)\n",
            "After OverSampling, the shape of train_y: (17152,) \n",
            "\n",
            "Before OverSampling, counts of label '0': 0\n",
            "Before OverSampling, counts of label '1': 0 \n",
            "\n",
            "Before OverSampling, counts of label '2': 0 \n",
            "\n",
            "After OverSampling, the shape of train_X: (34062, 57)\n",
            "After OverSampling, the shape of train_y: (34062,) \n",
            "\n",
            "After OverSampling, counts of label '0': 0\n",
            "After OverSampling, counts of label '1': 0 \n",
            "\n",
            "After OverSampling, counts of label '2': 0 \n",
            "\n"
          ]
        }
      ]
    },
    {
      "cell_type": "markdown",
      "source": [
        "#### Re-split the train/test data"
      ],
      "metadata": {
        "id": "ekW_Yz6Xb3QL"
      }
    },
    {
      "cell_type": "code",
      "source": [
        "X_train_res, X_test_res, y_train_res, y_test_res = train_test_split(X_res, y_res, test_size=0.3, random_state=42)"
      ],
      "metadata": {
        "id": "2DWhl1eXEklR"
      },
      "execution_count": 28,
      "outputs": []
    },
    {
      "cell_type": "markdown",
      "source": [
        "### Random Forest (Balanced)"
      ],
      "metadata": {
        "id": "yOZo-W4kb5-m"
      }
    },
    {
      "cell_type": "code",
      "source": [
        "rf1 = RandomForestClassifier(n_estimators=100, random_state=42)\n",
        "\n",
        "rf1.fit(X_train_res, y_train_res)\n",
        "\n",
        "y_pred_res1 = rf.predict(X_test_res)"
      ],
      "metadata": {
        "id": "AhslXi8JqDTy"
      },
      "execution_count": 29,
      "outputs": []
    },
    {
      "cell_type": "code",
      "source": [
        "print(metrics.classification_report(y_test_res, y_pred_res1))"
      ],
      "metadata": {
        "colab": {
          "base_uri": "https://localhost:8080/"
        },
        "id": "Z1D9N0DcZDkL",
        "outputId": "96e66acb-ec59-4b85-e7a3-de3f0d91c808"
      },
      "execution_count": 30,
      "outputs": [
        {
          "output_type": "stream",
          "name": "stdout",
          "text": [
            "              precision    recall  f1-score   support\n",
            "\n",
            "       Fatal       1.00      0.00      0.00      3415\n",
            "       Major       0.98      0.04      0.08      3401\n",
            "       Minor       0.34      1.00      0.50      3403\n",
            "\n",
            "    accuracy                           0.35     10219\n",
            "   macro avg       0.77      0.35      0.20     10219\n",
            "weighted avg       0.77      0.35      0.20     10219\n",
            "\n"
          ]
        }
      ]
    },
    {
      "cell_type": "code",
      "source": [
        "cm_rf1 = metrics.confusion_matrix(y_test_res, y_pred_res1, labels=label)\n",
        "cm_display = metrics.ConfusionMatrixDisplay(confusion_matrix = cm_rf1, display_labels=label)\n",
        "cm_display.plot(cmap='BuPu')\n",
        "plt.show()"
      ],
      "metadata": {
        "colab": {
          "base_uri": "https://localhost:8080/",
          "height": 497
        },
        "id": "qKcyaB4bXYZr",
        "outputId": "b579065c-906b-4d18-c98c-8d9d945ecd9a"
      },
      "execution_count": 31,
      "outputs": [
        {
          "output_type": "display_data",
          "data": {
            "text/plain": [
              "<Figure size 720x576 with 2 Axes>"
            ],
            "image/png": "[encoded data removed]"
          },
          "metadata": {
            "needs_background": "light"
          }
        }
      ]
    },
    {
      "cell_type": "markdown",
      "source": [
        "### XGBoost (Balanced)"
      ],
      "metadata": {
        "id": "vQXzLGqBcLe_"
      }
    },
    {
      "cell_type": "code",
      "source": [
        "xgb1 = XGBClassifier(use_label_encoder=False, eval_metric='mlogloss', random_state=42)\n",
        "xgb1.fit(X_train_res, y_train_res)\n",
        "y_pred_xgb1 = xgb1.predict(X_test_res)"
      ],
      "metadata": {
        "id": "zlPvawJO7RQq"
      },
      "execution_count": 32,
      "outputs": []
    },
    {
      "cell_type": "code",
      "source": [
        "print(metrics.classification_report(y_test_res, y_pred_xgb1))"
      ],
      "metadata": {
        "colab": {
          "base_uri": "https://localhost:8080/"
        },
        "id": "H62qvC497Wy6",
        "outputId": "3b3e5c43-5b46-4527-c2c4-074457f27abd"
      },
      "execution_count": 33,
      "outputs": [
        {
          "output_type": "stream",
          "name": "stdout",
          "text": [
            "              precision    recall  f1-score   support\n",
            "\n",
            "       Fatal       0.75      0.86      0.80      3415\n",
            "       Major       0.80      0.55      0.66      3401\n",
            "       Minor       0.85      0.99      0.91      3403\n",
            "\n",
            "    accuracy                           0.80     10219\n",
            "   macro avg       0.80      0.80      0.79     10219\n",
            "weighted avg       0.80      0.80      0.79     10219\n",
            "\n"
          ]
        }
      ]
    },
    {
      "cell_type": "code",
      "source": [
        "cm_xgb1 = metrics.confusion_matrix(y_test_res, y_pred_xgb1, labels=label)\n",
        "cm_display = metrics.ConfusionMatrixDisplay(confusion_matrix = cm_xgb1, display_labels=label)\n",
        "cm_display.plot(cmap='BuPu')\n",
        "plt.show()"
      ],
      "metadata": {
        "colab": {
          "base_uri": "https://localhost:8080/",
          "height": 497
        },
        "id": "qS68EARf7YVY",
        "outputId": "b6530c48-afc8-436e-cc88-9579a7056d29"
      },
      "execution_count": 34,
      "outputs": [
        {
          "output_type": "display_data",
          "data": {
            "text/plain": [
              "<Figure size 720x576 with 2 Axes>"
            ],
            "image/png": "[encoded data removed]"
          },
          "metadata": {
            "needs_background": "light"
          }
        }
      ]
    },
    {
      "cell_type": "markdown",
      "source": [
        "### Random Forest CV Grid Search"
      ],
      "metadata": {
        "id": "3Pn2ibYqZzjw"
      }
    },
    {
      "cell_type": "code",
      "source": [
        "param_rf = { \n",
        "    'n_estimators': [100,200,400,600,800],\n",
        "    'max_features': ['auto', 'sqrt', 'log2'],\n",
        "    'max_depth'   : [4,6,8],\n",
        "    'criterion'   :['gini', 'entropy']\n",
        "}"
      ],
      "metadata": {
        "id": "IhZwPpapErUL"
      },
      "execution_count": 35,
      "outputs": []
    },
    {
      "cell_type": "code",
      "source": [
        "CV_rfc = GridSearchCV(estimator=RandomForestClassifier(random_state=42), param_grid=param_rf, cv= 5)\n",
        "CV_rfc.fit(X_train_res, y_train_res)"
      ],
      "metadata": {
        "colab": {
          "base_uri": "https://localhost:8080/"
        },
        "id": "7QBJS1SmPdm2",
        "outputId": "7aac3255-6ec2-4aa7-f07d-296a3d9556ba"
      },
      "execution_count": 36,
      "outputs": [
        {
          "output_type": "execute_result",
          "data": {
            "text/plain": [
              "GridSearchCV(cv=5, estimator=RandomForestClassifier(random_state=42),\n",
              "             param_grid={'criterion': ['gini', 'entropy'],\n",
              "                         'max_depth': [4, 6, 8],\n",
              "                         'max_features': ['auto', 'sqrt', 'log2'],\n",
              "                         'n_estimators': [100, 200, 400, 600, 800]})"
            ]
          },
          "metadata": {},
          "execution_count": 36
        }
      ]
    },
    {
      "cell_type": "code",
      "source": [
        "print(CV_rfc.best_params_)"
      ],
      "metadata": {
        "id": "8SlRMSJIFkHw",
        "colab": {
          "base_uri": "https://localhost:8080/"
        },
        "outputId": "8d167fcf-76f5-4b37-d1bd-9a18ee3602bb"
      },
      "execution_count": 37,
      "outputs": [
        {
          "output_type": "stream",
          "name": "stdout",
          "text": [
            "{'criterion': 'entropy', 'max_depth': 8, 'max_features': 'auto', 'n_estimators': 200}\n"
          ]
        }
      ]
    },
    {
      "cell_type": "code",
      "source": [
        "rf2 = RandomForestClassifier(n_estimators=800, \n",
        "                              criterion='entropy', \n",
        "                              max_features='auto',\n",
        "                              max_depth=8,\n",
        "                              random_state=42)\n",
        "\n",
        "rf2.fit(X_train_res, y_train_res)\n",
        "\n",
        "y_pred_res2 = rf2.predict(X_test_res)"
      ],
      "metadata": {
        "id": "4NVhdlZSnya2"
      },
      "execution_count": 38,
      "outputs": []
    },
    {
      "cell_type": "code",
      "source": [
        "print(metrics.classification_report(y_test_res, y_pred_res2))"
      ],
      "metadata": {
        "colab": {
          "base_uri": "https://localhost:8080/"
        },
        "id": "hW6TERM7X82-",
        "outputId": "ea0d7c1a-774a-4320-9a56-ff12454da45b"
      },
      "execution_count": 39,
      "outputs": [
        {
          "output_type": "stream",
          "name": "stdout",
          "text": [
            "              precision    recall  f1-score   support\n",
            "\n",
            "       Fatal       0.71      0.86      0.78      3415\n",
            "       Major       0.77      0.46      0.57      3401\n",
            "       Minor       0.82      0.98      0.89      3403\n",
            "\n",
            "    accuracy                           0.77     10219\n",
            "   macro avg       0.77      0.77      0.75     10219\n",
            "weighted avg       0.77      0.77      0.75     10219\n",
            "\n"
          ]
        }
      ]
    },
    {
      "cell_type": "code",
      "source": [
        "cm_rf2 = metrics.confusion_matrix(y_test_res, y_pred_res2, labels=label)\n",
        "cm_display = metrics.ConfusionMatrixDisplay(confusion_matrix = cm_rf2, display_labels=label)\n",
        "cm_display.plot(cmap='BuPu')\n",
        "plt.show()"
      ],
      "metadata": {
        "colab": {
          "base_uri": "https://localhost:8080/",
          "height": 497
        },
        "id": "yJaXCVbgXJ3I",
        "outputId": "d9a28505-a727-4673-8aa6-883affc46061"
      },
      "execution_count": 40,
      "outputs": [
        {
          "output_type": "display_data",
          "data": {
            "text/plain": [
              "<Figure size 720x576 with 2 Axes>"
            ],
            "image/png": "[encoded data removed]"
          },
          "metadata": {
            "needs_background": "light"
          }
        }
      ]
    },
    {
      "cell_type": "markdown",
      "source": [
        "### XGBoost CV Grid Search"
      ],
      "metadata": {
        "id": "lu_8CI_njYhU"
      }
    },
    {
      "cell_type": "code",
      "source": [
        "param_grid_xgb = {'n_estimators': [100, 200, 400],\n",
        "    'max_depth': [4, 6, 8],\n",
        "    'learning_rate': [0.05, 0.1, 0.20],\n",
        "    }"
      ],
      "metadata": {
        "id": "cobedhGPjh4D"
      },
      "execution_count": 41,
      "outputs": []
    },
    {
      "cell_type": "code",
      "source": [
        "CV_xgb = GridSearchCV(estimator=XGBClassifier(random_state=42), param_grid=param_grid_xgb, cv= 5)\n",
        "CV_xgb.fit(X_train_res, y_train_res)"
      ],
      "metadata": {
        "colab": {
          "base_uri": "https://localhost:8080/"
        },
        "id": "UBKxQuhZjjcT",
        "outputId": "bda8f392-4d15-48fd-f256-22b77e107c1f"
      },
      "execution_count": 43,
      "outputs": [
        {
          "output_type": "execute_result",
          "data": {
            "text/plain": [
              "GridSearchCV(cv=5, estimator=XGBClassifier(random_state=42),\n",
              "             param_grid={'learning_rate': [0.05, 0.1, 0.2],\n",
              "                         'max_depth': [4, 6, 8],\n",
              "                         'n_estimators': [100, 200, 400]})"
            ]
          },
          "metadata": {},
          "execution_count": 43
        }
      ]
    },
    {
      "cell_type": "code",
      "source": [
        "print(CV_xgb.best_params_)"
      ],
      "metadata": {
        "id": "azrOPs7aGHX3",
        "colab": {
          "base_uri": "https://localhost:8080/"
        },
        "outputId": "b4b247c5-46ab-44cf-e069-1e036b5c6769"
      },
      "execution_count": 44,
      "outputs": [
        {
          "output_type": "stream",
          "name": "stdout",
          "text": [
            "{'learning_rate': 0.2, 'max_depth': 8, 'n_estimators': 400}\n"
          ]
        }
      ]
    },
    {
      "cell_type": "code",
      "source": [
        "xgb2 = XGBClassifier(use_label_encoder=False, learning_rate= 0.2, \n",
        "                     max_depth= 6, n_estimators= 400, eval_metric='mlogloss', random_state=42)\n",
        "xgb2.fit(X_train_res, y_train_res)\n",
        "y_pred_xgb2 = xgb2.predict(X_test_res)"
      ],
      "metadata": {
        "id": "EeRyh61IPgdq"
      },
      "execution_count": 45,
      "outputs": []
    },
    {
      "cell_type": "code",
      "source": [
        "print(metrics.classification_report(y_test_res, y_pred_xgb2))"
      ],
      "metadata": {
        "colab": {
          "base_uri": "https://localhost:8080/"
        },
        "id": "kCxCqLx8Pyxc",
        "outputId": "0377e224-13ba-4cd0-9b01-0a4a908dc1c7"
      },
      "execution_count": 46,
      "outputs": [
        {
          "output_type": "stream",
          "name": "stdout",
          "text": [
            "              precision    recall  f1-score   support\n",
            "\n",
            "       Fatal       0.99      0.99      0.99      3415\n",
            "       Major       0.98      0.94      0.95      3401\n",
            "       Minor       0.95      0.98      0.96      3403\n",
            "\n",
            "    accuracy                           0.97     10219\n",
            "   macro avg       0.97      0.97      0.97     10219\n",
            "weighted avg       0.97      0.97      0.97     10219\n",
            "\n"
          ]
        }
      ]
    },
    {
      "cell_type": "code",
      "source": [
        "cm_xgb2 = metrics.confusion_matrix(y_test_res, y_pred_xgb2, labels=label)\n",
        "cm_display = metrics.ConfusionMatrixDisplay(confusion_matrix = cm_xgb2, display_labels=label)\n",
        "cm_display.plot(cmap='BuPu')\n",
        "plt.show()"
      ],
      "metadata": {
        "colab": {
          "base_uri": "https://localhost:8080/",
          "height": 497
        },
        "id": "jLkYE637P2Lq",
        "outputId": "76448f1b-0387-4875-fab3-8a3ee6268ac5"
      },
      "execution_count": 47,
      "outputs": [
        {
          "output_type": "display_data",
          "data": {
            "text/plain": [
              "<Figure size 720x576 with 2 Axes>"
            ],
            "image/png": "[encoded data removed]"
          },
          "metadata": {
            "needs_background": "light"
          }
        }
      ]
    },
    {
      "cell_type": "markdown",
      "source": [
        "## Feature Importance"
      ],
      "metadata": {
        "id": "EqZO1DiaEpMq"
      }
    },
    {
      "cell_type": "markdown",
      "source": [
        "#### Random Forest"
      ],
      "metadata": {
        "id": "TFOrXmELlvUx"
      }
    },
    {
      "cell_type": "code",
      "source": [
        "importances_rf = rf2.feature_importances_"
      ],
      "metadata": {
        "id": "kf09j2Jxn8be"
      },
      "execution_count": 48,
      "outputs": []
    },
    {
      "cell_type": "code",
      "source": [
        "imp = pd.DataFrame(importances_rf)\n",
        "imp['Features'] = df_features.columns\n",
        "imp.rename(columns={0:'Importance'}, inplace=True)\n",
        "imp = imp.sort_values(by='Importance', ascending=False)\n",
        "imp = imp[['Features', 'Importance']]\n",
        "imp"
      ],
      "metadata": {
        "id": "sehss_Zu-wGl",
        "colab": {
          "base_uri": "https://localhost:8080/",
          "height": 1000
        },
        "outputId": "94a633ff-1a24-4b50-b3df-f4a88a2d334c"
      },
      "execution_count": 49,
      "outputs": [
        {
          "output_type": "execute_result",
          "data": {
            "text/plain": [
              "                             Features  Importance\n",
              "26                        WEEKDAY_Fri    0.082912\n",
              "2                         Cloud Cover    0.077074\n",
              "30                        WEEKDAY_Thu    0.068196\n",
              "0                         Temperature    0.065272\n",
              "7         Conditions_Partially cloudy    0.059689\n",
              "32                        WEEKDAY_Wed    0.057456\n",
              "31                        WEEKDAY_Tue    0.049726\n",
              "3                          Wind Speed    0.044127\n",
              "28                        WEEKDAY_Sat    0.042786\n",
              "1                          Visibility    0.037623\n",
              "27                        WEEKDAY_Mon    0.036514\n",
              "22                          MONTH_May    0.035566\n",
              "4                       Precipitation    0.032784\n",
              "15                          MONTH_Aug    0.031183\n",
              "25                          MONTH_Sep    0.030980\n",
              "23                          MONTH_Nov    0.029072\n",
              "29                        WEEKDAY_Sun    0.028631\n",
              "10  Conditions_Rain, Partially cloudy    0.020267\n",
              "9           Conditions_Rain, Overcast    0.018543\n",
              "48                            Hour_15    0.011062\n",
              "16                          MONTH_Dec    0.010947\n",
              "14                          MONTH_Apr    0.009669\n",
              "47                            Hour_14    0.009315\n",
              "18                          MONTH_Jan    0.009177\n",
              "33                             Hour_0    0.009029\n",
              "20                          MONTH_Jun    0.007601\n",
              "21                          MONTH_Mar    0.007325\n",
              "6                 Conditions_Overcast    0.006699\n",
              "5                    Conditions_Clear    0.006468\n",
              "54                            Hour_21    0.005707\n",
              "24                          MONTH_Oct    0.005572\n",
              "19                          MONTH_Jul    0.005134\n",
              "17                          MONTH_Feb    0.005116\n",
              "49                            Hour_16    0.005050\n",
              "56                            Hour_23    0.004718\n",
              "35                             Hour_2    0.004411\n",
              "50                            Hour_17    0.004138\n",
              "34                             Hour_1    0.004127\n",
              "37                             Hour_4    0.003583\n",
              "55                            Hour_22    0.003399\n",
              "51                            Hour_18    0.003144\n",
              "52                            Hour_19    0.002285\n",
              "36                             Hour_3    0.002201\n",
              "12          Conditions_Snow, Overcast    0.000979\n",
              "46                            Hour_13    0.000977\n",
              "53                            Hour_20    0.000807\n",
              "38                             Hour_5    0.000560\n",
              "39                             Hour_6    0.000349\n",
              "42                             Hour_9    0.000310\n",
              "13  Conditions_Snow, Partially cloudy    0.000292\n",
              "43                            Hour_10    0.000275\n",
              "40                             Hour_7    0.000266\n",
              "41                             Hour_8    0.000242\n",
              "44                            Hour_11    0.000242\n",
              "11                    Conditions_Snow    0.000214\n",
              "45                            Hour_12    0.000157\n",
              "8                     Conditions_Rain    0.000055"
            ],
            "text/html": [
              "\n",
              "  <div id=\"df-67a99970-5a19-4443-9013-1824cff76b37\">\n",
              "    <div class=\"colab-df-container\">\n",
              "      <div>\n",
              "<style scoped>\n",
              "    .dataframe tbody tr th:only-of-type {\n",
              "        vertical-align: middle;\n",
              "    }\n",
              "\n",
              "    .dataframe tbody tr th {\n",
              "        vertical-align: top;\n",
              "    }\n",
              "\n",
              "    .dataframe thead th {\n",
              "        text-align: right;\n",
              "    }\n",
              "</style>\n",
              "<table border=\"1\" class=\"dataframe\">\n",
              "  <thead>\n",
              "    <tr style=\"text-align: right;\">\n",
              "      <th></th>\n",
              "      <th>Features</th>\n",
              "      <th>Importance</th>\n",
              "    </tr>\n",
              "  </thead>\n",
              "  <tbody>\n",
              "    <tr>\n",
              "      <th>26</th>\n",
              "      <td>WEEKDAY_Fri</td>\n",
              "      <td>0.082912</td>\n",
              "    </tr>\n",
              "    <tr>\n",
              "      <th>2</th>\n",
              "      <td>Cloud Cover</td>\n",
              "      <td>0.077074</td>\n",
              "    </tr>\n",
              "    <tr>\n",
              "      <th>30</th>\n",
              "      <td>WEEKDAY_Thu</td>\n",
              "      <td>0.068196</td>\n",
              "    </tr>\n",
              "    <tr>\n",
              "      <th>0</th>\n",
              "      <td>Temperature</td>\n",
              "      <td>0.065272</td>\n",
              "    </tr>\n",
              "    <tr>\n",
              "      <th>7</th>\n",
              "      <td>Conditions_Partially cloudy</td>\n",
              "      <td>0.059689</td>\n",
              "    </tr>\n",
              "    <tr>\n",
              "      <th>32</th>\n",
              "      <td>WEEKDAY_Wed</td>\n",
              "      <td>0.057456</td>\n",
              "    </tr>\n",
              "    <tr>\n",
              "      <th>31</th>\n",
              "      <td>WEEKDAY_Tue</td>\n",
              "      <td>0.049726</td>\n",
              "    </tr>\n",
              "    <tr>\n",
              "      <th>3</th>\n",
              "      <td>Wind Speed</td>\n",
              "      <td>0.044127</td>\n",
              "    </tr>\n",
              "    <tr>\n",
              "      <th>28</th>\n",
              "      <td>WEEKDAY_Sat</td>\n",
              "      <td>0.042786</td>\n",
              "    </tr>\n",
              "    <tr>\n",
              "      <th>1</th>\n",
              "      <td>Visibility</td>\n",
              "      <td>0.037623</td>\n",
              "    </tr>\n",
              "    <tr>\n",
              "      <th>27</th>\n",
              "      <td>WEEKDAY_Mon</td>\n",
              "      <td>0.036514</td>\n",
              "    </tr>\n",
              "    <tr>\n",
              "      <th>22</th>\n",
              "      <td>MONTH_May</td>\n",
              "      <td>0.035566</td>\n",
              "    </tr>\n",
              "    <tr>\n",
              "      <th>4</th>\n",
              "      <td>Precipitation</td>\n",
              "      <td>0.032784</td>\n",
              "    </tr>\n",
              "    <tr>\n",
              "      <th>15</th>\n",
              "      <td>MONTH_Aug</td>\n",
              "      <td>0.031183</td>\n",
              "    </tr>\n",
              "    <tr>\n",
              "      <th>25</th>\n",
              "      <td>MONTH_Sep</td>\n",
              "      <td>0.030980</td>\n",
              "    </tr>\n",
              "    <tr>\n",
              "      <th>23</th>\n",
              "      <td>MONTH_Nov</td>\n",
              "      <td>0.029072</td>\n",
              "    </tr>\n",
              "    <tr>\n",
              "      <th>29</th>\n",
              "      <td>WEEKDAY_Sun</td>\n",
              "      <td>0.028631</td>\n",
              "    </tr>\n",
              "    <tr>\n",
              "      <th>10</th>\n",
              "      <td>Conditions_Rain, Partially cloudy</td>\n",
              "      <td>0.020267</td>\n",
              "    </tr>\n",
              "    <tr>\n",
              "      <th>9</th>\n",
              "      <td>Conditions_Rain, Overcast</td>\n",
              "      <td>0.018543</td>\n",
              "    </tr>\n",
              "    <tr>\n",
              "      <th>48</th>\n",
              "      <td>Hour_15</td>\n",
              "      <td>0.011062</td>\n",
              "    </tr>\n",
              "    <tr>\n",
              "      <th>16</th>\n",
              "      <td>MONTH_Dec</td>\n",
              "      <td>0.010947</td>\n",
              "    </tr>\n",
              "    <tr>\n",
              "      <th>14</th>\n",
              "      <td>MONTH_Apr</td>\n",
              "      <td>0.009669</td>\n",
              "    </tr>\n",
              "    <tr>\n",
              "      <th>47</th>\n",
              "      <td>Hour_14</td>\n",
              "      <td>0.009315</td>\n",
              "    </tr>\n",
              "    <tr>\n",
              "      <th>18</th>\n",
              "      <td>MONTH_Jan</td>\n",
              "      <td>0.009177</td>\n",
              "    </tr>\n",
              "    <tr>\n",
              "      <th>33</th>\n",
              "      <td>Hour_0</td>\n",
              "      <td>0.009029</td>\n",
              "    </tr>\n",
              "    <tr>\n",
              "      <th>20</th>\n",
              "      <td>MONTH_Jun</td>\n",
              "      <td>0.007601</td>\n",
              "    </tr>\n",
              "    <tr>\n",
              "      <th>21</th>\n",
              "      <td>MONTH_Mar</td>\n",
              "      <td>0.007325</td>\n",
              "    </tr>\n",
              "    <tr>\n",
              "      <th>6</th>\n",
              "      <td>Conditions_Overcast</td>\n",
              "      <td>0.006699</td>\n",
              "    </tr>\n",
              "    <tr>\n",
              "      <th>5</th>\n",
              "      <td>Conditions_Clear</td>\n",
              "      <td>0.006468</td>\n",
              "    </tr>\n",
              "    <tr>\n",
              "      <th>54</th>\n",
              "      <td>Hour_21</td>\n",
              "      <td>0.005707</td>\n",
              "    </tr>\n",
              "    <tr>\n",
              "      <th>24</th>\n",
              "      <td>MONTH_Oct</td>\n",
              "      <td>0.005572</td>\n",
              "    </tr>\n",
              "    <tr>\n",
              "      <th>19</th>\n",
              "      <td>MONTH_Jul</td>\n",
              "      <td>0.005134</td>\n",
              "    </tr>\n",
              "    <tr>\n",
              "      <th>17</th>\n",
              "      <td>MONTH_Feb</td>\n",
              "      <td>0.005116</td>\n",
              "    </tr>\n",
              "    <tr>\n",
              "      <th>49</th>\n",
              "      <td>Hour_16</td>\n",
              "      <td>0.005050</td>\n",
              "    </tr>\n",
              "    <tr>\n",
              "      <th>56</th>\n",
              "      <td>Hour_23</td>\n",
              "      <td>0.004718</td>\n",
              "    </tr>\n",
              "    <tr>\n",
              "      <th>35</th>\n",
              "      <td>Hour_2</td>\n",
              "      <td>0.004411</td>\n",
              "    </tr>\n",
              "    <tr>\n",
              "      <th>50</th>\n",
              "      <td>Hour_17</td>\n",
              "      <td>0.004138</td>\n",
              "    </tr>\n",
              "    <tr>\n",
              "      <th>34</th>\n",
              "      <td>Hour_1</td>\n",
              "      <td>0.004127</td>\n",
              "    </tr>\n",
              "    <tr>\n",
              "      <th>37</th>\n",
              "      <td>Hour_4</td>\n",
              "      <td>0.003583</td>\n",
              "    </tr>\n",
              "    <tr>\n",
              "      <th>55</th>\n",
              "      <td>Hour_22</td>\n",
              "      <td>0.003399</td>\n",
              "    </tr>\n",
              "    <tr>\n",
              "      <th>51</th>\n",
              "      <td>Hour_18</td>\n",
              "      <td>0.003144</td>\n",
              "    </tr>\n",
              "    <tr>\n",
              "      <th>52</th>\n",
              "      <td>Hour_19</td>\n",
              "      <td>0.002285</td>\n",
              "    </tr>\n",
              "    <tr>\n",
              "      <th>36</th>\n",
              "      <td>Hour_3</td>\n",
              "      <td>0.002201</td>\n",
              "    </tr>\n",
              "    <tr>\n",
              "      <th>12</th>\n",
              "      <td>Conditions_Snow, Overcast</td>\n",
              "      <td>0.000979</td>\n",
              "    </tr>\n",
              "    <tr>\n",
              "      <th>46</th>\n",
              "      <td>Hour_13</td>\n",
              "      <td>0.000977</td>\n",
              "    </tr>\n",
              "    <tr>\n",
              "      <th>53</th>\n",
              "      <td>Hour_20</td>\n",
              "      <td>0.000807</td>\n",
              "    </tr>\n",
              "    <tr>\n",
              "      <th>38</th>\n",
              "      <td>Hour_5</td>\n",
              "      <td>0.000560</td>\n",
              "    </tr>\n",
              "    <tr>\n",
              "      <th>39</th>\n",
              "      <td>Hour_6</td>\n",
              "      <td>0.000349</td>\n",
              "    </tr>\n",
              "    <tr>\n",
              "      <th>42</th>\n",
              "      <td>Hour_9</td>\n",
              "      <td>0.000310</td>\n",
              "    </tr>\n",
              "    <tr>\n",
              "      <th>13</th>\n",
              "      <td>Conditions_Snow, Partially cloudy</td>\n",
              "      <td>0.000292</td>\n",
              "    </tr>\n",
              "    <tr>\n",
              "      <th>43</th>\n",
              "      <td>Hour_10</td>\n",
              "      <td>0.000275</td>\n",
              "    </tr>\n",
              "    <tr>\n",
              "      <th>40</th>\n",
              "      <td>Hour_7</td>\n",
              "      <td>0.000266</td>\n",
              "    </tr>\n",
              "    <tr>\n",
              "      <th>41</th>\n",
              "      <td>Hour_8</td>\n",
              "      <td>0.000242</td>\n",
              "    </tr>\n",
              "    <tr>\n",
              "      <th>44</th>\n",
              "      <td>Hour_11</td>\n",
              "      <td>0.000242</td>\n",
              "    </tr>\n",
              "    <tr>\n",
              "      <th>11</th>\n",
              "      <td>Conditions_Snow</td>\n",
              "      <td>0.000214</td>\n",
              "    </tr>\n",
              "    <tr>\n",
              "      <th>45</th>\n",
              "      <td>Hour_12</td>\n",
              "      <td>0.000157</td>\n",
              "    </tr>\n",
              "    <tr>\n",
              "      <th>8</th>\n",
              "      <td>Conditions_Rain</td>\n",
              "      <td>0.000055</td>\n",
              "    </tr>\n",
              "  </tbody>\n",
              "</table>\n",
              "</div>\n",
              "      <button class=\"colab-df-convert\" onclick=\"convertToInteractive('df-67a99970-5a19-4443-9013-1824cff76b37')\"\n",
              "              title=\"Convert this dataframe to an interactive table.\"\n",
              "              style=\"display:none;\">\n",
              "        \n",
              "  <svg xmlns=\"http://www.w3.org/2000/svg\" height=\"24px\"viewBox=\"0 0 24 24\"\n",
              "       width=\"24px\">\n",
              "    <path d=\"M0 0h24v24H0V0z\" fill=\"none\"/>\n",
              "    <path d=\"M18.56 5.44l.94 2.06.94-2.06 2.06-.94-2.06-.94-.94-2.06-.94 2.06-2.06.94zm-11 1L8.5 8.5l.94-2.06 2.06-.94-2.06-.94L8.5 2.5l-.94 2.06-2.06.94zm10 10l.94 2.06.94-2.06 2.06-.94-2.06-.94-.94-2.06-.94 2.06-2.06.94z\"/><path d=\"M17.41 7.96l-1.37-1.37c-.4-.4-.92-.59-1.43-.59-.52 0-1.04.2-1.43.59L10.3 9.45l-7.72 7.72c-.78.78-.78 2.05 0 2.83L4 21.41c.39.39.9.59 1.41.59.51 0 1.02-.2 1.41-.59l7.78-7.78 2.81-2.81c.8-.78.8-2.07 0-2.86zM5.41 20L4 18.59l7.72-7.72 1.47 1.35L5.41 20z\"/>\n",
              "  </svg>\n",
              "      </button>\n",
              "      \n",
              "  <style>\n",
              "    .colab-df-container {\n",
              "      display:flex;\n",
              "      flex-wrap:wrap;\n",
              "      gap: 12px;\n",
              "    }\n",
              "\n",
              "    .colab-df-convert {\n",
              "      background-color: #E8F0FE;\n",
              "      border: none;\n",
              "      border-radius: 50%;\n",
              "      cursor: pointer;\n",
              "      display: none;\n",
              "      fill: #1967D2;\n",
              "      height: 32px;\n",
              "      padding: 0 0 0 0;\n",
              "      width: 32px;\n",
              "    }\n",
              "\n",
              "    .colab-df-convert:hover {\n",
              "      background-color: #E2EBFA;\n",
              "      box-shadow: 0px 1px 2px rgba(60, 64, 67, 0.3), 0px 1px 3px 1px rgba(60, 64, 67, 0.15);\n",
              "      fill: #174EA6;\n",
              "    }\n",
              "\n",
              "    [theme=dark] .colab-df-convert {\n",
              "      background-color: #3B4455;\n",
              "      fill: #D2E3FC;\n",
              "    }\n",
              "\n",
              "    [theme=dark] .colab-df-convert:hover {\n",
              "      background-color: #434B5C;\n",
              "      box-shadow: 0px 1px 3px 1px rgba(0, 0, 0, 0.15);\n",
              "      filter: drop-shadow(0px 1px 2px rgba(0, 0, 0, 0.3));\n",
              "      fill: #FFFFFF;\n",
              "    }\n",
              "  </style>\n",
              "\n",
              "      <script>\n",
              "        const buttonEl =\n",
              "          document.querySelector('#df-67a99970-5a19-4443-9013-1824cff76b37 button.colab-df-convert');\n",
              "        buttonEl.style.display =\n",
              "          google.colab.kernel.accessAllowed ? 'block' : 'none';\n",
              "\n",
              "        async function convertToInteractive(key) {\n",
              "          const element = document.querySelector('#df-67a99970-5a19-4443-9013-1824cff76b37');\n",
              "          const dataTable =\n",
              "            await google.colab.kernel.invokeFunction('convertToInteractive',\n",
              "                                                     [key], {});\n",
              "          if (!dataTable) return;\n",
              "\n",
              "          const docLinkHtml = 'Like what you see? Visit the ' +\n",
              "            '<a target=\"_blank\" href=https://colab.research.google.com/notebooks/data_table.ipynb>data table notebook</a>'\n",
              "            + ' to learn more about interactive tables.';\n",
              "          element.innerHTML = '';\n",
              "          dataTable['output_type'] = 'display_data';\n",
              "          await google.colab.output.renderOutput(dataTable, element);\n",
              "          const docLink = document.createElement('div');\n",
              "          docLink.innerHTML = docLinkHtml;\n",
              "          element.appendChild(docLink);\n",
              "        }\n",
              "      </script>\n",
              "    </div>\n",
              "  </div>\n",
              "  "
            ]
          },
          "metadata": {},
          "execution_count": 49
        }
      ]
    },
    {
      "cell_type": "code",
      "source": [
        "fig = px.bar(imp, x='Importance', y='Features', title='Feature Importance', color ='Features', orientation='h')\n",
        "fig.show()"
      ],
      "metadata": {
        "id": "kI6Xc07g58QV",
        "colab": {
          "base_uri": "https://localhost:8080/",
          "height": 542
        },
        "outputId": "353286b7-c811-496b-df3b-3e1abcab07e6"
      },
      "execution_count": 50,
      "outputs": [
        {
          "output_type": "display_data",
          "data": {
            "text/html": [
              "<html>\n",
              "<head><meta charset=\"utf-8\" /></head>\n",
              "<body>\n",
              "    <div>            <script src=\"https://cdnjs.cloudflare.com/ajax/libs/mathjax/2.7.5/MathJax.js?config=TeX-AMS-MML_SVG\"></script><script type=\"text/javascript\">if (window.MathJax) {MathJax.Hub.Config({SVG: {font: \"STIX-Web\"}});}</script>                <script type=\"text/javascript\">window.PlotlyConfig = {MathJaxConfig: 'local'};</script>\n",
              "        <script src=\"https://cdn.plot.ly/plotly-2.8.3.min.js\"></script>                <div id=\"1a81b332-7c07-4352-b71b-5e586fa7d1b0\" class=\"plotly-graph-div\" style=\"height:525px; width:100%;\"></div>            <script type=\"text/javascript\">                                    window.PLOTLYENV=window.PLOTLYENV || {};                                    if (document.getElementById(\"1a81b332-7c07-4352-b71b-5e586fa7d1b0\")) {                    Plotly.newPlot(                        \"1a81b332-7c07-4352-b71b-5e586fa7d1b0\",                        [{\"alignmentgroup\":\"True\",\"hovertemplate\":\"Features=%{y}<br>Importance=%{x}<extra></extra>\",\"legendgroup\":\"WEEKDAY_Fri\",\"marker\":{\"color\":\"#636efa\",\"pattern\":{\"shape\":\"\"}},\"name\":\"WEEKDAY_Fri\",\"offsetgroup\":\"WEEKDAY_Fri\",\"orientation\":\"h\",\"showlegend\":true,\"textposition\":\"auto\",\"x\":[0.08291199299018966],\"xaxis\":\"x\",\"y\":[\"WEEKDAY_Fri\"],\"yaxis\":\"y\",\"type\":\"bar\"},{\"alignmentgroup\":\"True\",\"hovertemplate\":\"Features=%{y}<br>Importance=%{x}<extra></extra>\",\"legendgroup\":\"Cloud Cover\",\"marker\":{\"color\":\"#EF553B\",\"pattern\":{\"shape\":\"\"}},\"name\":\"Cloud Cover\",\"offsetgroup\":\"Cloud Cover\",\"orientation\":\"h\",\"showlegend\":true,\"textposition\":\"auto\",\"x\":[0.07707394823809026],\"xaxis\":\"x\",\"y\":[\"Cloud Cover\"],\"yaxis\":\"y\",\"type\":\"bar\"},{\"alignmentgroup\":\"True\",\"hovertemplate\":\"Features=%{y}<br>Importance=%{x}<extra></extra>\",\"legendgroup\":\"WEEKDAY_Thu\",\"marker\":{\"color\":\"#00cc96\",\"pattern\":{\"shape\":\"\"}},\"name\":\"WEEKDAY_Thu\",\"offsetgroup\":\"WEEKDAY_Thu\",\"orientation\":\"h\",\"showlegend\":true,\"textposition\":\"auto\",\"x\":[0.0681962314916383],\"xaxis\":\"x\",\"y\":[\"WEEKDAY_Thu\"],\"yaxis\":\"y\",\"type\":\"bar\"},{\"alignmentgroup\":\"True\",\"hovertemplate\":\"Features=%{y}<br>Importance=%{x}<extra></extra>\",\"legendgroup\":\"Temperature\",\"marker\":{\"color\":\"#ab63fa\",\"pattern\":{\"shape\":\"\"}},\"name\":\"Temperature\",\"offsetgroup\":\"Temperature\",\"orientation\":\"h\",\"showlegend\":true,\"textposition\":\"auto\",\"x\":[0.06527163358743554],\"xaxis\":\"x\",\"y\":[\"Temperature\"],\"yaxis\":\"y\",\"type\":\"bar\"},{\"alignmentgroup\":\"True\",\"hovertemplate\":\"Features=%{y}<br>Importance=%{x}<extra></extra>\",\"legendgroup\":\"Conditions_Partially cloudy\",\"marker\":{\"color\":\"#FFA15A\",\"pattern\":{\"shape\":\"\"}},\"name\":\"Conditions_Partially cloudy\",\"offsetgroup\":\"Conditions_Partially cloudy\",\"orientation\":\"h\",\"showlegend\":true,\"textposition\":\"auto\",\"x\":[0.059688502889597345],\"xaxis\":\"x\",\"y\":[\"Conditions_Partially cloudy\"],\"yaxis\":\"y\",\"type\":\"bar\"},{\"alignmentgroup\":\"True\",\"hovertemplate\":\"Features=%{y}<br>Importance=%{x}<extra></extra>\",\"legendgroup\":\"WEEKDAY_Wed\",\"marker\":{\"color\":\"#19d3f3\",\"pattern\":{\"shape\":\"\"}},\"name\":\"WEEKDAY_Wed\",\"offsetgroup\":\"WEEKDAY_Wed\",\"orientation\":\"h\",\"showlegend\":true,\"textposition\":\"auto\",\"x\":[0.057456269295672366],\"xaxis\":\"x\",\"y\":[\"WEEKDAY_Wed\"],\"yaxis\":\"y\",\"type\":\"bar\"},{\"alignmentgroup\":\"True\",\"hovertemplate\":\"Features=%{y}<br>Importance=%{x}<extra></extra>\",\"legendgroup\":\"WEEKDAY_Tue\",\"marker\":{\"color\":\"#FF6692\",\"pattern\":{\"shape\":\"\"}},\"name\":\"WEEKDAY_Tue\",\"offsetgroup\":\"WEEKDAY_Tue\",\"orientation\":\"h\",\"showlegend\":true,\"textposition\":\"auto\",\"x\":[0.049725671524035404],\"xaxis\":\"x\",\"y\":[\"WEEKDAY_Tue\"],\"yaxis\":\"y\",\"type\":\"bar\"},{\"alignmentgroup\":\"True\",\"hovertemplate\":\"Features=%{y}<br>Importance=%{x}<extra></extra>\",\"legendgroup\":\"Wind Speed\",\"marker\":{\"color\":\"#B6E880\",\"pattern\":{\"shape\":\"\"}},\"name\":\"Wind Speed\",\"offsetgroup\":\"Wind Speed\",\"orientation\":\"h\",\"showlegend\":true,\"textposition\":\"auto\",\"x\":[0.044127354480593586],\"xaxis\":\"x\",\"y\":[\"Wind Speed\"],\"yaxis\":\"y\",\"type\":\"bar\"},{\"alignmentgroup\":\"True\",\"hovertemplate\":\"Features=%{y}<br>Importance=%{x}<extra></extra>\",\"legendgroup\":\"WEEKDAY_Sat\",\"marker\":{\"color\":\"#FF97FF\",\"pattern\":{\"shape\":\"\"}},\"name\":\"WEEKDAY_Sat\",\"offsetgroup\":\"WEEKDAY_Sat\",\"orientation\":\"h\",\"showlegend\":true,\"textposition\":\"auto\",\"x\":[0.042785646431286316],\"xaxis\":\"x\",\"y\":[\"WEEKDAY_Sat\"],\"yaxis\":\"y\",\"type\":\"bar\"},{\"alignmentgroup\":\"True\",\"hovertemplate\":\"Features=%{y}<br>Importance=%{x}<extra></extra>\",\"legendgroup\":\"Visibility\",\"marker\":{\"color\":\"#FECB52\",\"pattern\":{\"shape\":\"\"}},\"name\":\"Visibility\",\"offsetgroup\":\"Visibility\",\"orientation\":\"h\",\"showlegend\":true,\"textposition\":\"auto\",\"x\":[0.03762282247983742],\"xaxis\":\"x\",\"y\":[\"Visibility\"],\"yaxis\":\"y\",\"type\":\"bar\"},{\"alignmentgroup\":\"True\",\"hovertemplate\":\"Features=%{y}<br>Importance=%{x}<extra></extra>\",\"legendgroup\":\"WEEKDAY_Mon\",\"marker\":{\"color\":\"#636efa\",\"pattern\":{\"shape\":\"\"}},\"name\":\"WEEKDAY_Mon\",\"offsetgroup\":\"WEEKDAY_Mon\",\"orientation\":\"h\",\"showlegend\":true,\"textposition\":\"auto\",\"x\":[0.03651412683989456],\"xaxis\":\"x\",\"y\":[\"WEEKDAY_Mon\"],\"yaxis\":\"y\",\"type\":\"bar\"},{\"alignmentgroup\":\"True\",\"hovertemplate\":\"Features=%{y}<br>Importance=%{x}<extra></extra>\",\"legendgroup\":\"MONTH_May\",\"marker\":{\"color\":\"#EF553B\",\"pattern\":{\"shape\":\"\"}},\"name\":\"MONTH_May\",\"offsetgroup\":\"MONTH_May\",\"orientation\":\"h\",\"showlegend\":true,\"textposition\":\"auto\",\"x\":[0.03556552288270224],\"xaxis\":\"x\",\"y\":[\"MONTH_May\"],\"yaxis\":\"y\",\"type\":\"bar\"},{\"alignmentgroup\":\"True\",\"hovertemplate\":\"Features=%{y}<br>Importance=%{x}<extra></extra>\",\"legendgroup\":\"Precipitation\",\"marker\":{\"color\":\"#00cc96\",\"pattern\":{\"shape\":\"\"}},\"name\":\"Precipitation\",\"offsetgroup\":\"Precipitation\",\"orientation\":\"h\",\"showlegend\":true,\"textposition\":\"auto\",\"x\":[0.03278416199217229],\"xaxis\":\"x\",\"y\":[\"Precipitation\"],\"yaxis\":\"y\",\"type\":\"bar\"},{\"alignmentgroup\":\"True\",\"hovertemplate\":\"Features=%{y}<br>Importance=%{x}<extra></extra>\",\"legendgroup\":\"MONTH_Aug\",\"marker\":{\"color\":\"#ab63fa\",\"pattern\":{\"shape\":\"\"}},\"name\":\"MONTH_Aug\",\"offsetgroup\":\"MONTH_Aug\",\"orientation\":\"h\",\"showlegend\":true,\"textposition\":\"auto\",\"x\":[0.03118307819741255],\"xaxis\":\"x\",\"y\":[\"MONTH_Aug\"],\"yaxis\":\"y\",\"type\":\"bar\"},{\"alignmentgroup\":\"True\",\"hovertemplate\":\"Features=%{y}<br>Importance=%{x}<extra></extra>\",\"legendgroup\":\"MONTH_Sep\",\"marker\":{\"color\":\"#FFA15A\",\"pattern\":{\"shape\":\"\"}},\"name\":\"MONTH_Sep\",\"offsetgroup\":\"MONTH_Sep\",\"orientation\":\"h\",\"showlegend\":true,\"textposition\":\"auto\",\"x\":[0.030980095815725923],\"xaxis\":\"x\",\"y\":[\"MONTH_Sep\"],\"yaxis\":\"y\",\"type\":\"bar\"},{\"alignmentgroup\":\"True\",\"hovertemplate\":\"Features=%{y}<br>Importance=%{x}<extra></extra>\",\"legendgroup\":\"MONTH_Nov\",\"marker\":{\"color\":\"#19d3f3\",\"pattern\":{\"shape\":\"\"}},\"name\":\"MONTH_Nov\",\"offsetgroup\":\"MONTH_Nov\",\"orientation\":\"h\",\"showlegend\":true,\"textposition\":\"auto\",\"x\":[0.029072254498812046],\"xaxis\":\"x\",\"y\":[\"MONTH_Nov\"],\"yaxis\":\"y\",\"type\":\"bar\"},{\"alignmentgroup\":\"True\",\"hovertemplate\":\"Features=%{y}<br>Importance=%{x}<extra></extra>\",\"legendgroup\":\"WEEKDAY_Sun\",\"marker\":{\"color\":\"#FF6692\",\"pattern\":{\"shape\":\"\"}},\"name\":\"WEEKDAY_Sun\",\"offsetgroup\":\"WEEKDAY_Sun\",\"orientation\":\"h\",\"showlegend\":true,\"textposition\":\"auto\",\"x\":[0.028631111676595985],\"xaxis\":\"x\",\"y\":[\"WEEKDAY_Sun\"],\"yaxis\":\"y\",\"type\":\"bar\"},{\"alignmentgroup\":\"True\",\"hovertemplate\":\"Features=%{y}<br>Importance=%{x}<extra></extra>\",\"legendgroup\":\"Conditions_Rain, Partially cloudy\",\"marker\":{\"color\":\"#B6E880\",\"pattern\":{\"shape\":\"\"}},\"name\":\"Conditions_Rain, Partially cloudy\",\"offsetgroup\":\"Conditions_Rain, Partially cloudy\",\"orientation\":\"h\",\"showlegend\":true,\"textposition\":\"auto\",\"x\":[0.02026703431226098],\"xaxis\":\"x\",\"y\":[\"Conditions_Rain, Partially cloudy\"],\"yaxis\":\"y\",\"type\":\"bar\"},{\"alignmentgroup\":\"True\",\"hovertemplate\":\"Features=%{y}<br>Importance=%{x}<extra></extra>\",\"legendgroup\":\"Conditions_Rain, Overcast\",\"marker\":{\"color\":\"#FF97FF\",\"pattern\":{\"shape\":\"\"}},\"name\":\"Conditions_Rain, Overcast\",\"offsetgroup\":\"Conditions_Rain, Overcast\",\"orientation\":\"h\",\"showlegend\":true,\"textposition\":\"auto\",\"x\":[0.018542649028498677],\"xaxis\":\"x\",\"y\":[\"Conditions_Rain, Overcast\"],\"yaxis\":\"y\",\"type\":\"bar\"},{\"alignmentgroup\":\"True\",\"hovertemplate\":\"Features=%{y}<br>Importance=%{x}<extra></extra>\",\"legendgroup\":\"Hour_15\",\"marker\":{\"color\":\"#FECB52\",\"pattern\":{\"shape\":\"\"}},\"name\":\"Hour_15\",\"offsetgroup\":\"Hour_15\",\"orientation\":\"h\",\"showlegend\":true,\"textposition\":\"auto\",\"x\":[0.01106238338125142],\"xaxis\":\"x\",\"y\":[\"Hour_15\"],\"yaxis\":\"y\",\"type\":\"bar\"},{\"alignmentgroup\":\"True\",\"hovertemplate\":\"Features=%{y}<br>Importance=%{x}<extra></extra>\",\"legendgroup\":\"MONTH_Dec\",\"marker\":{\"color\":\"#636efa\",\"pattern\":{\"shape\":\"\"}},\"name\":\"MONTH_Dec\",\"offsetgroup\":\"MONTH_Dec\",\"orientation\":\"h\",\"showlegend\":true,\"textposition\":\"auto\",\"x\":[0.010947386495651537],\"xaxis\":\"x\",\"y\":[\"MONTH_Dec\"],\"yaxis\":\"y\",\"type\":\"bar\"},{\"alignmentgroup\":\"True\",\"hovertemplate\":\"Features=%{y}<br>Importance=%{x}<extra></extra>\",\"legendgroup\":\"MONTH_Apr\",\"marker\":{\"color\":\"#EF553B\",\"pattern\":{\"shape\":\"\"}},\"name\":\"MONTH_Apr\",\"offsetgroup\":\"MONTH_Apr\",\"orientation\":\"h\",\"showlegend\":true,\"textposition\":\"auto\",\"x\":[0.00966920314184967],\"xaxis\":\"x\",\"y\":[\"MONTH_Apr\"],\"yaxis\":\"y\",\"type\":\"bar\"},{\"alignmentgroup\":\"True\",\"hovertemplate\":\"Features=%{y}<br>Importance=%{x}<extra></extra>\",\"legendgroup\":\"Hour_14\",\"marker\":{\"color\":\"#00cc96\",\"pattern\":{\"shape\":\"\"}},\"name\":\"Hour_14\",\"offsetgroup\":\"Hour_14\",\"orientation\":\"h\",\"showlegend\":true,\"textposition\":\"auto\",\"x\":[0.009314691264199202],\"xaxis\":\"x\",\"y\":[\"Hour_14\"],\"yaxis\":\"y\",\"type\":\"bar\"},{\"alignmentgroup\":\"True\",\"hovertemplate\":\"Features=%{y}<br>Importance=%{x}<extra></extra>\",\"legendgroup\":\"MONTH_Jan\",\"marker\":{\"color\":\"#ab63fa\",\"pattern\":{\"shape\":\"\"}},\"name\":\"MONTH_Jan\",\"offsetgroup\":\"MONTH_Jan\",\"orientation\":\"h\",\"showlegend\":true,\"textposition\":\"auto\",\"x\":[0.009177296344398636],\"xaxis\":\"x\",\"y\":[\"MONTH_Jan\"],\"yaxis\":\"y\",\"type\":\"bar\"},{\"alignmentgroup\":\"True\",\"hovertemplate\":\"Features=%{y}<br>Importance=%{x}<extra></extra>\",\"legendgroup\":\"Hour_0\",\"marker\":{\"color\":\"#FFA15A\",\"pattern\":{\"shape\":\"\"}},\"name\":\"Hour_0\",\"offsetgroup\":\"Hour_0\",\"orientation\":\"h\",\"showlegend\":true,\"textposition\":\"auto\",\"x\":[0.009028648817602887],\"xaxis\":\"x\",\"y\":[\"Hour_0\"],\"yaxis\":\"y\",\"type\":\"bar\"},{\"alignmentgroup\":\"True\",\"hovertemplate\":\"Features=%{y}<br>Importance=%{x}<extra></extra>\",\"legendgroup\":\"MONTH_Jun\",\"marker\":{\"color\":\"#19d3f3\",\"pattern\":{\"shape\":\"\"}},\"name\":\"MONTH_Jun\",\"offsetgroup\":\"MONTH_Jun\",\"orientation\":\"h\",\"showlegend\":true,\"textposition\":\"auto\",\"x\":[0.007601436405029461],\"xaxis\":\"x\",\"y\":[\"MONTH_Jun\"],\"yaxis\":\"y\",\"type\":\"bar\"},{\"alignmentgroup\":\"True\",\"hovertemplate\":\"Features=%{y}<br>Importance=%{x}<extra></extra>\",\"legendgroup\":\"MONTH_Mar\",\"marker\":{\"color\":\"#FF6692\",\"pattern\":{\"shape\":\"\"}},\"name\":\"MONTH_Mar\",\"offsetgroup\":\"MONTH_Mar\",\"orientation\":\"h\",\"showlegend\":true,\"textposition\":\"auto\",\"x\":[0.0073245520895439346],\"xaxis\":\"x\",\"y\":[\"MONTH_Mar\"],\"yaxis\":\"y\",\"type\":\"bar\"},{\"alignmentgroup\":\"True\",\"hovertemplate\":\"Features=%{y}<br>Importance=%{x}<extra></extra>\",\"legendgroup\":\"Conditions_Overcast\",\"marker\":{\"color\":\"#B6E880\",\"pattern\":{\"shape\":\"\"}},\"name\":\"Conditions_Overcast\",\"offsetgroup\":\"Conditions_Overcast\",\"orientation\":\"h\",\"showlegend\":true,\"textposition\":\"auto\",\"x\":[0.006698661311282313],\"xaxis\":\"x\",\"y\":[\"Conditions_Overcast\"],\"yaxis\":\"y\",\"type\":\"bar\"},{\"alignmentgroup\":\"True\",\"hovertemplate\":\"Features=%{y}<br>Importance=%{x}<extra></extra>\",\"legendgroup\":\"Conditions_Clear\",\"marker\":{\"color\":\"#FF97FF\",\"pattern\":{\"shape\":\"\"}},\"name\":\"Conditions_Clear\",\"offsetgroup\":\"Conditions_Clear\",\"orientation\":\"h\",\"showlegend\":true,\"textposition\":\"auto\",\"x\":[0.006467813311757312],\"xaxis\":\"x\",\"y\":[\"Conditions_Clear\"],\"yaxis\":\"y\",\"type\":\"bar\"},{\"alignmentgroup\":\"True\",\"hovertemplate\":\"Features=%{y}<br>Importance=%{x}<extra></extra>\",\"legendgroup\":\"Hour_21\",\"marker\":{\"color\":\"#FECB52\",\"pattern\":{\"shape\":\"\"}},\"name\":\"Hour_21\",\"offsetgroup\":\"Hour_21\",\"orientation\":\"h\",\"showlegend\":true,\"textposition\":\"auto\",\"x\":[0.0057070239023657],\"xaxis\":\"x\",\"y\":[\"Hour_21\"],\"yaxis\":\"y\",\"type\":\"bar\"},{\"alignmentgroup\":\"True\",\"hovertemplate\":\"Features=%{y}<br>Importance=%{x}<extra></extra>\",\"legendgroup\":\"MONTH_Oct\",\"marker\":{\"color\":\"#636efa\",\"pattern\":{\"shape\":\"\"}},\"name\":\"MONTH_Oct\",\"offsetgroup\":\"MONTH_Oct\",\"orientation\":\"h\",\"showlegend\":true,\"textposition\":\"auto\",\"x\":[0.005571671951139183],\"xaxis\":\"x\",\"y\":[\"MONTH_Oct\"],\"yaxis\":\"y\",\"type\":\"bar\"},{\"alignmentgroup\":\"True\",\"hovertemplate\":\"Features=%{y}<br>Importance=%{x}<extra></extra>\",\"legendgroup\":\"MONTH_Jul\",\"marker\":{\"color\":\"#EF553B\",\"pattern\":{\"shape\":\"\"}},\"name\":\"MONTH_Jul\",\"offsetgroup\":\"MONTH_Jul\",\"orientation\":\"h\",\"showlegend\":true,\"textposition\":\"auto\",\"x\":[0.0051338766971943065],\"xaxis\":\"x\",\"y\":[\"MONTH_Jul\"],\"yaxis\":\"y\",\"type\":\"bar\"},{\"alignmentgroup\":\"True\",\"hovertemplate\":\"Features=%{y}<br>Importance=%{x}<extra></extra>\",\"legendgroup\":\"MONTH_Feb\",\"marker\":{\"color\":\"#00cc96\",\"pattern\":{\"shape\":\"\"}},\"name\":\"MONTH_Feb\",\"offsetgroup\":\"MONTH_Feb\",\"orientation\":\"h\",\"showlegend\":true,\"textposition\":\"auto\",\"x\":[0.005115755615653046],\"xaxis\":\"x\",\"y\":[\"MONTH_Feb\"],\"yaxis\":\"y\",\"type\":\"bar\"},{\"alignmentgroup\":\"True\",\"hovertemplate\":\"Features=%{y}<br>Importance=%{x}<extra></extra>\",\"legendgroup\":\"Hour_16\",\"marker\":{\"color\":\"#ab63fa\",\"pattern\":{\"shape\":\"\"}},\"name\":\"Hour_16\",\"offsetgroup\":\"Hour_16\",\"orientation\":\"h\",\"showlegend\":true,\"textposition\":\"auto\",\"x\":[0.0050495349952869055],\"xaxis\":\"x\",\"y\":[\"Hour_16\"],\"yaxis\":\"y\",\"type\":\"bar\"},{\"alignmentgroup\":\"True\",\"hovertemplate\":\"Features=%{y}<br>Importance=%{x}<extra></extra>\",\"legendgroup\":\"Hour_23\",\"marker\":{\"color\":\"#FFA15A\",\"pattern\":{\"shape\":\"\"}},\"name\":\"Hour_23\",\"offsetgroup\":\"Hour_23\",\"orientation\":\"h\",\"showlegend\":true,\"textposition\":\"auto\",\"x\":[0.004717854002965381],\"xaxis\":\"x\",\"y\":[\"Hour_23\"],\"yaxis\":\"y\",\"type\":\"bar\"},{\"alignmentgroup\":\"True\",\"hovertemplate\":\"Features=%{y}<br>Importance=%{x}<extra></extra>\",\"legendgroup\":\"Hour_2\",\"marker\":{\"color\":\"#19d3f3\",\"pattern\":{\"shape\":\"\"}},\"name\":\"Hour_2\",\"offsetgroup\":\"Hour_2\",\"orientation\":\"h\",\"showlegend\":true,\"textposition\":\"auto\",\"x\":[0.004411394724979407],\"xaxis\":\"x\",\"y\":[\"Hour_2\"],\"yaxis\":\"y\",\"type\":\"bar\"},{\"alignmentgroup\":\"True\",\"hovertemplate\":\"Features=%{y}<br>Importance=%{x}<extra></extra>\",\"legendgroup\":\"Hour_17\",\"marker\":{\"color\":\"#FF6692\",\"pattern\":{\"shape\":\"\"}},\"name\":\"Hour_17\",\"offsetgroup\":\"Hour_17\",\"orientation\":\"h\",\"showlegend\":true,\"textposition\":\"auto\",\"x\":[0.004137950818778025],\"xaxis\":\"x\",\"y\":[\"Hour_17\"],\"yaxis\":\"y\",\"type\":\"bar\"},{\"alignmentgroup\":\"True\",\"hovertemplate\":\"Features=%{y}<br>Importance=%{x}<extra></extra>\",\"legendgroup\":\"Hour_1\",\"marker\":{\"color\":\"#B6E880\",\"pattern\":{\"shape\":\"\"}},\"name\":\"Hour_1\",\"offsetgroup\":\"Hour_1\",\"orientation\":\"h\",\"showlegend\":true,\"textposition\":\"auto\",\"x\":[0.004126672516140792],\"xaxis\":\"x\",\"y\":[\"Hour_1\"],\"yaxis\":\"y\",\"type\":\"bar\"},{\"alignmentgroup\":\"True\",\"hovertemplate\":\"Features=%{y}<br>Importance=%{x}<extra></extra>\",\"legendgroup\":\"Hour_4\",\"marker\":{\"color\":\"#FF97FF\",\"pattern\":{\"shape\":\"\"}},\"name\":\"Hour_4\",\"offsetgroup\":\"Hour_4\",\"orientation\":\"h\",\"showlegend\":true,\"textposition\":\"auto\",\"x\":[0.0035831110430226383],\"xaxis\":\"x\",\"y\":[\"Hour_4\"],\"yaxis\":\"y\",\"type\":\"bar\"},{\"alignmentgroup\":\"True\",\"hovertemplate\":\"Features=%{y}<br>Importance=%{x}<extra></extra>\",\"legendgroup\":\"Hour_22\",\"marker\":{\"color\":\"#FECB52\",\"pattern\":{\"shape\":\"\"}},\"name\":\"Hour_22\",\"offsetgroup\":\"Hour_22\",\"orientation\":\"h\",\"showlegend\":true,\"textposition\":\"auto\",\"x\":[0.0033985603204841268],\"xaxis\":\"x\",\"y\":[\"Hour_22\"],\"yaxis\":\"y\",\"type\":\"bar\"},{\"alignmentgroup\":\"True\",\"hovertemplate\":\"Features=%{y}<br>Importance=%{x}<extra></extra>\",\"legendgroup\":\"Hour_18\",\"marker\":{\"color\":\"#636efa\",\"pattern\":{\"shape\":\"\"}},\"name\":\"Hour_18\",\"offsetgroup\":\"Hour_18\",\"orientation\":\"h\",\"showlegend\":true,\"textposition\":\"auto\",\"x\":[0.0031436084629262607],\"xaxis\":\"x\",\"y\":[\"Hour_18\"],\"yaxis\":\"y\",\"type\":\"bar\"},{\"alignmentgroup\":\"True\",\"hovertemplate\":\"Features=%{y}<br>Importance=%{x}<extra></extra>\",\"legendgroup\":\"Hour_19\",\"marker\":{\"color\":\"#EF553B\",\"pattern\":{\"shape\":\"\"}},\"name\":\"Hour_19\",\"offsetgroup\":\"Hour_19\",\"orientation\":\"h\",\"showlegend\":true,\"textposition\":\"auto\",\"x\":[0.002284893191611125],\"xaxis\":\"x\",\"y\":[\"Hour_19\"],\"yaxis\":\"y\",\"type\":\"bar\"},{\"alignmentgroup\":\"True\",\"hovertemplate\":\"Features=%{y}<br>Importance=%{x}<extra></extra>\",\"legendgroup\":\"Hour_3\",\"marker\":{\"color\":\"#00cc96\",\"pattern\":{\"shape\":\"\"}},\"name\":\"Hour_3\",\"offsetgroup\":\"Hour_3\",\"orientation\":\"h\",\"showlegend\":true,\"textposition\":\"auto\",\"x\":[0.0022008212710778467],\"xaxis\":\"x\",\"y\":[\"Hour_3\"],\"yaxis\":\"y\",\"type\":\"bar\"},{\"alignmentgroup\":\"True\",\"hovertemplate\":\"Features=%{y}<br>Importance=%{x}<extra></extra>\",\"legendgroup\":\"Conditions_Snow, Overcast\",\"marker\":{\"color\":\"#ab63fa\",\"pattern\":{\"shape\":\"\"}},\"name\":\"Conditions_Snow, Overcast\",\"offsetgroup\":\"Conditions_Snow, Overcast\",\"orientation\":\"h\",\"showlegend\":true,\"textposition\":\"auto\",\"x\":[0.0009788825772904669],\"xaxis\":\"x\",\"y\":[\"Conditions_Snow, Overcast\"],\"yaxis\":\"y\",\"type\":\"bar\"},{\"alignmentgroup\":\"True\",\"hovertemplate\":\"Features=%{y}<br>Importance=%{x}<extra></extra>\",\"legendgroup\":\"Hour_13\",\"marker\":{\"color\":\"#FFA15A\",\"pattern\":{\"shape\":\"\"}},\"name\":\"Hour_13\",\"offsetgroup\":\"Hour_13\",\"orientation\":\"h\",\"showlegend\":true,\"textposition\":\"auto\",\"x\":[0.0009773378403946118],\"xaxis\":\"x\",\"y\":[\"Hour_13\"],\"yaxis\":\"y\",\"type\":\"bar\"},{\"alignmentgroup\":\"True\",\"hovertemplate\":\"Features=%{y}<br>Importance=%{x}<extra></extra>\",\"legendgroup\":\"Hour_20\",\"marker\":{\"color\":\"#19d3f3\",\"pattern\":{\"shape\":\"\"}},\"name\":\"Hour_20\",\"offsetgroup\":\"Hour_20\",\"orientation\":\"h\",\"showlegend\":true,\"textposition\":\"auto\",\"x\":[0.0008069280764232175],\"xaxis\":\"x\",\"y\":[\"Hour_20\"],\"yaxis\":\"y\",\"type\":\"bar\"},{\"alignmentgroup\":\"True\",\"hovertemplate\":\"Features=%{y}<br>Importance=%{x}<extra></extra>\",\"legendgroup\":\"Hour_5\",\"marker\":{\"color\":\"#FF6692\",\"pattern\":{\"shape\":\"\"}},\"name\":\"Hour_5\",\"offsetgroup\":\"Hour_5\",\"orientation\":\"h\",\"showlegend\":true,\"textposition\":\"auto\",\"x\":[0.0005595173413713173],\"xaxis\":\"x\",\"y\":[\"Hour_5\"],\"yaxis\":\"y\",\"type\":\"bar\"},{\"alignmentgroup\":\"True\",\"hovertemplate\":\"Features=%{y}<br>Importance=%{x}<extra></extra>\",\"legendgroup\":\"Hour_6\",\"marker\":{\"color\":\"#B6E880\",\"pattern\":{\"shape\":\"\"}},\"name\":\"Hour_6\",\"offsetgroup\":\"Hour_6\",\"orientation\":\"h\",\"showlegend\":true,\"textposition\":\"auto\",\"x\":[0.0003485105822744977],\"xaxis\":\"x\",\"y\":[\"Hour_6\"],\"yaxis\":\"y\",\"type\":\"bar\"},{\"alignmentgroup\":\"True\",\"hovertemplate\":\"Features=%{y}<br>Importance=%{x}<extra></extra>\",\"legendgroup\":\"Hour_9\",\"marker\":{\"color\":\"#FF97FF\",\"pattern\":{\"shape\":\"\"}},\"name\":\"Hour_9\",\"offsetgroup\":\"Hour_9\",\"orientation\":\"h\",\"showlegend\":true,\"textposition\":\"auto\",\"x\":[0.0003104568218478327],\"xaxis\":\"x\",\"y\":[\"Hour_9\"],\"yaxis\":\"y\",\"type\":\"bar\"},{\"alignmentgroup\":\"True\",\"hovertemplate\":\"Features=%{y}<br>Importance=%{x}<extra></extra>\",\"legendgroup\":\"Conditions_Snow, Partially cloudy\",\"marker\":{\"color\":\"#FECB52\",\"pattern\":{\"shape\":\"\"}},\"name\":\"Conditions_Snow, Partially cloudy\",\"offsetgroup\":\"Conditions_Snow, Partially cloudy\",\"orientation\":\"h\",\"showlegend\":true,\"textposition\":\"auto\",\"x\":[0.00029205771362497235],\"xaxis\":\"x\",\"y\":[\"Conditions_Snow, Partially cloudy\"],\"yaxis\":\"y\",\"type\":\"bar\"},{\"alignmentgroup\":\"True\",\"hovertemplate\":\"Features=%{y}<br>Importance=%{x}<extra></extra>\",\"legendgroup\":\"Hour_10\",\"marker\":{\"color\":\"#636efa\",\"pattern\":{\"shape\":\"\"}},\"name\":\"Hour_10\",\"offsetgroup\":\"Hour_10\",\"orientation\":\"h\",\"showlegend\":true,\"textposition\":\"auto\",\"x\":[0.0002748160919991986],\"xaxis\":\"x\",\"y\":[\"Hour_10\"],\"yaxis\":\"y\",\"type\":\"bar\"},{\"alignmentgroup\":\"True\",\"hovertemplate\":\"Features=%{y}<br>Importance=%{x}<extra></extra>\",\"legendgroup\":\"Hour_7\",\"marker\":{\"color\":\"#EF553B\",\"pattern\":{\"shape\":\"\"}},\"name\":\"Hour_7\",\"offsetgroup\":\"Hour_7\",\"orientation\":\"h\",\"showlegend\":true,\"textposition\":\"auto\",\"x\":[0.0002663498143186432],\"xaxis\":\"x\",\"y\":[\"Hour_7\"],\"yaxis\":\"y\",\"type\":\"bar\"},{\"alignmentgroup\":\"True\",\"hovertemplate\":\"Features=%{y}<br>Importance=%{x}<extra></extra>\",\"legendgroup\":\"Hour_8\",\"marker\":{\"color\":\"#00cc96\",\"pattern\":{\"shape\":\"\"}},\"name\":\"Hour_8\",\"offsetgroup\":\"Hour_8\",\"orientation\":\"h\",\"showlegend\":true,\"textposition\":\"auto\",\"x\":[0.0002419530925906801],\"xaxis\":\"x\",\"y\":[\"Hour_8\"],\"yaxis\":\"y\",\"type\":\"bar\"},{\"alignmentgroup\":\"True\",\"hovertemplate\":\"Features=%{y}<br>Importance=%{x}<extra></extra>\",\"legendgroup\":\"Hour_11\",\"marker\":{\"color\":\"#ab63fa\",\"pattern\":{\"shape\":\"\"}},\"name\":\"Hour_11\",\"offsetgroup\":\"Hour_11\",\"orientation\":\"h\",\"showlegend\":true,\"textposition\":\"auto\",\"x\":[0.00024181992965734874],\"xaxis\":\"x\",\"y\":[\"Hour_11\"],\"yaxis\":\"y\",\"type\":\"bar\"},{\"alignmentgroup\":\"True\",\"hovertemplate\":\"Features=%{y}<br>Importance=%{x}<extra></extra>\",\"legendgroup\":\"Conditions_Snow\",\"marker\":{\"color\":\"#FFA15A\",\"pattern\":{\"shape\":\"\"}},\"name\":\"Conditions_Snow\",\"offsetgroup\":\"Conditions_Snow\",\"orientation\":\"h\",\"showlegend\":true,\"textposition\":\"auto\",\"x\":[0.00021392391012509495],\"xaxis\":\"x\",\"y\":[\"Conditions_Snow\"],\"yaxis\":\"y\",\"type\":\"bar\"},{\"alignmentgroup\":\"True\",\"hovertemplate\":\"Features=%{y}<br>Importance=%{x}<extra></extra>\",\"legendgroup\":\"Hour_12\",\"marker\":{\"color\":\"#19d3f3\",\"pattern\":{\"shape\":\"\"}},\"name\":\"Hour_12\",\"offsetgroup\":\"Hour_12\",\"orientation\":\"h\",\"showlegend\":true,\"textposition\":\"auto\",\"x\":[0.00015722305074943757],\"xaxis\":\"x\",\"y\":[\"Hour_12\"],\"yaxis\":\"y\",\"type\":\"bar\"},{\"alignmentgroup\":\"True\",\"hovertemplate\":\"Features=%{y}<br>Importance=%{x}<extra></extra>\",\"legendgroup\":\"Conditions_Rain\",\"marker\":{\"color\":\"#FF6692\",\"pattern\":{\"shape\":\"\"}},\"name\":\"Conditions_Rain\",\"offsetgroup\":\"Conditions_Rain\",\"orientation\":\"h\",\"showlegend\":true,\"textposition\":\"auto\",\"x\":[5.5312428690136315e-05],\"xaxis\":\"x\",\"y\":[\"Conditions_Rain\"],\"yaxis\":\"y\",\"type\":\"bar\"}],                        {\"template\":{\"data\":{\"bar\":[{\"error_x\":{\"color\":\"#2a3f5f\"},\"error_y\":{\"color\":\"#2a3f5f\"},\"marker\":{\"line\":{\"color\":\"#E5ECF6\",\"width\":0.5},\"pattern\":{\"fillmode\":\"overlay\",\"size\":10,\"solidity\":0.2}},\"type\":\"bar\"}],\"barpolar\":[{\"marker\":{\"line\":{\"color\":\"#E5ECF6\",\"width\":0.5},\"pattern\":{\"fillmode\":\"overlay\",\"size\":10,\"solidity\":0.2}},\"type\":\"barpolar\"}],\"carpet\":[{\"aaxis\":{\"endlinecolor\":\"#2a3f5f\",\"gridcolor\":\"white\",\"linecolor\":\"white\",\"minorgridcolor\":\"white\",\"startlinecolor\":\"#2a3f5f\"},\"baxis\":{\"endlinecolor\":\"#2a3f5f\",\"gridcolor\":\"white\",\"linecolor\":\"white\",\"minorgridcolor\":\"white\",\"startlinecolor\":\"#2a3f5f\"},\"type\":\"carpet\"}],\"choropleth\":[{\"colorbar\":{\"outlinewidth\":0,\"ticks\":\"\"},\"type\":\"choropleth\"}],\"contour\":[{\"colorbar\":{\"outlinewidth\":0,\"ticks\":\"\"},\"colorscale\":[[0.0,\"#0d0887\"],[0.1111111111111111,\"#46039f\"],[0.2222222222222222,\"#7201a8\"],[0.3333333333333333,\"#9c179e\"],[0.4444444444444444,\"#bd3786\"],[0.5555555555555556,\"#d8576b\"],[0.6666666666666666,\"#ed7953\"],[0.7777777777777778,\"#fb9f3a\"],[0.8888888888888888,\"#fdca26\"],[1.0,\"#f0f921\"]],\"type\":\"contour\"}],\"contourcarpet\":[{\"colorbar\":{\"outlinewidth\":0,\"ticks\":\"\"},\"type\":\"contourcarpet\"}],\"heatmap\":[{\"colorbar\":{\"outlinewidth\":0,\"ticks\":\"\"},\"colorscale\":[[0.0,\"#0d0887\"],[0.1111111111111111,\"#46039f\"],[0.2222222222222222,\"#7201a8\"],[0.3333333333333333,\"#9c179e\"],[0.4444444444444444,\"#bd3786\"],[0.5555555555555556,\"#d8576b\"],[0.6666666666666666,\"#ed7953\"],[0.7777777777777778,\"#fb9f3a\"],[0.8888888888888888,\"#fdca26\"],[1.0,\"#f0f921\"]],\"type\":\"heatmap\"}],\"heatmapgl\":[{\"colorbar\":{\"outlinewidth\":0,\"ticks\":\"\"},\"colorscale\":[[0.0,\"#0d0887\"],[0.1111111111111111,\"#46039f\"],[0.2222222222222222,\"#7201a8\"],[0.3333333333333333,\"#9c179e\"],[0.4444444444444444,\"#bd3786\"],[0.5555555555555556,\"#d8576b\"],[0.6666666666666666,\"#ed7953\"],[0.7777777777777778,\"#fb9f3a\"],[0.8888888888888888,\"#fdca26\"],[1.0,\"#f0f921\"]],\"type\":\"heatmapgl\"}],\"histogram\":[{\"marker\":{\"pattern\":{\"fillmode\":\"overlay\",\"size\":10,\"solidity\":0.2}},\"type\":\"histogram\"}],\"histogram2d\":[{\"colorbar\":{\"outlinewidth\":0,\"ticks\":\"\"},\"colorscale\":[[0.0,\"#0d0887\"],[0.1111111111111111,\"#46039f\"],[0.2222222222222222,\"#7201a8\"],[0.3333333333333333,\"#9c179e\"],[0.4444444444444444,\"#bd3786\"],[0.5555555555555556,\"#d8576b\"],[0.6666666666666666,\"#ed7953\"],[0.7777777777777778,\"#fb9f3a\"],[0.8888888888888888,\"#fdca26\"],[1.0,\"#f0f921\"]],\"type\":\"histogram2d\"}],\"histogram2dcontour\":[{\"colorbar\":{\"outlinewidth\":0,\"ticks\":\"\"},\"colorscale\":[[0.0,\"#0d0887\"],[0.1111111111111111,\"#46039f\"],[0.2222222222222222,\"#7201a8\"],[0.3333333333333333,\"#9c179e\"],[0.4444444444444444,\"#bd3786\"],[0.5555555555555556,\"#d8576b\"],[0.6666666666666666,\"#ed7953\"],[0.7777777777777778,\"#fb9f3a\"],[0.8888888888888888,\"#fdca26\"],[1.0,\"#f0f921\"]],\"type\":\"histogram2dcontour\"}],\"mesh3d\":[{\"colorbar\":{\"outlinewidth\":0,\"ticks\":\"\"},\"type\":\"mesh3d\"}],\"parcoords\":[{\"line\":{\"colorbar\":{\"outlinewidth\":0,\"ticks\":\"\"}},\"type\":\"parcoords\"}],\"pie\":[{\"automargin\":true,\"type\":\"pie\"}],\"scatter\":[{\"marker\":{\"colorbar\":{\"outlinewidth\":0,\"ticks\":\"\"}},\"type\":\"scatter\"}],\"scatter3d\":[{\"line\":{\"colorbar\":{\"outlinewidth\":0,\"ticks\":\"\"}},\"marker\":{\"colorbar\":{\"outlinewidth\":0,\"ticks\":\"\"}},\"type\":\"scatter3d\"}],\"scattercarpet\":[{\"marker\":{\"colorbar\":{\"outlinewidth\":0,\"ticks\":\"\"}},\"type\":\"scattercarpet\"}],\"scattergeo\":[{\"marker\":{\"colorbar\":{\"outlinewidth\":0,\"ticks\":\"\"}},\"type\":\"scattergeo\"}],\"scattergl\":[{\"marker\":{\"colorbar\":{\"outlinewidth\":0,\"ticks\":\"\"}},\"type\":\"scattergl\"}],\"scattermapbox\":[{\"marker\":{\"colorbar\":{\"outlinewidth\":0,\"ticks\":\"\"}},\"type\":\"scattermapbox\"}],\"scatterpolar\":[{\"marker\":{\"colorbar\":{\"outlinewidth\":0,\"ticks\":\"\"}},\"type\":\"scatterpolar\"}],\"scatterpolargl\":[{\"marker\":{\"colorbar\":{\"outlinewidth\":0,\"ticks\":\"\"}},\"type\":\"scatterpolargl\"}],\"scatterternary\":[{\"marker\":{\"colorbar\":{\"outlinewidth\":0,\"ticks\":\"\"}},\"type\":\"scatterternary\"}],\"surface\":[{\"colorbar\":{\"outlinewidth\":0,\"ticks\":\"\"},\"colorscale\":[[0.0,\"#0d0887\"],[0.1111111111111111,\"#46039f\"],[0.2222222222222222,\"#7201a8\"],[0.3333333333333333,\"#9c179e\"],[0.4444444444444444,\"#bd3786\"],[0.5555555555555556,\"#d8576b\"],[0.6666666666666666,\"#ed7953\"],[0.7777777777777778,\"#fb9f3a\"],[0.8888888888888888,\"#fdca26\"],[1.0,\"#f0f921\"]],\"type\":\"surface\"}],\"table\":[{\"cells\":{\"fill\":{\"color\":\"#EBF0F8\"},\"line\":{\"color\":\"white\"}},\"header\":{\"fill\":{\"color\":\"#C8D4E3\"},\"line\":{\"color\":\"white\"}},\"type\":\"table\"}]},\"layout\":{\"annotationdefaults\":{\"arrowcolor\":\"#2a3f5f\",\"arrowhead\":0,\"arrowwidth\":1},\"autotypenumbers\":\"strict\",\"coloraxis\":{\"colorbar\":{\"outlinewidth\":0,\"ticks\":\"\"}},\"colorscale\":{\"diverging\":[[0,\"#8e0152\"],[0.1,\"#c51b7d\"],[0.2,\"#de77ae\"],[0.3,\"#f1b6da\"],[0.4,\"#fde0ef\"],[0.5,\"#f7f7f7\"],[0.6,\"#e6f5d0\"],[0.7,\"#b8e186\"],[0.8,\"#7fbc41\"],[0.9,\"#4d9221\"],[1,\"#276419\"]],\"sequential\":[[0.0,\"#0d0887\"],[0.1111111111111111,\"#46039f\"],[0.2222222222222222,\"#7201a8\"],[0.3333333333333333,\"#9c179e\"],[0.4444444444444444,\"#bd3786\"],[0.5555555555555556,\"#d8576b\"],[0.6666666666666666,\"#ed7953\"],[0.7777777777777778,\"#fb9f3a\"],[0.8888888888888888,\"#fdca26\"],[1.0,\"#f0f921\"]],\"sequentialminus\":[[0.0,\"#0d0887\"],[0.1111111111111111,\"#46039f\"],[0.2222222222222222,\"#7201a8\"],[0.3333333333333333,\"#9c179e\"],[0.4444444444444444,\"#bd3786\"],[0.5555555555555556,\"#d8576b\"],[0.6666666666666666,\"#ed7953\"],[0.7777777777777778,\"#fb9f3a\"],[0.8888888888888888,\"#fdca26\"],[1.0,\"#f0f921\"]]},\"colorway\":[\"#636efa\",\"#EF553B\",\"#00cc96\",\"#ab63fa\",\"#FFA15A\",\"#19d3f3\",\"#FF6692\",\"#B6E880\",\"#FF97FF\",\"#FECB52\"],\"font\":{\"color\":\"#2a3f5f\"},\"geo\":{\"bgcolor\":\"white\",\"lakecolor\":\"white\",\"landcolor\":\"#E5ECF6\",\"showlakes\":true,\"showland\":true,\"subunitcolor\":\"white\"},\"hoverlabel\":{\"align\":\"left\"},\"hovermode\":\"closest\",\"mapbox\":{\"style\":\"light\"},\"paper_bgcolor\":\"white\",\"plot_bgcolor\":\"#E5ECF6\",\"polar\":{\"angularaxis\":{\"gridcolor\":\"white\",\"linecolor\":\"white\",\"ticks\":\"\"},\"bgcolor\":\"#E5ECF6\",\"radialaxis\":{\"gridcolor\":\"white\",\"linecolor\":\"white\",\"ticks\":\"\"}},\"scene\":{\"xaxis\":{\"backgroundcolor\":\"#E5ECF6\",\"gridcolor\":\"white\",\"gridwidth\":2,\"linecolor\":\"white\",\"showbackground\":true,\"ticks\":\"\",\"zerolinecolor\":\"white\"},\"yaxis\":{\"backgroundcolor\":\"#E5ECF6\",\"gridcolor\":\"white\",\"gridwidth\":2,\"linecolor\":\"white\",\"showbackground\":true,\"ticks\":\"\",\"zerolinecolor\":\"white\"},\"zaxis\":{\"backgroundcolor\":\"#E5ECF6\",\"gridcolor\":\"white\",\"gridwidth\":2,\"linecolor\":\"white\",\"showbackground\":true,\"ticks\":\"\",\"zerolinecolor\":\"white\"}},\"shapedefaults\":{\"line\":{\"color\":\"#2a3f5f\"}},\"ternary\":{\"aaxis\":{\"gridcolor\":\"white\",\"linecolor\":\"white\",\"ticks\":\"\"},\"baxis\":{\"gridcolor\":\"white\",\"linecolor\":\"white\",\"ticks\":\"\"},\"bgcolor\":\"#E5ECF6\",\"caxis\":{\"gridcolor\":\"white\",\"linecolor\":\"white\",\"ticks\":\"\"}},\"title\":{\"x\":0.05},\"xaxis\":{\"automargin\":true,\"gridcolor\":\"white\",\"linecolor\":\"white\",\"ticks\":\"\",\"title\":{\"standoff\":15},\"zerolinecolor\":\"white\",\"zerolinewidth\":2},\"yaxis\":{\"automargin\":true,\"gridcolor\":\"white\",\"linecolor\":\"white\",\"ticks\":\"\",\"title\":{\"standoff\":15},\"zerolinecolor\":\"white\",\"zerolinewidth\":2}}},\"xaxis\":{\"anchor\":\"y\",\"domain\":[0.0,1.0],\"title\":{\"text\":\"Importance\"}},\"yaxis\":{\"anchor\":\"x\",\"domain\":[0.0,1.0],\"title\":{\"text\":\"Features\"},\"categoryorder\":\"array\",\"categoryarray\":[\"Conditions_Rain\",\"Hour_12\",\"Conditions_Snow\",\"Hour_11\",\"Hour_8\",\"Hour_7\",\"Hour_10\",\"Conditions_Snow, Partially cloudy\",\"Hour_9\",\"Hour_6\",\"Hour_5\",\"Hour_20\",\"Hour_13\",\"Conditions_Snow, Overcast\",\"Hour_3\",\"Hour_19\",\"Hour_18\",\"Hour_22\",\"Hour_4\",\"Hour_1\",\"Hour_17\",\"Hour_2\",\"Hour_23\",\"Hour_16\",\"MONTH_Feb\",\"MONTH_Jul\",\"MONTH_Oct\",\"Hour_21\",\"Conditions_Clear\",\"Conditions_Overcast\",\"MONTH_Mar\",\"MONTH_Jun\",\"Hour_0\",\"MONTH_Jan\",\"Hour_14\",\"MONTH_Apr\",\"MONTH_Dec\",\"Hour_15\",\"Conditions_Rain, Overcast\",\"Conditions_Rain, Partially cloudy\",\"WEEKDAY_Sun\",\"MONTH_Nov\",\"MONTH_Sep\",\"MONTH_Aug\",\"Precipitation\",\"MONTH_May\",\"WEEKDAY_Mon\",\"Visibility\",\"WEEKDAY_Sat\",\"Wind Speed\",\"WEEKDAY_Tue\",\"WEEKDAY_Wed\",\"Conditions_Partially cloudy\",\"Temperature\",\"WEEKDAY_Thu\",\"Cloud Cover\",\"WEEKDAY_Fri\"]},\"legend\":{\"title\":{\"text\":\"Features\"},\"tracegroupgap\":0},\"title\":{\"text\":\"Feature Importance\"},\"barmode\":\"relative\"},                        {\"responsive\": true}                    ).then(function(){\n",
              "                            \n",
              "var gd = document.getElementById('1a81b332-7c07-4352-b71b-5e586fa7d1b0');\n",
              "var x = new MutationObserver(function (mutations, observer) {{\n",
              "        var display = window.getComputedStyle(gd).display;\n",
              "        if (!display || display === 'none') {{\n",
              "            console.log([gd, 'removed!']);\n",
              "            Plotly.purge(gd);\n",
              "            observer.disconnect();\n",
              "        }}\n",
              "}});\n",
              "\n",
              "// Listen for the removal of the full notebook cells\n",
              "var notebookContainer = gd.closest('#notebook-container');\n",
              "if (notebookContainer) {{\n",
              "    x.observe(notebookContainer, {childList: true});\n",
              "}}\n",
              "\n",
              "// Listen for the clearing of the current output cell\n",
              "var outputEl = gd.closest('.output');\n",
              "if (outputEl) {{\n",
              "    x.observe(outputEl, {childList: true});\n",
              "}}\n",
              "\n",
              "                        })                };                            </script>        </div>\n",
              "</body>\n",
              "</html>"
            ]
          },
          "metadata": {}
        }
      ]
    },
    {
      "cell_type": "markdown",
      "source": [
        "#### XGBoost "
      ],
      "metadata": {
        "id": "5oIV1xUElxqj"
      }
    },
    {
      "cell_type": "code",
      "source": [
        "importances_xgb = xgb2.feature_importances_"
      ],
      "metadata": {
        "id": "Ne_ntsKalmz0"
      },
      "execution_count": 51,
      "outputs": []
    },
    {
      "cell_type": "code",
      "source": [
        "imp2 = pd.DataFrame(importances_xgb)\n",
        "imp2['Features'] = df_features.columns\n",
        "imp2.rename(columns={0:'Importance'}, inplace=True)\n",
        "imp2 = imp2.sort_values(by='Importance', ascending=False)\n",
        "imp2 = imp2[['Features', 'Importance']]\n",
        "imp2"
      ],
      "metadata": {
        "colab": {
          "base_uri": "https://localhost:8080/",
          "height": 1000
        },
        "id": "08wByEfql-nf",
        "outputId": "eb422ff2-5aae-4ffe-dffd-21ad4ce39586"
      },
      "execution_count": 52,
      "outputs": [
        {
          "output_type": "execute_result",
          "data": {
            "text/plain": [
              "                             Features  Importance\n",
              "32                        WEEKDAY_Wed    0.061686\n",
              "31                        WEEKDAY_Tue    0.059826\n",
              "27                        WEEKDAY_Mon    0.049440\n",
              "28                        WEEKDAY_Sat    0.048315\n",
              "26                        WEEKDAY_Fri    0.048211\n",
              "30                        WEEKDAY_Thu    0.041816\n",
              "5                    Conditions_Clear    0.040978\n",
              "29                        WEEKDAY_Sun    0.039238\n",
              "15                          MONTH_Aug    0.028770\n",
              "25                          MONTH_Sep    0.025870\n",
              "47                            Hour_14    0.023799\n",
              "7         Conditions_Partially cloudy    0.023181\n",
              "22                          MONTH_May    0.020297\n",
              "20                          MONTH_Jun    0.019879\n",
              "48                            Hour_15    0.019606\n",
              "34                             Hour_1    0.017777\n",
              "46                            Hour_13    0.017290\n",
              "49                            Hour_16    0.016698\n",
              "33                             Hour_0    0.015657\n",
              "9           Conditions_Rain, Overcast    0.015517\n",
              "54                            Hour_21    0.015325\n",
              "55                            Hour_22    0.015318\n",
              "10  Conditions_Rain, Partially cloudy    0.014707\n",
              "53                            Hour_20    0.014686\n",
              "52                            Hour_19    0.014445\n",
              "6                 Conditions_Overcast    0.014273\n",
              "56                            Hour_23    0.013684\n",
              "37                             Hour_4    0.013610\n",
              "39                             Hour_6    0.013299\n",
              "36                             Hour_3    0.013182\n",
              "45                            Hour_12    0.012983\n",
              "19                          MONTH_Jul    0.012739\n",
              "50                            Hour_17    0.012352\n",
              "23                          MONTH_Nov    0.012232\n",
              "14                          MONTH_Apr    0.012204\n",
              "51                            Hour_18    0.010564\n",
              "43                            Hour_10    0.010377\n",
              "42                             Hour_9    0.010162\n",
              "38                             Hour_5    0.009943\n",
              "24                          MONTH_Oct    0.009830\n",
              "41                             Hour_8    0.009786\n",
              "44                            Hour_11    0.009625\n",
              "40                             Hour_7    0.009554\n",
              "18                          MONTH_Jan    0.009485\n",
              "1                          Visibility    0.009168\n",
              "35                             Hour_2    0.008940\n",
              "2                         Cloud Cover    0.007436\n",
              "0                         Temperature    0.007178\n",
              "11                    Conditions_Snow    0.007005\n",
              "4                       Precipitation    0.006579\n",
              "3                          Wind Speed    0.006298\n",
              "21                          MONTH_Mar    0.005940\n",
              "16                          MONTH_Dec    0.005590\n",
              "17                          MONTH_Feb    0.005089\n",
              "13  Conditions_Snow, Partially cloudy    0.001517\n",
              "12          Conditions_Snow, Overcast    0.001046\n",
              "8                     Conditions_Rain    0.000000"
            ],
            "text/html": [
              "\n",
              "  <div id=\"df-1adc4e1c-2101-4d7c-acf2-fd3d6d1fc45a\">\n",
              "    <div class=\"colab-df-container\">\n",
              "      <div>\n",
              "<style scoped>\n",
              "    .dataframe tbody tr th:only-of-type {\n",
              "        vertical-align: middle;\n",
              "    }\n",
              "\n",
              "    .dataframe tbody tr th {\n",
              "        vertical-align: top;\n",
              "    }\n",
              "\n",
              "    .dataframe thead th {\n",
              "        text-align: right;\n",
              "    }\n",
              "</style>\n",
              "<table border=\"1\" class=\"dataframe\">\n",
              "  <thead>\n",
              "    <tr style=\"text-align: right;\">\n",
              "      <th></th>\n",
              "      <th>Features</th>\n",
              "      <th>Importance</th>\n",
              "    </tr>\n",
              "  </thead>\n",
              "  <tbody>\n",
              "    <tr>\n",
              "      <th>32</th>\n",
              "      <td>WEEKDAY_Wed</td>\n",
              "      <td>0.061686</td>\n",
              "    </tr>\n",
              "    <tr>\n",
              "      <th>31</th>\n",
              "      <td>WEEKDAY_Tue</td>\n",
              "      <td>0.059826</td>\n",
              "    </tr>\n",
              "    <tr>\n",
              "      <th>27</th>\n",
              "      <td>WEEKDAY_Mon</td>\n",
              "      <td>0.049440</td>\n",
              "    </tr>\n",
              "    <tr>\n",
              "      <th>28</th>\n",
              "      <td>WEEKDAY_Sat</td>\n",
              "      <td>0.048315</td>\n",
              "    </tr>\n",
              "    <tr>\n",
              "      <th>26</th>\n",
              "      <td>WEEKDAY_Fri</td>\n",
              "      <td>0.048211</td>\n",
              "    </tr>\n",
              "    <tr>\n",
              "      <th>30</th>\n",
              "      <td>WEEKDAY_Thu</td>\n",
              "      <td>0.041816</td>\n",
              "    </tr>\n",
              "    <tr>\n",
              "      <th>5</th>\n",
              "      <td>Conditions_Clear</td>\n",
              "      <td>0.040978</td>\n",
              "    </tr>\n",
              "    <tr>\n",
              "      <th>29</th>\n",
              "      <td>WEEKDAY_Sun</td>\n",
              "      <td>0.039238</td>\n",
              "    </tr>\n",
              "    <tr>\n",
              "      <th>15</th>\n",
              "      <td>MONTH_Aug</td>\n",
              "      <td>0.028770</td>\n",
              "    </tr>\n",
              "    <tr>\n",
              "      <th>25</th>\n",
              "      <td>MONTH_Sep</td>\n",
              "      <td>0.025870</td>\n",
              "    </tr>\n",
              "    <tr>\n",
              "      <th>47</th>\n",
              "      <td>Hour_14</td>\n",
              "      <td>0.023799</td>\n",
              "    </tr>\n",
              "    <tr>\n",
              "      <th>7</th>\n",
              "      <td>Conditions_Partially cloudy</td>\n",
              "      <td>0.023181</td>\n",
              "    </tr>\n",
              "    <tr>\n",
              "      <th>22</th>\n",
              "      <td>MONTH_May</td>\n",
              "      <td>0.020297</td>\n",
              "    </tr>\n",
              "    <tr>\n",
              "      <th>20</th>\n",
              "      <td>MONTH_Jun</td>\n",
              "      <td>0.019879</td>\n",
              "    </tr>\n",
              "    <tr>\n",
              "      <th>48</th>\n",
              "      <td>Hour_15</td>\n",
              "      <td>0.019606</td>\n",
              "    </tr>\n",
              "    <tr>\n",
              "      <th>34</th>\n",
              "      <td>Hour_1</td>\n",
              "      <td>0.017777</td>\n",
              "    </tr>\n",
              "    <tr>\n",
              "      <th>46</th>\n",
              "      <td>Hour_13</td>\n",
              "      <td>0.017290</td>\n",
              "    </tr>\n",
              "    <tr>\n",
              "      <th>49</th>\n",
              "      <td>Hour_16</td>\n",
              "      <td>0.016698</td>\n",
              "    </tr>\n",
              "    <tr>\n",
              "      <th>33</th>\n",
              "      <td>Hour_0</td>\n",
              "      <td>0.015657</td>\n",
              "    </tr>\n",
              "    <tr>\n",
              "      <th>9</th>\n",
              "      <td>Conditions_Rain, Overcast</td>\n",
              "      <td>0.015517</td>\n",
              "    </tr>\n",
              "    <tr>\n",
              "      <th>54</th>\n",
              "      <td>Hour_21</td>\n",
              "      <td>0.015325</td>\n",
              "    </tr>\n",
              "    <tr>\n",
              "      <th>55</th>\n",
              "      <td>Hour_22</td>\n",
              "      <td>0.015318</td>\n",
              "    </tr>\n",
              "    <tr>\n",
              "      <th>10</th>\n",
              "      <td>Conditions_Rain, Partially cloudy</td>\n",
              "      <td>0.014707</td>\n",
              "    </tr>\n",
              "    <tr>\n",
              "      <th>53</th>\n",
              "      <td>Hour_20</td>\n",
              "      <td>0.014686</td>\n",
              "    </tr>\n",
              "    <tr>\n",
              "      <th>52</th>\n",
              "      <td>Hour_19</td>\n",
              "      <td>0.014445</td>\n",
              "    </tr>\n",
              "    <tr>\n",
              "      <th>6</th>\n",
              "      <td>Conditions_Overcast</td>\n",
              "      <td>0.014273</td>\n",
              "    </tr>\n",
              "    <tr>\n",
              "      <th>56</th>\n",
              "      <td>Hour_23</td>\n",
              "      <td>0.013684</td>\n",
              "    </tr>\n",
              "    <tr>\n",
              "      <th>37</th>\n",
              "      <td>Hour_4</td>\n",
              "      <td>0.013610</td>\n",
              "    </tr>\n",
              "    <tr>\n",
              "      <th>39</th>\n",
              "      <td>Hour_6</td>\n",
              "      <td>0.013299</td>\n",
              "    </tr>\n",
              "    <tr>\n",
              "      <th>36</th>\n",
              "      <td>Hour_3</td>\n",
              "      <td>0.013182</td>\n",
              "    </tr>\n",
              "    <tr>\n",
              "      <th>45</th>\n",
              "      <td>Hour_12</td>\n",
              "      <td>0.012983</td>\n",
              "    </tr>\n",
              "    <tr>\n",
              "      <th>19</th>\n",
              "      <td>MONTH_Jul</td>\n",
              "      <td>0.012739</td>\n",
              "    </tr>\n",
              "    <tr>\n",
              "      <th>50</th>\n",
              "      <td>Hour_17</td>\n",
              "      <td>0.012352</td>\n",
              "    </tr>\n",
              "    <tr>\n",
              "      <th>23</th>\n",
              "      <td>MONTH_Nov</td>\n",
              "      <td>0.012232</td>\n",
              "    </tr>\n",
              "    <tr>\n",
              "      <th>14</th>\n",
              "      <td>MONTH_Apr</td>\n",
              "      <td>0.012204</td>\n",
              "    </tr>\n",
              "    <tr>\n",
              "      <th>51</th>\n",
              "      <td>Hour_18</td>\n",
              "      <td>0.010564</td>\n",
              "    </tr>\n",
              "    <tr>\n",
              "      <th>43</th>\n",
              "      <td>Hour_10</td>\n",
              "      <td>0.010377</td>\n",
              "    </tr>\n",
              "    <tr>\n",
              "      <th>42</th>\n",
              "      <td>Hour_9</td>\n",
              "      <td>0.010162</td>\n",
              "    </tr>\n",
              "    <tr>\n",
              "      <th>38</th>\n",
              "      <td>Hour_5</td>\n",
              "      <td>0.009943</td>\n",
              "    </tr>\n",
              "    <tr>\n",
              "      <th>24</th>\n",
              "      <td>MONTH_Oct</td>\n",
              "      <td>0.009830</td>\n",
              "    </tr>\n",
              "    <tr>\n",
              "      <th>41</th>\n",
              "      <td>Hour_8</td>\n",
              "      <td>0.009786</td>\n",
              "    </tr>\n",
              "    <tr>\n",
              "      <th>44</th>\n",
              "      <td>Hour_11</td>\n",
              "      <td>0.009625</td>\n",
              "    </tr>\n",
              "    <tr>\n",
              "      <th>40</th>\n",
              "      <td>Hour_7</td>\n",
              "      <td>0.009554</td>\n",
              "    </tr>\n",
              "    <tr>\n",
              "      <th>18</th>\n",
              "      <td>MONTH_Jan</td>\n",
              "      <td>0.009485</td>\n",
              "    </tr>\n",
              "    <tr>\n",
              "      <th>1</th>\n",
              "      <td>Visibility</td>\n",
              "      <td>0.009168</td>\n",
              "    </tr>\n",
              "    <tr>\n",
              "      <th>35</th>\n",
              "      <td>Hour_2</td>\n",
              "      <td>0.008940</td>\n",
              "    </tr>\n",
              "    <tr>\n",
              "      <th>2</th>\n",
              "      <td>Cloud Cover</td>\n",
              "      <td>0.007436</td>\n",
              "    </tr>\n",
              "    <tr>\n",
              "      <th>0</th>\n",
              "      <td>Temperature</td>\n",
              "      <td>0.007178</td>\n",
              "    </tr>\n",
              "    <tr>\n",
              "      <th>11</th>\n",
              "      <td>Conditions_Snow</td>\n",
              "      <td>0.007005</td>\n",
              "    </tr>\n",
              "    <tr>\n",
              "      <th>4</th>\n",
              "      <td>Precipitation</td>\n",
              "      <td>0.006579</td>\n",
              "    </tr>\n",
              "    <tr>\n",
              "      <th>3</th>\n",
              "      <td>Wind Speed</td>\n",
              "      <td>0.006298</td>\n",
              "    </tr>\n",
              "    <tr>\n",
              "      <th>21</th>\n",
              "      <td>MONTH_Mar</td>\n",
              "      <td>0.005940</td>\n",
              "    </tr>\n",
              "    <tr>\n",
              "      <th>16</th>\n",
              "      <td>MONTH_Dec</td>\n",
              "      <td>0.005590</td>\n",
              "    </tr>\n",
              "    <tr>\n",
              "      <th>17</th>\n",
              "      <td>MONTH_Feb</td>\n",
              "      <td>0.005089</td>\n",
              "    </tr>\n",
              "    <tr>\n",
              "      <th>13</th>\n",
              "      <td>Conditions_Snow, Partially cloudy</td>\n",
              "      <td>0.001517</td>\n",
              "    </tr>\n",
              "    <tr>\n",
              "      <th>12</th>\n",
              "      <td>Conditions_Snow, Overcast</td>\n",
              "      <td>0.001046</td>\n",
              "    </tr>\n",
              "    <tr>\n",
              "      <th>8</th>\n",
              "      <td>Conditions_Rain</td>\n",
              "      <td>0.000000</td>\n",
              "    </tr>\n",
              "  </tbody>\n",
              "</table>\n",
              "</div>\n",
              "      <button class=\"colab-df-convert\" onclick=\"convertToInteractive('df-1adc4e1c-2101-4d7c-acf2-fd3d6d1fc45a')\"\n",
              "              title=\"Convert this dataframe to an interactive table.\"\n",
              "              style=\"display:none;\">\n",
              "        \n",
              "  <svg xmlns=\"http://www.w3.org/2000/svg\" height=\"24px\"viewBox=\"0 0 24 24\"\n",
              "       width=\"24px\">\n",
              "    <path d=\"M0 0h24v24H0V0z\" fill=\"none\"/>\n",
              "    <path d=\"M18.56 5.44l.94 2.06.94-2.06 2.06-.94-2.06-.94-.94-2.06-.94 2.06-2.06.94zm-11 1L8.5 8.5l.94-2.06 2.06-.94-2.06-.94L8.5 2.5l-.94 2.06-2.06.94zm10 10l.94 2.06.94-2.06 2.06-.94-2.06-.94-.94-2.06-.94 2.06-2.06.94z\"/><path d=\"M17.41 7.96l-1.37-1.37c-.4-.4-.92-.59-1.43-.59-.52 0-1.04.2-1.43.59L10.3 9.45l-7.72 7.72c-.78.78-.78 2.05 0 2.83L4 21.41c.39.39.9.59 1.41.59.51 0 1.02-.2 1.41-.59l7.78-7.78 2.81-2.81c.8-.78.8-2.07 0-2.86zM5.41 20L4 18.59l7.72-7.72 1.47 1.35L5.41 20z\"/>\n",
              "  </svg>\n",
              "      </button>\n",
              "      \n",
              "  <style>\n",
              "    .colab-df-container {\n",
              "      display:flex;\n",
              "      flex-wrap:wrap;\n",
              "      gap: 12px;\n",
              "    }\n",
              "\n",
              "    .colab-df-convert {\n",
              "      background-color: #E8F0FE;\n",
              "      border: none;\n",
              "      border-radius: 50%;\n",
              "      cursor: pointer;\n",
              "      display: none;\n",
              "      fill: #1967D2;\n",
              "      height: 32px;\n",
              "      padding: 0 0 0 0;\n",
              "      width: 32px;\n",
              "    }\n",
              "\n",
              "    .colab-df-convert:hover {\n",
              "      background-color: #E2EBFA;\n",
              "      box-shadow: 0px 1px 2px rgba(60, 64, 67, 0.3), 0px 1px 3px 1px rgba(60, 64, 67, 0.15);\n",
              "      fill: #174EA6;\n",
              "    }\n",
              "\n",
              "    [theme=dark] .colab-df-convert {\n",
              "      background-color: #3B4455;\n",
              "      fill: #D2E3FC;\n",
              "    }\n",
              "\n",
              "    [theme=dark] .colab-df-convert:hover {\n",
              "      background-color: #434B5C;\n",
              "      box-shadow: 0px 1px 3px 1px rgba(0, 0, 0, 0.15);\n",
              "      filter: drop-shadow(0px 1px 2px rgba(0, 0, 0, 0.3));\n",
              "      fill: #FFFFFF;\n",
              "    }\n",
              "  </style>\n",
              "\n",
              "      <script>\n",
              "        const buttonEl =\n",
              "          document.querySelector('#df-1adc4e1c-2101-4d7c-acf2-fd3d6d1fc45a button.colab-df-convert');\n",
              "        buttonEl.style.display =\n",
              "          google.colab.kernel.accessAllowed ? 'block' : 'none';\n",
              "\n",
              "        async function convertToInteractive(key) {\n",
              "          const element = document.querySelector('#df-1adc4e1c-2101-4d7c-acf2-fd3d6d1fc45a');\n",
              "          const dataTable =\n",
              "            await google.colab.kernel.invokeFunction('convertToInteractive',\n",
              "                                                     [key], {});\n",
              "          if (!dataTable) return;\n",
              "\n",
              "          const docLinkHtml = 'Like what you see? Visit the ' +\n",
              "            '<a target=\"_blank\" href=https://colab.research.google.com/notebooks/data_table.ipynb>data table notebook</a>'\n",
              "            + ' to learn more about interactive tables.';\n",
              "          element.innerHTML = '';\n",
              "          dataTable['output_type'] = 'display_data';\n",
              "          await google.colab.output.renderOutput(dataTable, element);\n",
              "          const docLink = document.createElement('div');\n",
              "          docLink.innerHTML = docLinkHtml;\n",
              "          element.appendChild(docLink);\n",
              "        }\n",
              "      </script>\n",
              "    </div>\n",
              "  </div>\n",
              "  "
            ]
          },
          "metadata": {},
          "execution_count": 52
        }
      ]
    },
    {
      "cell_type": "code",
      "source": [
        "fig = px.bar(imp2, x='Importance', y='Features', title='Feature Importance', color ='Features', orientation='h')\n",
        "fig.show()"
      ],
      "metadata": {
        "colab": {
          "base_uri": "https://localhost:8080/",
          "height": 542
        },
        "id": "bKnkr-_amHZj",
        "outputId": "7b811bdf-db7a-45e5-acd7-a609c79d14c8"
      },
      "execution_count": 53,
      "outputs": [
        {
          "output_type": "display_data",
          "data": {
            "text/html": [
              "<html>\n",
              "<head><meta charset=\"utf-8\" /></head>\n",
              "<body>\n",
              "    <div>            <script src=\"https://cdnjs.cloudflare.com/ajax/libs/mathjax/2.7.5/MathJax.js?config=TeX-AMS-MML_SVG\"></script><script type=\"text/javascript\">if (window.MathJax) {MathJax.Hub.Config({SVG: {font: \"STIX-Web\"}});}</script>                <script type=\"text/javascript\">window.PlotlyConfig = {MathJaxConfig: 'local'};</script>\n",
              "        <script src=\"https://cdn.plot.ly/plotly-2.8.3.min.js\"></script>                <div id=\"4fd08b85-3460-4178-b33c-d7eb9af70fdc\" class=\"plotly-graph-div\" style=\"height:525px; width:100%;\"></div>            <script type=\"text/javascript\">                                    window.PLOTLYENV=window.PLOTLYENV || {};                                    if (document.getElementById(\"4fd08b85-3460-4178-b33c-d7eb9af70fdc\")) {                    Plotly.newPlot(                        \"4fd08b85-3460-4178-b33c-d7eb9af70fdc\",                        [{\"alignmentgroup\":\"True\",\"hovertemplate\":\"Features=%{y}<br>Importance=%{x}<extra></extra>\",\"legendgroup\":\"WEEKDAY_Wed\",\"marker\":{\"color\":\"#636efa\",\"pattern\":{\"shape\":\"\"}},\"name\":\"WEEKDAY_Wed\",\"offsetgroup\":\"WEEKDAY_Wed\",\"orientation\":\"h\",\"showlegend\":true,\"textposition\":\"auto\",\"x\":[0.061686061322689056],\"xaxis\":\"x\",\"y\":[\"WEEKDAY_Wed\"],\"yaxis\":\"y\",\"type\":\"bar\"},{\"alignmentgroup\":\"True\",\"hovertemplate\":\"Features=%{y}<br>Importance=%{x}<extra></extra>\",\"legendgroup\":\"WEEKDAY_Tue\",\"marker\":{\"color\":\"#EF553B\",\"pattern\":{\"shape\":\"\"}},\"name\":\"WEEKDAY_Tue\",\"offsetgroup\":\"WEEKDAY_Tue\",\"orientation\":\"h\",\"showlegend\":true,\"textposition\":\"auto\",\"x\":[0.05982622131705284],\"xaxis\":\"x\",\"y\":[\"WEEKDAY_Tue\"],\"yaxis\":\"y\",\"type\":\"bar\"},{\"alignmentgroup\":\"True\",\"hovertemplate\":\"Features=%{y}<br>Importance=%{x}<extra></extra>\",\"legendgroup\":\"WEEKDAY_Mon\",\"marker\":{\"color\":\"#00cc96\",\"pattern\":{\"shape\":\"\"}},\"name\":\"WEEKDAY_Mon\",\"offsetgroup\":\"WEEKDAY_Mon\",\"orientation\":\"h\",\"showlegend\":true,\"textposition\":\"auto\",\"x\":[0.049440231174230576],\"xaxis\":\"x\",\"y\":[\"WEEKDAY_Mon\"],\"yaxis\":\"y\",\"type\":\"bar\"},{\"alignmentgroup\":\"True\",\"hovertemplate\":\"Features=%{y}<br>Importance=%{x}<extra></extra>\",\"legendgroup\":\"WEEKDAY_Sat\",\"marker\":{\"color\":\"#ab63fa\",\"pattern\":{\"shape\":\"\"}},\"name\":\"WEEKDAY_Sat\",\"offsetgroup\":\"WEEKDAY_Sat\",\"orientation\":\"h\",\"showlegend\":true,\"textposition\":\"auto\",\"x\":[0.04831526800990105],\"xaxis\":\"x\",\"y\":[\"WEEKDAY_Sat\"],\"yaxis\":\"y\",\"type\":\"bar\"},{\"alignmentgroup\":\"True\",\"hovertemplate\":\"Features=%{y}<br>Importance=%{x}<extra></extra>\",\"legendgroup\":\"WEEKDAY_Fri\",\"marker\":{\"color\":\"#FFA15A\",\"pattern\":{\"shape\":\"\"}},\"name\":\"WEEKDAY_Fri\",\"offsetgroup\":\"WEEKDAY_Fri\",\"orientation\":\"h\",\"showlegend\":true,\"textposition\":\"auto\",\"x\":[0.04821118712425232],\"xaxis\":\"x\",\"y\":[\"WEEKDAY_Fri\"],\"yaxis\":\"y\",\"type\":\"bar\"},{\"alignmentgroup\":\"True\",\"hovertemplate\":\"Features=%{y}<br>Importance=%{x}<extra></extra>\",\"legendgroup\":\"WEEKDAY_Thu\",\"marker\":{\"color\":\"#19d3f3\",\"pattern\":{\"shape\":\"\"}},\"name\":\"WEEKDAY_Thu\",\"offsetgroup\":\"WEEKDAY_Thu\",\"orientation\":\"h\",\"showlegend\":true,\"textposition\":\"auto\",\"x\":[0.04181568697094917],\"xaxis\":\"x\",\"y\":[\"WEEKDAY_Thu\"],\"yaxis\":\"y\",\"type\":\"bar\"},{\"alignmentgroup\":\"True\",\"hovertemplate\":\"Features=%{y}<br>Importance=%{x}<extra></extra>\",\"legendgroup\":\"Conditions_Clear\",\"marker\":{\"color\":\"#FF6692\",\"pattern\":{\"shape\":\"\"}},\"name\":\"Conditions_Clear\",\"offsetgroup\":\"Conditions_Clear\",\"orientation\":\"h\",\"showlegend\":true,\"textposition\":\"auto\",\"x\":[0.040977902710437775],\"xaxis\":\"x\",\"y\":[\"Conditions_Clear\"],\"yaxis\":\"y\",\"type\":\"bar\"},{\"alignmentgroup\":\"True\",\"hovertemplate\":\"Features=%{y}<br>Importance=%{x}<extra></extra>\",\"legendgroup\":\"WEEKDAY_Sun\",\"marker\":{\"color\":\"#B6E880\",\"pattern\":{\"shape\":\"\"}},\"name\":\"WEEKDAY_Sun\",\"offsetgroup\":\"WEEKDAY_Sun\",\"orientation\":\"h\",\"showlegend\":true,\"textposition\":\"auto\",\"x\":[0.03923792019486427],\"xaxis\":\"x\",\"y\":[\"WEEKDAY_Sun\"],\"yaxis\":\"y\",\"type\":\"bar\"},{\"alignmentgroup\":\"True\",\"hovertemplate\":\"Features=%{y}<br>Importance=%{x}<extra></extra>\",\"legendgroup\":\"MONTH_Aug\",\"marker\":{\"color\":\"#FF97FF\",\"pattern\":{\"shape\":\"\"}},\"name\":\"MONTH_Aug\",\"offsetgroup\":\"MONTH_Aug\",\"orientation\":\"h\",\"showlegend\":true,\"textposition\":\"auto\",\"x\":[0.028769921511411667],\"xaxis\":\"x\",\"y\":[\"MONTH_Aug\"],\"yaxis\":\"y\",\"type\":\"bar\"},{\"alignmentgroup\":\"True\",\"hovertemplate\":\"Features=%{y}<br>Importance=%{x}<extra></extra>\",\"legendgroup\":\"MONTH_Sep\",\"marker\":{\"color\":\"#FECB52\",\"pattern\":{\"shape\":\"\"}},\"name\":\"MONTH_Sep\",\"offsetgroup\":\"MONTH_Sep\",\"orientation\":\"h\",\"showlegend\":true,\"textposition\":\"auto\",\"x\":[0.02587006613612175],\"xaxis\":\"x\",\"y\":[\"MONTH_Sep\"],\"yaxis\":\"y\",\"type\":\"bar\"},{\"alignmentgroup\":\"True\",\"hovertemplate\":\"Features=%{y}<br>Importance=%{x}<extra></extra>\",\"legendgroup\":\"Hour_14\",\"marker\":{\"color\":\"#636efa\",\"pattern\":{\"shape\":\"\"}},\"name\":\"Hour_14\",\"offsetgroup\":\"Hour_14\",\"orientation\":\"h\",\"showlegend\":true,\"textposition\":\"auto\",\"x\":[0.02379891462624073],\"xaxis\":\"x\",\"y\":[\"Hour_14\"],\"yaxis\":\"y\",\"type\":\"bar\"},{\"alignmentgroup\":\"True\",\"hovertemplate\":\"Features=%{y}<br>Importance=%{x}<extra></extra>\",\"legendgroup\":\"Conditions_Partially cloudy\",\"marker\":{\"color\":\"#EF553B\",\"pattern\":{\"shape\":\"\"}},\"name\":\"Conditions_Partially cloudy\",\"offsetgroup\":\"Conditions_Partially cloudy\",\"orientation\":\"h\",\"showlegend\":true,\"textposition\":\"auto\",\"x\":[0.023180996999144554],\"xaxis\":\"x\",\"y\":[\"Conditions_Partially cloudy\"],\"yaxis\":\"y\",\"type\":\"bar\"},{\"alignmentgroup\":\"True\",\"hovertemplate\":\"Features=%{y}<br>Importance=%{x}<extra></extra>\",\"legendgroup\":\"MONTH_May\",\"marker\":{\"color\":\"#00cc96\",\"pattern\":{\"shape\":\"\"}},\"name\":\"MONTH_May\",\"offsetgroup\":\"MONTH_May\",\"orientation\":\"h\",\"showlegend\":true,\"textposition\":\"auto\",\"x\":[0.020297477021813393],\"xaxis\":\"x\",\"y\":[\"MONTH_May\"],\"yaxis\":\"y\",\"type\":\"bar\"},{\"alignmentgroup\":\"True\",\"hovertemplate\":\"Features=%{y}<br>Importance=%{x}<extra></extra>\",\"legendgroup\":\"MONTH_Jun\",\"marker\":{\"color\":\"#ab63fa\",\"pattern\":{\"shape\":\"\"}},\"name\":\"MONTH_Jun\",\"offsetgroup\":\"MONTH_Jun\",\"orientation\":\"h\",\"showlegend\":true,\"textposition\":\"auto\",\"x\":[0.019878579303622246],\"xaxis\":\"x\",\"y\":[\"MONTH_Jun\"],\"yaxis\":\"y\",\"type\":\"bar\"},{\"alignmentgroup\":\"True\",\"hovertemplate\":\"Features=%{y}<br>Importance=%{x}<extra></extra>\",\"legendgroup\":\"Hour_15\",\"marker\":{\"color\":\"#FFA15A\",\"pattern\":{\"shape\":\"\"}},\"name\":\"Hour_15\",\"offsetgroup\":\"Hour_15\",\"orientation\":\"h\",\"showlegend\":true,\"textposition\":\"auto\",\"x\":[0.019606148824095726],\"xaxis\":\"x\",\"y\":[\"Hour_15\"],\"yaxis\":\"y\",\"type\":\"bar\"},{\"alignmentgroup\":\"True\",\"hovertemplate\":\"Features=%{y}<br>Importance=%{x}<extra></extra>\",\"legendgroup\":\"Hour_1\",\"marker\":{\"color\":\"#19d3f3\",\"pattern\":{\"shape\":\"\"}},\"name\":\"Hour_1\",\"offsetgroup\":\"Hour_1\",\"orientation\":\"h\",\"showlegend\":true,\"textposition\":\"auto\",\"x\":[0.01777748391032219],\"xaxis\":\"x\",\"y\":[\"Hour_1\"],\"yaxis\":\"y\",\"type\":\"bar\"},{\"alignmentgroup\":\"True\",\"hovertemplate\":\"Features=%{y}<br>Importance=%{x}<extra></extra>\",\"legendgroup\":\"Hour_13\",\"marker\":{\"color\":\"#FF6692\",\"pattern\":{\"shape\":\"\"}},\"name\":\"Hour_13\",\"offsetgroup\":\"Hour_13\",\"orientation\":\"h\",\"showlegend\":true,\"textposition\":\"auto\",\"x\":[0.017290260642766953],\"xaxis\":\"x\",\"y\":[\"Hour_13\"],\"yaxis\":\"y\",\"type\":\"bar\"},{\"alignmentgroup\":\"True\",\"hovertemplate\":\"Features=%{y}<br>Importance=%{x}<extra></extra>\",\"legendgroup\":\"Hour_16\",\"marker\":{\"color\":\"#B6E880\",\"pattern\":{\"shape\":\"\"}},\"name\":\"Hour_16\",\"offsetgroup\":\"Hour_16\",\"orientation\":\"h\",\"showlegend\":true,\"textposition\":\"auto\",\"x\":[0.016697833314538002],\"xaxis\":\"x\",\"y\":[\"Hour_16\"],\"yaxis\":\"y\",\"type\":\"bar\"},{\"alignmentgroup\":\"True\",\"hovertemplate\":\"Features=%{y}<br>Importance=%{x}<extra></extra>\",\"legendgroup\":\"Hour_0\",\"marker\":{\"color\":\"#FF97FF\",\"pattern\":{\"shape\":\"\"}},\"name\":\"Hour_0\",\"offsetgroup\":\"Hour_0\",\"orientation\":\"h\",\"showlegend\":true,\"textposition\":\"auto\",\"x\":[0.01565687172114849],\"xaxis\":\"x\",\"y\":[\"Hour_0\"],\"yaxis\":\"y\",\"type\":\"bar\"},{\"alignmentgroup\":\"True\",\"hovertemplate\":\"Features=%{y}<br>Importance=%{x}<extra></extra>\",\"legendgroup\":\"Conditions_Rain, Overcast\",\"marker\":{\"color\":\"#FECB52\",\"pattern\":{\"shape\":\"\"}},\"name\":\"Conditions_Rain, Overcast\",\"offsetgroup\":\"Conditions_Rain, Overcast\",\"orientation\":\"h\",\"showlegend\":true,\"textposition\":\"auto\",\"x\":[0.015517049469053745],\"xaxis\":\"x\",\"y\":[\"Conditions_Rain, Overcast\"],\"yaxis\":\"y\",\"type\":\"bar\"},{\"alignmentgroup\":\"True\",\"hovertemplate\":\"Features=%{y}<br>Importance=%{x}<extra></extra>\",\"legendgroup\":\"Hour_21\",\"marker\":{\"color\":\"#636efa\",\"pattern\":{\"shape\":\"\"}},\"name\":\"Hour_21\",\"offsetgroup\":\"Hour_21\",\"orientation\":\"h\",\"showlegend\":true,\"textposition\":\"auto\",\"x\":[0.01532508060336113],\"xaxis\":\"x\",\"y\":[\"Hour_21\"],\"yaxis\":\"y\",\"type\":\"bar\"},{\"alignmentgroup\":\"True\",\"hovertemplate\":\"Features=%{y}<br>Importance=%{x}<extra></extra>\",\"legendgroup\":\"Hour_22\",\"marker\":{\"color\":\"#EF553B\",\"pattern\":{\"shape\":\"\"}},\"name\":\"Hour_22\",\"offsetgroup\":\"Hour_22\",\"orientation\":\"h\",\"showlegend\":true,\"textposition\":\"auto\",\"x\":[0.015317615121603012],\"xaxis\":\"x\",\"y\":[\"Hour_22\"],\"yaxis\":\"y\",\"type\":\"bar\"},{\"alignmentgroup\":\"True\",\"hovertemplate\":\"Features=%{y}<br>Importance=%{x}<extra></extra>\",\"legendgroup\":\"Conditions_Rain, Partially cloudy\",\"marker\":{\"color\":\"#00cc96\",\"pattern\":{\"shape\":\"\"}},\"name\":\"Conditions_Rain, Partially cloudy\",\"offsetgroup\":\"Conditions_Rain, Partially cloudy\",\"orientation\":\"h\",\"showlegend\":true,\"textposition\":\"auto\",\"x\":[0.014707054942846298],\"xaxis\":\"x\",\"y\":[\"Conditions_Rain, Partially cloudy\"],\"yaxis\":\"y\",\"type\":\"bar\"},{\"alignmentgroup\":\"True\",\"hovertemplate\":\"Features=%{y}<br>Importance=%{x}<extra></extra>\",\"legendgroup\":\"Hour_20\",\"marker\":{\"color\":\"#ab63fa\",\"pattern\":{\"shape\":\"\"}},\"name\":\"Hour_20\",\"offsetgroup\":\"Hour_20\",\"orientation\":\"h\",\"showlegend\":true,\"textposition\":\"auto\",\"x\":[0.014685558155179024],\"xaxis\":\"x\",\"y\":[\"Hour_20\"],\"yaxis\":\"y\",\"type\":\"bar\"},{\"alignmentgroup\":\"True\",\"hovertemplate\":\"Features=%{y}<br>Importance=%{x}<extra></extra>\",\"legendgroup\":\"Hour_19\",\"marker\":{\"color\":\"#FFA15A\",\"pattern\":{\"shape\":\"\"}},\"name\":\"Hour_19\",\"offsetgroup\":\"Hour_19\",\"orientation\":\"h\",\"showlegend\":true,\"textposition\":\"auto\",\"x\":[0.014445091597735882],\"xaxis\":\"x\",\"y\":[\"Hour_19\"],\"yaxis\":\"y\",\"type\":\"bar\"},{\"alignmentgroup\":\"True\",\"hovertemplate\":\"Features=%{y}<br>Importance=%{x}<extra></extra>\",\"legendgroup\":\"Conditions_Overcast\",\"marker\":{\"color\":\"#19d3f3\",\"pattern\":{\"shape\":\"\"}},\"name\":\"Conditions_Overcast\",\"offsetgroup\":\"Conditions_Overcast\",\"orientation\":\"h\",\"showlegend\":true,\"textposition\":\"auto\",\"x\":[0.014272941276431084],\"xaxis\":\"x\",\"y\":[\"Conditions_Overcast\"],\"yaxis\":\"y\",\"type\":\"bar\"},{\"alignmentgroup\":\"True\",\"hovertemplate\":\"Features=%{y}<br>Importance=%{x}<extra></extra>\",\"legendgroup\":\"Hour_23\",\"marker\":{\"color\":\"#FF6692\",\"pattern\":{\"shape\":\"\"}},\"name\":\"Hour_23\",\"offsetgroup\":\"Hour_23\",\"orientation\":\"h\",\"showlegend\":true,\"textposition\":\"auto\",\"x\":[0.01368387695401907],\"xaxis\":\"x\",\"y\":[\"Hour_23\"],\"yaxis\":\"y\",\"type\":\"bar\"},{\"alignmentgroup\":\"True\",\"hovertemplate\":\"Features=%{y}<br>Importance=%{x}<extra></extra>\",\"legendgroup\":\"Hour_4\",\"marker\":{\"color\":\"#B6E880\",\"pattern\":{\"shape\":\"\"}},\"name\":\"Hour_4\",\"offsetgroup\":\"Hour_4\",\"orientation\":\"h\",\"showlegend\":true,\"textposition\":\"auto\",\"x\":[0.013610444031655788],\"xaxis\":\"x\",\"y\":[\"Hour_4\"],\"yaxis\":\"y\",\"type\":\"bar\"},{\"alignmentgroup\":\"True\",\"hovertemplate\":\"Features=%{y}<br>Importance=%{x}<extra></extra>\",\"legendgroup\":\"Hour_6\",\"marker\":{\"color\":\"#FF97FF\",\"pattern\":{\"shape\":\"\"}},\"name\":\"Hour_6\",\"offsetgroup\":\"Hour_6\",\"orientation\":\"h\",\"showlegend\":true,\"textposition\":\"auto\",\"x\":[0.01329940278083086],\"xaxis\":\"x\",\"y\":[\"Hour_6\"],\"yaxis\":\"y\",\"type\":\"bar\"},{\"alignmentgroup\":\"True\",\"hovertemplate\":\"Features=%{y}<br>Importance=%{x}<extra></extra>\",\"legendgroup\":\"Hour_3\",\"marker\":{\"color\":\"#FECB52\",\"pattern\":{\"shape\":\"\"}},\"name\":\"Hour_3\",\"offsetgroup\":\"Hour_3\",\"orientation\":\"h\",\"showlegend\":true,\"textposition\":\"auto\",\"x\":[0.013181794434785843],\"xaxis\":\"x\",\"y\":[\"Hour_3\"],\"yaxis\":\"y\",\"type\":\"bar\"},{\"alignmentgroup\":\"True\",\"hovertemplate\":\"Features=%{y}<br>Importance=%{x}<extra></extra>\",\"legendgroup\":\"Hour_12\",\"marker\":{\"color\":\"#636efa\",\"pattern\":{\"shape\":\"\"}},\"name\":\"Hour_12\",\"offsetgroup\":\"Hour_12\",\"orientation\":\"h\",\"showlegend\":true,\"textposition\":\"auto\",\"x\":[0.012982601299881935],\"xaxis\":\"x\",\"y\":[\"Hour_12\"],\"yaxis\":\"y\",\"type\":\"bar\"},{\"alignmentgroup\":\"True\",\"hovertemplate\":\"Features=%{y}<br>Importance=%{x}<extra></extra>\",\"legendgroup\":\"MONTH_Jul\",\"marker\":{\"color\":\"#EF553B\",\"pattern\":{\"shape\":\"\"}},\"name\":\"MONTH_Jul\",\"offsetgroup\":\"MONTH_Jul\",\"orientation\":\"h\",\"showlegend\":true,\"textposition\":\"auto\",\"x\":[0.012738549150526524],\"xaxis\":\"x\",\"y\":[\"MONTH_Jul\"],\"yaxis\":\"y\",\"type\":\"bar\"},{\"alignmentgroup\":\"True\",\"hovertemplate\":\"Features=%{y}<br>Importance=%{x}<extra></extra>\",\"legendgroup\":\"Hour_17\",\"marker\":{\"color\":\"#00cc96\",\"pattern\":{\"shape\":\"\"}},\"name\":\"Hour_17\",\"offsetgroup\":\"Hour_17\",\"orientation\":\"h\",\"showlegend\":true,\"textposition\":\"auto\",\"x\":[0.01235155388712883],\"xaxis\":\"x\",\"y\":[\"Hour_17\"],\"yaxis\":\"y\",\"type\":\"bar\"},{\"alignmentgroup\":\"True\",\"hovertemplate\":\"Features=%{y}<br>Importance=%{x}<extra></extra>\",\"legendgroup\":\"MONTH_Nov\",\"marker\":{\"color\":\"#ab63fa\",\"pattern\":{\"shape\":\"\"}},\"name\":\"MONTH_Nov\",\"offsetgroup\":\"MONTH_Nov\",\"orientation\":\"h\",\"showlegend\":true,\"textposition\":\"auto\",\"x\":[0.012231634929776192],\"xaxis\":\"x\",\"y\":[\"MONTH_Nov\"],\"yaxis\":\"y\",\"type\":\"bar\"},{\"alignmentgroup\":\"True\",\"hovertemplate\":\"Features=%{y}<br>Importance=%{x}<extra></extra>\",\"legendgroup\":\"MONTH_Apr\",\"marker\":{\"color\":\"#FFA15A\",\"pattern\":{\"shape\":\"\"}},\"name\":\"MONTH_Apr\",\"offsetgroup\":\"MONTH_Apr\",\"orientation\":\"h\",\"showlegend\":true,\"textposition\":\"auto\",\"x\":[0.01220379676669836],\"xaxis\":\"x\",\"y\":[\"MONTH_Apr\"],\"yaxis\":\"y\",\"type\":\"bar\"},{\"alignmentgroup\":\"True\",\"hovertemplate\":\"Features=%{y}<br>Importance=%{x}<extra></extra>\",\"legendgroup\":\"Hour_18\",\"marker\":{\"color\":\"#19d3f3\",\"pattern\":{\"shape\":\"\"}},\"name\":\"Hour_18\",\"offsetgroup\":\"Hour_18\",\"orientation\":\"h\",\"showlegend\":true,\"textposition\":\"auto\",\"x\":[0.01056385226547718],\"xaxis\":\"x\",\"y\":[\"Hour_18\"],\"yaxis\":\"y\",\"type\":\"bar\"},{\"alignmentgroup\":\"True\",\"hovertemplate\":\"Features=%{y}<br>Importance=%{x}<extra></extra>\",\"legendgroup\":\"Hour_10\",\"marker\":{\"color\":\"#FF6692\",\"pattern\":{\"shape\":\"\"}},\"name\":\"Hour_10\",\"offsetgroup\":\"Hour_10\",\"orientation\":\"h\",\"showlegend\":true,\"textposition\":\"auto\",\"x\":[0.01037668064236641],\"xaxis\":\"x\",\"y\":[\"Hour_10\"],\"yaxis\":\"y\",\"type\":\"bar\"},{\"alignmentgroup\":\"True\",\"hovertemplate\":\"Features=%{y}<br>Importance=%{x}<extra></extra>\",\"legendgroup\":\"Hour_9\",\"marker\":{\"color\":\"#B6E880\",\"pattern\":{\"shape\":\"\"}},\"name\":\"Hour_9\",\"offsetgroup\":\"Hour_9\",\"orientation\":\"h\",\"showlegend\":true,\"textposition\":\"auto\",\"x\":[0.010161626152694225],\"xaxis\":\"x\",\"y\":[\"Hour_9\"],\"yaxis\":\"y\",\"type\":\"bar\"},{\"alignmentgroup\":\"True\",\"hovertemplate\":\"Features=%{y}<br>Importance=%{x}<extra></extra>\",\"legendgroup\":\"Hour_5\",\"marker\":{\"color\":\"#FF97FF\",\"pattern\":{\"shape\":\"\"}},\"name\":\"Hour_5\",\"offsetgroup\":\"Hour_5\",\"orientation\":\"h\",\"showlegend\":true,\"textposition\":\"auto\",\"x\":[0.0099430400878191],\"xaxis\":\"x\",\"y\":[\"Hour_5\"],\"yaxis\":\"y\",\"type\":\"bar\"},{\"alignmentgroup\":\"True\",\"hovertemplate\":\"Features=%{y}<br>Importance=%{x}<extra></extra>\",\"legendgroup\":\"MONTH_Oct\",\"marker\":{\"color\":\"#FECB52\",\"pattern\":{\"shape\":\"\"}},\"name\":\"MONTH_Oct\",\"offsetgroup\":\"MONTH_Oct\",\"orientation\":\"h\",\"showlegend\":true,\"textposition\":\"auto\",\"x\":[0.009829673916101456],\"xaxis\":\"x\",\"y\":[\"MONTH_Oct\"],\"yaxis\":\"y\",\"type\":\"bar\"},{\"alignmentgroup\":\"True\",\"hovertemplate\":\"Features=%{y}<br>Importance=%{x}<extra></extra>\",\"legendgroup\":\"Hour_8\",\"marker\":{\"color\":\"#636efa\",\"pattern\":{\"shape\":\"\"}},\"name\":\"Hour_8\",\"offsetgroup\":\"Hour_8\",\"orientation\":\"h\",\"showlegend\":true,\"textposition\":\"auto\",\"x\":[0.009786473587155342],\"xaxis\":\"x\",\"y\":[\"Hour_8\"],\"yaxis\":\"y\",\"type\":\"bar\"},{\"alignmentgroup\":\"True\",\"hovertemplate\":\"Features=%{y}<br>Importance=%{x}<extra></extra>\",\"legendgroup\":\"Hour_11\",\"marker\":{\"color\":\"#EF553B\",\"pattern\":{\"shape\":\"\"}},\"name\":\"Hour_11\",\"offsetgroup\":\"Hour_11\",\"orientation\":\"h\",\"showlegend\":true,\"textposition\":\"auto\",\"x\":[0.009625234641134739],\"xaxis\":\"x\",\"y\":[\"Hour_11\"],\"yaxis\":\"y\",\"type\":\"bar\"},{\"alignmentgroup\":\"True\",\"hovertemplate\":\"Features=%{y}<br>Importance=%{x}<extra></extra>\",\"legendgroup\":\"Hour_7\",\"marker\":{\"color\":\"#00cc96\",\"pattern\":{\"shape\":\"\"}},\"name\":\"Hour_7\",\"offsetgroup\":\"Hour_7\",\"orientation\":\"h\",\"showlegend\":true,\"textposition\":\"auto\",\"x\":[0.009554042480885983],\"xaxis\":\"x\",\"y\":[\"Hour_7\"],\"yaxis\":\"y\",\"type\":\"bar\"},{\"alignmentgroup\":\"True\",\"hovertemplate\":\"Features=%{y}<br>Importance=%{x}<extra></extra>\",\"legendgroup\":\"MONTH_Jan\",\"marker\":{\"color\":\"#ab63fa\",\"pattern\":{\"shape\":\"\"}},\"name\":\"MONTH_Jan\",\"offsetgroup\":\"MONTH_Jan\",\"orientation\":\"h\",\"showlegend\":true,\"textposition\":\"auto\",\"x\":[0.009485095739364624],\"xaxis\":\"x\",\"y\":[\"MONTH_Jan\"],\"yaxis\":\"y\",\"type\":\"bar\"},{\"alignmentgroup\":\"True\",\"hovertemplate\":\"Features=%{y}<br>Importance=%{x}<extra></extra>\",\"legendgroup\":\"Visibility\",\"marker\":{\"color\":\"#FFA15A\",\"pattern\":{\"shape\":\"\"}},\"name\":\"Visibility\",\"offsetgroup\":\"Visibility\",\"orientation\":\"h\",\"showlegend\":true,\"textposition\":\"auto\",\"x\":[0.009168143384158611],\"xaxis\":\"x\",\"y\":[\"Visibility\"],\"yaxis\":\"y\",\"type\":\"bar\"},{\"alignmentgroup\":\"True\",\"hovertemplate\":\"Features=%{y}<br>Importance=%{x}<extra></extra>\",\"legendgroup\":\"Hour_2\",\"marker\":{\"color\":\"#19d3f3\",\"pattern\":{\"shape\":\"\"}},\"name\":\"Hour_2\",\"offsetgroup\":\"Hour_2\",\"orientation\":\"h\",\"showlegend\":true,\"textposition\":\"auto\",\"x\":[0.008939865045249462],\"xaxis\":\"x\",\"y\":[\"Hour_2\"],\"yaxis\":\"y\",\"type\":\"bar\"},{\"alignmentgroup\":\"True\",\"hovertemplate\":\"Features=%{y}<br>Importance=%{x}<extra></extra>\",\"legendgroup\":\"Cloud Cover\",\"marker\":{\"color\":\"#FF6692\",\"pattern\":{\"shape\":\"\"}},\"name\":\"Cloud Cover\",\"offsetgroup\":\"Cloud Cover\",\"orientation\":\"h\",\"showlegend\":true,\"textposition\":\"auto\",\"x\":[0.007435798645019531],\"xaxis\":\"x\",\"y\":[\"Cloud Cover\"],\"yaxis\":\"y\",\"type\":\"bar\"},{\"alignmentgroup\":\"True\",\"hovertemplate\":\"Features=%{y}<br>Importance=%{x}<extra></extra>\",\"legendgroup\":\"Temperature\",\"marker\":{\"color\":\"#B6E880\",\"pattern\":{\"shape\":\"\"}},\"name\":\"Temperature\",\"offsetgroup\":\"Temperature\",\"orientation\":\"h\",\"showlegend\":true,\"textposition\":\"auto\",\"x\":[0.007178108673542738],\"xaxis\":\"x\",\"y\":[\"Temperature\"],\"yaxis\":\"y\",\"type\":\"bar\"},{\"alignmentgroup\":\"True\",\"hovertemplate\":\"Features=%{y}<br>Importance=%{x}<extra></extra>\",\"legendgroup\":\"Conditions_Snow\",\"marker\":{\"color\":\"#FF97FF\",\"pattern\":{\"shape\":\"\"}},\"name\":\"Conditions_Snow\",\"offsetgroup\":\"Conditions_Snow\",\"orientation\":\"h\",\"showlegend\":true,\"textposition\":\"auto\",\"x\":[0.007004629820585251],\"xaxis\":\"x\",\"y\":[\"Conditions_Snow\"],\"yaxis\":\"y\",\"type\":\"bar\"},{\"alignmentgroup\":\"True\",\"hovertemplate\":\"Features=%{y}<br>Importance=%{x}<extra></extra>\",\"legendgroup\":\"Precipitation\",\"marker\":{\"color\":\"#FECB52\",\"pattern\":{\"shape\":\"\"}},\"name\":\"Precipitation\",\"offsetgroup\":\"Precipitation\",\"orientation\":\"h\",\"showlegend\":true,\"textposition\":\"auto\",\"x\":[0.006578537169843912],\"xaxis\":\"x\",\"y\":[\"Precipitation\"],\"yaxis\":\"y\",\"type\":\"bar\"},{\"alignmentgroup\":\"True\",\"hovertemplate\":\"Features=%{y}<br>Importance=%{x}<extra></extra>\",\"legendgroup\":\"Wind Speed\",\"marker\":{\"color\":\"#636efa\",\"pattern\":{\"shape\":\"\"}},\"name\":\"Wind Speed\",\"offsetgroup\":\"Wind Speed\",\"orientation\":\"h\",\"showlegend\":true,\"textposition\":\"auto\",\"x\":[0.006298024207353592],\"xaxis\":\"x\",\"y\":[\"Wind Speed\"],\"yaxis\":\"y\",\"type\":\"bar\"},{\"alignmentgroup\":\"True\",\"hovertemplate\":\"Features=%{y}<br>Importance=%{x}<extra></extra>\",\"legendgroup\":\"MONTH_Mar\",\"marker\":{\"color\":\"#EF553B\",\"pattern\":{\"shape\":\"\"}},\"name\":\"MONTH_Mar\",\"offsetgroup\":\"MONTH_Mar\",\"orientation\":\"h\",\"showlegend\":true,\"textposition\":\"auto\",\"x\":[0.0059401243925094604],\"xaxis\":\"x\",\"y\":[\"MONTH_Mar\"],\"yaxis\":\"y\",\"type\":\"bar\"},{\"alignmentgroup\":\"True\",\"hovertemplate\":\"Features=%{y}<br>Importance=%{x}<extra></extra>\",\"legendgroup\":\"MONTH_Dec\",\"marker\":{\"color\":\"#00cc96\",\"pattern\":{\"shape\":\"\"}},\"name\":\"MONTH_Dec\",\"offsetgroup\":\"MONTH_Dec\",\"orientation\":\"h\",\"showlegend\":true,\"textposition\":\"auto\",\"x\":[0.005590430460870266],\"xaxis\":\"x\",\"y\":[\"MONTH_Dec\"],\"yaxis\":\"y\",\"type\":\"bar\"},{\"alignmentgroup\":\"True\",\"hovertemplate\":\"Features=%{y}<br>Importance=%{x}<extra></extra>\",\"legendgroup\":\"MONTH_Feb\",\"marker\":{\"color\":\"#ab63fa\",\"pattern\":{\"shape\":\"\"}},\"name\":\"MONTH_Feb\",\"offsetgroup\":\"MONTH_Feb\",\"orientation\":\"h\",\"showlegend\":true,\"textposition\":\"auto\",\"x\":[0.005088623147457838],\"xaxis\":\"x\",\"y\":[\"MONTH_Feb\"],\"yaxis\":\"y\",\"type\":\"bar\"},{\"alignmentgroup\":\"True\",\"hovertemplate\":\"Features=%{y}<br>Importance=%{x}<extra></extra>\",\"legendgroup\":\"Conditions_Snow, Partially cloudy\",\"marker\":{\"color\":\"#FFA15A\",\"pattern\":{\"shape\":\"\"}},\"name\":\"Conditions_Snow, Partially cloudy\",\"offsetgroup\":\"Conditions_Snow, Partially cloudy\",\"orientation\":\"h\",\"showlegend\":true,\"textposition\":\"auto\",\"x\":[0.0015173587016761303],\"xaxis\":\"x\",\"y\":[\"Conditions_Snow, Partially cloudy\"],\"yaxis\":\"y\",\"type\":\"bar\"},{\"alignmentgroup\":\"True\",\"hovertemplate\":\"Features=%{y}<br>Importance=%{x}<extra></extra>\",\"legendgroup\":\"Conditions_Snow, Overcast\",\"marker\":{\"color\":\"#19d3f3\",\"pattern\":{\"shape\":\"\"}},\"name\":\"Conditions_Snow, Overcast\",\"offsetgroup\":\"Conditions_Snow, Overcast\",\"orientation\":\"h\",\"showlegend\":true,\"textposition\":\"auto\",\"x\":[0.0010455604642629623],\"xaxis\":\"x\",\"y\":[\"Conditions_Snow, Overcast\"],\"yaxis\":\"y\",\"type\":\"bar\"},{\"alignmentgroup\":\"True\",\"hovertemplate\":\"Features=%{y}<br>Importance=%{x}<extra></extra>\",\"legendgroup\":\"Conditions_Rain\",\"marker\":{\"color\":\"#FF6692\",\"pattern\":{\"shape\":\"\"}},\"name\":\"Conditions_Rain\",\"offsetgroup\":\"Conditions_Rain\",\"orientation\":\"h\",\"showlegend\":true,\"textposition\":\"auto\",\"x\":[0.0],\"xaxis\":\"x\",\"y\":[\"Conditions_Rain\"],\"yaxis\":\"y\",\"type\":\"bar\"}],                        {\"template\":{\"data\":{\"bar\":[{\"error_x\":{\"color\":\"#2a3f5f\"},\"error_y\":{\"color\":\"#2a3f5f\"},\"marker\":{\"line\":{\"color\":\"#E5ECF6\",\"width\":0.5},\"pattern\":{\"fillmode\":\"overlay\",\"size\":10,\"solidity\":0.2}},\"type\":\"bar\"}],\"barpolar\":[{\"marker\":{\"line\":{\"color\":\"#E5ECF6\",\"width\":0.5},\"pattern\":{\"fillmode\":\"overlay\",\"size\":10,\"solidity\":0.2}},\"type\":\"barpolar\"}],\"carpet\":[{\"aaxis\":{\"endlinecolor\":\"#2a3f5f\",\"gridcolor\":\"white\",\"linecolor\":\"white\",\"minorgridcolor\":\"white\",\"startlinecolor\":\"#2a3f5f\"},\"baxis\":{\"endlinecolor\":\"#2a3f5f\",\"gridcolor\":\"white\",\"linecolor\":\"white\",\"minorgridcolor\":\"white\",\"startlinecolor\":\"#2a3f5f\"},\"type\":\"carpet\"}],\"choropleth\":[{\"colorbar\":{\"outlinewidth\":0,\"ticks\":\"\"},\"type\":\"choropleth\"}],\"contour\":[{\"colorbar\":{\"outlinewidth\":0,\"ticks\":\"\"},\"colorscale\":[[0.0,\"#0d0887\"],[0.1111111111111111,\"#46039f\"],[0.2222222222222222,\"#7201a8\"],[0.3333333333333333,\"#9c179e\"],[0.4444444444444444,\"#bd3786\"],[0.5555555555555556,\"#d8576b\"],[0.6666666666666666,\"#ed7953\"],[0.7777777777777778,\"#fb9f3a\"],[0.8888888888888888,\"#fdca26\"],[1.0,\"#f0f921\"]],\"type\":\"contour\"}],\"contourcarpet\":[{\"colorbar\":{\"outlinewidth\":0,\"ticks\":\"\"},\"type\":\"contourcarpet\"}],\"heatmap\":[{\"colorbar\":{\"outlinewidth\":0,\"ticks\":\"\"},\"colorscale\":[[0.0,\"#0d0887\"],[0.1111111111111111,\"#46039f\"],[0.2222222222222222,\"#7201a8\"],[0.3333333333333333,\"#9c179e\"],[0.4444444444444444,\"#bd3786\"],[0.5555555555555556,\"#d8576b\"],[0.6666666666666666,\"#ed7953\"],[0.7777777777777778,\"#fb9f3a\"],[0.8888888888888888,\"#fdca26\"],[1.0,\"#f0f921\"]],\"type\":\"heatmap\"}],\"heatmapgl\":[{\"colorbar\":{\"outlinewidth\":0,\"ticks\":\"\"},\"colorscale\":[[0.0,\"#0d0887\"],[0.1111111111111111,\"#46039f\"],[0.2222222222222222,\"#7201a8\"],[0.3333333333333333,\"#9c179e\"],[0.4444444444444444,\"#bd3786\"],[0.5555555555555556,\"#d8576b\"],[0.6666666666666666,\"#ed7953\"],[0.7777777777777778,\"#fb9f3a\"],[0.8888888888888888,\"#fdca26\"],[1.0,\"#f0f921\"]],\"type\":\"heatmapgl\"}],\"histogram\":[{\"marker\":{\"pattern\":{\"fillmode\":\"overlay\",\"size\":10,\"solidity\":0.2}},\"type\":\"histogram\"}],\"histogram2d\":[{\"colorbar\":{\"outlinewidth\":0,\"ticks\":\"\"},\"colorscale\":[[0.0,\"#0d0887\"],[0.1111111111111111,\"#46039f\"],[0.2222222222222222,\"#7201a8\"],[0.3333333333333333,\"#9c179e\"],[0.4444444444444444,\"#bd3786\"],[0.5555555555555556,\"#d8576b\"],[0.6666666666666666,\"#ed7953\"],[0.7777777777777778,\"#fb9f3a\"],[0.8888888888888888,\"#fdca26\"],[1.0,\"#f0f921\"]],\"type\":\"histogram2d\"}],\"histogram2dcontour\":[{\"colorbar\":{\"outlinewidth\":0,\"ticks\":\"\"},\"colorscale\":[[0.0,\"#0d0887\"],[0.1111111111111111,\"#46039f\"],[0.2222222222222222,\"#7201a8\"],[0.3333333333333333,\"#9c179e\"],[0.4444444444444444,\"#bd3786\"],[0.5555555555555556,\"#d8576b\"],[0.6666666666666666,\"#ed7953\"],[0.7777777777777778,\"#fb9f3a\"],[0.8888888888888888,\"#fdca26\"],[1.0,\"#f0f921\"]],\"type\":\"histogram2dcontour\"}],\"mesh3d\":[{\"colorbar\":{\"outlinewidth\":0,\"ticks\":\"\"},\"type\":\"mesh3d\"}],\"parcoords\":[{\"line\":{\"colorbar\":{\"outlinewidth\":0,\"ticks\":\"\"}},\"type\":\"parcoords\"}],\"pie\":[{\"automargin\":true,\"type\":\"pie\"}],\"scatter\":[{\"marker\":{\"colorbar\":{\"outlinewidth\":0,\"ticks\":\"\"}},\"type\":\"scatter\"}],\"scatter3d\":[{\"line\":{\"colorbar\":{\"outlinewidth\":0,\"ticks\":\"\"}},\"marker\":{\"colorbar\":{\"outlinewidth\":0,\"ticks\":\"\"}},\"type\":\"scatter3d\"}],\"scattercarpet\":[{\"marker\":{\"colorbar\":{\"outlinewidth\":0,\"ticks\":\"\"}},\"type\":\"scattercarpet\"}],\"scattergeo\":[{\"marker\":{\"colorbar\":{\"outlinewidth\":0,\"ticks\":\"\"}},\"type\":\"scattergeo\"}],\"scattergl\":[{\"marker\":{\"colorbar\":{\"outlinewidth\":0,\"ticks\":\"\"}},\"type\":\"scattergl\"}],\"scattermapbox\":[{\"marker\":{\"colorbar\":{\"outlinewidth\":0,\"ticks\":\"\"}},\"type\":\"scattermapbox\"}],\"scatterpolar\":[{\"marker\":{\"colorbar\":{\"outlinewidth\":0,\"ticks\":\"\"}},\"type\":\"scatterpolar\"}],\"scatterpolargl\":[{\"marker\":{\"colorbar\":{\"outlinewidth\":0,\"ticks\":\"\"}},\"type\":\"scatterpolargl\"}],\"scatterternary\":[{\"marker\":{\"colorbar\":{\"outlinewidth\":0,\"ticks\":\"\"}},\"type\":\"scatterternary\"}],\"surface\":[{\"colorbar\":{\"outlinewidth\":0,\"ticks\":\"\"},\"colorscale\":[[0.0,\"#0d0887\"],[0.1111111111111111,\"#46039f\"],[0.2222222222222222,\"#7201a8\"],[0.3333333333333333,\"#9c179e\"],[0.4444444444444444,\"#bd3786\"],[0.5555555555555556,\"#d8576b\"],[0.6666666666666666,\"#ed7953\"],[0.7777777777777778,\"#fb9f3a\"],[0.8888888888888888,\"#fdca26\"],[1.0,\"#f0f921\"]],\"type\":\"surface\"}],\"table\":[{\"cells\":{\"fill\":{\"color\":\"#EBF0F8\"},\"line\":{\"color\":\"white\"}},\"header\":{\"fill\":{\"color\":\"#C8D4E3\"},\"line\":{\"color\":\"white\"}},\"type\":\"table\"}]},\"layout\":{\"annotationdefaults\":{\"arrowcolor\":\"#2a3f5f\",\"arrowhead\":0,\"arrowwidth\":1},\"autotypenumbers\":\"strict\",\"coloraxis\":{\"colorbar\":{\"outlinewidth\":0,\"ticks\":\"\"}},\"colorscale\":{\"diverging\":[[0,\"#8e0152\"],[0.1,\"#c51b7d\"],[0.2,\"#de77ae\"],[0.3,\"#f1b6da\"],[0.4,\"#fde0ef\"],[0.5,\"#f7f7f7\"],[0.6,\"#e6f5d0\"],[0.7,\"#b8e186\"],[0.8,\"#7fbc41\"],[0.9,\"#4d9221\"],[1,\"#276419\"]],\"sequential\":[[0.0,\"#0d0887\"],[0.1111111111111111,\"#46039f\"],[0.2222222222222222,\"#7201a8\"],[0.3333333333333333,\"#9c179e\"],[0.4444444444444444,\"#bd3786\"],[0.5555555555555556,\"#d8576b\"],[0.6666666666666666,\"#ed7953\"],[0.7777777777777778,\"#fb9f3a\"],[0.8888888888888888,\"#fdca26\"],[1.0,\"#f0f921\"]],\"sequentialminus\":[[0.0,\"#0d0887\"],[0.1111111111111111,\"#46039f\"],[0.2222222222222222,\"#7201a8\"],[0.3333333333333333,\"#9c179e\"],[0.4444444444444444,\"#bd3786\"],[0.5555555555555556,\"#d8576b\"],[0.6666666666666666,\"#ed7953\"],[0.7777777777777778,\"#fb9f3a\"],[0.8888888888888888,\"#fdca26\"],[1.0,\"#f0f921\"]]},\"colorway\":[\"#636efa\",\"#EF553B\",\"#00cc96\",\"#ab63fa\",\"#FFA15A\",\"#19d3f3\",\"#FF6692\",\"#B6E880\",\"#FF97FF\",\"#FECB52\"],\"font\":{\"color\":\"#2a3f5f\"},\"geo\":{\"bgcolor\":\"white\",\"lakecolor\":\"white\",\"landcolor\":\"#E5ECF6\",\"showlakes\":true,\"showland\":true,\"subunitcolor\":\"white\"},\"hoverlabel\":{\"align\":\"left\"},\"hovermode\":\"closest\",\"mapbox\":{\"style\":\"light\"},\"paper_bgcolor\":\"white\",\"plot_bgcolor\":\"#E5ECF6\",\"polar\":{\"angularaxis\":{\"gridcolor\":\"white\",\"linecolor\":\"white\",\"ticks\":\"\"},\"bgcolor\":\"#E5ECF6\",\"radialaxis\":{\"gridcolor\":\"white\",\"linecolor\":\"white\",\"ticks\":\"\"}},\"scene\":{\"xaxis\":{\"backgroundcolor\":\"#E5ECF6\",\"gridcolor\":\"white\",\"gridwidth\":2,\"linecolor\":\"white\",\"showbackground\":true,\"ticks\":\"\",\"zerolinecolor\":\"white\"},\"yaxis\":{\"backgroundcolor\":\"#E5ECF6\",\"gridcolor\":\"white\",\"gridwidth\":2,\"linecolor\":\"white\",\"showbackground\":true,\"ticks\":\"\",\"zerolinecolor\":\"white\"},\"zaxis\":{\"backgroundcolor\":\"#E5ECF6\",\"gridcolor\":\"white\",\"gridwidth\":2,\"linecolor\":\"white\",\"showbackground\":true,\"ticks\":\"\",\"zerolinecolor\":\"white\"}},\"shapedefaults\":{\"line\":{\"color\":\"#2a3f5f\"}},\"ternary\":{\"aaxis\":{\"gridcolor\":\"white\",\"linecolor\":\"white\",\"ticks\":\"\"},\"baxis\":{\"gridcolor\":\"white\",\"linecolor\":\"white\",\"ticks\":\"\"},\"bgcolor\":\"#E5ECF6\",\"caxis\":{\"gridcolor\":\"white\",\"linecolor\":\"white\",\"ticks\":\"\"}},\"title\":{\"x\":0.05},\"xaxis\":{\"automargin\":true,\"gridcolor\":\"white\",\"linecolor\":\"white\",\"ticks\":\"\",\"title\":{\"standoff\":15},\"zerolinecolor\":\"white\",\"zerolinewidth\":2},\"yaxis\":{\"automargin\":true,\"gridcolor\":\"white\",\"linecolor\":\"white\",\"ticks\":\"\",\"title\":{\"standoff\":15},\"zerolinecolor\":\"white\",\"zerolinewidth\":2}}},\"xaxis\":{\"anchor\":\"y\",\"domain\":[0.0,1.0],\"title\":{\"text\":\"Importance\"}},\"yaxis\":{\"anchor\":\"x\",\"domain\":[0.0,1.0],\"title\":{\"text\":\"Features\"},\"categoryorder\":\"array\",\"categoryarray\":[\"Conditions_Rain\",\"Conditions_Snow, Overcast\",\"Conditions_Snow, Partially cloudy\",\"MONTH_Feb\",\"MONTH_Dec\",\"MONTH_Mar\",\"Wind Speed\",\"Precipitation\",\"Conditions_Snow\",\"Temperature\",\"Cloud Cover\",\"Hour_2\",\"Visibility\",\"MONTH_Jan\",\"Hour_7\",\"Hour_11\",\"Hour_8\",\"MONTH_Oct\",\"Hour_5\",\"Hour_9\",\"Hour_10\",\"Hour_18\",\"MONTH_Apr\",\"MONTH_Nov\",\"Hour_17\",\"MONTH_Jul\",\"Hour_12\",\"Hour_3\",\"Hour_6\",\"Hour_4\",\"Hour_23\",\"Conditions_Overcast\",\"Hour_19\",\"Hour_20\",\"Conditions_Rain, Partially cloudy\",\"Hour_22\",\"Hour_21\",\"Conditions_Rain, Overcast\",\"Hour_0\",\"Hour_16\",\"Hour_13\",\"Hour_1\",\"Hour_15\",\"MONTH_Jun\",\"MONTH_May\",\"Conditions_Partially cloudy\",\"Hour_14\",\"MONTH_Sep\",\"MONTH_Aug\",\"WEEKDAY_Sun\",\"Conditions_Clear\",\"WEEKDAY_Thu\",\"WEEKDAY_Fri\",\"WEEKDAY_Sat\",\"WEEKDAY_Mon\",\"WEEKDAY_Tue\",\"WEEKDAY_Wed\"]},\"legend\":{\"title\":{\"text\":\"Features\"},\"tracegroupgap\":0},\"title\":{\"text\":\"Feature Importance\"},\"barmode\":\"relative\"},                        {\"responsive\": true}                    ).then(function(){\n",
              "                            \n",
              "var gd = document.getElementById('4fd08b85-3460-4178-b33c-d7eb9af70fdc');\n",
              "var x = new MutationObserver(function (mutations, observer) {{\n",
              "        var display = window.getComputedStyle(gd).display;\n",
              "        if (!display || display === 'none') {{\n",
              "            console.log([gd, 'removed!']);\n",
              "            Plotly.purge(gd);\n",
              "            observer.disconnect();\n",
              "        }}\n",
              "}});\n",
              "\n",
              "// Listen for the removal of the full notebook cells\n",
              "var notebookContainer = gd.closest('#notebook-container');\n",
              "if (notebookContainer) {{\n",
              "    x.observe(notebookContainer, {childList: true});\n",
              "}}\n",
              "\n",
              "// Listen for the clearing of the current output cell\n",
              "var outputEl = gd.closest('.output');\n",
              "if (outputEl) {{\n",
              "    x.observe(outputEl, {childList: true});\n",
              "}}\n",
              "\n",
              "                        })                };                            </script>        </div>\n",
              "</body>\n",
              "</html>"
            ]
          },
          "metadata": {}
        }
      ]
    },
    {
      "cell_type": "markdown",
      "source": [
        "### Display Random Forest tree"
      ],
      "metadata": {
        "id": "Un-7FjlClnVy"
      }
    },
    {
      "cell_type": "code",
      "source": [
        "# Export as dot file\n",
        "tree = export_graphviz(rf2.estimators_[0], \n",
        "                out_file= None,\n",
        "                feature_names = X_train.columns,\n",
        "                class_names = label,\n",
        "                rounded = True, proportion = False, \n",
        "                precision = 2, filled = True)\n",
        "graphviz.Source(tree)"
      ],
      "metadata": {
        "colab": {
          "base_uri": "https://localhost:8080/",
          "height": 1000
        },
        "id": "VjhmxCA6arjE",
        "outputId": "b4a306e2-f55d-46b1-b4c5-17be93199dab"
      },
      "execution_count": 54,
      "outputs": [
        {
          "output_type": "execute_result",
          "data": {
            "text/plain": [
              "<graphviz.files.Source at 0x7f6536c47090>"
            ],
            "image/svg+xml": "<?xml version=\"1.0\" encoding=\"UTF-8\" standalone=\"no\"?>\n<!DOCTYPE svg PUBLIC \"-//W3C//DTD SVG 1.1//EN\"\n \"http://www.w3.org/Graphics/SVG/1.1/DTD/svg11.dtd\">\n<!-- Generated by graphviz version 2.40.1 (20161225.0304)\n -->\n<!-- Title: Tree Pages: 1 -->\n<svg width=\"7232pt\" height=\"1028pt\"\n viewBox=\"0.00 0.00 7232.00 1028.00\" xmlns=\"http://www.w3.org/2000/svg\" xmlns:xlink=\"http://www.w3.org/1999/xlink\">\n<g id=\"graph0\" class=\"graph\" transform=\"scale(1 1) rotate(0) translate(4 1024)\">\n<title>Tree</title>\n<polygon fill=\"#ffffff\" stroke=\"transparent\" points=\"-4,4 -4,-1024 7228,-1024 7228,4 -4,4\"/>\n<!-- 0 -->\n<g id=\"node1\" class=\"node\">\n<title>0</title>\n<path fill=\"#fffeff\" stroke=\"#000000\" d=\"M5980,-1020C5980,-1020 5815,-1020 5815,-1020 5809,-1020 5803,-1014 5803,-1008 5803,-1008 5803,-949 5803,-949 5803,-943 5809,-937 5815,-937 5815,-937 5980,-937 5980,-937 5986,-937 5992,-943 5992,-949 5992,-949 5992,-1008 5992,-1008 5992,-1014 5986,-1020 5980,-1020\"/>\n<text text-anchor=\"middle\" x=\"5897.5\" y=\"-1004.8\" font-family=\"Helvetica,sans-Serif\" font-size=\"14.00\" fill=\"#000000\">Hour_15 &lt;= 0.5</text>\n<text text-anchor=\"middle\" x=\"5897.5\" y=\"-989.8\" font-family=\"Helvetica,sans-Serif\" font-size=\"14.00\" fill=\"#000000\">entropy = 1.58</text>\n<text text-anchor=\"middle\" x=\"5897.5\" y=\"-974.8\" font-family=\"Helvetica,sans-Serif\" font-size=\"14.00\" fill=\"#000000\">samples = 15138</text>\n<text text-anchor=\"middle\" x=\"5897.5\" y=\"-959.8\" font-family=\"Helvetica,sans-Serif\" font-size=\"14.00\" fill=\"#000000\">value = [7979, 7823, 8041]</text>\n<text text-anchor=\"middle\" x=\"5897.5\" y=\"-944.8\" font-family=\"Helvetica,sans-Serif\" font-size=\"14.00\" fill=\"#000000\">class = Minor</text>\n</g>\n<!-- 1 -->\n<g id=\"node2\" class=\"node\">\n<title>1</title>\n<path fill=\"#fffefd\" stroke=\"#000000\" d=\"M5714,-901C5714,-901 5549,-901 5549,-901 5543,-901 5537,-895 5537,-889 5537,-889 5537,-830 5537,-830 5537,-824 5543,-818 5549,-818 5549,-818 5714,-818 5714,-818 5720,-818 5726,-824 5726,-830 5726,-830 5726,-889 5726,-889 5726,-895 5720,-901 5714,-901\"/>\n<text text-anchor=\"middle\" x=\"5631.5\" y=\"-885.8\" font-family=\"Helvetica,sans-Serif\" font-size=\"14.00\" fill=\"#000000\">Hour_0 &lt;= 0.5</text>\n<text text-anchor=\"middle\" x=\"5631.5\" y=\"-870.8\" font-family=\"Helvetica,sans-Serif\" font-size=\"14.00\" fill=\"#000000\">entropy = 1.58</text>\n<text text-anchor=\"middle\" x=\"5631.5\" y=\"-855.8\" font-family=\"Helvetica,sans-Serif\" font-size=\"14.00\" fill=\"#000000\">samples = 14836</text>\n<text text-anchor=\"middle\" x=\"5631.5\" y=\"-840.8\" font-family=\"Helvetica,sans-Serif\" font-size=\"14.00\" fill=\"#000000\">value = [7979, 7802, 7592]</text>\n<text text-anchor=\"middle\" x=\"5631.5\" y=\"-825.8\" font-family=\"Helvetica,sans-Serif\" font-size=\"14.00\" fill=\"#000000\">class = Fatal</text>\n</g>\n<!-- 0&#45;&gt;1 -->\n<g id=\"edge1\" class=\"edge\">\n<title>0&#45;&gt;1</title>\n<path fill=\"none\" stroke=\"#000000\" d=\"M5804.4661,-936.8796C5781.585,-926.6433 5756.964,-915.6286 5733.6772,-905.2108\"/>\n<polygon fill=\"#000000\" stroke=\"#000000\" points=\"5735.0389,-901.9858 5724.4814,-901.0969 5732.1803,-908.3755 5735.0389,-901.9858\"/>\n<text text-anchor=\"middle\" x=\"5733.3989\" y=\"-920.7524\" font-family=\"Helvetica,sans-Serif\" font-size=\"14.00\" fill=\"#000000\">True</text>\n</g>\n<!-- 110 -->\n<g id=\"node111\" class=\"node\">\n<title>110</title>\n<path fill=\"#8742e6\" stroke=\"#000000\" d=\"M6284,-901C6284,-901 6149,-901 6149,-901 6143,-901 6137,-895 6137,-889 6137,-889 6137,-830 6137,-830 6137,-824 6143,-818 6149,-818 6149,-818 6284,-818 6284,-818 6290,-818 6296,-824 6296,-830 6296,-830 6296,-889 6296,-889 6296,-895 6290,-901 6284,-901\"/>\n<text text-anchor=\"middle\" x=\"6216.5\" y=\"-885.8\" font-family=\"Helvetica,sans-Serif\" font-size=\"14.00\" fill=\"#000000\">Temperature &lt;= 62.05</text>\n<text text-anchor=\"middle\" x=\"6216.5\" y=\"-870.8\" font-family=\"Helvetica,sans-Serif\" font-size=\"14.00\" fill=\"#000000\">entropy = 0.26</text>\n<text text-anchor=\"middle\" x=\"6216.5\" y=\"-855.8\" font-family=\"Helvetica,sans-Serif\" font-size=\"14.00\" fill=\"#000000\">samples = 302</text>\n<text text-anchor=\"middle\" x=\"6216.5\" y=\"-840.8\" font-family=\"Helvetica,sans-Serif\" font-size=\"14.00\" fill=\"#000000\">value = [0, 21, 449]</text>\n<text text-anchor=\"middle\" x=\"6216.5\" y=\"-825.8\" font-family=\"Helvetica,sans-Serif\" font-size=\"14.00\" fill=\"#000000\">class = Minor</text>\n</g>\n<!-- 0&#45;&gt;110 -->\n<g id=\"edge110\" class=\"edge\">\n<title>0&#45;&gt;110</title>\n<path fill=\"none\" stroke=\"#000000\" d=\"M5992.3468,-943.1183C6035.1182,-927.1628 6085.3559,-908.4221 6127.4187,-892.731\"/>\n<polygon fill=\"#000000\" stroke=\"#000000\" points=\"6128.6693,-896.0001 6136.8153,-889.2256 6126.2226,-889.4416 6128.6693,-896.0001\"/>\n<text text-anchor=\"middle\" x=\"6126.4311\" y=\"-908.267\" font-family=\"Helvetica,sans-Serif\" font-size=\"14.00\" fill=\"#000000\">False</text>\n</g>\n<!-- 2 -->\n<g id=\"node3\" class=\"node\">\n<title>2</title>\n<path fill=\"#fffdfc\" stroke=\"#000000\" d=\"M4747,-782C4747,-782 4582,-782 4582,-782 4576,-782 4570,-776 4570,-770 4570,-770 4570,-711 4570,-711 4570,-705 4576,-699 4582,-699 4582,-699 4747,-699 4747,-699 4753,-699 4759,-705 4759,-711 4759,-711 4759,-770 4759,-770 4759,-776 4753,-782 4747,-782\"/>\n<text text-anchor=\"middle\" x=\"4664.5\" y=\"-766.8\" font-family=\"Helvetica,sans-Serif\" font-size=\"14.00\" fill=\"#000000\">WEEKDAY_Sun &lt;= 0.5</text>\n<text text-anchor=\"middle\" x=\"4664.5\" y=\"-751.8\" font-family=\"Helvetica,sans-Serif\" font-size=\"14.00\" fill=\"#000000\">entropy = 1.58</text>\n<text text-anchor=\"middle\" x=\"4664.5\" y=\"-736.8\" font-family=\"Helvetica,sans-Serif\" font-size=\"14.00\" fill=\"#000000\">samples = 14536</text>\n<text text-anchor=\"middle\" x=\"4664.5\" y=\"-721.8\" font-family=\"Helvetica,sans-Serif\" font-size=\"14.00\" fill=\"#000000\">value = [7978, 7774, 7151]</text>\n<text text-anchor=\"middle\" x=\"4664.5\" y=\"-706.8\" font-family=\"Helvetica,sans-Serif\" font-size=\"14.00\" fill=\"#000000\">class = Fatal</text>\n</g>\n<!-- 1&#45;&gt;2 -->\n<g id=\"edge2\" class=\"edge\">\n<title>1&#45;&gt;2</title>\n<path fill=\"none\" stroke=\"#000000\" d=\"M5536.577,-847.8187C5354.7205,-825.4392 4958.4842,-776.678 4769.2162,-753.3865\"/>\n<polygon fill=\"#000000\" stroke=\"#000000\" points=\"4769.6105,-749.9087 4759.2579,-752.161 4768.7555,-756.8563 4769.6105,-749.9087\"/>\n</g>\n<!-- 89 -->\n<g id=\"node90\" class=\"node\">\n<title>89</title>\n<path fill=\"#8946e7\" stroke=\"#000000\" d=\"M5694,-782C5694,-782 5569,-782 5569,-782 5563,-782 5557,-776 5557,-770 5557,-770 5557,-711 5557,-711 5557,-705 5563,-699 5569,-699 5569,-699 5694,-699 5694,-699 5700,-699 5706,-705 5706,-711 5706,-711 5706,-770 5706,-770 5706,-776 5700,-782 5694,-782\"/>\n<text text-anchor=\"middle\" x=\"5631.5\" y=\"-766.8\" font-family=\"Helvetica,sans-Serif\" font-size=\"14.00\" fill=\"#000000\">MONTH_Nov &lt;= 0.5</text>\n<text text-anchor=\"middle\" x=\"5631.5\" y=\"-751.8\" font-family=\"Helvetica,sans-Serif\" font-size=\"14.00\" fill=\"#000000\">entropy = 0.35</text>\n<text text-anchor=\"middle\" x=\"5631.5\" y=\"-736.8\" font-family=\"Helvetica,sans-Serif\" font-size=\"14.00\" fill=\"#000000\">samples = 300</text>\n<text text-anchor=\"middle\" x=\"5631.5\" y=\"-721.8\" font-family=\"Helvetica,sans-Serif\" font-size=\"14.00\" fill=\"#000000\">value = [1, 28, 441]</text>\n<text text-anchor=\"middle\" x=\"5631.5\" y=\"-706.8\" font-family=\"Helvetica,sans-Serif\" font-size=\"14.00\" fill=\"#000000\">class = Minor</text>\n</g>\n<!-- 1&#45;&gt;89 -->\n<g id=\"edge89\" class=\"edge\">\n<title>1&#45;&gt;89</title>\n<path fill=\"none\" stroke=\"#000000\" d=\"M5631.5,-817.8796C5631.5,-809.6838 5631.5,-800.9891 5631.5,-792.5013\"/>\n<polygon fill=\"#000000\" stroke=\"#000000\" points=\"5635.0001,-792.298 5631.5,-782.2981 5628.0001,-792.2981 5635.0001,-792.298\"/>\n</g>\n<!-- 3 -->\n<g id=\"node4\" class=\"node\">\n<title>3</title>\n<path fill=\"#ffffff\" stroke=\"#000000\" d=\"M2895,-663C2895,-663 2730,-663 2730,-663 2724,-663 2718,-657 2718,-651 2718,-651 2718,-592 2718,-592 2718,-586 2724,-580 2730,-580 2730,-580 2895,-580 2895,-580 2901,-580 2907,-586 2907,-592 2907,-592 2907,-651 2907,-651 2907,-657 2901,-663 2895,-663\"/>\n<text text-anchor=\"middle\" x=\"2812.5\" y=\"-647.8\" font-family=\"Helvetica,sans-Serif\" font-size=\"14.00\" fill=\"#000000\">WEEKDAY_Thu &lt;= 0.5</text>\n<text text-anchor=\"middle\" x=\"2812.5\" y=\"-632.8\" font-family=\"Helvetica,sans-Serif\" font-size=\"14.00\" fill=\"#000000\">entropy = 1.58</text>\n<text text-anchor=\"middle\" x=\"2812.5\" y=\"-617.8\" font-family=\"Helvetica,sans-Serif\" font-size=\"14.00\" fill=\"#000000\">samples = 13543</text>\n<text text-anchor=\"middle\" x=\"2812.5\" y=\"-602.8\" font-family=\"Helvetica,sans-Serif\" font-size=\"14.00\" fill=\"#000000\">value = [7576, 7590, 6156]</text>\n<text text-anchor=\"middle\" x=\"2812.5\" y=\"-587.8\" font-family=\"Helvetica,sans-Serif\" font-size=\"14.00\" fill=\"#000000\">class = Major</text>\n</g>\n<!-- 2&#45;&gt;3 -->\n<g id=\"edge3\" class=\"edge\">\n<title>2&#45;&gt;3</title>\n<path fill=\"none\" stroke=\"#000000\" d=\"M4569.7925,-734.4146C4255.1539,-714.1975 3246.0682,-649.3589 2917.2,-628.2275\"/>\n<polygon fill=\"#000000\" stroke=\"#000000\" points=\"2917.4031,-624.7334 2907.1992,-627.5849 2916.9542,-631.719 2917.4031,-624.7334\"/>\n</g>\n<!-- 54 -->\n<g id=\"node55\" class=\"node\">\n<title>54</title>\n<path fill=\"#c09bf2\" stroke=\"#000000\" d=\"M4734.5,-663C4734.5,-663 4594.5,-663 4594.5,-663 4588.5,-663 4582.5,-657 4582.5,-651 4582.5,-651 4582.5,-592 4582.5,-592 4582.5,-586 4588.5,-580 4594.5,-580 4594.5,-580 4734.5,-580 4734.5,-580 4740.5,-580 4746.5,-586 4746.5,-592 4746.5,-592 4746.5,-651 4746.5,-651 4746.5,-657 4740.5,-663 4734.5,-663\"/>\n<text text-anchor=\"middle\" x=\"4664.5\" y=\"-647.8\" font-family=\"Helvetica,sans-Serif\" font-size=\"14.00\" fill=\"#000000\">Hour_9 &lt;= 0.5</text>\n<text text-anchor=\"middle\" x=\"4664.5\" y=\"-632.8\" font-family=\"Helvetica,sans-Serif\" font-size=\"14.00\" fill=\"#000000\">entropy = 1.28</text>\n<text text-anchor=\"middle\" x=\"4664.5\" y=\"-617.8\" font-family=\"Helvetica,sans-Serif\" font-size=\"14.00\" fill=\"#000000\">samples = 993</text>\n<text text-anchor=\"middle\" x=\"4664.5\" y=\"-602.8\" font-family=\"Helvetica,sans-Serif\" font-size=\"14.00\" fill=\"#000000\">value = [402, 184, 995]</text>\n<text text-anchor=\"middle\" x=\"4664.5\" y=\"-587.8\" font-family=\"Helvetica,sans-Serif\" font-size=\"14.00\" fill=\"#000000\">class = Minor</text>\n</g>\n<!-- 2&#45;&gt;54 -->\n<g id=\"edge54\" class=\"edge\">\n<title>2&#45;&gt;54</title>\n<path fill=\"none\" stroke=\"#000000\" d=\"M4664.5,-698.8796C4664.5,-690.6838 4664.5,-681.9891 4664.5,-673.5013\"/>\n<polygon fill=\"#000000\" stroke=\"#000000\" points=\"4668.0001,-673.298 4664.5,-663.2981 4661.0001,-673.2981 4668.0001,-673.298\"/>\n</g>\n<!-- 4 -->\n<g id=\"node5\" class=\"node\">\n<title>4</title>\n<path fill=\"#fffdfc\" stroke=\"#000000\" d=\"M1909,-544C1909,-544 1744,-544 1744,-544 1738,-544 1732,-538 1732,-532 1732,-532 1732,-473 1732,-473 1732,-467 1738,-461 1744,-461 1744,-461 1909,-461 1909,-461 1915,-461 1921,-467 1921,-473 1921,-473 1921,-532 1921,-532 1921,-538 1915,-544 1909,-544\"/>\n<text text-anchor=\"middle\" x=\"1826.5\" y=\"-528.8\" font-family=\"Helvetica,sans-Serif\" font-size=\"14.00\" fill=\"#000000\">WEEKDAY_Tue &lt;= 0.5</text>\n<text text-anchor=\"middle\" x=\"1826.5\" y=\"-513.8\" font-family=\"Helvetica,sans-Serif\" font-size=\"14.00\" fill=\"#000000\">entropy = 1.57</text>\n<text text-anchor=\"middle\" x=\"1826.5\" y=\"-498.8\" font-family=\"Helvetica,sans-Serif\" font-size=\"14.00\" fill=\"#000000\">samples = 12632</text>\n<text text-anchor=\"middle\" x=\"1826.5\" y=\"-483.8\" font-family=\"Helvetica,sans-Serif\" font-size=\"14.00\" fill=\"#000000\">value = [7475, 7285, 5138]</text>\n<text text-anchor=\"middle\" x=\"1826.5\" y=\"-468.8\" font-family=\"Helvetica,sans-Serif\" font-size=\"14.00\" fill=\"#000000\">class = Fatal</text>\n</g>\n<!-- 3&#45;&gt;4 -->\n<g id=\"edge4\" class=\"edge\">\n<title>3&#45;&gt;4</title>\n<path fill=\"none\" stroke=\"#000000\" d=\"M2717.9582,-610.0898C2532.9245,-587.7581 2124.2202,-538.4317 1931.2647,-515.144\"/>\n<polygon fill=\"#000000\" stroke=\"#000000\" points=\"1931.4643,-511.6428 1921.1169,-513.9193 1930.6255,-518.5924 1931.4643,-511.6428\"/>\n</g>\n<!-- 33 -->\n<g id=\"node34\" class=\"node\">\n<title>33</title>\n<path fill=\"#af81ee\" stroke=\"#000000\" d=\"M2887,-544C2887,-544 2738,-544 2738,-544 2732,-544 2726,-538 2726,-532 2726,-532 2726,-473 2726,-473 2726,-467 2732,-461 2738,-461 2738,-461 2887,-461 2887,-461 2893,-461 2899,-467 2899,-473 2899,-473 2899,-532 2899,-532 2899,-538 2893,-544 2887,-544\"/>\n<text text-anchor=\"middle\" x=\"2812.5\" y=\"-528.8\" font-family=\"Helvetica,sans-Serif\" font-size=\"14.00\" fill=\"#000000\">MONTH_Apr &lt;= 0.5</text>\n<text text-anchor=\"middle\" x=\"2812.5\" y=\"-513.8\" font-family=\"Helvetica,sans-Serif\" font-size=\"14.00\" fill=\"#000000\">entropy = 1.09</text>\n<text text-anchor=\"middle\" x=\"2812.5\" y=\"-498.8\" font-family=\"Helvetica,sans-Serif\" font-size=\"14.00\" fill=\"#000000\">samples = 911</text>\n<text text-anchor=\"middle\" x=\"2812.5\" y=\"-483.8\" font-family=\"Helvetica,sans-Serif\" font-size=\"14.00\" fill=\"#000000\">value = [101, 305, 1018]</text>\n<text text-anchor=\"middle\" x=\"2812.5\" y=\"-468.8\" font-family=\"Helvetica,sans-Serif\" font-size=\"14.00\" fill=\"#000000\">class = Minor</text>\n</g>\n<!-- 3&#45;&gt;33 -->\n<g id=\"edge33\" class=\"edge\">\n<title>3&#45;&gt;33</title>\n<path fill=\"none\" stroke=\"#000000\" d=\"M2812.5,-579.8796C2812.5,-571.6838 2812.5,-562.9891 2812.5,-554.5013\"/>\n<polygon fill=\"#000000\" stroke=\"#000000\" points=\"2816.0001,-554.298 2812.5,-544.2981 2809.0001,-554.2981 2816.0001,-554.298\"/>\n</g>\n<!-- 5 -->\n<g id=\"node6\" class=\"node\">\n<title>5</title>\n<path fill=\"#fefcfa\" stroke=\"#000000\" d=\"M1097,-425C1097,-425 932,-425 932,-425 926,-425 920,-419 920,-413 920,-413 920,-354 920,-354 920,-348 926,-342 932,-342 932,-342 1097,-342 1097,-342 1103,-342 1109,-348 1109,-354 1109,-354 1109,-413 1109,-413 1109,-419 1103,-425 1097,-425\"/>\n<text text-anchor=\"middle\" x=\"1014.5\" y=\"-409.8\" font-family=\"Helvetica,sans-Serif\" font-size=\"14.00\" fill=\"#000000\">WEEKDAY_Mon &lt;= 0.5</text>\n<text text-anchor=\"middle\" x=\"1014.5\" y=\"-394.8\" font-family=\"Helvetica,sans-Serif\" font-size=\"14.00\" fill=\"#000000\">entropy = 1.54</text>\n<text text-anchor=\"middle\" x=\"1014.5\" y=\"-379.8\" font-family=\"Helvetica,sans-Serif\" font-size=\"14.00\" fill=\"#000000\">samples = 11646</text>\n<text text-anchor=\"middle\" x=\"1014.5\" y=\"-364.8\" font-family=\"Helvetica,sans-Serif\" font-size=\"14.00\" fill=\"#000000\">value = [7266, 7003, 4073]</text>\n<text text-anchor=\"middle\" x=\"1014.5\" y=\"-349.8\" font-family=\"Helvetica,sans-Serif\" font-size=\"14.00\" fill=\"#000000\">class = Fatal</text>\n</g>\n<!-- 4&#45;&gt;5 -->\n<g id=\"edge5\" class=\"edge\">\n<title>4&#45;&gt;5</title>\n<path fill=\"none\" stroke=\"#000000\" d=\"M1731.7641,-488.6163C1578.8663,-466.2089 1278.7779,-422.2304 1119.5411,-398.894\"/>\n<polygon fill=\"#000000\" stroke=\"#000000\" points=\"1119.6611,-395.3742 1109.2593,-397.3871 1118.646,-402.3003 1119.6611,-395.3742\"/>\n</g>\n<!-- 20 -->\n<g id=\"node21\" class=\"node\">\n<title>20</title>\n<path fill=\"#b285ef\" stroke=\"#000000\" d=\"M1901,-425C1901,-425 1752,-425 1752,-425 1746,-425 1740,-419 1740,-413 1740,-413 1740,-354 1740,-354 1740,-348 1746,-342 1752,-342 1752,-342 1901,-342 1901,-342 1907,-342 1913,-348 1913,-354 1913,-354 1913,-413 1913,-413 1913,-419 1907,-425 1901,-425\"/>\n<text text-anchor=\"middle\" x=\"1826.5\" y=\"-409.8\" font-family=\"Helvetica,sans-Serif\" font-size=\"14.00\" fill=\"#000000\">MONTH_Apr &lt;= 0.5</text>\n<text text-anchor=\"middle\" x=\"1826.5\" y=\"-394.8\" font-family=\"Helvetica,sans-Serif\" font-size=\"14.00\" fill=\"#000000\">entropy = 1.21</text>\n<text text-anchor=\"middle\" x=\"1826.5\" y=\"-379.8\" font-family=\"Helvetica,sans-Serif\" font-size=\"14.00\" fill=\"#000000\">samples = 986</text>\n<text text-anchor=\"middle\" x=\"1826.5\" y=\"-364.8\" font-family=\"Helvetica,sans-Serif\" font-size=\"14.00\" fill=\"#000000\">value = [209, 282, 1065]</text>\n<text text-anchor=\"middle\" x=\"1826.5\" y=\"-349.8\" font-family=\"Helvetica,sans-Serif\" font-size=\"14.00\" fill=\"#000000\">class = Minor</text>\n</g>\n<!-- 4&#45;&gt;20 -->\n<g id=\"edge20\" class=\"edge\">\n<title>4&#45;&gt;20</title>\n<path fill=\"none\" stroke=\"#000000\" d=\"M1826.5,-460.8796C1826.5,-452.6838 1826.5,-443.9891 1826.5,-435.5013\"/>\n<polygon fill=\"#000000\" stroke=\"#000000\" points=\"1830.0001,-435.298 1826.5,-425.2981 1823.0001,-435.2981 1830.0001,-435.298\"/>\n</g>\n<!-- 6 -->\n<g id=\"node7\" class=\"node\">\n<title>6</title>\n<path fill=\"#fefbf9\" stroke=\"#000000\" d=\"M617,-306C617,-306 452,-306 452,-306 446,-306 440,-300 440,-294 440,-294 440,-235 440,-235 440,-229 446,-223 452,-223 452,-223 617,-223 617,-223 623,-223 629,-229 629,-235 629,-235 629,-294 629,-294 629,-300 623,-306 617,-306\"/>\n<text text-anchor=\"middle\" x=\"534.5\" y=\"-290.8\" font-family=\"Helvetica,sans-Serif\" font-size=\"14.00\" fill=\"#000000\">Hour_1 &lt;= 0.5</text>\n<text text-anchor=\"middle\" x=\"534.5\" y=\"-275.8\" font-family=\"Helvetica,sans-Serif\" font-size=\"14.00\" fill=\"#000000\">entropy = 1.51</text>\n<text text-anchor=\"middle\" x=\"534.5\" y=\"-260.8\" font-family=\"Helvetica,sans-Serif\" font-size=\"14.00\" fill=\"#000000\">samples = 10845</text>\n<text text-anchor=\"middle\" x=\"534.5\" y=\"-245.8\" font-family=\"Helvetica,sans-Serif\" font-size=\"14.00\" fill=\"#000000\">value = [7088, 6794, 3205]</text>\n<text text-anchor=\"middle\" x=\"534.5\" y=\"-230.8\" font-family=\"Helvetica,sans-Serif\" font-size=\"14.00\" fill=\"#000000\">class = Fatal</text>\n</g>\n<!-- 5&#45;&gt;6 -->\n<g id=\"edge6\" class=\"edge\">\n<title>5&#45;&gt;6</title>\n<path fill=\"none\" stroke=\"#000000\" d=\"M919.954,-360.0605C839.0365,-339.9997 722.7006,-311.1581 639.0304,-290.4148\"/>\n<polygon fill=\"#000000\" stroke=\"#000000\" points=\"639.7981,-286.9993 629.2497,-287.99 638.1136,-293.7936 639.7981,-286.9993\"/>\n</g>\n<!-- 13 -->\n<g id=\"node14\" class=\"node\">\n<title>13</title>\n<path fill=\"#b082ef\" stroke=\"#000000\" d=\"M1084.5,-306C1084.5,-306 944.5,-306 944.5,-306 938.5,-306 932.5,-300 932.5,-294 932.5,-294 932.5,-235 932.5,-235 932.5,-229 938.5,-223 944.5,-223 944.5,-223 1084.5,-223 1084.5,-223 1090.5,-223 1096.5,-229 1096.5,-235 1096.5,-235 1096.5,-294 1096.5,-294 1096.5,-300 1090.5,-306 1084.5,-306\"/>\n<text text-anchor=\"middle\" x=\"1014.5\" y=\"-290.8\" font-family=\"Helvetica,sans-Serif\" font-size=\"14.00\" fill=\"#000000\">Cloud Cover &lt;= 75.2</text>\n<text text-anchor=\"middle\" x=\"1014.5\" y=\"-275.8\" font-family=\"Helvetica,sans-Serif\" font-size=\"14.00\" fill=\"#000000\">entropy = 1.2</text>\n<text text-anchor=\"middle\" x=\"1014.5\" y=\"-260.8\" font-family=\"Helvetica,sans-Serif\" font-size=\"14.00\" fill=\"#000000\">samples = 801</text>\n<text text-anchor=\"middle\" x=\"1014.5\" y=\"-245.8\" font-family=\"Helvetica,sans-Serif\" font-size=\"14.00\" fill=\"#000000\">value = [178, 209, 868]</text>\n<text text-anchor=\"middle\" x=\"1014.5\" y=\"-230.8\" font-family=\"Helvetica,sans-Serif\" font-size=\"14.00\" fill=\"#000000\">class = Minor</text>\n</g>\n<!-- 5&#45;&gt;13 -->\n<g id=\"edge13\" class=\"edge\">\n<title>5&#45;&gt;13</title>\n<path fill=\"none\" stroke=\"#000000\" d=\"M1014.5,-341.8796C1014.5,-333.6838 1014.5,-324.9891 1014.5,-316.5013\"/>\n<polygon fill=\"#000000\" stroke=\"#000000\" points=\"1018.0001,-316.298 1014.5,-306.2981 1011.0001,-316.2981 1018.0001,-316.298\"/>\n</g>\n<!-- 7 -->\n<g id=\"node8\" class=\"node\">\n<title>7</title>\n<path fill=\"#ffffff\" stroke=\"#000000\" d=\"M360,-187C360,-187 195,-187 195,-187 189,-187 183,-181 183,-175 183,-175 183,-116 183,-116 183,-110 189,-104 195,-104 195,-104 360,-104 360,-104 366,-104 372,-110 372,-116 372,-116 372,-175 372,-175 372,-181 366,-187 360,-187\"/>\n<text text-anchor=\"middle\" x=\"277.5\" y=\"-171.8\" font-family=\"Helvetica,sans-Serif\" font-size=\"14.00\" fill=\"#000000\">Hour_2 &lt;= 0.5</text>\n<text text-anchor=\"middle\" x=\"277.5\" y=\"-156.8\" font-family=\"Helvetica,sans-Serif\" font-size=\"14.00\" fill=\"#000000\">entropy = 1.5</text>\n<text text-anchor=\"middle\" x=\"277.5\" y=\"-141.8\" font-family=\"Helvetica,sans-Serif\" font-size=\"14.00\" fill=\"#000000\">samples = 10480</text>\n<text text-anchor=\"middle\" x=\"277.5\" y=\"-126.8\" font-family=\"Helvetica,sans-Serif\" font-size=\"14.00\" fill=\"#000000\">value = [6765, 6773, 2962]</text>\n<text text-anchor=\"middle\" x=\"277.5\" y=\"-111.8\" font-family=\"Helvetica,sans-Serif\" font-size=\"14.00\" fill=\"#000000\">class = Major</text>\n</g>\n<!-- 6&#45;&gt;7 -->\n<g id=\"edge7\" class=\"edge\">\n<title>6&#45;&gt;7</title>\n<path fill=\"none\" stroke=\"#000000\" d=\"M444.6139,-222.8796C422.6047,-212.6886 398.9295,-201.7261 376.5188,-191.3492\"/>\n<polygon fill=\"#000000\" stroke=\"#000000\" points=\"377.8804,-188.1227 367.3354,-187.0969 374.9392,-194.4748 377.8804,-188.1227\"/>\n</g>\n<!-- 10 -->\n<g id=\"node11\" class=\"node\">\n<title>10</title>\n<path fill=\"#f9e2d1\" stroke=\"#000000\" d=\"M600.5,-187C600.5,-187 468.5,-187 468.5,-187 462.5,-187 456.5,-181 456.5,-175 456.5,-175 456.5,-116 456.5,-116 456.5,-110 462.5,-104 468.5,-104 468.5,-104 600.5,-104 600.5,-104 606.5,-104 612.5,-110 612.5,-116 612.5,-116 612.5,-175 612.5,-175 612.5,-181 606.5,-187 600.5,-187\"/>\n<text text-anchor=\"middle\" x=\"534.5\" y=\"-171.8\" font-family=\"Helvetica,sans-Serif\" font-size=\"14.00\" fill=\"#000000\">Precipitation &lt;= 0.0</text>\n<text text-anchor=\"middle\" x=\"534.5\" y=\"-156.8\" font-family=\"Helvetica,sans-Serif\" font-size=\"14.00\" fill=\"#000000\">entropy = 1.17</text>\n<text text-anchor=\"middle\" x=\"534.5\" y=\"-141.8\" font-family=\"Helvetica,sans-Serif\" font-size=\"14.00\" fill=\"#000000\">samples = 365</text>\n<text text-anchor=\"middle\" x=\"534.5\" y=\"-126.8\" font-family=\"Helvetica,sans-Serif\" font-size=\"14.00\" fill=\"#000000\">value = [323, 21, 243]</text>\n<text text-anchor=\"middle\" x=\"534.5\" y=\"-111.8\" font-family=\"Helvetica,sans-Serif\" font-size=\"14.00\" fill=\"#000000\">class = Fatal</text>\n</g>\n<!-- 6&#45;&gt;10 -->\n<g id=\"edge10\" class=\"edge\">\n<title>6&#45;&gt;10</title>\n<path fill=\"none\" stroke=\"#000000\" d=\"M534.5,-222.8796C534.5,-214.6838 534.5,-205.9891 534.5,-197.5013\"/>\n<polygon fill=\"#000000\" stroke=\"#000000\" points=\"538.0001,-197.298 534.5,-187.2981 531.0001,-197.2981 538.0001,-197.298\"/>\n</g>\n<!-- 8 -->\n<g id=\"node9\" class=\"node\">\n<title>8</title>\n<path fill=\"#fffefe\" stroke=\"#000000\" d=\"M177,-68C177,-68 12,-68 12,-68 6,-68 0,-62 0,-56 0,-56 0,-12 0,-12 0,-6 6,0 12,0 12,0 177,0 177,0 183,0 189,-6 189,-12 189,-12 189,-56 189,-56 189,-62 183,-68 177,-68\"/>\n<text text-anchor=\"middle\" x=\"94.5\" y=\"-52.8\" font-family=\"Helvetica,sans-Serif\" font-size=\"14.00\" fill=\"#000000\">entropy = 1.49</text>\n<text text-anchor=\"middle\" x=\"94.5\" y=\"-37.8\" font-family=\"Helvetica,sans-Serif\" font-size=\"14.00\" fill=\"#000000\">samples = 10286</text>\n<text text-anchor=\"middle\" x=\"94.5\" y=\"-22.8\" font-family=\"Helvetica,sans-Serif\" font-size=\"14.00\" fill=\"#000000\">value = [6763, 6704, 2733]</text>\n<text text-anchor=\"middle\" x=\"94.5\" y=\"-7.8\" font-family=\"Helvetica,sans-Serif\" font-size=\"14.00\" fill=\"#000000\">class = Fatal</text>\n</g>\n<!-- 7&#45;&gt;8 -->\n<g id=\"edge8\" class=\"edge\">\n<title>7&#45;&gt;8</title>\n<path fill=\"none\" stroke=\"#000000\" d=\"M209.3576,-103.9815C192.9808,-94.0034 175.5343,-83.3733 159.3138,-73.4904\"/>\n<polygon fill=\"#000000\" stroke=\"#000000\" points=\"160.8041,-70.2999 150.4432,-68.0856 157.1618,-76.2778 160.8041,-70.2999\"/>\n</g>\n<!-- 9 -->\n<g id=\"node10\" class=\"node\">\n<title>9</title>\n<path fill=\"#a876ed\" stroke=\"#000000\" d=\"M335.5,-68C335.5,-68 219.5,-68 219.5,-68 213.5,-68 207.5,-62 207.5,-56 207.5,-56 207.5,-12 207.5,-12 207.5,-6 213.5,0 219.5,0 219.5,0 335.5,0 335.5,0 341.5,0 347.5,-6 347.5,-12 347.5,-12 347.5,-56 347.5,-56 347.5,-62 341.5,-68 335.5,-68\"/>\n<text text-anchor=\"middle\" x=\"277.5\" y=\"-52.8\" font-family=\"Helvetica,sans-Serif\" font-size=\"14.00\" fill=\"#000000\">entropy = 0.83</text>\n<text text-anchor=\"middle\" x=\"277.5\" y=\"-37.8\" font-family=\"Helvetica,sans-Serif\" font-size=\"14.00\" fill=\"#000000\">samples = 194</text>\n<text text-anchor=\"middle\" x=\"277.5\" y=\"-22.8\" font-family=\"Helvetica,sans-Serif\" font-size=\"14.00\" fill=\"#000000\">value = [2, 69, 229]</text>\n<text text-anchor=\"middle\" x=\"277.5\" y=\"-7.8\" font-family=\"Helvetica,sans-Serif\" font-size=\"14.00\" fill=\"#000000\">class = Minor</text>\n</g>\n<!-- 7&#45;&gt;9 -->\n<g id=\"edge9\" class=\"edge\">\n<title>7&#45;&gt;9</title>\n<path fill=\"none\" stroke=\"#000000\" d=\"M277.5,-103.9815C277.5,-95.618 277.5,-86.7965 277.5,-78.3409\"/>\n<polygon fill=\"#000000\" stroke=\"#000000\" points=\"281.0001,-78.2636 277.5,-68.2637 274.0001,-78.2637 281.0001,-78.2636\"/>\n</g>\n<!-- 11 -->\n<g id=\"node12\" class=\"node\">\n<title>11</title>\n<path fill=\"#8c4ae7\" stroke=\"#000000\" d=\"M493.5,-68C493.5,-68 377.5,-68 377.5,-68 371.5,-68 365.5,-62 365.5,-56 365.5,-56 365.5,-12 365.5,-12 365.5,-6 371.5,0 377.5,0 377.5,0 493.5,0 493.5,0 499.5,0 505.5,-6 505.5,-12 505.5,-12 505.5,-56 505.5,-56 505.5,-62 499.5,-68 493.5,-68\"/>\n<text text-anchor=\"middle\" x=\"435.5\" y=\"-52.8\" font-family=\"Helvetica,sans-Serif\" font-size=\"14.00\" fill=\"#000000\">entropy = 0.43</text>\n<text text-anchor=\"middle\" x=\"435.5\" y=\"-37.8\" font-family=\"Helvetica,sans-Serif\" font-size=\"14.00\" fill=\"#000000\">samples = 97</text>\n<text text-anchor=\"middle\" x=\"435.5\" y=\"-22.8\" font-family=\"Helvetica,sans-Serif\" font-size=\"14.00\" fill=\"#000000\">value = [1, 11, 139]</text>\n<text text-anchor=\"middle\" x=\"435.5\" y=\"-7.8\" font-family=\"Helvetica,sans-Serif\" font-size=\"14.00\" fill=\"#000000\">class = Minor</text>\n</g>\n<!-- 10&#45;&gt;11 -->\n<g id=\"edge11\" class=\"edge\">\n<title>10&#45;&gt;11</title>\n<path fill=\"none\" stroke=\"#000000\" d=\"M497.6361,-103.9815C489.4757,-94.7908 480.8244,-85.0472 472.6526,-75.8436\"/>\n<polygon fill=\"#000000\" stroke=\"#000000\" points=\"475.1792,-73.4177 465.9225,-68.2637 469.9447,-78.0653 475.1792,-73.4177\"/>\n</g>\n<!-- 12 -->\n<g id=\"node13\" class=\"node\">\n<title>12</title>\n<path fill=\"#eeac7d\" stroke=\"#000000\" d=\"M667.5,-68C667.5,-68 535.5,-68 535.5,-68 529.5,-68 523.5,-62 523.5,-56 523.5,-56 523.5,-12 523.5,-12 523.5,-6 529.5,0 535.5,0 535.5,0 667.5,0 667.5,0 673.5,0 679.5,-6 679.5,-12 679.5,-12 679.5,-56 679.5,-56 679.5,-62 673.5,-68 667.5,-68\"/>\n<text text-anchor=\"middle\" x=\"601.5\" y=\"-52.8\" font-family=\"Helvetica,sans-Serif\" font-size=\"14.00\" fill=\"#000000\">entropy = 0.94</text>\n<text text-anchor=\"middle\" x=\"601.5\" y=\"-37.8\" font-family=\"Helvetica,sans-Serif\" font-size=\"14.00\" fill=\"#000000\">samples = 268</text>\n<text text-anchor=\"middle\" x=\"601.5\" y=\"-22.8\" font-family=\"Helvetica,sans-Serif\" font-size=\"14.00\" fill=\"#000000\">value = [322, 10, 104]</text>\n<text text-anchor=\"middle\" x=\"601.5\" y=\"-7.8\" font-family=\"Helvetica,sans-Serif\" font-size=\"14.00\" fill=\"#000000\">class = Fatal</text>\n</g>\n<!-- 10&#45;&gt;12 -->\n<g id=\"edge12\" class=\"edge\">\n<title>10&#45;&gt;12</title>\n<path fill=\"none\" stroke=\"#000000\" d=\"M559.4483,-103.9815C564.7501,-95.1585 570.3581,-85.8258 575.6911,-76.9506\"/>\n<polygon fill=\"#000000\" stroke=\"#000000\" points=\"578.7605,-78.638 580.9111,-68.2637 572.7604,-75.0325 578.7605,-78.638\"/>\n</g>\n<!-- 14 -->\n<g id=\"node15\" class=\"node\">\n<title>14</title>\n<path fill=\"#b58bf0\" stroke=\"#000000\" d=\"M985.5,-187C985.5,-187 845.5,-187 845.5,-187 839.5,-187 833.5,-181 833.5,-175 833.5,-175 833.5,-116 833.5,-116 833.5,-110 839.5,-104 845.5,-104 845.5,-104 985.5,-104 985.5,-104 991.5,-104 997.5,-110 997.5,-116 997.5,-116 997.5,-175 997.5,-175 997.5,-181 991.5,-187 985.5,-187\"/>\n<text text-anchor=\"middle\" x=\"915.5\" y=\"-171.8\" font-family=\"Helvetica,sans-Serif\" font-size=\"14.00\" fill=\"#000000\">MONTH_Jun &lt;= 0.5</text>\n<text text-anchor=\"middle\" x=\"915.5\" y=\"-156.8\" font-family=\"Helvetica,sans-Serif\" font-size=\"14.00\" fill=\"#000000\">entropy = 1.24</text>\n<text text-anchor=\"middle\" x=\"915.5\" y=\"-141.8\" font-family=\"Helvetica,sans-Serif\" font-size=\"14.00\" fill=\"#000000\">samples = 556</text>\n<text text-anchor=\"middle\" x=\"915.5\" y=\"-126.8\" font-family=\"Helvetica,sans-Serif\" font-size=\"14.00\" fill=\"#000000\">value = [178, 113, 586]</text>\n<text text-anchor=\"middle\" x=\"915.5\" y=\"-111.8\" font-family=\"Helvetica,sans-Serif\" font-size=\"14.00\" fill=\"#000000\">class = Minor</text>\n</g>\n<!-- 13&#45;&gt;14 -->\n<g id=\"edge14\" class=\"edge\">\n<title>13&#45;&gt;14</title>\n<path fill=\"none\" stroke=\"#000000\" d=\"M979.8746,-222.8796C972.382,-213.8733 964.3881,-204.2644 956.6721,-194.9897\"/>\n<polygon fill=\"#000000\" stroke=\"#000000\" points=\"959.3593,-192.7472 950.2732,-187.2981 953.9781,-197.224 959.3593,-192.7472\"/>\n</g>\n<!-- 17 -->\n<g id=\"node18\" class=\"node\">\n<title>17</title>\n<path fill=\"#ac7cee\" stroke=\"#000000\" d=\"M1201,-187C1201,-187 1028,-187 1028,-187 1022,-187 1016,-181 1016,-175 1016,-175 1016,-116 1016,-116 1016,-110 1022,-104 1028,-104 1028,-104 1201,-104 1201,-104 1207,-104 1213,-110 1213,-116 1213,-116 1213,-175 1213,-175 1213,-181 1207,-187 1201,-187\"/>\n<text text-anchor=\"middle\" x=\"1114.5\" y=\"-171.8\" font-family=\"Helvetica,sans-Serif\" font-size=\"14.00\" fill=\"#000000\">Conditions_Overcast &lt;= 0.5</text>\n<text text-anchor=\"middle\" x=\"1114.5\" y=\"-156.8\" font-family=\"Helvetica,sans-Serif\" font-size=\"14.00\" fill=\"#000000\">entropy = 0.82</text>\n<text text-anchor=\"middle\" x=\"1114.5\" y=\"-141.8\" font-family=\"Helvetica,sans-Serif\" font-size=\"14.00\" fill=\"#000000\">samples = 245</text>\n<text text-anchor=\"middle\" x=\"1114.5\" y=\"-126.8\" font-family=\"Helvetica,sans-Serif\" font-size=\"14.00\" fill=\"#000000\">value = [0, 96, 282]</text>\n<text text-anchor=\"middle\" x=\"1114.5\" y=\"-111.8\" font-family=\"Helvetica,sans-Serif\" font-size=\"14.00\" fill=\"#000000\">class = Minor</text>\n</g>\n<!-- 13&#45;&gt;17 -->\n<g id=\"edge17\" class=\"edge\">\n<title>13&#45;&gt;17</title>\n<path fill=\"none\" stroke=\"#000000\" d=\"M1049.4751,-222.8796C1057.0435,-213.8733 1065.1181,-204.2644 1072.912,-194.9897\"/>\n<polygon fill=\"#000000\" stroke=\"#000000\" points=\"1075.6216,-197.2056 1079.3756,-187.2981 1070.2626,-192.7022 1075.6216,-197.2056\"/>\n</g>\n<!-- 15 -->\n<g id=\"node16\" class=\"node\">\n<title>15</title>\n<path fill=\"#aa7aed\" stroke=\"#000000\" d=\"M841.5,-68C841.5,-68 709.5,-68 709.5,-68 703.5,-68 697.5,-62 697.5,-56 697.5,-56 697.5,-12 697.5,-12 697.5,-6 703.5,0 709.5,0 709.5,0 841.5,0 841.5,0 847.5,0 853.5,-6 853.5,-12 853.5,-12 853.5,-56 853.5,-56 853.5,-62 847.5,-68 841.5,-68\"/>\n<text text-anchor=\"middle\" x=\"775.5\" y=\"-52.8\" font-family=\"Helvetica,sans-Serif\" font-size=\"14.00\" fill=\"#000000\">entropy = 1.13</text>\n<text text-anchor=\"middle\" x=\"775.5\" y=\"-37.8\" font-family=\"Helvetica,sans-Serif\" font-size=\"14.00\" fill=\"#000000\">samples = 466</text>\n<text text-anchor=\"middle\" x=\"775.5\" y=\"-22.8\" font-family=\"Helvetica,sans-Serif\" font-size=\"14.00\" fill=\"#000000\">value = [99, 105, 527]</text>\n<text text-anchor=\"middle\" x=\"775.5\" y=\"-7.8\" font-family=\"Helvetica,sans-Serif\" font-size=\"14.00\" fill=\"#000000\">class = Minor</text>\n</g>\n<!-- 14&#45;&gt;15 -->\n<g id=\"edge15\" class=\"edge\">\n<title>14&#45;&gt;15</title>\n<path fill=\"none\" stroke=\"#000000\" d=\"M863.3692,-103.9815C851.3677,-94.4232 838.6152,-84.2668 826.6557,-74.7419\"/>\n<polygon fill=\"#000000\" stroke=\"#000000\" points=\"828.5244,-71.7558 818.5217,-68.2637 824.1635,-77.2314 828.5244,-71.7558\"/>\n</g>\n<!-- 16 -->\n<g id=\"node17\" class=\"node\">\n<title>16</title>\n<path fill=\"#f9e2d1\" stroke=\"#000000\" d=\"M991,-68C991,-68 884,-68 884,-68 878,-68 872,-62 872,-56 872,-56 872,-12 872,-12 872,-6 878,0 884,0 884,0 991,0 991,0 997,0 1003,-6 1003,-12 1003,-12 1003,-56 1003,-56 1003,-62 997,-68 991,-68\"/>\n<text text-anchor=\"middle\" x=\"937.5\" y=\"-52.8\" font-family=\"Helvetica,sans-Serif\" font-size=\"14.00\" fill=\"#000000\">entropy = 1.24</text>\n<text text-anchor=\"middle\" x=\"937.5\" y=\"-37.8\" font-family=\"Helvetica,sans-Serif\" font-size=\"14.00\" fill=\"#000000\">samples = 90</text>\n<text text-anchor=\"middle\" x=\"937.5\" y=\"-22.8\" font-family=\"Helvetica,sans-Serif\" font-size=\"14.00\" fill=\"#000000\">value = [79, 8, 59]</text>\n<text text-anchor=\"middle\" x=\"937.5\" y=\"-7.8\" font-family=\"Helvetica,sans-Serif\" font-size=\"14.00\" fill=\"#000000\">class = Fatal</text>\n</g>\n<!-- 14&#45;&gt;16 -->\n<g id=\"edge16\" class=\"edge\">\n<title>14&#45;&gt;16</title>\n<path fill=\"none\" stroke=\"#000000\" d=\"M923.692,-103.9815C925.3422,-95.618 927.0827,-86.7965 928.7511,-78.3409\"/>\n<polygon fill=\"#000000\" stroke=\"#000000\" points=\"932.2374,-78.7521 930.7395,-68.2637 925.3698,-77.397 932.2374,-78.7521\"/>\n</g>\n<!-- 18 -->\n<g id=\"node19\" class=\"node\">\n<title>18</title>\n<path fill=\"#bb94f1\" stroke=\"#000000\" d=\"M1149.5,-68C1149.5,-68 1033.5,-68 1033.5,-68 1027.5,-68 1021.5,-62 1021.5,-56 1021.5,-56 1021.5,-12 1021.5,-12 1021.5,-6 1027.5,0 1033.5,0 1033.5,0 1149.5,0 1149.5,0 1155.5,0 1161.5,-6 1161.5,-12 1161.5,-12 1161.5,-56 1161.5,-56 1161.5,-62 1155.5,-68 1149.5,-68\"/>\n<text text-anchor=\"middle\" x=\"1091.5\" y=\"-52.8\" font-family=\"Helvetica,sans-Serif\" font-size=\"14.00\" fill=\"#000000\">entropy = 0.9</text>\n<text text-anchor=\"middle\" x=\"1091.5\" y=\"-37.8\" font-family=\"Helvetica,sans-Serif\" font-size=\"14.00\" fill=\"#000000\">samples = 158</text>\n<text text-anchor=\"middle\" x=\"1091.5\" y=\"-22.8\" font-family=\"Helvetica,sans-Serif\" font-size=\"14.00\" fill=\"#000000\">value = [0, 78, 169]</text>\n<text text-anchor=\"middle\" x=\"1091.5\" y=\"-7.8\" font-family=\"Helvetica,sans-Serif\" font-size=\"14.00\" fill=\"#000000\">class = Minor</text>\n</g>\n<!-- 17&#45;&gt;18 -->\n<g id=\"edge18\" class=\"edge\">\n<title>17&#45;&gt;18</title>\n<path fill=\"none\" stroke=\"#000000\" d=\"M1105.9356,-103.9815C1104.1915,-95.5261 1102.3508,-86.6026 1100.5891,-78.0623\"/>\n<polygon fill=\"#000000\" stroke=\"#000000\" points=\"1104.016,-77.3504 1098.5678,-68.2637 1097.1603,-78.7646 1104.016,-77.3504\"/>\n</g>\n<!-- 19 -->\n<g id=\"node20\" class=\"node\">\n<title>19</title>\n<path fill=\"#9559e9\" stroke=\"#000000\" d=\"M1307.5,-68C1307.5,-68 1191.5,-68 1191.5,-68 1185.5,-68 1179.5,-62 1179.5,-56 1179.5,-56 1179.5,-12 1179.5,-12 1179.5,-6 1185.5,0 1191.5,0 1191.5,0 1307.5,0 1307.5,0 1313.5,0 1319.5,-6 1319.5,-12 1319.5,-12 1319.5,-56 1319.5,-56 1319.5,-62 1313.5,-68 1307.5,-68\"/>\n<text text-anchor=\"middle\" x=\"1249.5\" y=\"-52.8\" font-family=\"Helvetica,sans-Serif\" font-size=\"14.00\" fill=\"#000000\">entropy = 0.58</text>\n<text text-anchor=\"middle\" x=\"1249.5\" y=\"-37.8\" font-family=\"Helvetica,sans-Serif\" font-size=\"14.00\" fill=\"#000000\">samples = 87</text>\n<text text-anchor=\"middle\" x=\"1249.5\" y=\"-22.8\" font-family=\"Helvetica,sans-Serif\" font-size=\"14.00\" fill=\"#000000\">value = [0, 18, 113]</text>\n<text text-anchor=\"middle\" x=\"1249.5\" y=\"-7.8\" font-family=\"Helvetica,sans-Serif\" font-size=\"14.00\" fill=\"#000000\">class = Minor</text>\n</g>\n<!-- 17&#45;&gt;19 -->\n<g id=\"edge19\" class=\"edge\">\n<title>17&#45;&gt;19</title>\n<path fill=\"none\" stroke=\"#000000\" d=\"M1164.769,-103.9815C1176.3418,-94.4232 1188.6389,-84.2668 1200.1713,-74.7419\"/>\n<polygon fill=\"#000000\" stroke=\"#000000\" points=\"1202.5334,-77.3304 1208.0148,-68.2637 1198.0757,-71.9332 1202.5334,-77.3304\"/>\n</g>\n<!-- 21 -->\n<g id=\"node22\" class=\"node\">\n<title>21</title>\n<path fill=\"#b58af0\" stroke=\"#000000\" d=\"M1815.5,-306C1815.5,-306 1675.5,-306 1675.5,-306 1669.5,-306 1663.5,-300 1663.5,-294 1663.5,-294 1663.5,-235 1663.5,-235 1663.5,-229 1669.5,-223 1675.5,-223 1675.5,-223 1815.5,-223 1815.5,-223 1821.5,-223 1827.5,-229 1827.5,-235 1827.5,-235 1827.5,-294 1827.5,-294 1827.5,-300 1821.5,-306 1815.5,-306\"/>\n<text text-anchor=\"middle\" x=\"1745.5\" y=\"-290.8\" font-family=\"Helvetica,sans-Serif\" font-size=\"14.00\" fill=\"#000000\">Temperature &lt;= 68.91</text>\n<text text-anchor=\"middle\" x=\"1745.5\" y=\"-275.8\" font-family=\"Helvetica,sans-Serif\" font-size=\"14.00\" fill=\"#000000\">entropy = 1.24</text>\n<text text-anchor=\"middle\" x=\"1745.5\" y=\"-260.8\" font-family=\"Helvetica,sans-Serif\" font-size=\"14.00\" fill=\"#000000\">samples = 923</text>\n<text text-anchor=\"middle\" x=\"1745.5\" y=\"-245.8\" font-family=\"Helvetica,sans-Serif\" font-size=\"14.00\" fill=\"#000000\">value = [209, 275, 973]</text>\n<text text-anchor=\"middle\" x=\"1745.5\" y=\"-230.8\" font-family=\"Helvetica,sans-Serif\" font-size=\"14.00\" fill=\"#000000\">class = Minor</text>\n</g>\n<!-- 20&#45;&gt;21 -->\n<g id=\"edge21\" class=\"edge\">\n<title>20&#45;&gt;21</title>\n<path fill=\"none\" stroke=\"#000000\" d=\"M1798.1701,-341.8796C1792.2237,-333.1434 1785.8914,-323.8404 1779.755,-314.8253\"/>\n<polygon fill=\"#000000\" stroke=\"#000000\" points=\"1782.4711,-312.5953 1773.9508,-306.2981 1776.6844,-316.5342 1782.4711,-312.5953\"/>\n</g>\n<!-- 28 -->\n<g id=\"node29\" class=\"node\">\n<title>28</title>\n<path fill=\"#8b48e7\" stroke=\"#000000\" d=\"M1957,-306C1957,-306 1858,-306 1858,-306 1852,-306 1846,-300 1846,-294 1846,-294 1846,-235 1846,-235 1846,-229 1852,-223 1858,-223 1858,-223 1957,-223 1957,-223 1963,-223 1969,-229 1969,-235 1969,-235 1969,-294 1969,-294 1969,-300 1963,-306 1957,-306\"/>\n<text text-anchor=\"middle\" x=\"1907.5\" y=\"-290.8\" font-family=\"Helvetica,sans-Serif\" font-size=\"14.00\" fill=\"#000000\">Visibility &lt;= 9.55</text>\n<text text-anchor=\"middle\" x=\"1907.5\" y=\"-275.8\" font-family=\"Helvetica,sans-Serif\" font-size=\"14.00\" fill=\"#000000\">entropy = 0.37</text>\n<text text-anchor=\"middle\" x=\"1907.5\" y=\"-260.8\" font-family=\"Helvetica,sans-Serif\" font-size=\"14.00\" fill=\"#000000\">samples = 63</text>\n<text text-anchor=\"middle\" x=\"1907.5\" y=\"-245.8\" font-family=\"Helvetica,sans-Serif\" font-size=\"14.00\" fill=\"#000000\">value = [0, 7, 92]</text>\n<text text-anchor=\"middle\" x=\"1907.5\" y=\"-230.8\" font-family=\"Helvetica,sans-Serif\" font-size=\"14.00\" fill=\"#000000\">class = Minor</text>\n</g>\n<!-- 20&#45;&gt;28 -->\n<g id=\"edge28\" class=\"edge\">\n<title>20&#45;&gt;28</title>\n<path fill=\"none\" stroke=\"#000000\" d=\"M1854.8299,-341.8796C1860.7763,-333.1434 1867.1086,-323.8404 1873.245,-314.8253\"/>\n<polygon fill=\"#000000\" stroke=\"#000000\" points=\"1876.3156,-316.5342 1879.0492,-306.2981 1870.5289,-312.5953 1876.3156,-316.5342\"/>\n</g>\n<!-- 22 -->\n<g id=\"node23\" class=\"node\">\n<title>22</title>\n<path fill=\"#a673ed\" stroke=\"#000000\" d=\"M1633.5,-187C1633.5,-187 1499.5,-187 1499.5,-187 1493.5,-187 1487.5,-181 1487.5,-175 1487.5,-175 1487.5,-116 1487.5,-116 1487.5,-110 1493.5,-104 1499.5,-104 1499.5,-104 1633.5,-104 1633.5,-104 1639.5,-104 1645.5,-110 1645.5,-116 1645.5,-116 1645.5,-175 1645.5,-175 1645.5,-181 1639.5,-187 1633.5,-187\"/>\n<text text-anchor=\"middle\" x=\"1566.5\" y=\"-171.8\" font-family=\"Helvetica,sans-Serif\" font-size=\"14.00\" fill=\"#000000\">Cloud Cover &lt;= 51.36</text>\n<text text-anchor=\"middle\" x=\"1566.5\" y=\"-156.8\" font-family=\"Helvetica,sans-Serif\" font-size=\"14.00\" fill=\"#000000\">entropy = 0.99</text>\n<text text-anchor=\"middle\" x=\"1566.5\" y=\"-141.8\" font-family=\"Helvetica,sans-Serif\" font-size=\"14.00\" fill=\"#000000\">samples = 453</text>\n<text text-anchor=\"middle\" x=\"1566.5\" y=\"-126.8\" font-family=\"Helvetica,sans-Serif\" font-size=\"14.00\" fill=\"#000000\">value = [44, 127, 544]</text>\n<text text-anchor=\"middle\" x=\"1566.5\" y=\"-111.8\" font-family=\"Helvetica,sans-Serif\" font-size=\"14.00\" fill=\"#000000\">class = Minor</text>\n</g>\n<!-- 21&#45;&gt;22 -->\n<g id=\"edge22\" class=\"edge\">\n<title>21&#45;&gt;22</title>\n<path fill=\"none\" stroke=\"#000000\" d=\"M1682.8945,-222.8796C1668.3146,-213.1868 1652.6849,-202.7961 1637.7618,-192.8752\"/>\n<polygon fill=\"#000000\" stroke=\"#000000\" points=\"1639.3355,-189.7185 1629.0702,-187.0969 1635.4601,-195.5479 1639.3355,-189.7185\"/>\n</g>\n<!-- 25 -->\n<g id=\"node26\" class=\"node\">\n<title>25</title>\n<path fill=\"#c5a4f3\" stroke=\"#000000\" d=\"M1815.5,-187C1815.5,-187 1675.5,-187 1675.5,-187 1669.5,-187 1663.5,-181 1663.5,-175 1663.5,-175 1663.5,-116 1663.5,-116 1663.5,-110 1669.5,-104 1675.5,-104 1675.5,-104 1815.5,-104 1815.5,-104 1821.5,-104 1827.5,-110 1827.5,-116 1827.5,-116 1827.5,-175 1827.5,-175 1827.5,-181 1821.5,-187 1815.5,-187\"/>\n<text text-anchor=\"middle\" x=\"1745.5\" y=\"-171.8\" font-family=\"Helvetica,sans-Serif\" font-size=\"14.00\" fill=\"#000000\">Wind Speed &lt;= 11.43</text>\n<text text-anchor=\"middle\" x=\"1745.5\" y=\"-156.8\" font-family=\"Helvetica,sans-Serif\" font-size=\"14.00\" fill=\"#000000\">entropy = 1.4</text>\n<text text-anchor=\"middle\" x=\"1745.5\" y=\"-141.8\" font-family=\"Helvetica,sans-Serif\" font-size=\"14.00\" fill=\"#000000\">samples = 470</text>\n<text text-anchor=\"middle\" x=\"1745.5\" y=\"-126.8\" font-family=\"Helvetica,sans-Serif\" font-size=\"14.00\" fill=\"#000000\">value = [165, 148, 429]</text>\n<text text-anchor=\"middle\" x=\"1745.5\" y=\"-111.8\" font-family=\"Helvetica,sans-Serif\" font-size=\"14.00\" fill=\"#000000\">class = Minor</text>\n</g>\n<!-- 21&#45;&gt;25 -->\n<g id=\"edge25\" class=\"edge\">\n<title>21&#45;&gt;25</title>\n<path fill=\"none\" stroke=\"#000000\" d=\"M1745.5,-222.8796C1745.5,-214.6838 1745.5,-205.9891 1745.5,-197.5013\"/>\n<polygon fill=\"#000000\" stroke=\"#000000\" points=\"1749.0001,-197.298 1745.5,-187.2981 1742.0001,-197.2981 1749.0001,-197.298\"/>\n</g>\n<!-- 23 -->\n<g id=\"node24\" class=\"node\">\n<title>23</title>\n<path fill=\"#975be9\" stroke=\"#000000\" d=\"M1465.5,-68C1465.5,-68 1349.5,-68 1349.5,-68 1343.5,-68 1337.5,-62 1337.5,-56 1337.5,-56 1337.5,-12 1337.5,-12 1337.5,-6 1343.5,0 1349.5,0 1349.5,0 1465.5,0 1465.5,0 1471.5,0 1477.5,-6 1477.5,-12 1477.5,-12 1477.5,-56 1477.5,-56 1477.5,-62 1471.5,-68 1465.5,-68\"/>\n<text text-anchor=\"middle\" x=\"1407.5\" y=\"-52.8\" font-family=\"Helvetica,sans-Serif\" font-size=\"14.00\" fill=\"#000000\">entropy = 0.6</text>\n<text text-anchor=\"middle\" x=\"1407.5\" y=\"-37.8\" font-family=\"Helvetica,sans-Serif\" font-size=\"14.00\" fill=\"#000000\">samples = 151</text>\n<text text-anchor=\"middle\" x=\"1407.5\" y=\"-22.8\" font-family=\"Helvetica,sans-Serif\" font-size=\"14.00\" fill=\"#000000\">value = [0, 37, 214]</text>\n<text text-anchor=\"middle\" x=\"1407.5\" y=\"-7.8\" font-family=\"Helvetica,sans-Serif\" font-size=\"14.00\" fill=\"#000000\">class = Minor</text>\n</g>\n<!-- 22&#45;&gt;23 -->\n<g id=\"edge23\" class=\"edge\">\n<title>22&#45;&gt;23</title>\n<path fill=\"none\" stroke=\"#000000\" d=\"M1507.2943,-103.9815C1493.3288,-94.1881 1478.4679,-83.7668 1464.5977,-74.0402\"/>\n<polygon fill=\"#000000\" stroke=\"#000000\" points=\"1466.3035,-70.9616 1456.1064,-68.0856 1462.2844,-76.6928 1466.3035,-70.9616\"/>\n</g>\n<!-- 24 -->\n<g id=\"node25\" class=\"node\">\n<title>24</title>\n<path fill=\"#ae80ee\" stroke=\"#000000\" d=\"M1631.5,-68C1631.5,-68 1507.5,-68 1507.5,-68 1501.5,-68 1495.5,-62 1495.5,-56 1495.5,-56 1495.5,-12 1495.5,-12 1495.5,-6 1501.5,0 1507.5,0 1507.5,0 1631.5,0 1631.5,0 1637.5,0 1643.5,-6 1643.5,-12 1643.5,-12 1643.5,-56 1643.5,-56 1643.5,-62 1637.5,-68 1631.5,-68\"/>\n<text text-anchor=\"middle\" x=\"1569.5\" y=\"-52.8\" font-family=\"Helvetica,sans-Serif\" font-size=\"14.00\" fill=\"#000000\">entropy = 1.13</text>\n<text text-anchor=\"middle\" x=\"1569.5\" y=\"-37.8\" font-family=\"Helvetica,sans-Serif\" font-size=\"14.00\" fill=\"#000000\">samples = 302</text>\n<text text-anchor=\"middle\" x=\"1569.5\" y=\"-22.8\" font-family=\"Helvetica,sans-Serif\" font-size=\"14.00\" fill=\"#000000\">value = [44, 90, 330]</text>\n<text text-anchor=\"middle\" x=\"1569.5\" y=\"-7.8\" font-family=\"Helvetica,sans-Serif\" font-size=\"14.00\" fill=\"#000000\">class = Minor</text>\n</g>\n<!-- 22&#45;&gt;24 -->\n<g id=\"edge24\" class=\"edge\">\n<title>22&#45;&gt;24</title>\n<path fill=\"none\" stroke=\"#000000\" d=\"M1567.6171,-103.9815C1567.8421,-95.618 1568.0795,-86.7965 1568.307,-78.3409\"/>\n<polygon fill=\"#000000\" stroke=\"#000000\" points=\"1571.8078,-78.3542 1568.5781,-68.2637 1564.8103,-78.1659 1571.8078,-78.3542\"/>\n</g>\n<!-- 26 -->\n<g id=\"node27\" class=\"node\">\n<title>26</title>\n<path fill=\"#f6d2b8\" stroke=\"#000000\" d=\"M1789.5,-68C1789.5,-68 1673.5,-68 1673.5,-68 1667.5,-68 1661.5,-62 1661.5,-56 1661.5,-56 1661.5,-12 1661.5,-12 1661.5,-6 1667.5,0 1673.5,0 1673.5,0 1789.5,0 1789.5,0 1795.5,0 1801.5,-6 1801.5,-12 1801.5,-12 1801.5,-56 1801.5,-56 1801.5,-62 1795.5,-68 1789.5,-68\"/>\n<text text-anchor=\"middle\" x=\"1731.5\" y=\"-52.8\" font-family=\"Helvetica,sans-Serif\" font-size=\"14.00\" fill=\"#000000\">entropy = 1.09</text>\n<text text-anchor=\"middle\" x=\"1731.5\" y=\"-37.8\" font-family=\"Helvetica,sans-Serif\" font-size=\"14.00\" fill=\"#000000\">samples = 151</text>\n<text text-anchor=\"middle\" x=\"1731.5\" y=\"-22.8\" font-family=\"Helvetica,sans-Serif\" font-size=\"14.00\" fill=\"#000000\">value = [141, 5, 89]</text>\n<text text-anchor=\"middle\" x=\"1731.5\" y=\"-7.8\" font-family=\"Helvetica,sans-Serif\" font-size=\"14.00\" fill=\"#000000\">class = Fatal</text>\n</g>\n<!-- 25&#45;&gt;26 -->\n<g id=\"edge26\" class=\"edge\">\n<title>25&#45;&gt;26</title>\n<path fill=\"none\" stroke=\"#000000\" d=\"M1740.2869,-103.9815C1739.2368,-95.618 1738.1292,-86.7965 1737.0675,-78.3409\"/>\n<polygon fill=\"#000000\" stroke=\"#000000\" points=\"1740.5208,-77.7497 1735.8022,-68.2637 1733.5753,-78.6218 1740.5208,-77.7497\"/>\n</g>\n<!-- 27 -->\n<g id=\"node28\" class=\"node\">\n<title>27</title>\n<path fill=\"#bb94f1\" stroke=\"#000000\" d=\"M1963.5,-68C1963.5,-68 1831.5,-68 1831.5,-68 1825.5,-68 1819.5,-62 1819.5,-56 1819.5,-56 1819.5,-12 1819.5,-12 1819.5,-6 1825.5,0 1831.5,0 1831.5,0 1963.5,0 1963.5,0 1969.5,0 1975.5,-6 1975.5,-12 1975.5,-12 1975.5,-56 1975.5,-56 1975.5,-62 1969.5,-68 1963.5,-68\"/>\n<text text-anchor=\"middle\" x=\"1897.5\" y=\"-52.8\" font-family=\"Helvetica,sans-Serif\" font-size=\"14.00\" fill=\"#000000\">entropy = 1.11</text>\n<text text-anchor=\"middle\" x=\"1897.5\" y=\"-37.8\" font-family=\"Helvetica,sans-Serif\" font-size=\"14.00\" fill=\"#000000\">samples = 319</text>\n<text text-anchor=\"middle\" x=\"1897.5\" y=\"-22.8\" font-family=\"Helvetica,sans-Serif\" font-size=\"14.00\" fill=\"#000000\">value = [24, 143, 340]</text>\n<text text-anchor=\"middle\" x=\"1897.5\" y=\"-7.8\" font-family=\"Helvetica,sans-Serif\" font-size=\"14.00\" fill=\"#000000\">class = Minor</text>\n</g>\n<!-- 25&#45;&gt;27 -->\n<g id=\"edge27\" class=\"edge\">\n<title>25&#45;&gt;27</title>\n<path fill=\"none\" stroke=\"#000000\" d=\"M1802.0992,-103.9815C1815.3799,-94.2394 1829.5077,-83.8759 1842.7077,-74.193\"/>\n<polygon fill=\"#000000\" stroke=\"#000000\" points=\"1844.7977,-77.0006 1850.7908,-68.2637 1840.6574,-71.3564 1844.7977,-77.0006\"/>\n</g>\n<!-- 29 -->\n<g id=\"node30\" class=\"node\">\n<title>29</title>\n<path fill=\"#8139e5\" stroke=\"#000000\" d=\"M1957,-179.5C1957,-179.5 1858,-179.5 1858,-179.5 1852,-179.5 1846,-173.5 1846,-167.5 1846,-167.5 1846,-123.5 1846,-123.5 1846,-117.5 1852,-111.5 1858,-111.5 1858,-111.5 1957,-111.5 1957,-111.5 1963,-111.5 1969,-117.5 1969,-123.5 1969,-123.5 1969,-167.5 1969,-167.5 1969,-173.5 1963,-179.5 1957,-179.5\"/>\n<text text-anchor=\"middle\" x=\"1907.5\" y=\"-164.3\" font-family=\"Helvetica,sans-Serif\" font-size=\"14.00\" fill=\"#000000\">entropy = 0.0</text>\n<text text-anchor=\"middle\" x=\"1907.5\" y=\"-149.3\" font-family=\"Helvetica,sans-Serif\" font-size=\"14.00\" fill=\"#000000\">samples = 15</text>\n<text text-anchor=\"middle\" x=\"1907.5\" y=\"-134.3\" font-family=\"Helvetica,sans-Serif\" font-size=\"14.00\" fill=\"#000000\">value = [0, 0, 23]</text>\n<text text-anchor=\"middle\" x=\"1907.5\" y=\"-119.3\" font-family=\"Helvetica,sans-Serif\" font-size=\"14.00\" fill=\"#000000\">class = Minor</text>\n</g>\n<!-- 28&#45;&gt;29 -->\n<g id=\"edge29\" class=\"edge\">\n<title>28&#45;&gt;29</title>\n<path fill=\"none\" stroke=\"#000000\" d=\"M1907.5,-222.8796C1907.5,-212.2134 1907.5,-200.7021 1907.5,-189.9015\"/>\n<polygon fill=\"#000000\" stroke=\"#000000\" points=\"1911.0001,-189.8149 1907.5,-179.8149 1904.0001,-189.815 1911.0001,-189.8149\"/>\n</g>\n<!-- 30 -->\n<g id=\"node31\" class=\"node\">\n<title>30</title>\n<path fill=\"#8e4de8\" stroke=\"#000000\" d=\"M2115.5,-187C2115.5,-187 1999.5,-187 1999.5,-187 1993.5,-187 1987.5,-181 1987.5,-175 1987.5,-175 1987.5,-116 1987.5,-116 1987.5,-110 1993.5,-104 1999.5,-104 1999.5,-104 2115.5,-104 2115.5,-104 2121.5,-104 2127.5,-110 2127.5,-116 2127.5,-116 2127.5,-175 2127.5,-175 2127.5,-181 2121.5,-187 2115.5,-187\"/>\n<text text-anchor=\"middle\" x=\"2057.5\" y=\"-171.8\" font-family=\"Helvetica,sans-Serif\" font-size=\"14.00\" fill=\"#000000\">Precipitation &lt;= 0.0</text>\n<text text-anchor=\"middle\" x=\"2057.5\" y=\"-156.8\" font-family=\"Helvetica,sans-Serif\" font-size=\"14.00\" fill=\"#000000\">entropy = 0.44</text>\n<text text-anchor=\"middle\" x=\"2057.5\" y=\"-141.8\" font-family=\"Helvetica,sans-Serif\" font-size=\"14.00\" fill=\"#000000\">samples = 48</text>\n<text text-anchor=\"middle\" x=\"2057.5\" y=\"-126.8\" font-family=\"Helvetica,sans-Serif\" font-size=\"14.00\" fill=\"#000000\">value = [0, 7, 69]</text>\n<text text-anchor=\"middle\" x=\"2057.5\" y=\"-111.8\" font-family=\"Helvetica,sans-Serif\" font-size=\"14.00\" fill=\"#000000\">class = Minor</text>\n</g>\n<!-- 28&#45;&gt;30 -->\n<g id=\"edge30\" class=\"edge\">\n<title>28&#45;&gt;30</title>\n<path fill=\"none\" stroke=\"#000000\" d=\"M1959.9627,-222.8796C1971.9521,-213.368 1984.7887,-203.1843 1997.0816,-193.432\"/>\n<polygon fill=\"#000000\" stroke=\"#000000\" points=\"1999.4081,-196.054 2005.0669,-187.0969 1995.0575,-190.5701 1999.4081,-196.054\"/>\n</g>\n<!-- 31 -->\n<g id=\"node32\" class=\"node\">\n<title>31</title>\n<path fill=\"#9152e8\" stroke=\"#000000\" d=\"M2105,-68C2105,-68 2006,-68 2006,-68 2000,-68 1994,-62 1994,-56 1994,-56 1994,-12 1994,-12 1994,-6 2000,0 2006,0 2006,0 2105,0 2105,0 2111,0 2117,-6 2117,-12 2117,-12 2117,-56 2117,-56 2117,-62 2111,-68 2105,-68\"/>\n<text text-anchor=\"middle\" x=\"2055.5\" y=\"-52.8\" font-family=\"Helvetica,sans-Serif\" font-size=\"14.00\" fill=\"#000000\">entropy = 0.51</text>\n<text text-anchor=\"middle\" x=\"2055.5\" y=\"-37.8\" font-family=\"Helvetica,sans-Serif\" font-size=\"14.00\" fill=\"#000000\">samples = 39</text>\n<text text-anchor=\"middle\" x=\"2055.5\" y=\"-22.8\" font-family=\"Helvetica,sans-Serif\" font-size=\"14.00\" fill=\"#000000\">value = [0, 7, 55]</text>\n<text text-anchor=\"middle\" x=\"2055.5\" y=\"-7.8\" font-family=\"Helvetica,sans-Serif\" font-size=\"14.00\" fill=\"#000000\">class = Minor</text>\n</g>\n<!-- 30&#45;&gt;31 -->\n<g id=\"edge31\" class=\"edge\">\n<title>30&#45;&gt;31</title>\n<path fill=\"none\" stroke=\"#000000\" d=\"M2056.7553,-103.9815C2056.6053,-95.618 2056.447,-86.7965 2056.2954,-78.3409\"/>\n<polygon fill=\"#000000\" stroke=\"#000000\" points=\"2059.7935,-78.1993 2056.1146,-68.2637 2052.7946,-78.3249 2059.7935,-78.1993\"/>\n</g>\n<!-- 32 -->\n<g id=\"node33\" class=\"node\">\n<title>32</title>\n<path fill=\"#8139e5\" stroke=\"#000000\" d=\"M2246,-68C2246,-68 2147,-68 2147,-68 2141,-68 2135,-62 2135,-56 2135,-56 2135,-12 2135,-12 2135,-6 2141,0 2147,0 2147,0 2246,0 2246,0 2252,0 2258,-6 2258,-12 2258,-12 2258,-56 2258,-56 2258,-62 2252,-68 2246,-68\"/>\n<text text-anchor=\"middle\" x=\"2196.5\" y=\"-52.8\" font-family=\"Helvetica,sans-Serif\" font-size=\"14.00\" fill=\"#000000\">entropy = 0.0</text>\n<text text-anchor=\"middle\" x=\"2196.5\" y=\"-37.8\" font-family=\"Helvetica,sans-Serif\" font-size=\"14.00\" fill=\"#000000\">samples = 9</text>\n<text text-anchor=\"middle\" x=\"2196.5\" y=\"-22.8\" font-family=\"Helvetica,sans-Serif\" font-size=\"14.00\" fill=\"#000000\">value = [0, 0, 14]</text>\n<text text-anchor=\"middle\" x=\"2196.5\" y=\"-7.8\" font-family=\"Helvetica,sans-Serif\" font-size=\"14.00\" fill=\"#000000\">class = Minor</text>\n</g>\n<!-- 30&#45;&gt;32 -->\n<g id=\"edge32\" class=\"edge\">\n<title>30&#45;&gt;32</title>\n<path fill=\"none\" stroke=\"#000000\" d=\"M2109.2585,-103.9815C2121.1742,-94.4232 2133.8356,-84.2668 2145.7097,-74.7419\"/>\n<polygon fill=\"#000000\" stroke=\"#000000\" points=\"2148.1752,-77.2511 2153.7856,-68.2637 2143.7951,-71.7907 2148.1752,-77.2511\"/>\n</g>\n<!-- 34 -->\n<g id=\"node35\" class=\"node\">\n<title>34</title>\n<path fill=\"#a775ed\" stroke=\"#000000\" d=\"M2789.5,-425C2789.5,-425 2665.5,-425 2665.5,-425 2659.5,-425 2653.5,-419 2653.5,-413 2653.5,-413 2653.5,-354 2653.5,-354 2653.5,-348 2659.5,-342 2665.5,-342 2665.5,-342 2789.5,-342 2789.5,-342 2795.5,-342 2801.5,-348 2801.5,-354 2801.5,-354 2801.5,-413 2801.5,-413 2801.5,-419 2795.5,-425 2789.5,-425\"/>\n<text text-anchor=\"middle\" x=\"2727.5\" y=\"-409.8\" font-family=\"Helvetica,sans-Serif\" font-size=\"14.00\" fill=\"#000000\">Hour_21 &lt;= 0.5</text>\n<text text-anchor=\"middle\" x=\"2727.5\" y=\"-394.8\" font-family=\"Helvetica,sans-Serif\" font-size=\"14.00\" fill=\"#000000\">entropy = 0.79</text>\n<text text-anchor=\"middle\" x=\"2727.5\" y=\"-379.8\" font-family=\"Helvetica,sans-Serif\" font-size=\"14.00\" fill=\"#000000\">samples = 783</text>\n<text text-anchor=\"middle\" x=\"2727.5\" y=\"-364.8\" font-family=\"Helvetica,sans-Serif\" font-size=\"14.00\" fill=\"#000000\">value = [1, 286, 946]</text>\n<text text-anchor=\"middle\" x=\"2727.5\" y=\"-349.8\" font-family=\"Helvetica,sans-Serif\" font-size=\"14.00\" fill=\"#000000\">class = Minor</text>\n</g>\n<!-- 33&#45;&gt;34 -->\n<g id=\"edge34\" class=\"edge\">\n<title>33&#45;&gt;34</title>\n<path fill=\"none\" stroke=\"#000000\" d=\"M2782.7711,-460.8796C2776.4667,-452.0534 2769.749,-442.6485 2763.2476,-433.5466\"/>\n<polygon fill=\"#000000\" stroke=\"#000000\" points=\"2766.0163,-431.4011 2757.3558,-425.2981 2760.3201,-435.4698 2766.0163,-431.4011\"/>\n</g>\n<!-- 41 -->\n<g id=\"node42\" class=\"node\">\n<title>41</title>\n<path fill=\"#f9e1d0\" stroke=\"#000000\" d=\"M2965,-425C2965,-425 2832,-425 2832,-425 2826,-425 2820,-419 2820,-413 2820,-413 2820,-354 2820,-354 2820,-348 2826,-342 2832,-342 2832,-342 2965,-342 2965,-342 2971,-342 2977,-348 2977,-354 2977,-354 2977,-413 2977,-413 2977,-419 2971,-425 2965,-425\"/>\n<text text-anchor=\"middle\" x=\"2898.5\" y=\"-409.8\" font-family=\"Helvetica,sans-Serif\" font-size=\"14.00\" fill=\"#000000\">Wind Speed &lt;= 15.83</text>\n<text text-anchor=\"middle\" x=\"2898.5\" y=\"-394.8\" font-family=\"Helvetica,sans-Serif\" font-size=\"14.00\" fill=\"#000000\">entropy = 1.35</text>\n<text text-anchor=\"middle\" x=\"2898.5\" y=\"-379.8\" font-family=\"Helvetica,sans-Serif\" font-size=\"14.00\" fill=\"#000000\">samples = 128</text>\n<text text-anchor=\"middle\" x=\"2898.5\" y=\"-364.8\" font-family=\"Helvetica,sans-Serif\" font-size=\"14.00\" fill=\"#000000\">value = [100, 19, 72]</text>\n<text text-anchor=\"middle\" x=\"2898.5\" y=\"-349.8\" font-family=\"Helvetica,sans-Serif\" font-size=\"14.00\" fill=\"#000000\">class = Fatal</text>\n</g>\n<!-- 33&#45;&gt;41 -->\n<g id=\"edge41\" class=\"edge\">\n<title>33&#45;&gt;41</title>\n<path fill=\"none\" stroke=\"#000000\" d=\"M2842.5786,-460.8796C2848.9572,-452.0534 2855.754,-442.6485 2862.3319,-433.5466\"/>\n<polygon fill=\"#000000\" stroke=\"#000000\" points=\"2865.2723,-435.4532 2868.293,-425.2981 2859.5988,-431.353 2865.2723,-435.4532\"/>\n</g>\n<!-- 35 -->\n<g id=\"node36\" class=\"node\">\n<title>35</title>\n<path fill=\"#a978ed\" stroke=\"#000000\" d=\"M2641.5,-306C2641.5,-306 2517.5,-306 2517.5,-306 2511.5,-306 2505.5,-300 2505.5,-294 2505.5,-294 2505.5,-235 2505.5,-235 2505.5,-229 2511.5,-223 2517.5,-223 2517.5,-223 2641.5,-223 2641.5,-223 2647.5,-223 2653.5,-229 2653.5,-235 2653.5,-235 2653.5,-294 2653.5,-294 2653.5,-300 2647.5,-306 2641.5,-306\"/>\n<text text-anchor=\"middle\" x=\"2579.5\" y=\"-290.8\" font-family=\"Helvetica,sans-Serif\" font-size=\"14.00\" fill=\"#000000\">Hour_3 &lt;= 0.5</text>\n<text text-anchor=\"middle\" x=\"2579.5\" y=\"-275.8\" font-family=\"Helvetica,sans-Serif\" font-size=\"14.00\" fill=\"#000000\">entropy = 0.81</text>\n<text text-anchor=\"middle\" x=\"2579.5\" y=\"-260.8\" font-family=\"Helvetica,sans-Serif\" font-size=\"14.00\" fill=\"#000000\">samples = 753</text>\n<text text-anchor=\"middle\" x=\"2579.5\" y=\"-245.8\" font-family=\"Helvetica,sans-Serif\" font-size=\"14.00\" fill=\"#000000\">value = [1, 286, 899]</text>\n<text text-anchor=\"middle\" x=\"2579.5\" y=\"-230.8\" font-family=\"Helvetica,sans-Serif\" font-size=\"14.00\" fill=\"#000000\">class = Minor</text>\n</g>\n<!-- 34&#45;&gt;35 -->\n<g id=\"edge35\" class=\"edge\">\n<title>34&#45;&gt;35</title>\n<path fill=\"none\" stroke=\"#000000\" d=\"M2675.7368,-341.8796C2663.9072,-332.368 2651.2419,-322.1843 2639.1129,-312.432\"/>\n<polygon fill=\"#000000\" stroke=\"#000000\" points=\"2641.2204,-309.6355 2631.234,-306.0969 2636.8341,-315.0908 2641.2204,-309.6355\"/>\n</g>\n<!-- 40 -->\n<g id=\"node41\" class=\"node\">\n<title>40</title>\n<path fill=\"#8139e5\" stroke=\"#000000\" d=\"M2783,-298.5C2783,-298.5 2684,-298.5 2684,-298.5 2678,-298.5 2672,-292.5 2672,-286.5 2672,-286.5 2672,-242.5 2672,-242.5 2672,-236.5 2678,-230.5 2684,-230.5 2684,-230.5 2783,-230.5 2783,-230.5 2789,-230.5 2795,-236.5 2795,-242.5 2795,-242.5 2795,-286.5 2795,-286.5 2795,-292.5 2789,-298.5 2783,-298.5\"/>\n<text text-anchor=\"middle\" x=\"2733.5\" y=\"-283.3\" font-family=\"Helvetica,sans-Serif\" font-size=\"14.00\" fill=\"#000000\">entropy = 0.0</text>\n<text text-anchor=\"middle\" x=\"2733.5\" y=\"-268.3\" font-family=\"Helvetica,sans-Serif\" font-size=\"14.00\" fill=\"#000000\">samples = 30</text>\n<text text-anchor=\"middle\" x=\"2733.5\" y=\"-253.3\" font-family=\"Helvetica,sans-Serif\" font-size=\"14.00\" fill=\"#000000\">value = [0, 0, 47]</text>\n<text text-anchor=\"middle\" x=\"2733.5\" y=\"-238.3\" font-family=\"Helvetica,sans-Serif\" font-size=\"14.00\" fill=\"#000000\">class = Minor</text>\n</g>\n<!-- 34&#45;&gt;40 -->\n<g id=\"edge40\" class=\"edge\">\n<title>34&#45;&gt;40</title>\n<path fill=\"none\" stroke=\"#000000\" d=\"M2729.5985,-341.8796C2730.1363,-331.2134 2730.7167,-319.7021 2731.2613,-308.9015\"/>\n<polygon fill=\"#000000\" stroke=\"#000000\" points=\"2734.7617,-308.9785 2731.7698,-298.8149 2727.7706,-308.626 2734.7617,-308.9785\"/>\n</g>\n<!-- 36 -->\n<g id=\"node37\" class=\"node\">\n<title>36</title>\n<path fill=\"#ac7dee\" stroke=\"#000000\" d=\"M2500.5,-187C2500.5,-187 2376.5,-187 2376.5,-187 2370.5,-187 2364.5,-181 2364.5,-175 2364.5,-175 2364.5,-116 2364.5,-116 2364.5,-110 2370.5,-104 2376.5,-104 2376.5,-104 2500.5,-104 2500.5,-104 2506.5,-104 2512.5,-110 2512.5,-116 2512.5,-116 2512.5,-175 2512.5,-175 2512.5,-181 2506.5,-187 2500.5,-187\"/>\n<text text-anchor=\"middle\" x=\"2438.5\" y=\"-171.8\" font-family=\"Helvetica,sans-Serif\" font-size=\"14.00\" fill=\"#000000\">Hour_2 &lt;= 0.5</text>\n<text text-anchor=\"middle\" x=\"2438.5\" y=\"-156.8\" font-family=\"Helvetica,sans-Serif\" font-size=\"14.00\" fill=\"#000000\">entropy = 0.83</text>\n<text text-anchor=\"middle\" x=\"2438.5\" y=\"-141.8\" font-family=\"Helvetica,sans-Serif\" font-size=\"14.00\" fill=\"#000000\">samples = 714</text>\n<text text-anchor=\"middle\" x=\"2438.5\" y=\"-126.8\" font-family=\"Helvetica,sans-Serif\" font-size=\"14.00\" fill=\"#000000\">value = [1, 286, 834]</text>\n<text text-anchor=\"middle\" x=\"2438.5\" y=\"-111.8\" font-family=\"Helvetica,sans-Serif\" font-size=\"14.00\" fill=\"#000000\">class = Minor</text>\n</g>\n<!-- 35&#45;&gt;36 -->\n<g id=\"edge36\" class=\"edge\">\n<title>35&#45;&gt;36</title>\n<path fill=\"none\" stroke=\"#000000\" d=\"M2530.185,-222.8796C2519.0868,-213.513 2507.2165,-203.4948 2495.8223,-193.8784\"/>\n<polygon fill=\"#000000\" stroke=\"#000000\" points=\"2497.925,-191.0731 2488.0254,-187.2981 2493.4101,-196.4225 2497.925,-191.0731\"/>\n</g>\n<!-- 39 -->\n<g id=\"node40\" class=\"node\">\n<title>39</title>\n<path fill=\"#8139e5\" stroke=\"#000000\" d=\"M2642,-179.5C2642,-179.5 2543,-179.5 2543,-179.5 2537,-179.5 2531,-173.5 2531,-167.5 2531,-167.5 2531,-123.5 2531,-123.5 2531,-117.5 2537,-111.5 2543,-111.5 2543,-111.5 2642,-111.5 2642,-111.5 2648,-111.5 2654,-117.5 2654,-123.5 2654,-123.5 2654,-167.5 2654,-167.5 2654,-173.5 2648,-179.5 2642,-179.5\"/>\n<text text-anchor=\"middle\" x=\"2592.5\" y=\"-164.3\" font-family=\"Helvetica,sans-Serif\" font-size=\"14.00\" fill=\"#000000\">entropy = 0.0</text>\n<text text-anchor=\"middle\" x=\"2592.5\" y=\"-149.3\" font-family=\"Helvetica,sans-Serif\" font-size=\"14.00\" fill=\"#000000\">samples = 39</text>\n<text text-anchor=\"middle\" x=\"2592.5\" y=\"-134.3\" font-family=\"Helvetica,sans-Serif\" font-size=\"14.00\" fill=\"#000000\">value = [0, 0, 65]</text>\n<text text-anchor=\"middle\" x=\"2592.5\" y=\"-119.3\" font-family=\"Helvetica,sans-Serif\" font-size=\"14.00\" fill=\"#000000\">class = Minor</text>\n</g>\n<!-- 35&#45;&gt;39 -->\n<g id=\"edge39\" class=\"edge\">\n<title>35&#45;&gt;39</title>\n<path fill=\"none\" stroke=\"#000000\" d=\"M2584.0468,-222.8796C2585.212,-212.2134 2586.4695,-200.7021 2587.6494,-189.9015\"/>\n<polygon fill=\"#000000\" stroke=\"#000000\" points=\"2591.1445,-190.1359 2588.7513,-179.8149 2584.1859,-189.3757 2591.1445,-190.1359\"/>\n</g>\n<!-- 37 -->\n<g id=\"node38\" class=\"node\">\n<title>37</title>\n<path fill=\"#b082ef\" stroke=\"#000000\" d=\"M2412.5,-68C2412.5,-68 2288.5,-68 2288.5,-68 2282.5,-68 2276.5,-62 2276.5,-56 2276.5,-56 2276.5,-12 2276.5,-12 2276.5,-6 2282.5,0 2288.5,0 2288.5,0 2412.5,0 2412.5,0 2418.5,0 2424.5,-6 2424.5,-12 2424.5,-12 2424.5,-56 2424.5,-56 2424.5,-62 2418.5,-68 2412.5,-68\"/>\n<text text-anchor=\"middle\" x=\"2350.5\" y=\"-52.8\" font-family=\"Helvetica,sans-Serif\" font-size=\"14.00\" fill=\"#000000\">entropy = 0.84</text>\n<text text-anchor=\"middle\" x=\"2350.5\" y=\"-37.8\" font-family=\"Helvetica,sans-Serif\" font-size=\"14.00\" fill=\"#000000\">samples = 666</text>\n<text text-anchor=\"middle\" x=\"2350.5\" y=\"-22.8\" font-family=\"Helvetica,sans-Serif\" font-size=\"14.00\" fill=\"#000000\">value = [0, 282, 762]</text>\n<text text-anchor=\"middle\" x=\"2350.5\" y=\"-7.8\" font-family=\"Helvetica,sans-Serif\" font-size=\"14.00\" fill=\"#000000\">class = Minor</text>\n</g>\n<!-- 36&#45;&gt;37 -->\n<g id=\"edge37\" class=\"edge\">\n<title>36&#45;&gt;37</title>\n<path fill=\"none\" stroke=\"#000000\" d=\"M2405.732,-103.9815C2398.551,-94.8828 2390.9421,-85.242 2383.7426,-76.1199\"/>\n<polygon fill=\"#000000\" stroke=\"#000000\" points=\"2386.4849,-73.9451 2377.5422,-68.2637 2380.9901,-78.2818 2386.4849,-73.9451\"/>\n</g>\n<!-- 38 -->\n<g id=\"node39\" class=\"node\">\n<title>38</title>\n<path fill=\"#8a47e7\" stroke=\"#000000\" d=\"M2554,-68C2554,-68 2455,-68 2455,-68 2449,-68 2443,-62 2443,-56 2443,-56 2443,-12 2443,-12 2443,-6 2449,0 2455,0 2455,0 2554,0 2554,0 2560,0 2566,-6 2566,-12 2566,-12 2566,-56 2566,-56 2566,-62 2560,-68 2554,-68\"/>\n<text text-anchor=\"middle\" x=\"2504.5\" y=\"-52.8\" font-family=\"Helvetica,sans-Serif\" font-size=\"14.00\" fill=\"#000000\">entropy = 0.39</text>\n<text text-anchor=\"middle\" x=\"2504.5\" y=\"-37.8\" font-family=\"Helvetica,sans-Serif\" font-size=\"14.00\" fill=\"#000000\">samples = 48</text>\n<text text-anchor=\"middle\" x=\"2504.5\" y=\"-22.8\" font-family=\"Helvetica,sans-Serif\" font-size=\"14.00\" fill=\"#000000\">value = [1, 4, 72]</text>\n<text text-anchor=\"middle\" x=\"2504.5\" y=\"-7.8\" font-family=\"Helvetica,sans-Serif\" font-size=\"14.00\" fill=\"#000000\">class = Minor</text>\n</g>\n<!-- 36&#45;&gt;38 -->\n<g id=\"edge38\" class=\"edge\">\n<title>36&#45;&gt;38</title>\n<path fill=\"none\" stroke=\"#000000\" d=\"M2463.076,-103.9815C2468.2986,-95.1585 2473.8229,-85.8258 2479.0763,-76.9506\"/>\n<polygon fill=\"#000000\" stroke=\"#000000\" points=\"2482.1364,-78.652 2484.2184,-68.2637 2476.1126,-75.0863 2482.1364,-78.652\"/>\n</g>\n<!-- 42 -->\n<g id=\"node43\" class=\"node\">\n<title>42</title>\n<path fill=\"#ba93f1\" stroke=\"#000000\" d=\"M2945,-306C2945,-306 2838,-306 2838,-306 2832,-306 2826,-300 2826,-294 2826,-294 2826,-235 2826,-235 2826,-229 2832,-223 2838,-223 2838,-223 2945,-223 2945,-223 2951,-223 2957,-229 2957,-235 2957,-235 2957,-294 2957,-294 2957,-300 2951,-306 2945,-306\"/>\n<text text-anchor=\"middle\" x=\"2891.5\" y=\"-290.8\" font-family=\"Helvetica,sans-Serif\" font-size=\"14.00\" fill=\"#000000\">Hour_21 &lt;= 0.5</text>\n<text text-anchor=\"middle\" x=\"2891.5\" y=\"-275.8\" font-family=\"Helvetica,sans-Serif\" font-size=\"14.00\" fill=\"#000000\">entropy = 0.99</text>\n<text text-anchor=\"middle\" x=\"2891.5\" y=\"-260.8\" font-family=\"Helvetica,sans-Serif\" font-size=\"14.00\" fill=\"#000000\">samples = 39</text>\n<text text-anchor=\"middle\" x=\"2891.5\" y=\"-245.8\" font-family=\"Helvetica,sans-Serif\" font-size=\"14.00\" fill=\"#000000\">value = [1, 18, 41]</text>\n<text text-anchor=\"middle\" x=\"2891.5\" y=\"-230.8\" font-family=\"Helvetica,sans-Serif\" font-size=\"14.00\" fill=\"#000000\">class = Minor</text>\n</g>\n<!-- 41&#45;&gt;42 -->\n<g id=\"edge42\" class=\"edge\">\n<title>41&#45;&gt;42</title>\n<path fill=\"none\" stroke=\"#000000\" d=\"M2896.0517,-341.8796C2895.5696,-333.6838 2895.0582,-324.9891 2894.5589,-316.5013\"/>\n<polygon fill=\"#000000\" stroke=\"#000000\" points=\"2898.04,-316.0753 2893.9587,-306.2981 2891.0521,-316.4864 2898.04,-316.0753\"/>\n</g>\n<!-- 47 -->\n<g id=\"node48\" class=\"node\">\n<title>47</title>\n<path fill=\"#eda978\" stroke=\"#000000\" d=\"M3094,-306C3094,-306 2987,-306 2987,-306 2981,-306 2975,-300 2975,-294 2975,-294 2975,-235 2975,-235 2975,-229 2981,-223 2987,-223 2987,-223 3094,-223 3094,-223 3100,-223 3106,-229 3106,-235 3106,-235 3106,-294 3106,-294 3106,-300 3100,-306 3094,-306\"/>\n<text text-anchor=\"middle\" x=\"3040.5\" y=\"-290.8\" font-family=\"Helvetica,sans-Serif\" font-size=\"14.00\" fill=\"#000000\">Hour_4 &lt;= 0.5</text>\n<text text-anchor=\"middle\" x=\"3040.5\" y=\"-275.8\" font-family=\"Helvetica,sans-Serif\" font-size=\"14.00\" fill=\"#000000\">entropy = 0.85</text>\n<text text-anchor=\"middle\" x=\"3040.5\" y=\"-260.8\" font-family=\"Helvetica,sans-Serif\" font-size=\"14.00\" fill=\"#000000\">samples = 89</text>\n<text text-anchor=\"middle\" x=\"3040.5\" y=\"-245.8\" font-family=\"Helvetica,sans-Serif\" font-size=\"14.00\" fill=\"#000000\">value = [99, 1, 31]</text>\n<text text-anchor=\"middle\" x=\"3040.5\" y=\"-230.8\" font-family=\"Helvetica,sans-Serif\" font-size=\"14.00\" fill=\"#000000\">class = Fatal</text>\n</g>\n<!-- 41&#45;&gt;47 -->\n<g id=\"edge47\" class=\"edge\">\n<title>41&#45;&gt;47</title>\n<path fill=\"none\" stroke=\"#000000\" d=\"M2948.1647,-341.8796C2959.3416,-332.513 2971.2962,-322.4948 2982.7712,-312.8784\"/>\n<polygon fill=\"#000000\" stroke=\"#000000\" points=\"2985.2069,-315.4037 2990.6233,-306.2981 2980.7107,-310.0386 2985.2069,-315.4037\"/>\n</g>\n<!-- 43 -->\n<g id=\"node44\" class=\"node\">\n<title>43</title>\n<path fill=\"#c09cf2\" stroke=\"#000000\" d=\"M2806,-187C2806,-187 2699,-187 2699,-187 2693,-187 2687,-181 2687,-175 2687,-175 2687,-116 2687,-116 2687,-110 2693,-104 2699,-104 2699,-104 2806,-104 2806,-104 2812,-104 2818,-110 2818,-116 2818,-116 2818,-175 2818,-175 2818,-181 2812,-187 2806,-187\"/>\n<text text-anchor=\"middle\" x=\"2752.5\" y=\"-171.8\" font-family=\"Helvetica,sans-Serif\" font-size=\"14.00\" fill=\"#000000\">Hour_18 &lt;= 0.5</text>\n<text text-anchor=\"middle\" x=\"2752.5\" y=\"-156.8\" font-family=\"Helvetica,sans-Serif\" font-size=\"14.00\" fill=\"#000000\">entropy = 1.03</text>\n<text text-anchor=\"middle\" x=\"2752.5\" y=\"-141.8\" font-family=\"Helvetica,sans-Serif\" font-size=\"14.00\" fill=\"#000000\">samples = 37</text>\n<text text-anchor=\"middle\" x=\"2752.5\" y=\"-126.8\" font-family=\"Helvetica,sans-Serif\" font-size=\"14.00\" fill=\"#000000\">value = [1, 18, 37]</text>\n<text text-anchor=\"middle\" x=\"2752.5\" y=\"-111.8\" font-family=\"Helvetica,sans-Serif\" font-size=\"14.00\" fill=\"#000000\">class = Minor</text>\n</g>\n<!-- 42&#45;&gt;43 -->\n<g id=\"edge43\" class=\"edge\">\n<title>42&#45;&gt;43</title>\n<path fill=\"none\" stroke=\"#000000\" d=\"M2842.8845,-222.8796C2831.9438,-213.513 2820.2418,-203.4948 2809.0092,-193.8784\"/>\n<polygon fill=\"#000000\" stroke=\"#000000\" points=\"2811.1956,-191.1428 2801.323,-187.2981 2806.6432,-196.4603 2811.1956,-191.1428\"/>\n</g>\n<!-- 46 -->\n<g id=\"node47\" class=\"node\">\n<title>46</title>\n<path fill=\"#8139e5\" stroke=\"#000000\" d=\"M2939,-179.5C2939,-179.5 2848,-179.5 2848,-179.5 2842,-179.5 2836,-173.5 2836,-167.5 2836,-167.5 2836,-123.5 2836,-123.5 2836,-117.5 2842,-111.5 2848,-111.5 2848,-111.5 2939,-111.5 2939,-111.5 2945,-111.5 2951,-117.5 2951,-123.5 2951,-123.5 2951,-167.5 2951,-167.5 2951,-173.5 2945,-179.5 2939,-179.5\"/>\n<text text-anchor=\"middle\" x=\"2893.5\" y=\"-164.3\" font-family=\"Helvetica,sans-Serif\" font-size=\"14.00\" fill=\"#000000\">entropy = 0.0</text>\n<text text-anchor=\"middle\" x=\"2893.5\" y=\"-149.3\" font-family=\"Helvetica,sans-Serif\" font-size=\"14.00\" fill=\"#000000\">samples = 2</text>\n<text text-anchor=\"middle\" x=\"2893.5\" y=\"-134.3\" font-family=\"Helvetica,sans-Serif\" font-size=\"14.00\" fill=\"#000000\">value = [0, 0, 4]</text>\n<text text-anchor=\"middle\" x=\"2893.5\" y=\"-119.3\" font-family=\"Helvetica,sans-Serif\" font-size=\"14.00\" fill=\"#000000\">class = Minor</text>\n</g>\n<!-- 42&#45;&gt;46 -->\n<g id=\"edge46\" class=\"edge\">\n<title>42&#45;&gt;46</title>\n<path fill=\"none\" stroke=\"#000000\" d=\"M2892.1995,-222.8796C2892.3788,-212.2134 2892.5722,-200.7021 2892.7538,-189.9015\"/>\n<polygon fill=\"#000000\" stroke=\"#000000\" points=\"2896.2546,-189.8724 2892.9233,-179.8149 2889.2556,-189.7547 2896.2546,-189.8724\"/>\n</g>\n<!-- 44 -->\n<g id=\"node45\" class=\"node\">\n<title>44</title>\n<path fill=\"#d1b6f5\" stroke=\"#000000\" d=\"M2703,-68C2703,-68 2596,-68 2596,-68 2590,-68 2584,-62 2584,-56 2584,-56 2584,-12 2584,-12 2584,-6 2590,0 2596,0 2596,0 2703,0 2703,0 2709,0 2715,-6 2715,-12 2715,-12 2715,-56 2715,-56 2715,-62 2709,-68 2703,-68\"/>\n<text text-anchor=\"middle\" x=\"2649.5\" y=\"-52.8\" font-family=\"Helvetica,sans-Serif\" font-size=\"14.00\" fill=\"#000000\">entropy = 1.09</text>\n<text text-anchor=\"middle\" x=\"2649.5\" y=\"-37.8\" font-family=\"Helvetica,sans-Serif\" font-size=\"14.00\" fill=\"#000000\">samples = 33</text>\n<text text-anchor=\"middle\" x=\"2649.5\" y=\"-22.8\" font-family=\"Helvetica,sans-Serif\" font-size=\"14.00\" fill=\"#000000\">value = [1, 18, 29]</text>\n<text text-anchor=\"middle\" x=\"2649.5\" y=\"-7.8\" font-family=\"Helvetica,sans-Serif\" font-size=\"14.00\" fill=\"#000000\">class = Minor</text>\n</g>\n<!-- 43&#45;&gt;44 -->\n<g id=\"edge44\" class=\"edge\">\n<title>43&#45;&gt;44</title>\n<path fill=\"none\" stroke=\"#000000\" d=\"M2714.1466,-103.9815C2705.6566,-94.7908 2696.6557,-85.0472 2688.1537,-75.8436\"/>\n<polygon fill=\"#000000\" stroke=\"#000000\" points=\"2690.5081,-73.2343 2681.1516,-68.2637 2685.3663,-77.9842 2690.5081,-73.2343\"/>\n</g>\n<!-- 45 -->\n<g id=\"node46\" class=\"node\">\n<title>45</title>\n<path fill=\"#8139e5\" stroke=\"#000000\" d=\"M2836,-68C2836,-68 2745,-68 2745,-68 2739,-68 2733,-62 2733,-56 2733,-56 2733,-12 2733,-12 2733,-6 2739,0 2745,0 2745,0 2836,0 2836,0 2842,0 2848,-6 2848,-12 2848,-12 2848,-56 2848,-56 2848,-62 2842,-68 2836,-68\"/>\n<text text-anchor=\"middle\" x=\"2790.5\" y=\"-52.8\" font-family=\"Helvetica,sans-Serif\" font-size=\"14.00\" fill=\"#000000\">entropy = 0.0</text>\n<text text-anchor=\"middle\" x=\"2790.5\" y=\"-37.8\" font-family=\"Helvetica,sans-Serif\" font-size=\"14.00\" fill=\"#000000\">samples = 4</text>\n<text text-anchor=\"middle\" x=\"2790.5\" y=\"-22.8\" font-family=\"Helvetica,sans-Serif\" font-size=\"14.00\" fill=\"#000000\">value = [0, 0, 8]</text>\n<text text-anchor=\"middle\" x=\"2790.5\" y=\"-7.8\" font-family=\"Helvetica,sans-Serif\" font-size=\"14.00\" fill=\"#000000\">class = Minor</text>\n</g>\n<!-- 43&#45;&gt;45 -->\n<g id=\"edge45\" class=\"edge\">\n<title>43&#45;&gt;45</title>\n<path fill=\"none\" stroke=\"#000000\" d=\"M2766.6498,-103.9815C2769.5628,-95.4342 2772.6388,-86.4086 2775.5781,-77.7839\"/>\n<polygon fill=\"#000000\" stroke=\"#000000\" points=\"2778.9096,-78.8582 2778.8227,-68.2637 2772.2839,-76.6 2778.9096,-78.8582\"/>\n</g>\n<!-- 48 -->\n<g id=\"node49\" class=\"node\">\n<title>48</title>\n<path fill=\"#eda775\" stroke=\"#000000\" d=\"M3090,-187C3090,-187 2983,-187 2983,-187 2977,-187 2971,-181 2971,-175 2971,-175 2971,-116 2971,-116 2971,-110 2977,-104 2983,-104 2983,-104 3090,-104 3090,-104 3096,-104 3102,-110 3102,-116 3102,-116 3102,-175 3102,-175 3102,-181 3096,-187 3090,-187\"/>\n<text text-anchor=\"middle\" x=\"3036.5\" y=\"-171.8\" font-family=\"Helvetica,sans-Serif\" font-size=\"14.00\" fill=\"#000000\">Visibility &lt;= 9.89</text>\n<text text-anchor=\"middle\" x=\"3036.5\" y=\"-156.8\" font-family=\"Helvetica,sans-Serif\" font-size=\"14.00\" fill=\"#000000\">entropy = 0.78</text>\n<text text-anchor=\"middle\" x=\"3036.5\" y=\"-141.8\" font-family=\"Helvetica,sans-Serif\" font-size=\"14.00\" fill=\"#000000\">samples = 87</text>\n<text text-anchor=\"middle\" x=\"3036.5\" y=\"-126.8\" font-family=\"Helvetica,sans-Serif\" font-size=\"14.00\" fill=\"#000000\">value = [99, 0, 30]</text>\n<text text-anchor=\"middle\" x=\"3036.5\" y=\"-111.8\" font-family=\"Helvetica,sans-Serif\" font-size=\"14.00\" fill=\"#000000\">class = Fatal</text>\n</g>\n<!-- 47&#45;&gt;48 -->\n<g id=\"edge48\" class=\"edge\">\n<title>47&#45;&gt;48</title>\n<path fill=\"none\" stroke=\"#000000\" d=\"M3039.101,-222.8796C3038.8255,-214.6838 3038.5332,-205.9891 3038.2479,-197.5013\"/>\n<polygon fill=\"#000000\" stroke=\"#000000\" points=\"3041.739,-197.1748 3037.905,-187.2981 3034.743,-197.41 3041.739,-197.1748\"/>\n</g>\n<!-- 51 -->\n<g id=\"node52\" class=\"node\">\n<title>51</title>\n<path fill=\"#ffffff\" stroke=\"#000000\" d=\"M3344.5,-187C3344.5,-187 3132.5,-187 3132.5,-187 3126.5,-187 3120.5,-181 3120.5,-175 3120.5,-175 3120.5,-116 3120.5,-116 3120.5,-110 3126.5,-104 3132.5,-104 3132.5,-104 3344.5,-104 3344.5,-104 3350.5,-104 3356.5,-110 3356.5,-116 3356.5,-116 3356.5,-175 3356.5,-175 3356.5,-181 3350.5,-187 3344.5,-187\"/>\n<text text-anchor=\"middle\" x=\"3238.5\" y=\"-171.8\" font-family=\"Helvetica,sans-Serif\" font-size=\"14.00\" fill=\"#000000\">Conditions_Partially cloudy &lt;= 0.5</text>\n<text text-anchor=\"middle\" x=\"3238.5\" y=\"-156.8\" font-family=\"Helvetica,sans-Serif\" font-size=\"14.00\" fill=\"#000000\">entropy = 1.0</text>\n<text text-anchor=\"middle\" x=\"3238.5\" y=\"-141.8\" font-family=\"Helvetica,sans-Serif\" font-size=\"14.00\" fill=\"#000000\">samples = 2</text>\n<text text-anchor=\"middle\" x=\"3238.5\" y=\"-126.8\" font-family=\"Helvetica,sans-Serif\" font-size=\"14.00\" fill=\"#000000\">value = [0, 1, 1]</text>\n<text text-anchor=\"middle\" x=\"3238.5\" y=\"-111.8\" font-family=\"Helvetica,sans-Serif\" font-size=\"14.00\" fill=\"#000000\">class = Major</text>\n</g>\n<!-- 47&#45;&gt;51 -->\n<g id=\"edge51\" class=\"edge\">\n<title>47&#45;&gt;51</title>\n<path fill=\"none\" stroke=\"#000000\" d=\"M3106.1561,-225.04C3123.5693,-214.5745 3142.5408,-203.1724 3160.5396,-192.355\"/>\n<polygon fill=\"#000000\" stroke=\"#000000\" points=\"3162.518,-195.2495 3169.2861,-187.0982 3158.912,-189.2497 3162.518,-195.2495\"/>\n</g>\n<!-- 49 -->\n<g id=\"node50\" class=\"node\">\n<title>49</title>\n<path fill=\"#e68743\" stroke=\"#000000\" d=\"M2977,-68C2977,-68 2878,-68 2878,-68 2872,-68 2866,-62 2866,-56 2866,-56 2866,-12 2866,-12 2866,-6 2872,0 2878,0 2878,0 2977,0 2977,0 2983,0 2989,-6 2989,-12 2989,-12 2989,-56 2989,-56 2989,-62 2983,-68 2977,-68\"/>\n<text text-anchor=\"middle\" x=\"2927.5\" y=\"-52.8\" font-family=\"Helvetica,sans-Serif\" font-size=\"14.00\" fill=\"#000000\">entropy = 0.28</text>\n<text text-anchor=\"middle\" x=\"2927.5\" y=\"-37.8\" font-family=\"Helvetica,sans-Serif\" font-size=\"14.00\" fill=\"#000000\">samples = 70</text>\n<text text-anchor=\"middle\" x=\"2927.5\" y=\"-22.8\" font-family=\"Helvetica,sans-Serif\" font-size=\"14.00\" fill=\"#000000\">value = [99, 0, 5]</text>\n<text text-anchor=\"middle\" x=\"2927.5\" y=\"-7.8\" font-family=\"Helvetica,sans-Serif\" font-size=\"14.00\" fill=\"#000000\">class = Fatal</text>\n</g>\n<!-- 48&#45;&gt;49 -->\n<g id=\"edge49\" class=\"edge\">\n<title>48&#45;&gt;49</title>\n<path fill=\"none\" stroke=\"#000000\" d=\"M2995.9124,-103.9815C2986.838,-94.6989 2977.2121,-84.8522 2968.1357,-75.5677\"/>\n<polygon fill=\"#000000\" stroke=\"#000000\" points=\"2970.4887,-72.9678 2960.9954,-68.2637 2965.4831,-77.8611 2970.4887,-72.9678\"/>\n</g>\n<!-- 50 -->\n<g id=\"node51\" class=\"node\">\n<title>50</title>\n<path fill=\"#8139e5\" stroke=\"#000000\" d=\"M3118,-68C3118,-68 3019,-68 3019,-68 3013,-68 3007,-62 3007,-56 3007,-56 3007,-12 3007,-12 3007,-6 3013,0 3019,0 3019,0 3118,0 3118,0 3124,0 3130,-6 3130,-12 3130,-12 3130,-56 3130,-56 3130,-62 3124,-68 3118,-68\"/>\n<text text-anchor=\"middle\" x=\"3068.5\" y=\"-52.8\" font-family=\"Helvetica,sans-Serif\" font-size=\"14.00\" fill=\"#000000\">entropy = 0.0</text>\n<text text-anchor=\"middle\" x=\"3068.5\" y=\"-37.8\" font-family=\"Helvetica,sans-Serif\" font-size=\"14.00\" fill=\"#000000\">samples = 17</text>\n<text text-anchor=\"middle\" x=\"3068.5\" y=\"-22.8\" font-family=\"Helvetica,sans-Serif\" font-size=\"14.00\" fill=\"#000000\">value = [0, 0, 25]</text>\n<text text-anchor=\"middle\" x=\"3068.5\" y=\"-7.8\" font-family=\"Helvetica,sans-Serif\" font-size=\"14.00\" fill=\"#000000\">class = Minor</text>\n</g>\n<!-- 48&#45;&gt;50 -->\n<g id=\"edge50\" class=\"edge\">\n<title>48&#45;&gt;50</title>\n<path fill=\"none\" stroke=\"#000000\" d=\"M3048.4156,-103.9815C3050.8423,-95.5261 3053.4033,-86.6026 3055.8543,-78.0623\"/>\n<polygon fill=\"#000000\" stroke=\"#000000\" points=\"3059.272,-78.8412 3058.6665,-68.2637 3052.5436,-76.9101 3059.272,-78.8412\"/>\n</g>\n<!-- 52 -->\n<g id=\"node53\" class=\"node\">\n<title>52</title>\n<path fill=\"#39e581\" stroke=\"#000000\" d=\"M3251,-68C3251,-68 3160,-68 3160,-68 3154,-68 3148,-62 3148,-56 3148,-56 3148,-12 3148,-12 3148,-6 3154,0 3160,0 3160,0 3251,0 3251,0 3257,0 3263,-6 3263,-12 3263,-12 3263,-56 3263,-56 3263,-62 3257,-68 3251,-68\"/>\n<text text-anchor=\"middle\" x=\"3205.5\" y=\"-52.8\" font-family=\"Helvetica,sans-Serif\" font-size=\"14.00\" fill=\"#000000\">entropy = 0.0</text>\n<text text-anchor=\"middle\" x=\"3205.5\" y=\"-37.8\" font-family=\"Helvetica,sans-Serif\" font-size=\"14.00\" fill=\"#000000\">samples = 1</text>\n<text text-anchor=\"middle\" x=\"3205.5\" y=\"-22.8\" font-family=\"Helvetica,sans-Serif\" font-size=\"14.00\" fill=\"#000000\">value = [0, 1, 0]</text>\n<text text-anchor=\"middle\" x=\"3205.5\" y=\"-7.8\" font-family=\"Helvetica,sans-Serif\" font-size=\"14.00\" fill=\"#000000\">class = Major</text>\n</g>\n<!-- 51&#45;&gt;52 -->\n<g id=\"edge52\" class=\"edge\">\n<title>51&#45;&gt;52</title>\n<path fill=\"none\" stroke=\"#000000\" d=\"M3226.212,-103.9815C3223.7095,-95.5261 3221.0685,-86.6026 3218.5409,-78.0623\"/>\n<polygon fill=\"#000000\" stroke=\"#000000\" points=\"3221.8349,-76.8592 3215.6408,-68.2637 3215.1227,-78.8458 3221.8349,-76.8592\"/>\n</g>\n<!-- 53 -->\n<g id=\"node54\" class=\"node\">\n<title>53</title>\n<path fill=\"#8139e5\" stroke=\"#000000\" d=\"M3384,-68C3384,-68 3293,-68 3293,-68 3287,-68 3281,-62 3281,-56 3281,-56 3281,-12 3281,-12 3281,-6 3287,0 3293,0 3293,0 3384,0 3384,0 3390,0 3396,-6 3396,-12 3396,-12 3396,-56 3396,-56 3396,-62 3390,-68 3384,-68\"/>\n<text text-anchor=\"middle\" x=\"3338.5\" y=\"-52.8\" font-family=\"Helvetica,sans-Serif\" font-size=\"14.00\" fill=\"#000000\">entropy = 0.0</text>\n<text text-anchor=\"middle\" x=\"3338.5\" y=\"-37.8\" font-family=\"Helvetica,sans-Serif\" font-size=\"14.00\" fill=\"#000000\">samples = 1</text>\n<text text-anchor=\"middle\" x=\"3338.5\" y=\"-22.8\" font-family=\"Helvetica,sans-Serif\" font-size=\"14.00\" fill=\"#000000\">value = [0, 0, 1]</text>\n<text text-anchor=\"middle\" x=\"3338.5\" y=\"-7.8\" font-family=\"Helvetica,sans-Serif\" font-size=\"14.00\" fill=\"#000000\">class = Minor</text>\n</g>\n<!-- 51&#45;&gt;53 -->\n<g id=\"edge53\" class=\"edge\">\n<title>51&#45;&gt;53</title>\n<path fill=\"none\" stroke=\"#000000\" d=\"M3275.7363,-103.9815C3283.9791,-94.7908 3292.7178,-85.0472 3300.9721,-75.8436\"/>\n<polygon fill=\"#000000\" stroke=\"#000000\" points=\"3303.6991,-78.0451 3307.7702,-68.2637 3298.4879,-73.3714 3303.6991,-78.0451\"/>\n</g>\n<!-- 55 -->\n<g id=\"node56\" class=\"node\">\n<title>55</title>\n<path fill=\"#c4a2f3\" stroke=\"#000000\" d=\"M4504.5,-544C4504.5,-544 4364.5,-544 4364.5,-544 4358.5,-544 4352.5,-538 4352.5,-532 4352.5,-532 4352.5,-473 4352.5,-473 4352.5,-467 4358.5,-461 4364.5,-461 4364.5,-461 4504.5,-461 4504.5,-461 4510.5,-461 4516.5,-467 4516.5,-473 4516.5,-473 4516.5,-532 4516.5,-532 4516.5,-538 4510.5,-544 4504.5,-544\"/>\n<text text-anchor=\"middle\" x=\"4434.5\" y=\"-528.8\" font-family=\"Helvetica,sans-Serif\" font-size=\"14.00\" fill=\"#000000\">Cloud Cover &lt;= 57.45</text>\n<text text-anchor=\"middle\" x=\"4434.5\" y=\"-513.8\" font-family=\"Helvetica,sans-Serif\" font-size=\"14.00\" fill=\"#000000\">entropy = 1.31</text>\n<text text-anchor=\"middle\" x=\"4434.5\" y=\"-498.8\" font-family=\"Helvetica,sans-Serif\" font-size=\"14.00\" fill=\"#000000\">samples = 947</text>\n<text text-anchor=\"middle\" x=\"4434.5\" y=\"-483.8\" font-family=\"Helvetica,sans-Serif\" font-size=\"14.00\" fill=\"#000000\">value = [402, 180, 922]</text>\n<text text-anchor=\"middle\" x=\"4434.5\" y=\"-468.8\" font-family=\"Helvetica,sans-Serif\" font-size=\"14.00\" fill=\"#000000\">class = Minor</text>\n</g>\n<!-- 54&#45;&gt;55 -->\n<g id=\"edge55\" class=\"edge\">\n<title>54&#45;&gt;55</title>\n<path fill=\"none\" stroke=\"#000000\" d=\"M4584.0572,-579.8796C4564.6229,-569.8244 4543.737,-559.0183 4523.9189,-548.7645\"/>\n<polygon fill=\"#000000\" stroke=\"#000000\" points=\"4525.3874,-545.5837 4514.8974,-544.0969 4522.1707,-551.8008 4525.3874,-545.5837\"/>\n</g>\n<!-- 80 -->\n<g id=\"node81\" class=\"node\">\n<title>80</title>\n<path fill=\"#8844e6\" stroke=\"#000000\" d=\"M4861,-544C4861,-544 4726,-544 4726,-544 4720,-544 4714,-538 4714,-532 4714,-532 4714,-473 4714,-473 4714,-467 4720,-461 4726,-461 4726,-461 4861,-461 4861,-461 4867,-461 4873,-467 4873,-473 4873,-473 4873,-532 4873,-532 4873,-538 4867,-544 4861,-544\"/>\n<text text-anchor=\"middle\" x=\"4793.5\" y=\"-528.8\" font-family=\"Helvetica,sans-Serif\" font-size=\"14.00\" fill=\"#000000\">Temperature &lt;= 81.15</text>\n<text text-anchor=\"middle\" x=\"4793.5\" y=\"-513.8\" font-family=\"Helvetica,sans-Serif\" font-size=\"14.00\" fill=\"#000000\">entropy = 0.29</text>\n<text text-anchor=\"middle\" x=\"4793.5\" y=\"-498.8\" font-family=\"Helvetica,sans-Serif\" font-size=\"14.00\" fill=\"#000000\">samples = 46</text>\n<text text-anchor=\"middle\" x=\"4793.5\" y=\"-483.8\" font-family=\"Helvetica,sans-Serif\" font-size=\"14.00\" fill=\"#000000\">value = [0, 4, 73]</text>\n<text text-anchor=\"middle\" x=\"4793.5\" y=\"-468.8\" font-family=\"Helvetica,sans-Serif\" font-size=\"14.00\" fill=\"#000000\">class = Minor</text>\n</g>\n<!-- 54&#45;&gt;80 -->\n<g id=\"edge80\" class=\"edge\">\n<title>54&#45;&gt;80</title>\n<path fill=\"none\" stroke=\"#000000\" d=\"M4709.6179,-579.8796C4719.674,-570.6031 4730.423,-560.6874 4740.7554,-551.1559\"/>\n<polygon fill=\"#000000\" stroke=\"#000000\" points=\"4743.2124,-553.6511 4748.1895,-544.2981 4738.4661,-548.506 4743.2124,-553.6511\"/>\n</g>\n<!-- 56 -->\n<g id=\"node57\" class=\"node\">\n<title>56</title>\n<path fill=\"#9152e8\" stroke=\"#000000\" d=\"M4040,-425C4040,-425 3915,-425 3915,-425 3909,-425 3903,-419 3903,-413 3903,-413 3903,-354 3903,-354 3903,-348 3909,-342 3915,-342 3915,-342 4040,-342 4040,-342 4046,-342 4052,-348 4052,-354 4052,-354 4052,-413 4052,-413 4052,-419 4046,-425 4040,-425\"/>\n<text text-anchor=\"middle\" x=\"3977.5\" y=\"-409.8\" font-family=\"Helvetica,sans-Serif\" font-size=\"14.00\" fill=\"#000000\">Precipitation &lt;= 0.09</text>\n<text text-anchor=\"middle\" x=\"3977.5\" y=\"-394.8\" font-family=\"Helvetica,sans-Serif\" font-size=\"14.00\" fill=\"#000000\">entropy = 0.54</text>\n<text text-anchor=\"middle\" x=\"3977.5\" y=\"-379.8\" font-family=\"Helvetica,sans-Serif\" font-size=\"14.00\" fill=\"#000000\">samples = 205</text>\n<text text-anchor=\"middle\" x=\"3977.5\" y=\"-364.8\" font-family=\"Helvetica,sans-Serif\" font-size=\"14.00\" fill=\"#000000\">value = [2, 34, 285]</text>\n<text text-anchor=\"middle\" x=\"3977.5\" y=\"-349.8\" font-family=\"Helvetica,sans-Serif\" font-size=\"14.00\" fill=\"#000000\">class = Minor</text>\n</g>\n<!-- 55&#45;&gt;56 -->\n<g id=\"edge56\" class=\"edge\">\n<title>55&#45;&gt;56</title>\n<path fill=\"none\" stroke=\"#000000\" d=\"M4352.2698,-481.0877C4270.2855,-459.7395 4144.9619,-427.1061 4062.1406,-405.5399\"/>\n<polygon fill=\"#000000\" stroke=\"#000000\" points=\"4062.8162,-402.0992 4052.257,-402.9663 4061.0523,-408.8733 4062.8162,-402.0992\"/>\n</g>\n<!-- 67 -->\n<g id=\"node68\" class=\"node\">\n<title>67</title>\n<path fill=\"#d9c3f7\" stroke=\"#000000\" d=\"M4504.5,-425C4504.5,-425 4364.5,-425 4364.5,-425 4358.5,-425 4352.5,-419 4352.5,-413 4352.5,-413 4352.5,-354 4352.5,-354 4352.5,-348 4358.5,-342 4364.5,-342 4364.5,-342 4504.5,-342 4504.5,-342 4510.5,-342 4516.5,-348 4516.5,-354 4516.5,-354 4516.5,-413 4516.5,-413 4516.5,-419 4510.5,-425 4504.5,-425\"/>\n<text text-anchor=\"middle\" x=\"4434.5\" y=\"-409.8\" font-family=\"Helvetica,sans-Serif\" font-size=\"14.00\" fill=\"#000000\">Temperature &lt;= 67.2</text>\n<text text-anchor=\"middle\" x=\"4434.5\" y=\"-394.8\" font-family=\"Helvetica,sans-Serif\" font-size=\"14.00\" fill=\"#000000\">entropy = 1.38</text>\n<text text-anchor=\"middle\" x=\"4434.5\" y=\"-379.8\" font-family=\"Helvetica,sans-Serif\" font-size=\"14.00\" fill=\"#000000\">samples = 742</text>\n<text text-anchor=\"middle\" x=\"4434.5\" y=\"-364.8\" font-family=\"Helvetica,sans-Serif\" font-size=\"14.00\" fill=\"#000000\">value = [400, 146, 637]</text>\n<text text-anchor=\"middle\" x=\"4434.5\" y=\"-349.8\" font-family=\"Helvetica,sans-Serif\" font-size=\"14.00\" fill=\"#000000\">class = Minor</text>\n</g>\n<!-- 55&#45;&gt;67 -->\n<g id=\"edge67\" class=\"edge\">\n<title>55&#45;&gt;67</title>\n<path fill=\"none\" stroke=\"#000000\" d=\"M4434.5,-460.8796C4434.5,-452.6838 4434.5,-443.9891 4434.5,-435.5013\"/>\n<polygon fill=\"#000000\" stroke=\"#000000\" points=\"4438.0001,-435.298 4434.5,-425.2981 4431.0001,-435.2981 4438.0001,-435.298\"/>\n</g>\n<!-- 57 -->\n<g id=\"node58\" class=\"node\">\n<title>57</title>\n<path fill=\"#8f4fe8\" stroke=\"#000000\" d=\"M3821.5,-306C3821.5,-306 3705.5,-306 3705.5,-306 3699.5,-306 3693.5,-300 3693.5,-294 3693.5,-294 3693.5,-235 3693.5,-235 3693.5,-229 3699.5,-223 3705.5,-223 3705.5,-223 3821.5,-223 3821.5,-223 3827.5,-223 3833.5,-229 3833.5,-235 3833.5,-235 3833.5,-294 3833.5,-294 3833.5,-300 3827.5,-306 3821.5,-306\"/>\n<text text-anchor=\"middle\" x=\"3763.5\" y=\"-290.8\" font-family=\"Helvetica,sans-Serif\" font-size=\"14.00\" fill=\"#000000\">Hour_3 &lt;= 0.5</text>\n<text text-anchor=\"middle\" x=\"3763.5\" y=\"-275.8\" font-family=\"Helvetica,sans-Serif\" font-size=\"14.00\" fill=\"#000000\">entropy = 0.51</text>\n<text text-anchor=\"middle\" x=\"3763.5\" y=\"-260.8\" font-family=\"Helvetica,sans-Serif\" font-size=\"14.00\" fill=\"#000000\">samples = 190</text>\n<text text-anchor=\"middle\" x=\"3763.5\" y=\"-245.8\" font-family=\"Helvetica,sans-Serif\" font-size=\"14.00\" fill=\"#000000\">value = [2, 28, 269]</text>\n<text text-anchor=\"middle\" x=\"3763.5\" y=\"-230.8\" font-family=\"Helvetica,sans-Serif\" font-size=\"14.00\" fill=\"#000000\">class = Minor</text>\n</g>\n<!-- 56&#45;&gt;57 -->\n<g id=\"edge57\" class=\"edge\">\n<title>56&#45;&gt;57</title>\n<path fill=\"none\" stroke=\"#000000\" d=\"M3902.9536,-342.0466C3883.4971,-331.2274 3862.4593,-319.5288 3842.7675,-308.5787\"/>\n<polygon fill=\"#000000\" stroke=\"#000000\" points=\"3844.2658,-305.4071 3833.8251,-303.606 3840.8638,-311.5249 3844.2658,-305.4071\"/>\n</g>\n<!-- 62 -->\n<g id=\"node63\" class=\"node\">\n<title>62</title>\n<path fill=\"#b083ef\" stroke=\"#000000\" d=\"M4027,-306C4027,-306 3928,-306 3928,-306 3922,-306 3916,-300 3916,-294 3916,-294 3916,-235 3916,-235 3916,-229 3922,-223 3928,-223 3928,-223 4027,-223 4027,-223 4033,-223 4039,-229 4039,-235 4039,-235 4039,-294 4039,-294 4039,-300 4033,-306 4027,-306\"/>\n<text text-anchor=\"middle\" x=\"3977.5\" y=\"-290.8\" font-family=\"Helvetica,sans-Serif\" font-size=\"14.00\" fill=\"#000000\">Hour_21 &lt;= 0.5</text>\n<text text-anchor=\"middle\" x=\"3977.5\" y=\"-275.8\" font-family=\"Helvetica,sans-Serif\" font-size=\"14.00\" fill=\"#000000\">entropy = 0.85</text>\n<text text-anchor=\"middle\" x=\"3977.5\" y=\"-260.8\" font-family=\"Helvetica,sans-Serif\" font-size=\"14.00\" fill=\"#000000\">samples = 15</text>\n<text text-anchor=\"middle\" x=\"3977.5\" y=\"-245.8\" font-family=\"Helvetica,sans-Serif\" font-size=\"14.00\" fill=\"#000000\">value = [0, 6, 16]</text>\n<text text-anchor=\"middle\" x=\"3977.5\" y=\"-230.8\" font-family=\"Helvetica,sans-Serif\" font-size=\"14.00\" fill=\"#000000\">class = Minor</text>\n</g>\n<!-- 56&#45;&gt;62 -->\n<g id=\"edge62\" class=\"edge\">\n<title>56&#45;&gt;62</title>\n<path fill=\"none\" stroke=\"#000000\" d=\"M3977.5,-341.8796C3977.5,-333.6838 3977.5,-324.9891 3977.5,-316.5013\"/>\n<polygon fill=\"#000000\" stroke=\"#000000\" points=\"3981.0001,-316.298 3977.5,-306.2981 3974.0001,-316.2981 3981.0001,-316.298\"/>\n</g>\n<!-- 58 -->\n<g id=\"node59\" class=\"node\">\n<title>58</title>\n<path fill=\"#9051e8\" stroke=\"#000000\" d=\"M3672,-187C3672,-187 3551,-187 3551,-187 3545,-187 3539,-181 3539,-175 3539,-175 3539,-116 3539,-116 3539,-110 3545,-104 3551,-104 3551,-104 3672,-104 3672,-104 3678,-104 3684,-110 3684,-116 3684,-116 3684,-175 3684,-175 3684,-181 3678,-187 3672,-187\"/>\n<text text-anchor=\"middle\" x=\"3611.5\" y=\"-171.8\" font-family=\"Helvetica,sans-Serif\" font-size=\"14.00\" fill=\"#000000\">MONTH_Apr &lt;= 0.5</text>\n<text text-anchor=\"middle\" x=\"3611.5\" y=\"-156.8\" font-family=\"Helvetica,sans-Serif\" font-size=\"14.00\" fill=\"#000000\">entropy = 0.53</text>\n<text text-anchor=\"middle\" x=\"3611.5\" y=\"-141.8\" font-family=\"Helvetica,sans-Serif\" font-size=\"14.00\" fill=\"#000000\">samples = 178</text>\n<text text-anchor=\"middle\" x=\"3611.5\" y=\"-126.8\" font-family=\"Helvetica,sans-Serif\" font-size=\"14.00\" fill=\"#000000\">value = [2, 28, 246]</text>\n<text text-anchor=\"middle\" x=\"3611.5\" y=\"-111.8\" font-family=\"Helvetica,sans-Serif\" font-size=\"14.00\" fill=\"#000000\">class = Minor</text>\n</g>\n<!-- 57&#45;&gt;58 -->\n<g id=\"edge58\" class=\"edge\">\n<title>57&#45;&gt;58</title>\n<path fill=\"none\" stroke=\"#000000\" d=\"M3710.3378,-222.8796C3698.1885,-213.368 3685.1808,-203.1843 3672.724,-193.432\"/>\n<polygon fill=\"#000000\" stroke=\"#000000\" points=\"3674.6638,-190.5055 3664.6322,-187.0969 3670.3486,-196.0173 3674.6638,-190.5055\"/>\n</g>\n<!-- 61 -->\n<g id=\"node62\" class=\"node\">\n<title>61</title>\n<path fill=\"#8139e5\" stroke=\"#000000\" d=\"M3813,-179.5C3813,-179.5 3714,-179.5 3714,-179.5 3708,-179.5 3702,-173.5 3702,-167.5 3702,-167.5 3702,-123.5 3702,-123.5 3702,-117.5 3708,-111.5 3714,-111.5 3714,-111.5 3813,-111.5 3813,-111.5 3819,-111.5 3825,-117.5 3825,-123.5 3825,-123.5 3825,-167.5 3825,-167.5 3825,-173.5 3819,-179.5 3813,-179.5\"/>\n<text text-anchor=\"middle\" x=\"3763.5\" y=\"-164.3\" font-family=\"Helvetica,sans-Serif\" font-size=\"14.00\" fill=\"#000000\">entropy = 0.0</text>\n<text text-anchor=\"middle\" x=\"3763.5\" y=\"-149.3\" font-family=\"Helvetica,sans-Serif\" font-size=\"14.00\" fill=\"#000000\">samples = 12</text>\n<text text-anchor=\"middle\" x=\"3763.5\" y=\"-134.3\" font-family=\"Helvetica,sans-Serif\" font-size=\"14.00\" fill=\"#000000\">value = [0, 0, 23]</text>\n<text text-anchor=\"middle\" x=\"3763.5\" y=\"-119.3\" font-family=\"Helvetica,sans-Serif\" font-size=\"14.00\" fill=\"#000000\">class = Minor</text>\n</g>\n<!-- 57&#45;&gt;61 -->\n<g id=\"edge61\" class=\"edge\">\n<title>57&#45;&gt;61</title>\n<path fill=\"none\" stroke=\"#000000\" d=\"M3763.5,-222.8796C3763.5,-212.2134 3763.5,-200.7021 3763.5,-189.9015\"/>\n<polygon fill=\"#000000\" stroke=\"#000000\" points=\"3767.0001,-189.8149 3763.5,-179.8149 3760.0001,-189.815 3767.0001,-189.8149\"/>\n</g>\n<!-- 59 -->\n<g id=\"node60\" class=\"node\">\n<title>59</title>\n<path fill=\"#9254e9\" stroke=\"#000000\" d=\"M3542.5,-68C3542.5,-68 3426.5,-68 3426.5,-68 3420.5,-68 3414.5,-62 3414.5,-56 3414.5,-56 3414.5,-12 3414.5,-12 3414.5,-6 3420.5,0 3426.5,0 3426.5,0 3542.5,0 3542.5,0 3548.5,0 3554.5,-6 3554.5,-12 3554.5,-12 3554.5,-56 3554.5,-56 3554.5,-62 3548.5,-68 3542.5,-68\"/>\n<text text-anchor=\"middle\" x=\"3484.5\" y=\"-52.8\" font-family=\"Helvetica,sans-Serif\" font-size=\"14.00\" fill=\"#000000\">entropy = 0.57</text>\n<text text-anchor=\"middle\" x=\"3484.5\" y=\"-37.8\" font-family=\"Helvetica,sans-Serif\" font-size=\"14.00\" fill=\"#000000\">samples = 159</text>\n<text text-anchor=\"middle\" x=\"3484.5\" y=\"-22.8\" font-family=\"Helvetica,sans-Serif\" font-size=\"14.00\" fill=\"#000000\">value = [2, 28, 218]</text>\n<text text-anchor=\"middle\" x=\"3484.5\" y=\"-7.8\" font-family=\"Helvetica,sans-Serif\" font-size=\"14.00\" fill=\"#000000\">class = Minor</text>\n</g>\n<!-- 58&#45;&gt;59 -->\n<g id=\"edge59\" class=\"edge\">\n<title>58&#45;&gt;59</title>\n<path fill=\"none\" stroke=\"#000000\" d=\"M3564.2099,-103.9815C3553.4275,-94.5151 3541.977,-84.462 3531.2187,-75.0168\"/>\n<polygon fill=\"#000000\" stroke=\"#000000\" points=\"3533.3507,-72.2311 3523.5268,-68.2637 3528.7324,-77.4915 3533.3507,-72.2311\"/>\n</g>\n<!-- 60 -->\n<g id=\"node61\" class=\"node\">\n<title>60</title>\n<path fill=\"#8139e5\" stroke=\"#000000\" d=\"M3684,-68C3684,-68 3585,-68 3585,-68 3579,-68 3573,-62 3573,-56 3573,-56 3573,-12 3573,-12 3573,-6 3579,0 3585,0 3585,0 3684,0 3684,0 3690,0 3696,-6 3696,-12 3696,-12 3696,-56 3696,-56 3696,-62 3690,-68 3684,-68\"/>\n<text text-anchor=\"middle\" x=\"3634.5\" y=\"-52.8\" font-family=\"Helvetica,sans-Serif\" font-size=\"14.00\" fill=\"#000000\">entropy = 0.0</text>\n<text text-anchor=\"middle\" x=\"3634.5\" y=\"-37.8\" font-family=\"Helvetica,sans-Serif\" font-size=\"14.00\" fill=\"#000000\">samples = 19</text>\n<text text-anchor=\"middle\" x=\"3634.5\" y=\"-22.8\" font-family=\"Helvetica,sans-Serif\" font-size=\"14.00\" fill=\"#000000\">value = [0, 0, 28]</text>\n<text text-anchor=\"middle\" x=\"3634.5\" y=\"-7.8\" font-family=\"Helvetica,sans-Serif\" font-size=\"14.00\" fill=\"#000000\">class = Minor</text>\n</g>\n<!-- 58&#45;&gt;60 -->\n<g id=\"edge60\" class=\"edge\">\n<title>58&#45;&gt;60</title>\n<path fill=\"none\" stroke=\"#000000\" d=\"M3620.0644,-103.9815C3621.8085,-95.5261 3623.6492,-86.6026 3625.4109,-78.0623\"/>\n<polygon fill=\"#000000\" stroke=\"#000000\" points=\"3628.8397,-78.7646 3627.4322,-68.2637 3621.984,-77.3504 3628.8397,-78.7646\"/>\n</g>\n<!-- 63 -->\n<g id=\"node64\" class=\"node\">\n<title>63</title>\n<path fill=\"#c09cf2\" stroke=\"#000000\" d=\"M3954,-187C3954,-187 3855,-187 3855,-187 3849,-187 3843,-181 3843,-175 3843,-175 3843,-116 3843,-116 3843,-110 3849,-104 3855,-104 3855,-104 3954,-104 3954,-104 3960,-104 3966,-110 3966,-116 3966,-116 3966,-175 3966,-175 3966,-181 3960,-187 3954,-187\"/>\n<text text-anchor=\"middle\" x=\"3904.5\" y=\"-171.8\" font-family=\"Helvetica,sans-Serif\" font-size=\"14.00\" fill=\"#000000\">Visibility &lt;= 9.7</text>\n<text text-anchor=\"middle\" x=\"3904.5\" y=\"-156.8\" font-family=\"Helvetica,sans-Serif\" font-size=\"14.00\" fill=\"#000000\">entropy = 0.92</text>\n<text text-anchor=\"middle\" x=\"3904.5\" y=\"-141.8\" font-family=\"Helvetica,sans-Serif\" font-size=\"14.00\" fill=\"#000000\">samples = 13</text>\n<text text-anchor=\"middle\" x=\"3904.5\" y=\"-126.8\" font-family=\"Helvetica,sans-Serif\" font-size=\"14.00\" fill=\"#000000\">value = [0, 6, 12]</text>\n<text text-anchor=\"middle\" x=\"3904.5\" y=\"-111.8\" font-family=\"Helvetica,sans-Serif\" font-size=\"14.00\" fill=\"#000000\">class = Minor</text>\n</g>\n<!-- 62&#45;&gt;63 -->\n<g id=\"edge63\" class=\"edge\">\n<title>62&#45;&gt;63</title>\n<path fill=\"none\" stroke=\"#000000\" d=\"M3951.9681,-222.8796C3946.609,-214.1434 3940.9021,-204.8404 3935.3718,-195.8253\"/>\n<polygon fill=\"#000000\" stroke=\"#000000\" points=\"3938.3533,-193.9919 3930.1408,-187.2981 3932.3865,-197.6522 3938.3533,-193.9919\"/>\n</g>\n<!-- 66 -->\n<g id=\"node67\" class=\"node\">\n<title>66</title>\n<path fill=\"#8139e5\" stroke=\"#000000\" d=\"M4087,-179.5C4087,-179.5 3996,-179.5 3996,-179.5 3990,-179.5 3984,-173.5 3984,-167.5 3984,-167.5 3984,-123.5 3984,-123.5 3984,-117.5 3990,-111.5 3996,-111.5 3996,-111.5 4087,-111.5 4087,-111.5 4093,-111.5 4099,-117.5 4099,-123.5 4099,-123.5 4099,-167.5 4099,-167.5 4099,-173.5 4093,-179.5 4087,-179.5\"/>\n<text text-anchor=\"middle\" x=\"4041.5\" y=\"-164.3\" font-family=\"Helvetica,sans-Serif\" font-size=\"14.00\" fill=\"#000000\">entropy = 0.0</text>\n<text text-anchor=\"middle\" x=\"4041.5\" y=\"-149.3\" font-family=\"Helvetica,sans-Serif\" font-size=\"14.00\" fill=\"#000000\">samples = 2</text>\n<text text-anchor=\"middle\" x=\"4041.5\" y=\"-134.3\" font-family=\"Helvetica,sans-Serif\" font-size=\"14.00\" fill=\"#000000\">value = [0, 0, 4]</text>\n<text text-anchor=\"middle\" x=\"4041.5\" y=\"-119.3\" font-family=\"Helvetica,sans-Serif\" font-size=\"14.00\" fill=\"#000000\">class = Minor</text>\n</g>\n<!-- 62&#45;&gt;66 -->\n<g id=\"edge66\" class=\"edge\">\n<title>62&#45;&gt;66</title>\n<path fill=\"none\" stroke=\"#000000\" d=\"M3999.8841,-222.8796C4005.798,-211.8835 4012.1949,-199.9893 4018.158,-188.9015\"/>\n<polygon fill=\"#000000\" stroke=\"#000000\" points=\"4021.3908,-190.2799 4023.0449,-179.8149 4015.2258,-186.9642 4021.3908,-190.2799\"/>\n</g>\n<!-- 64 -->\n<g id=\"node65\" class=\"node\">\n<title>64</title>\n<path fill=\"#8139e5\" stroke=\"#000000\" d=\"M3817,-68C3817,-68 3726,-68 3726,-68 3720,-68 3714,-62 3714,-56 3714,-56 3714,-12 3714,-12 3714,-6 3720,0 3726,0 3726,0 3817,0 3817,0 3823,0 3829,-6 3829,-12 3829,-12 3829,-56 3829,-56 3829,-62 3823,-68 3817,-68\"/>\n<text text-anchor=\"middle\" x=\"3771.5\" y=\"-52.8\" font-family=\"Helvetica,sans-Serif\" font-size=\"14.00\" fill=\"#000000\">entropy = 0.0</text>\n<text text-anchor=\"middle\" x=\"3771.5\" y=\"-37.8\" font-family=\"Helvetica,sans-Serif\" font-size=\"14.00\" fill=\"#000000\">samples = 3</text>\n<text text-anchor=\"middle\" x=\"3771.5\" y=\"-22.8\" font-family=\"Helvetica,sans-Serif\" font-size=\"14.00\" fill=\"#000000\">value = [0, 0, 4]</text>\n<text text-anchor=\"middle\" x=\"3771.5\" y=\"-7.8\" font-family=\"Helvetica,sans-Serif\" font-size=\"14.00\" fill=\"#000000\">class = Minor</text>\n</g>\n<!-- 63&#45;&gt;64 -->\n<g id=\"edge64\" class=\"edge\">\n<title>63&#45;&gt;64</title>\n<path fill=\"none\" stroke=\"#000000\" d=\"M3854.9757,-103.9815C3843.5743,-94.4232 3831.4595,-84.2668 3820.0979,-74.7419\"/>\n<polygon fill=\"#000000\" stroke=\"#000000\" points=\"3822.2825,-72.006 3812.3706,-68.2637 3817.7853,-77.3704 3822.2825,-72.006\"/>\n</g>\n<!-- 65 -->\n<g id=\"node66\" class=\"node\">\n<title>65</title>\n<path fill=\"#e0cef8\" stroke=\"#000000\" d=\"M3950,-68C3950,-68 3859,-68 3859,-68 3853,-68 3847,-62 3847,-56 3847,-56 3847,-12 3847,-12 3847,-6 3853,0 3859,0 3859,0 3950,0 3950,0 3956,0 3962,-6 3962,-12 3962,-12 3962,-56 3962,-56 3962,-62 3956,-68 3950,-68\"/>\n<text text-anchor=\"middle\" x=\"3904.5\" y=\"-52.8\" font-family=\"Helvetica,sans-Serif\" font-size=\"14.00\" fill=\"#000000\">entropy = 0.99</text>\n<text text-anchor=\"middle\" x=\"3904.5\" y=\"-37.8\" font-family=\"Helvetica,sans-Serif\" font-size=\"14.00\" fill=\"#000000\">samples = 10</text>\n<text text-anchor=\"middle\" x=\"3904.5\" y=\"-22.8\" font-family=\"Helvetica,sans-Serif\" font-size=\"14.00\" fill=\"#000000\">value = [0, 6, 8]</text>\n<text text-anchor=\"middle\" x=\"3904.5\" y=\"-7.8\" font-family=\"Helvetica,sans-Serif\" font-size=\"14.00\" fill=\"#000000\">class = Minor</text>\n</g>\n<!-- 63&#45;&gt;65 -->\n<g id=\"edge65\" class=\"edge\">\n<title>63&#45;&gt;65</title>\n<path fill=\"none\" stroke=\"#000000\" d=\"M3904.5,-103.9815C3904.5,-95.618 3904.5,-86.7965 3904.5,-78.3409\"/>\n<polygon fill=\"#000000\" stroke=\"#000000\" points=\"3908.0001,-78.2636 3904.5,-68.2637 3901.0001,-78.2637 3908.0001,-78.2636\"/>\n</g>\n<!-- 68 -->\n<g id=\"node69\" class=\"node\">\n<title>68</title>\n<path fill=\"#9559e9\" stroke=\"#000000\" d=\"M4390.5,-306C4390.5,-306 4274.5,-306 4274.5,-306 4268.5,-306 4262.5,-300 4262.5,-294 4262.5,-294 4262.5,-235 4262.5,-235 4262.5,-229 4268.5,-223 4274.5,-223 4274.5,-223 4390.5,-223 4390.5,-223 4396.5,-223 4402.5,-229 4402.5,-235 4402.5,-235 4402.5,-294 4402.5,-294 4402.5,-300 4396.5,-306 4390.5,-306\"/>\n<text text-anchor=\"middle\" x=\"4332.5\" y=\"-290.8\" font-family=\"Helvetica,sans-Serif\" font-size=\"14.00\" fill=\"#000000\">Hour_20 &lt;= 0.5</text>\n<text text-anchor=\"middle\" x=\"4332.5\" y=\"-275.8\" font-family=\"Helvetica,sans-Serif\" font-size=\"14.00\" fill=\"#000000\">entropy = 0.61</text>\n<text text-anchor=\"middle\" x=\"4332.5\" y=\"-260.8\" font-family=\"Helvetica,sans-Serif\" font-size=\"14.00\" fill=\"#000000\">samples = 295</text>\n<text text-anchor=\"middle\" x=\"4332.5\" y=\"-245.8\" font-family=\"Helvetica,sans-Serif\" font-size=\"14.00\" fill=\"#000000\">value = [2, 66, 420]</text>\n<text text-anchor=\"middle\" x=\"4332.5\" y=\"-230.8\" font-family=\"Helvetica,sans-Serif\" font-size=\"14.00\" fill=\"#000000\">class = Minor</text>\n</g>\n<!-- 67&#45;&gt;68 -->\n<g id=\"edge68\" class=\"edge\">\n<title>67&#45;&gt;68</title>\n<path fill=\"none\" stroke=\"#000000\" d=\"M4398.8253,-341.8796C4391.1057,-332.8733 4382.8695,-323.2644 4374.9197,-313.9897\"/>\n<polygon fill=\"#000000\" stroke=\"#000000\" points=\"4377.4923,-311.6129 4368.3269,-306.2981 4372.1775,-316.1684 4377.4923,-311.6129\"/>\n</g>\n<!-- 73 -->\n<g id=\"node74\" class=\"node\">\n<title>73</title>\n<path fill=\"#f5cfb4\" stroke=\"#000000\" d=\"M4642.5,-306C4642.5,-306 4432.5,-306 4432.5,-306 4426.5,-306 4420.5,-300 4420.5,-294 4420.5,-294 4420.5,-235 4420.5,-235 4420.5,-229 4426.5,-223 4432.5,-223 4432.5,-223 4642.5,-223 4642.5,-223 4648.5,-223 4654.5,-229 4654.5,-235 4654.5,-235 4654.5,-294 4654.5,-294 4654.5,-300 4648.5,-306 4642.5,-306\"/>\n<text text-anchor=\"middle\" x=\"4537.5\" y=\"-290.8\" font-family=\"Helvetica,sans-Serif\" font-size=\"14.00\" fill=\"#000000\">Conditions_Rain, Overcast &lt;= 0.5</text>\n<text text-anchor=\"middle\" x=\"4537.5\" y=\"-275.8\" font-family=\"Helvetica,sans-Serif\" font-size=\"14.00\" fill=\"#000000\">entropy = 1.34</text>\n<text text-anchor=\"middle\" x=\"4537.5\" y=\"-260.8\" font-family=\"Helvetica,sans-Serif\" font-size=\"14.00\" fill=\"#000000\">samples = 447</text>\n<text text-anchor=\"middle\" x=\"4537.5\" y=\"-245.8\" font-family=\"Helvetica,sans-Serif\" font-size=\"14.00\" fill=\"#000000\">value = [398, 80, 217]</text>\n<text text-anchor=\"middle\" x=\"4537.5\" y=\"-230.8\" font-family=\"Helvetica,sans-Serif\" font-size=\"14.00\" fill=\"#000000\">class = Fatal</text>\n</g>\n<!-- 67&#45;&gt;73 -->\n<g id=\"edge73\" class=\"edge\">\n<title>67&#45;&gt;73</title>\n<path fill=\"none\" stroke=\"#000000\" d=\"M4470.5244,-341.8796C4478.3198,-332.8733 4486.6367,-323.2644 4494.6644,-313.9897\"/>\n<polygon fill=\"#000000\" stroke=\"#000000\" points=\"4497.4237,-316.1498 4501.3218,-306.2981 4492.1309,-311.5686 4497.4237,-316.1498\"/>\n</g>\n<!-- 69 -->\n<g id=\"node70\" class=\"node\">\n<title>69</title>\n<path fill=\"#965be9\" stroke=\"#000000\" d=\"M4260,-187C4260,-187 4135,-187 4135,-187 4129,-187 4123,-181 4123,-175 4123,-175 4123,-116 4123,-116 4123,-110 4129,-104 4135,-104 4135,-104 4260,-104 4260,-104 4266,-104 4272,-110 4272,-116 4272,-116 4272,-175 4272,-175 4272,-181 4266,-187 4260,-187\"/>\n<text text-anchor=\"middle\" x=\"4197.5\" y=\"-171.8\" font-family=\"Helvetica,sans-Serif\" font-size=\"14.00\" fill=\"#000000\">Wind Speed &lt;= 22.9</text>\n<text text-anchor=\"middle\" x=\"4197.5\" y=\"-156.8\" font-family=\"Helvetica,sans-Serif\" font-size=\"14.00\" fill=\"#000000\">entropy = 0.63</text>\n<text text-anchor=\"middle\" x=\"4197.5\" y=\"-141.8\" font-family=\"Helvetica,sans-Serif\" font-size=\"14.00\" fill=\"#000000\">samples = 286</text>\n<text text-anchor=\"middle\" x=\"4197.5\" y=\"-126.8\" font-family=\"Helvetica,sans-Serif\" font-size=\"14.00\" fill=\"#000000\">value = [2, 66, 399]</text>\n<text text-anchor=\"middle\" x=\"4197.5\" y=\"-111.8\" font-family=\"Helvetica,sans-Serif\" font-size=\"14.00\" fill=\"#000000\">class = Minor</text>\n</g>\n<!-- 68&#45;&gt;69 -->\n<g id=\"edge69\" class=\"edge\">\n<title>68&#45;&gt;69</title>\n<path fill=\"none\" stroke=\"#000000\" d=\"M4285.2836,-222.8796C4274.7598,-213.6031 4263.5109,-203.6874 4252.6979,-194.1559\"/>\n<polygon fill=\"#000000\" stroke=\"#000000\" points=\"4254.734,-191.2851 4244.918,-187.2981 4250.1052,-196.5362 4254.734,-191.2851\"/>\n</g>\n<!-- 72 -->\n<g id=\"node73\" class=\"node\">\n<title>72</title>\n<path fill=\"#8139e5\" stroke=\"#000000\" d=\"M4401,-179.5C4401,-179.5 4302,-179.5 4302,-179.5 4296,-179.5 4290,-173.5 4290,-167.5 4290,-167.5 4290,-123.5 4290,-123.5 4290,-117.5 4296,-111.5 4302,-111.5 4302,-111.5 4401,-111.5 4401,-111.5 4407,-111.5 4413,-117.5 4413,-123.5 4413,-123.5 4413,-167.5 4413,-167.5 4413,-173.5 4407,-179.5 4401,-179.5\"/>\n<text text-anchor=\"middle\" x=\"4351.5\" y=\"-164.3\" font-family=\"Helvetica,sans-Serif\" font-size=\"14.00\" fill=\"#000000\">entropy = 0.0</text>\n<text text-anchor=\"middle\" x=\"4351.5\" y=\"-149.3\" font-family=\"Helvetica,sans-Serif\" font-size=\"14.00\" fill=\"#000000\">samples = 9</text>\n<text text-anchor=\"middle\" x=\"4351.5\" y=\"-134.3\" font-family=\"Helvetica,sans-Serif\" font-size=\"14.00\" fill=\"#000000\">value = [0, 0, 21]</text>\n<text text-anchor=\"middle\" x=\"4351.5\" y=\"-119.3\" font-family=\"Helvetica,sans-Serif\" font-size=\"14.00\" fill=\"#000000\">class = Minor</text>\n</g>\n<!-- 68&#45;&gt;72 -->\n<g id=\"edge72\" class=\"edge\">\n<title>68&#45;&gt;72</title>\n<path fill=\"none\" stroke=\"#000000\" d=\"M4339.1453,-222.8796C4340.8483,-212.2134 4342.6862,-200.7021 4344.4107,-189.9015\"/>\n<polygon fill=\"#000000\" stroke=\"#000000\" points=\"4347.9006,-190.2417 4346.0211,-179.8149 4340.9882,-189.138 4347.9006,-190.2417\"/>\n</g>\n<!-- 70 -->\n<g id=\"node71\" class=\"node\">\n<title>70</title>\n<path fill=\"#8c4be7\" stroke=\"#000000\" d=\"M4108.5,-68C4108.5,-68 3992.5,-68 3992.5,-68 3986.5,-68 3980.5,-62 3980.5,-56 3980.5,-56 3980.5,-12 3980.5,-12 3980.5,-6 3986.5,0 3992.5,0 3992.5,0 4108.5,0 4108.5,0 4114.5,0 4120.5,-6 4120.5,-12 4120.5,-12 4120.5,-56 4120.5,-56 4120.5,-62 4114.5,-68 4108.5,-68\"/>\n<text text-anchor=\"middle\" x=\"4050.5\" y=\"-52.8\" font-family=\"Helvetica,sans-Serif\" font-size=\"14.00\" fill=\"#000000\">entropy = 0.44</text>\n<text text-anchor=\"middle\" x=\"4050.5\" y=\"-37.8\" font-family=\"Helvetica,sans-Serif\" font-size=\"14.00\" fill=\"#000000\">samples = 245</text>\n<text text-anchor=\"middle\" x=\"4050.5\" y=\"-22.8\" font-family=\"Helvetica,sans-Serif\" font-size=\"14.00\" fill=\"#000000\">value = [2, 31, 365]</text>\n<text text-anchor=\"middle\" x=\"4050.5\" y=\"-7.8\" font-family=\"Helvetica,sans-Serif\" font-size=\"14.00\" fill=\"#000000\">class = Minor</text>\n</g>\n<!-- 69&#45;&gt;70 -->\n<g id=\"edge70\" class=\"edge\">\n<title>69&#45;&gt;70</title>\n<path fill=\"none\" stroke=\"#000000\" d=\"M4142.7626,-103.9815C4130.0399,-94.3313 4116.5134,-84.0714 4103.8515,-74.4673\"/>\n<polygon fill=\"#000000\" stroke=\"#000000\" points=\"4105.7553,-71.5184 4095.6727,-68.2637 4101.525,-77.0956 4105.7553,-71.5184\"/>\n</g>\n<!-- 71 -->\n<g id=\"node72\" class=\"node\">\n<title>71</title>\n<path fill=\"#f9fefb\" stroke=\"#000000\" d=\"M4258,-68C4258,-68 4151,-68 4151,-68 4145,-68 4139,-62 4139,-56 4139,-56 4139,-12 4139,-12 4139,-6 4145,0 4151,0 4151,0 4258,0 4258,0 4264,0 4270,-6 4270,-12 4270,-12 4270,-56 4270,-56 4270,-62 4264,-68 4258,-68\"/>\n<text text-anchor=\"middle\" x=\"4204.5\" y=\"-52.8\" font-family=\"Helvetica,sans-Serif\" font-size=\"14.00\" fill=\"#000000\">entropy = 1.0</text>\n<text text-anchor=\"middle\" x=\"4204.5\" y=\"-37.8\" font-family=\"Helvetica,sans-Serif\" font-size=\"14.00\" fill=\"#000000\">samples = 41</text>\n<text text-anchor=\"middle\" x=\"4204.5\" y=\"-22.8\" font-family=\"Helvetica,sans-Serif\" font-size=\"14.00\" fill=\"#000000\">value = [0, 35, 34]</text>\n<text text-anchor=\"middle\" x=\"4204.5\" y=\"-7.8\" font-family=\"Helvetica,sans-Serif\" font-size=\"14.00\" fill=\"#000000\">class = Major</text>\n</g>\n<!-- 69&#45;&gt;71 -->\n<g id=\"edge71\" class=\"edge\">\n<title>69&#45;&gt;71</title>\n<path fill=\"none\" stroke=\"#000000\" d=\"M4200.1065,-103.9815C4200.6316,-95.618 4201.1854,-86.7965 4201.7163,-78.3409\"/>\n<polygon fill=\"#000000\" stroke=\"#000000\" points=\"4205.2154,-78.4634 4202.3489,-68.2637 4198.2291,-78.0247 4205.2154,-78.4634\"/>\n</g>\n<!-- 74 -->\n<g id=\"node75\" class=\"node\">\n<title>74</title>\n<path fill=\"#f2bf9b\" stroke=\"#000000\" d=\"M4584.5,-187C4584.5,-187 4452.5,-187 4452.5,-187 4446.5,-187 4440.5,-181 4440.5,-175 4440.5,-175 4440.5,-116 4440.5,-116 4440.5,-110 4446.5,-104 4452.5,-104 4452.5,-104 4584.5,-104 4584.5,-104 4590.5,-104 4596.5,-110 4596.5,-116 4596.5,-116 4596.5,-175 4596.5,-175 4596.5,-181 4590.5,-187 4584.5,-187\"/>\n<text text-anchor=\"middle\" x=\"4518.5\" y=\"-171.8\" font-family=\"Helvetica,sans-Serif\" font-size=\"14.00\" fill=\"#000000\">MONTH_Jun &lt;= 0.5</text>\n<text text-anchor=\"middle\" x=\"4518.5\" y=\"-156.8\" font-family=\"Helvetica,sans-Serif\" font-size=\"14.00\" fill=\"#000000\">entropy = 1.29</text>\n<text text-anchor=\"middle\" x=\"4518.5\" y=\"-141.8\" font-family=\"Helvetica,sans-Serif\" font-size=\"14.00\" fill=\"#000000\">samples = 408</text>\n<text text-anchor=\"middle\" x=\"4518.5\" y=\"-126.8\" font-family=\"Helvetica,sans-Serif\" font-size=\"14.00\" fill=\"#000000\">value = [398, 78, 158]</text>\n<text text-anchor=\"middle\" x=\"4518.5\" y=\"-111.8\" font-family=\"Helvetica,sans-Serif\" font-size=\"14.00\" fill=\"#000000\">class = Fatal</text>\n</g>\n<!-- 73&#45;&gt;74 -->\n<g id=\"edge74\" class=\"edge\">\n<title>73&#45;&gt;74</title>\n<path fill=\"none\" stroke=\"#000000\" d=\"M4530.8547,-222.8796C4529.5318,-214.5938 4528.1274,-205.798 4526.7581,-197.2216\"/>\n<polygon fill=\"#000000\" stroke=\"#000000\" points=\"4530.2066,-196.6211 4525.1736,-187.2981 4523.2942,-197.7249 4530.2066,-196.6211\"/>\n</g>\n<!-- 77 -->\n<g id=\"node78\" class=\"node\">\n<title>77</title>\n<path fill=\"#8540e6\" stroke=\"#000000\" d=\"M4760.5,-187C4760.5,-187 4626.5,-187 4626.5,-187 4620.5,-187 4614.5,-181 4614.5,-175 4614.5,-175 4614.5,-116 4614.5,-116 4614.5,-110 4620.5,-104 4626.5,-104 4626.5,-104 4760.5,-104 4760.5,-104 4766.5,-104 4772.5,-110 4772.5,-116 4772.5,-116 4772.5,-175 4772.5,-175 4772.5,-181 4766.5,-187 4760.5,-187\"/>\n<text text-anchor=\"middle\" x=\"4693.5\" y=\"-171.8\" font-family=\"Helvetica,sans-Serif\" font-size=\"14.00\" fill=\"#000000\">Cloud Cover &lt;= 86.55</text>\n<text text-anchor=\"middle\" x=\"4693.5\" y=\"-156.8\" font-family=\"Helvetica,sans-Serif\" font-size=\"14.00\" fill=\"#000000\">entropy = 0.21</text>\n<text text-anchor=\"middle\" x=\"4693.5\" y=\"-141.8\" font-family=\"Helvetica,sans-Serif\" font-size=\"14.00\" fill=\"#000000\">samples = 39</text>\n<text text-anchor=\"middle\" x=\"4693.5\" y=\"-126.8\" font-family=\"Helvetica,sans-Serif\" font-size=\"14.00\" fill=\"#000000\">value = [0, 2, 59]</text>\n<text text-anchor=\"middle\" x=\"4693.5\" y=\"-111.8\" font-family=\"Helvetica,sans-Serif\" font-size=\"14.00\" fill=\"#000000\">class = Minor</text>\n</g>\n<!-- 73&#45;&gt;77 -->\n<g id=\"edge77\" class=\"edge\">\n<title>73&#45;&gt;77</title>\n<path fill=\"none\" stroke=\"#000000\" d=\"M4592.0612,-222.8796C4604.5302,-213.368 4617.8802,-203.1843 4630.6648,-193.432\"/>\n<polygon fill=\"#000000\" stroke=\"#000000\" points=\"4633.1415,-195.9448 4638.9696,-187.0969 4628.896,-190.3792 4633.1415,-195.9448\"/>\n</g>\n<!-- 75 -->\n<g id=\"node76\" class=\"node\">\n<title>75</title>\n<path fill=\"#efb387\" stroke=\"#000000\" d=\"M4432.5,-68C4432.5,-68 4300.5,-68 4300.5,-68 4294.5,-68 4288.5,-62 4288.5,-56 4288.5,-56 4288.5,-12 4288.5,-12 4288.5,-6 4294.5,0 4300.5,0 4300.5,0 4432.5,0 4432.5,0 4438.5,0 4444.5,-6 4444.5,-12 4444.5,-12 4444.5,-56 4444.5,-56 4444.5,-62 4438.5,-68 4432.5,-68\"/>\n<text text-anchor=\"middle\" x=\"4366.5\" y=\"-52.8\" font-family=\"Helvetica,sans-Serif\" font-size=\"14.00\" fill=\"#000000\">entropy = 1.19</text>\n<text text-anchor=\"middle\" x=\"4366.5\" y=\"-37.8\" font-family=\"Helvetica,sans-Serif\" font-size=\"14.00\" fill=\"#000000\">samples = 376</text>\n<text text-anchor=\"middle\" x=\"4366.5\" y=\"-22.8\" font-family=\"Helvetica,sans-Serif\" font-size=\"14.00\" fill=\"#000000\">value = [398, 65, 118]</text>\n<text text-anchor=\"middle\" x=\"4366.5\" y=\"-7.8\" font-family=\"Helvetica,sans-Serif\" font-size=\"14.00\" fill=\"#000000\">class = Fatal</text>\n</g>\n<!-- 74&#45;&gt;75 -->\n<g id=\"edge75\" class=\"edge\">\n<title>74&#45;&gt;75</title>\n<path fill=\"none\" stroke=\"#000000\" d=\"M4461.9008,-103.9815C4448.6201,-94.2394 4434.4923,-83.8759 4421.2923,-74.193\"/>\n<polygon fill=\"#000000\" stroke=\"#000000\" points=\"4423.3426,-71.3564 4413.2092,-68.2637 4419.2023,-77.0006 4423.3426,-71.3564\"/>\n</g>\n<!-- 76 -->\n<g id=\"node77\" class=\"node\">\n<title>76</title>\n<path fill=\"#aa79ed\" stroke=\"#000000\" d=\"M4582,-68C4582,-68 4475,-68 4475,-68 4469,-68 4463,-62 4463,-56 4463,-56 4463,-12 4463,-12 4463,-6 4469,0 4475,0 4475,0 4582,0 4582,0 4588,0 4594,-6 4594,-12 4594,-12 4594,-56 4594,-56 4594,-62 4588,-68 4582,-68\"/>\n<text text-anchor=\"middle\" x=\"4528.5\" y=\"-52.8\" font-family=\"Helvetica,sans-Serif\" font-size=\"14.00\" fill=\"#000000\">entropy = 0.8</text>\n<text text-anchor=\"middle\" x=\"4528.5\" y=\"-37.8\" font-family=\"Helvetica,sans-Serif\" font-size=\"14.00\" fill=\"#000000\">samples = 32</text>\n<text text-anchor=\"middle\" x=\"4528.5\" y=\"-22.8\" font-family=\"Helvetica,sans-Serif\" font-size=\"14.00\" fill=\"#000000\">value = [0, 13, 40]</text>\n<text text-anchor=\"middle\" x=\"4528.5\" y=\"-7.8\" font-family=\"Helvetica,sans-Serif\" font-size=\"14.00\" fill=\"#000000\">class = Minor</text>\n</g>\n<!-- 74&#45;&gt;76 -->\n<g id=\"edge76\" class=\"edge\">\n<title>74&#45;&gt;76</title>\n<path fill=\"none\" stroke=\"#000000\" d=\"M4522.2236,-103.9815C4522.9737,-95.618 4523.7649,-86.7965 4524.5232,-78.3409\"/>\n<polygon fill=\"#000000\" stroke=\"#000000\" points=\"4528.0197,-78.5364 4525.427,-68.2637 4521.0477,-77.911 4528.0197,-78.5364\"/>\n</g>\n<!-- 78 -->\n<g id=\"node79\" class=\"node\">\n<title>78</title>\n<path fill=\"#8c49e7\" stroke=\"#000000\" d=\"M4723,-68C4723,-68 4624,-68 4624,-68 4618,-68 4612,-62 4612,-56 4612,-56 4612,-12 4612,-12 4612,-6 4618,0 4624,0 4624,0 4723,0 4723,0 4729,0 4735,-6 4735,-12 4735,-12 4735,-56 4735,-56 4735,-62 4729,-68 4723,-68\"/>\n<text text-anchor=\"middle\" x=\"4673.5\" y=\"-52.8\" font-family=\"Helvetica,sans-Serif\" font-size=\"14.00\" fill=\"#000000\">entropy = 0.39</text>\n<text text-anchor=\"middle\" x=\"4673.5\" y=\"-37.8\" font-family=\"Helvetica,sans-Serif\" font-size=\"14.00\" fill=\"#000000\">samples = 18</text>\n<text text-anchor=\"middle\" x=\"4673.5\" y=\"-22.8\" font-family=\"Helvetica,sans-Serif\" font-size=\"14.00\" fill=\"#000000\">value = [0, 2, 24]</text>\n<text text-anchor=\"middle\" x=\"4673.5\" y=\"-7.8\" font-family=\"Helvetica,sans-Serif\" font-size=\"14.00\" fill=\"#000000\">class = Minor</text>\n</g>\n<!-- 77&#45;&gt;78 -->\n<g id=\"edge78\" class=\"edge\">\n<title>77&#45;&gt;78</title>\n<path fill=\"none\" stroke=\"#000000\" d=\"M4686.0527,-103.9815C4684.5526,-95.618 4682.9702,-86.7965 4681.4535,-78.3409\"/>\n<polygon fill=\"#000000\" stroke=\"#000000\" points=\"4684.8566,-77.4886 4679.646,-68.2637 4677.9666,-78.7246 4684.8566,-77.4886\"/>\n</g>\n<!-- 79 -->\n<g id=\"node80\" class=\"node\">\n<title>79</title>\n<path fill=\"#8139e5\" stroke=\"#000000\" d=\"M4864,-68C4864,-68 4765,-68 4765,-68 4759,-68 4753,-62 4753,-56 4753,-56 4753,-12 4753,-12 4753,-6 4759,0 4765,0 4765,0 4864,0 4864,0 4870,0 4876,-6 4876,-12 4876,-12 4876,-56 4876,-56 4876,-62 4870,-68 4864,-68\"/>\n<text text-anchor=\"middle\" x=\"4814.5\" y=\"-52.8\" font-family=\"Helvetica,sans-Serif\" font-size=\"14.00\" fill=\"#000000\">entropy = 0.0</text>\n<text text-anchor=\"middle\" x=\"4814.5\" y=\"-37.8\" font-family=\"Helvetica,sans-Serif\" font-size=\"14.00\" fill=\"#000000\">samples = 21</text>\n<text text-anchor=\"middle\" x=\"4814.5\" y=\"-22.8\" font-family=\"Helvetica,sans-Serif\" font-size=\"14.00\" fill=\"#000000\">value = [0, 0, 35]</text>\n<text text-anchor=\"middle\" x=\"4814.5\" y=\"-7.8\" font-family=\"Helvetica,sans-Serif\" font-size=\"14.00\" fill=\"#000000\">class = Minor</text>\n</g>\n<!-- 77&#45;&gt;79 -->\n<g id=\"edge79\" class=\"edge\">\n<title>77&#45;&gt;79</title>\n<path fill=\"none\" stroke=\"#000000\" d=\"M4738.5559,-103.9815C4748.7291,-94.607 4759.5267,-84.6572 4769.6898,-75.2921\"/>\n<polygon fill=\"#000000\" stroke=\"#000000\" points=\"4772.3349,-77.6141 4777.317,-68.2637 4767.5913,-72.4663 4772.3349,-77.6141\"/>\n</g>\n<!-- 81 -->\n<g id=\"node82\" class=\"node\">\n<title>81</title>\n<path fill=\"#8641e6\" stroke=\"#000000\" d=\"M4860,-425C4860,-425 4727,-425 4727,-425 4721,-425 4715,-419 4715,-413 4715,-413 4715,-354 4715,-354 4715,-348 4721,-342 4727,-342 4727,-342 4860,-342 4860,-342 4866,-342 4872,-348 4872,-354 4872,-354 4872,-413 4872,-413 4872,-419 4866,-425 4860,-425\"/>\n<text text-anchor=\"middle\" x=\"4793.5\" y=\"-409.8\" font-family=\"Helvetica,sans-Serif\" font-size=\"14.00\" fill=\"#000000\">Wind Speed &lt;= 16.75</text>\n<text text-anchor=\"middle\" x=\"4793.5\" y=\"-394.8\" font-family=\"Helvetica,sans-Serif\" font-size=\"14.00\" fill=\"#000000\">entropy = 0.24</text>\n<text text-anchor=\"middle\" x=\"4793.5\" y=\"-379.8\" font-family=\"Helvetica,sans-Serif\" font-size=\"14.00\" fill=\"#000000\">samples = 45</text>\n<text text-anchor=\"middle\" x=\"4793.5\" y=\"-364.8\" font-family=\"Helvetica,sans-Serif\" font-size=\"14.00\" fill=\"#000000\">value = [0, 3, 73]</text>\n<text text-anchor=\"middle\" x=\"4793.5\" y=\"-349.8\" font-family=\"Helvetica,sans-Serif\" font-size=\"14.00\" fill=\"#000000\">class = Minor</text>\n</g>\n<!-- 80&#45;&gt;81 -->\n<g id=\"edge81\" class=\"edge\">\n<title>80&#45;&gt;81</title>\n<path fill=\"none\" stroke=\"#000000\" d=\"M4793.5,-460.8796C4793.5,-452.6838 4793.5,-443.9891 4793.5,-435.5013\"/>\n<polygon fill=\"#000000\" stroke=\"#000000\" points=\"4797.0001,-435.298 4793.5,-425.2981 4790.0001,-435.2981 4797.0001,-435.298\"/>\n</g>\n<!-- 88 -->\n<g id=\"node89\" class=\"node\">\n<title>88</title>\n<path fill=\"#39e581\" stroke=\"#000000\" d=\"M4993,-417.5C4993,-417.5 4902,-417.5 4902,-417.5 4896,-417.5 4890,-411.5 4890,-405.5 4890,-405.5 4890,-361.5 4890,-361.5 4890,-355.5 4896,-349.5 4902,-349.5 4902,-349.5 4993,-349.5 4993,-349.5 4999,-349.5 5005,-355.5 5005,-361.5 5005,-361.5 5005,-405.5 5005,-405.5 5005,-411.5 4999,-417.5 4993,-417.5\"/>\n<text text-anchor=\"middle\" x=\"4947.5\" y=\"-402.3\" font-family=\"Helvetica,sans-Serif\" font-size=\"14.00\" fill=\"#000000\">entropy = 0.0</text>\n<text text-anchor=\"middle\" x=\"4947.5\" y=\"-387.3\" font-family=\"Helvetica,sans-Serif\" font-size=\"14.00\" fill=\"#000000\">samples = 1</text>\n<text text-anchor=\"middle\" x=\"4947.5\" y=\"-372.3\" font-family=\"Helvetica,sans-Serif\" font-size=\"14.00\" fill=\"#000000\">value = [0, 1, 0]</text>\n<text text-anchor=\"middle\" x=\"4947.5\" y=\"-357.3\" font-family=\"Helvetica,sans-Serif\" font-size=\"14.00\" fill=\"#000000\">class = Major</text>\n</g>\n<!-- 80&#45;&gt;88 -->\n<g id=\"edge88\" class=\"edge\">\n<title>80&#45;&gt;88</title>\n<path fill=\"none\" stroke=\"#000000\" d=\"M4847.3617,-460.8796C4862.7304,-449.0038 4879.4547,-436.0804 4894.7559,-424.2568\"/>\n<polygon fill=\"#000000\" stroke=\"#000000\" points=\"4897.3196,-426.699 4903.0924,-417.8149 4893.0395,-421.1599 4897.3196,-426.699\"/>\n</g>\n<!-- 82 -->\n<g id=\"node83\" class=\"node\">\n<title>82</title>\n<path fill=\"#8945e7\" stroke=\"#000000\" d=\"M4856,-306C4856,-306 4731,-306 4731,-306 4725,-306 4719,-300 4719,-294 4719,-294 4719,-235 4719,-235 4719,-229 4725,-223 4731,-223 4731,-223 4856,-223 4856,-223 4862,-223 4868,-229 4868,-235 4868,-235 4868,-294 4868,-294 4868,-300 4862,-306 4856,-306\"/>\n<text text-anchor=\"middle\" x=\"4793.5\" y=\"-290.8\" font-family=\"Helvetica,sans-Serif\" font-size=\"14.00\" fill=\"#000000\">MONTH_Sep &lt;= 0.5</text>\n<text text-anchor=\"middle\" x=\"4793.5\" y=\"-275.8\" font-family=\"Helvetica,sans-Serif\" font-size=\"14.00\" fill=\"#000000\">entropy = 0.31</text>\n<text text-anchor=\"middle\" x=\"4793.5\" y=\"-260.8\" font-family=\"Helvetica,sans-Serif\" font-size=\"14.00\" fill=\"#000000\">samples = 35</text>\n<text text-anchor=\"middle\" x=\"4793.5\" y=\"-245.8\" font-family=\"Helvetica,sans-Serif\" font-size=\"14.00\" fill=\"#000000\">value = [0, 3, 50]</text>\n<text text-anchor=\"middle\" x=\"4793.5\" y=\"-230.8\" font-family=\"Helvetica,sans-Serif\" font-size=\"14.00\" fill=\"#000000\">class = Minor</text>\n</g>\n<!-- 81&#45;&gt;82 -->\n<g id=\"edge82\" class=\"edge\">\n<title>81&#45;&gt;82</title>\n<path fill=\"none\" stroke=\"#000000\" d=\"M4793.5,-341.8796C4793.5,-333.6838 4793.5,-324.9891 4793.5,-316.5013\"/>\n<polygon fill=\"#000000\" stroke=\"#000000\" points=\"4797.0001,-316.298 4793.5,-306.2981 4790.0001,-316.2981 4797.0001,-316.298\"/>\n</g>\n<!-- 87 -->\n<g id=\"node88\" class=\"node\">\n<title>87</title>\n<path fill=\"#8139e5\" stroke=\"#000000\" d=\"M4997,-298.5C4997,-298.5 4898,-298.5 4898,-298.5 4892,-298.5 4886,-292.5 4886,-286.5 4886,-286.5 4886,-242.5 4886,-242.5 4886,-236.5 4892,-230.5 4898,-230.5 4898,-230.5 4997,-230.5 4997,-230.5 5003,-230.5 5009,-236.5 5009,-242.5 5009,-242.5 5009,-286.5 5009,-286.5 5009,-292.5 5003,-298.5 4997,-298.5\"/>\n<text text-anchor=\"middle\" x=\"4947.5\" y=\"-283.3\" font-family=\"Helvetica,sans-Serif\" font-size=\"14.00\" fill=\"#000000\">entropy = 0.0</text>\n<text text-anchor=\"middle\" x=\"4947.5\" y=\"-268.3\" font-family=\"Helvetica,sans-Serif\" font-size=\"14.00\" fill=\"#000000\">samples = 10</text>\n<text text-anchor=\"middle\" x=\"4947.5\" y=\"-253.3\" font-family=\"Helvetica,sans-Serif\" font-size=\"14.00\" fill=\"#000000\">value = [0, 0, 23]</text>\n<text text-anchor=\"middle\" x=\"4947.5\" y=\"-238.3\" font-family=\"Helvetica,sans-Serif\" font-size=\"14.00\" fill=\"#000000\">class = Minor</text>\n</g>\n<!-- 81&#45;&gt;87 -->\n<g id=\"edge87\" class=\"edge\">\n<title>81&#45;&gt;87</title>\n<path fill=\"none\" stroke=\"#000000\" d=\"M4847.3617,-341.8796C4862.7304,-330.0038 4879.4547,-317.0804 4894.7559,-305.2568\"/>\n<polygon fill=\"#000000\" stroke=\"#000000\" points=\"4897.3196,-307.699 4903.0924,-298.8149 4893.0395,-302.1599 4897.3196,-307.699\"/>\n</g>\n<!-- 83 -->\n<g id=\"node84\" class=\"node\">\n<title>83</title>\n<path fill=\"#8a47e7\" stroke=\"#000000\" d=\"M5045.5,-187C5045.5,-187 4829.5,-187 4829.5,-187 4823.5,-187 4817.5,-181 4817.5,-175 4817.5,-175 4817.5,-116 4817.5,-116 4817.5,-110 4823.5,-104 4829.5,-104 4829.5,-104 5045.5,-104 5045.5,-104 5051.5,-104 5057.5,-110 5057.5,-116 5057.5,-116 5057.5,-175 5057.5,-175 5057.5,-181 5051.5,-187 5045.5,-187\"/>\n<text text-anchor=\"middle\" x=\"4937.5\" y=\"-171.8\" font-family=\"Helvetica,sans-Serif\" font-size=\"14.00\" fill=\"#000000\">Conditions_Snow, Overcast &lt;= 0.5</text>\n<text text-anchor=\"middle\" x=\"4937.5\" y=\"-156.8\" font-family=\"Helvetica,sans-Serif\" font-size=\"14.00\" fill=\"#000000\">entropy = 0.35</text>\n<text text-anchor=\"middle\" x=\"4937.5\" y=\"-141.8\" font-family=\"Helvetica,sans-Serif\" font-size=\"14.00\" fill=\"#000000\">samples = 30</text>\n<text text-anchor=\"middle\" x=\"4937.5\" y=\"-126.8\" font-family=\"Helvetica,sans-Serif\" font-size=\"14.00\" fill=\"#000000\">value = [0, 3, 42]</text>\n<text text-anchor=\"middle\" x=\"4937.5\" y=\"-111.8\" font-family=\"Helvetica,sans-Serif\" font-size=\"14.00\" fill=\"#000000\">class = Minor</text>\n</g>\n<!-- 82&#45;&gt;83 -->\n<g id=\"edge83\" class=\"edge\">\n<title>82&#45;&gt;83</title>\n<path fill=\"none\" stroke=\"#000000\" d=\"M4843.8642,-222.8796C4855.1985,-213.513 4867.3215,-203.4948 4878.9581,-193.8784\"/>\n<polygon fill=\"#000000\" stroke=\"#000000\" points=\"4881.4419,-196.3663 4886.9208,-187.2981 4876.9827,-190.9703 4881.4419,-196.3663\"/>\n</g>\n<!-- 86 -->\n<g id=\"node87\" class=\"node\">\n<title>86</title>\n<path fill=\"#8139e5\" stroke=\"#000000\" d=\"M5179,-179.5C5179,-179.5 5088,-179.5 5088,-179.5 5082,-179.5 5076,-173.5 5076,-167.5 5076,-167.5 5076,-123.5 5076,-123.5 5076,-117.5 5082,-111.5 5088,-111.5 5088,-111.5 5179,-111.5 5179,-111.5 5185,-111.5 5191,-117.5 5191,-123.5 5191,-123.5 5191,-167.5 5191,-167.5 5191,-173.5 5185,-179.5 5179,-179.5\"/>\n<text text-anchor=\"middle\" x=\"5133.5\" y=\"-164.3\" font-family=\"Helvetica,sans-Serif\" font-size=\"14.00\" fill=\"#000000\">entropy = 0.0</text>\n<text text-anchor=\"middle\" x=\"5133.5\" y=\"-149.3\" font-family=\"Helvetica,sans-Serif\" font-size=\"14.00\" fill=\"#000000\">samples = 5</text>\n<text text-anchor=\"middle\" x=\"5133.5\" y=\"-134.3\" font-family=\"Helvetica,sans-Serif\" font-size=\"14.00\" fill=\"#000000\">value = [0, 0, 8]</text>\n<text text-anchor=\"middle\" x=\"5133.5\" y=\"-119.3\" font-family=\"Helvetica,sans-Serif\" font-size=\"14.00\" fill=\"#000000\">class = Minor</text>\n</g>\n<!-- 82&#45;&gt;86 -->\n<g id=\"edge86\" class=\"edge\">\n<title>82&#45;&gt;86</title>\n<path fill=\"none\" stroke=\"#000000\" d=\"M4868.2021,-225.9909C4870.9807,-224.9292 4873.7523,-223.9272 4876.5,-223 4957.9352,-195.5197 4986.3977,-218.1526 5066.5,-187 5068.8432,-186.0887 5071.1952,-185.0944 5073.5427,-184.0338\"/>\n<polygon fill=\"#000000\" stroke=\"#000000\" points=\"5075.0885,-187.174 5082.5464,-179.6488 5072.0234,-180.8807 5075.0885,-187.174\"/>\n</g>\n<!-- 84 -->\n<g id=\"node85\" class=\"node\">\n<title>84</title>\n<path fill=\"#8a48e7\" stroke=\"#000000\" d=\"M5005,-68C5005,-68 4906,-68 4906,-68 4900,-68 4894,-62 4894,-56 4894,-56 4894,-12 4894,-12 4894,-6 4900,0 4906,0 4906,0 5005,0 5005,0 5011,0 5017,-6 5017,-12 5017,-12 5017,-56 5017,-56 5017,-62 5011,-68 5005,-68\"/>\n<text text-anchor=\"middle\" x=\"4955.5\" y=\"-52.8\" font-family=\"Helvetica,sans-Serif\" font-size=\"14.00\" fill=\"#000000\">entropy = 0.37</text>\n<text text-anchor=\"middle\" x=\"4955.5\" y=\"-37.8\" font-family=\"Helvetica,sans-Serif\" font-size=\"14.00\" fill=\"#000000\">samples = 28</text>\n<text text-anchor=\"middle\" x=\"4955.5\" y=\"-22.8\" font-family=\"Helvetica,sans-Serif\" font-size=\"14.00\" fill=\"#000000\">value = [0, 3, 40]</text>\n<text text-anchor=\"middle\" x=\"4955.5\" y=\"-7.8\" font-family=\"Helvetica,sans-Serif\" font-size=\"14.00\" fill=\"#000000\">class = Minor</text>\n</g>\n<!-- 83&#45;&gt;84 -->\n<g id=\"edge84\" class=\"edge\">\n<title>83&#45;&gt;84</title>\n<path fill=\"none\" stroke=\"#000000\" d=\"M4944.2025,-103.9815C4945.5527,-95.618 4946.9768,-86.7965 4948.3418,-78.3409\"/>\n<polygon fill=\"#000000\" stroke=\"#000000\" points=\"4951.8301,-78.6937 4949.9686,-68.2637 4944.9196,-77.578 4951.8301,-78.6937\"/>\n</g>\n<!-- 85 -->\n<g id=\"node86\" class=\"node\">\n<title>85</title>\n<path fill=\"#8139e5\" stroke=\"#000000\" d=\"M5138,-68C5138,-68 5047,-68 5047,-68 5041,-68 5035,-62 5035,-56 5035,-56 5035,-12 5035,-12 5035,-6 5041,0 5047,0 5047,0 5138,0 5138,0 5144,0 5150,-6 5150,-12 5150,-12 5150,-56 5150,-56 5150,-62 5144,-68 5138,-68\"/>\n<text text-anchor=\"middle\" x=\"5092.5\" y=\"-52.8\" font-family=\"Helvetica,sans-Serif\" font-size=\"14.00\" fill=\"#000000\">entropy = 0.0</text>\n<text text-anchor=\"middle\" x=\"5092.5\" y=\"-37.8\" font-family=\"Helvetica,sans-Serif\" font-size=\"14.00\" fill=\"#000000\">samples = 2</text>\n<text text-anchor=\"middle\" x=\"5092.5\" y=\"-22.8\" font-family=\"Helvetica,sans-Serif\" font-size=\"14.00\" fill=\"#000000\">value = [0, 0, 2]</text>\n<text text-anchor=\"middle\" x=\"5092.5\" y=\"-7.8\" font-family=\"Helvetica,sans-Serif\" font-size=\"14.00\" fill=\"#000000\">class = Minor</text>\n</g>\n<!-- 83&#45;&gt;85 -->\n<g id=\"edge85\" class=\"edge\">\n<title>83&#45;&gt;85</title>\n<path fill=\"none\" stroke=\"#000000\" d=\"M4995.2163,-103.9815C5008.7591,-94.2394 5023.1657,-83.8759 5036.6263,-74.193\"/>\n<polygon fill=\"#000000\" stroke=\"#000000\" points=\"5038.7949,-76.9446 5044.8689,-68.2637 5034.7072,-71.2621 5038.7949,-76.9446\"/>\n</g>\n<!-- 90 -->\n<g id=\"node91\" class=\"node\">\n<title>90</title>\n<path fill=\"#8a47e7\" stroke=\"#000000\" d=\"M5615,-663C5615,-663 5498,-663 5498,-663 5492,-663 5486,-657 5486,-651 5486,-651 5486,-592 5486,-592 5486,-586 5492,-580 5498,-580 5498,-580 5615,-580 5615,-580 5621,-580 5627,-586 5627,-592 5627,-592 5627,-651 5627,-651 5627,-657 5621,-663 5615,-663\"/>\n<text text-anchor=\"middle\" x=\"5556.5\" y=\"-647.8\" font-family=\"Helvetica,sans-Serif\" font-size=\"14.00\" fill=\"#000000\">MONTH_Jul &lt;= 0.5</text>\n<text text-anchor=\"middle\" x=\"5556.5\" y=\"-632.8\" font-family=\"Helvetica,sans-Serif\" font-size=\"14.00\" fill=\"#000000\">entropy = 0.37</text>\n<text text-anchor=\"middle\" x=\"5556.5\" y=\"-617.8\" font-family=\"Helvetica,sans-Serif\" font-size=\"14.00\" fill=\"#000000\">samples = 270</text>\n<text text-anchor=\"middle\" x=\"5556.5\" y=\"-602.8\" font-family=\"Helvetica,sans-Serif\" font-size=\"14.00\" fill=\"#000000\">value = [1, 28, 397]</text>\n<text text-anchor=\"middle\" x=\"5556.5\" y=\"-587.8\" font-family=\"Helvetica,sans-Serif\" font-size=\"14.00\" fill=\"#000000\">class = Minor</text>\n</g>\n<!-- 89&#45;&gt;90 -->\n<g id=\"edge90\" class=\"edge\">\n<title>89&#45;&gt;90</title>\n<path fill=\"none\" stroke=\"#000000\" d=\"M5605.2686,-698.8796C5599.7627,-690.1434 5593.8994,-680.8404 5588.2176,-671.8253\"/>\n<polygon fill=\"#000000\" stroke=\"#000000\" points=\"5591.1363,-669.8919 5582.8433,-663.2981 5585.2143,-673.6242 5591.1363,-669.8919\"/>\n</g>\n<!-- 109 -->\n<g id=\"node110\" class=\"node\">\n<title>109</title>\n<path fill=\"#8139e5\" stroke=\"#000000\" d=\"M5756,-655.5C5756,-655.5 5657,-655.5 5657,-655.5 5651,-655.5 5645,-649.5 5645,-643.5 5645,-643.5 5645,-599.5 5645,-599.5 5645,-593.5 5651,-587.5 5657,-587.5 5657,-587.5 5756,-587.5 5756,-587.5 5762,-587.5 5768,-593.5 5768,-599.5 5768,-599.5 5768,-643.5 5768,-643.5 5768,-649.5 5762,-655.5 5756,-655.5\"/>\n<text text-anchor=\"middle\" x=\"5706.5\" y=\"-640.3\" font-family=\"Helvetica,sans-Serif\" font-size=\"14.00\" fill=\"#000000\">entropy = 0.0</text>\n<text text-anchor=\"middle\" x=\"5706.5\" y=\"-625.3\" font-family=\"Helvetica,sans-Serif\" font-size=\"14.00\" fill=\"#000000\">samples = 30</text>\n<text text-anchor=\"middle\" x=\"5706.5\" y=\"-610.3\" font-family=\"Helvetica,sans-Serif\" font-size=\"14.00\" fill=\"#000000\">value = [0, 0, 44]</text>\n<text text-anchor=\"middle\" x=\"5706.5\" y=\"-595.3\" font-family=\"Helvetica,sans-Serif\" font-size=\"14.00\" fill=\"#000000\">class = Minor</text>\n</g>\n<!-- 89&#45;&gt;109 -->\n<g id=\"edge109\" class=\"edge\">\n<title>89&#45;&gt;109</title>\n<path fill=\"none\" stroke=\"#000000\" d=\"M5657.7314,-698.8796C5664.731,-687.7735 5672.308,-675.7513 5679.3556,-664.5691\"/>\n<polygon fill=\"#000000\" stroke=\"#000000\" points=\"5682.502,-666.1411 5684.8729,-655.8149 5676.58,-662.4087 5682.502,-666.1411\"/>\n</g>\n<!-- 91 -->\n<g id=\"node92\" class=\"node\">\n<title>91</title>\n<path fill=\"#8b48e7\" stroke=\"#000000\" d=\"M5493.5,-544C5493.5,-544 5367.5,-544 5367.5,-544 5361.5,-544 5355.5,-538 5355.5,-532 5355.5,-532 5355.5,-473 5355.5,-473 5355.5,-467 5361.5,-461 5367.5,-461 5367.5,-461 5493.5,-461 5493.5,-461 5499.5,-461 5505.5,-467 5505.5,-473 5505.5,-473 5505.5,-532 5505.5,-532 5505.5,-538 5499.5,-544 5493.5,-544\"/>\n<text text-anchor=\"middle\" x=\"5430.5\" y=\"-528.8\" font-family=\"Helvetica,sans-Serif\" font-size=\"14.00\" fill=\"#000000\">Cloud Cover &lt;= 8.02</text>\n<text text-anchor=\"middle\" x=\"5430.5\" y=\"-513.8\" font-family=\"Helvetica,sans-Serif\" font-size=\"14.00\" fill=\"#000000\">entropy = 0.37</text>\n<text text-anchor=\"middle\" x=\"5430.5\" y=\"-498.8\" font-family=\"Helvetica,sans-Serif\" font-size=\"14.00\" fill=\"#000000\">samples = 251</text>\n<text text-anchor=\"middle\" x=\"5430.5\" y=\"-483.8\" font-family=\"Helvetica,sans-Serif\" font-size=\"14.00\" fill=\"#000000\">value = [0, 28, 371]</text>\n<text text-anchor=\"middle\" x=\"5430.5\" y=\"-468.8\" font-family=\"Helvetica,sans-Serif\" font-size=\"14.00\" fill=\"#000000\">class = Minor</text>\n</g>\n<!-- 90&#45;&gt;91 -->\n<g id=\"edge91\" class=\"edge\">\n<title>90&#45;&gt;91</title>\n<path fill=\"none\" stroke=\"#000000\" d=\"M5512.4313,-579.8796C5502.7045,-570.6931 5492.3139,-560.8798 5482.3121,-551.4336\"/>\n<polygon fill=\"#000000\" stroke=\"#000000\" points=\"5484.4301,-548.6198 5474.7568,-544.2981 5479.6237,-553.7089 5484.4301,-548.6198\"/>\n</g>\n<!-- 102 -->\n<g id=\"node103\" class=\"node\">\n<title>102</title>\n<path fill=\"#8641e6\" stroke=\"#000000\" d=\"M5747,-544C5747,-544 5574,-544 5574,-544 5568,-544 5562,-538 5562,-532 5562,-532 5562,-473 5562,-473 5562,-467 5568,-461 5574,-461 5574,-461 5747,-461 5747,-461 5753,-461 5759,-467 5759,-473 5759,-473 5759,-532 5759,-532 5759,-538 5753,-544 5747,-544\"/>\n<text text-anchor=\"middle\" x=\"5660.5\" y=\"-528.8\" font-family=\"Helvetica,sans-Serif\" font-size=\"14.00\" fill=\"#000000\">Conditions_Overcast &lt;= 0.5</text>\n<text text-anchor=\"middle\" x=\"5660.5\" y=\"-513.8\" font-family=\"Helvetica,sans-Serif\" font-size=\"14.00\" fill=\"#000000\">entropy = 0.23</text>\n<text text-anchor=\"middle\" x=\"5660.5\" y=\"-498.8\" font-family=\"Helvetica,sans-Serif\" font-size=\"14.00\" fill=\"#000000\">samples = 19</text>\n<text text-anchor=\"middle\" x=\"5660.5\" y=\"-483.8\" font-family=\"Helvetica,sans-Serif\" font-size=\"14.00\" fill=\"#000000\">value = [1, 0, 26]</text>\n<text text-anchor=\"middle\" x=\"5660.5\" y=\"-468.8\" font-family=\"Helvetica,sans-Serif\" font-size=\"14.00\" fill=\"#000000\">class = Minor</text>\n</g>\n<!-- 90&#45;&gt;102 -->\n<g id=\"edge102\" class=\"edge\">\n<title>90&#45;&gt;102</title>\n<path fill=\"none\" stroke=\"#000000\" d=\"M5592.8742,-579.8796C5600.7452,-570.8733 5609.1429,-561.2644 5617.2485,-551.9897\"/>\n<polygon fill=\"#000000\" stroke=\"#000000\" points=\"5620.0254,-554.131 5623.9706,-544.2981 5614.7546,-549.5246 5620.0254,-554.131\"/>\n</g>\n<!-- 92 -->\n<g id=\"node93\" class=\"node\">\n<title>92</title>\n<path fill=\"#61ea9a\" stroke=\"#000000\" d=\"M5288.5,-425C5288.5,-425 5146.5,-425 5146.5,-425 5140.5,-425 5134.5,-419 5134.5,-413 5134.5,-413 5134.5,-354 5134.5,-354 5134.5,-348 5140.5,-342 5146.5,-342 5146.5,-342 5288.5,-342 5288.5,-342 5294.5,-342 5300.5,-348 5300.5,-354 5300.5,-354 5300.5,-413 5300.5,-413 5300.5,-419 5294.5,-425 5288.5,-425\"/>\n<text text-anchor=\"middle\" x=\"5217.5\" y=\"-409.8\" font-family=\"Helvetica,sans-Serif\" font-size=\"14.00\" fill=\"#000000\">WEEKDAY_Tue &lt;= 0.5</text>\n<text text-anchor=\"middle\" x=\"5217.5\" y=\"-394.8\" font-family=\"Helvetica,sans-Serif\" font-size=\"14.00\" fill=\"#000000\">entropy = 0.65</text>\n<text text-anchor=\"middle\" x=\"5217.5\" y=\"-379.8\" font-family=\"Helvetica,sans-Serif\" font-size=\"14.00\" fill=\"#000000\">samples = 4</text>\n<text text-anchor=\"middle\" x=\"5217.5\" y=\"-364.8\" font-family=\"Helvetica,sans-Serif\" font-size=\"14.00\" fill=\"#000000\">value = [0, 5, 1]</text>\n<text text-anchor=\"middle\" x=\"5217.5\" y=\"-349.8\" font-family=\"Helvetica,sans-Serif\" font-size=\"14.00\" fill=\"#000000\">class = Major</text>\n</g>\n<!-- 91&#45;&gt;92 -->\n<g id=\"edge92\" class=\"edge\">\n<title>91&#45;&gt;92</title>\n<path fill=\"none\" stroke=\"#000000\" d=\"M5356.0029,-460.8796C5338.1672,-450.915 5319.0114,-440.2129 5300.8059,-430.0418\"/>\n<polygon fill=\"#000000\" stroke=\"#000000\" points=\"5302.392,-426.9188 5291.955,-425.0969 5298.9779,-433.0298 5302.392,-426.9188\"/>\n</g>\n<!-- 95 -->\n<g id=\"node96\" class=\"node\">\n<title>95</title>\n<path fill=\"#8945e7\" stroke=\"#000000\" d=\"M5491,-425C5491,-425 5370,-425 5370,-425 5364,-425 5358,-419 5358,-413 5358,-413 5358,-354 5358,-354 5358,-348 5364,-342 5370,-342 5370,-342 5491,-342 5491,-342 5497,-342 5503,-348 5503,-354 5503,-354 5503,-413 5503,-413 5503,-419 5497,-425 5491,-425\"/>\n<text text-anchor=\"middle\" x=\"5430.5\" y=\"-409.8\" font-family=\"Helvetica,sans-Serif\" font-size=\"14.00\" fill=\"#000000\">MONTH_Apr &lt;= 0.5</text>\n<text text-anchor=\"middle\" x=\"5430.5\" y=\"-394.8\" font-family=\"Helvetica,sans-Serif\" font-size=\"14.00\" fill=\"#000000\">entropy = 0.32</text>\n<text text-anchor=\"middle\" x=\"5430.5\" y=\"-379.8\" font-family=\"Helvetica,sans-Serif\" font-size=\"14.00\" fill=\"#000000\">samples = 247</text>\n<text text-anchor=\"middle\" x=\"5430.5\" y=\"-364.8\" font-family=\"Helvetica,sans-Serif\" font-size=\"14.00\" fill=\"#000000\">value = [0, 23, 370]</text>\n<text text-anchor=\"middle\" x=\"5430.5\" y=\"-349.8\" font-family=\"Helvetica,sans-Serif\" font-size=\"14.00\" fill=\"#000000\">class = Minor</text>\n</g>\n<!-- 91&#45;&gt;95 -->\n<g id=\"edge95\" class=\"edge\">\n<title>91&#45;&gt;95</title>\n<path fill=\"none\" stroke=\"#000000\" d=\"M5430.5,-460.8796C5430.5,-452.6838 5430.5,-443.9891 5430.5,-435.5013\"/>\n<polygon fill=\"#000000\" stroke=\"#000000\" points=\"5434.0001,-435.298 5430.5,-425.2981 5427.0001,-435.2981 5434.0001,-435.298\"/>\n</g>\n<!-- 93 -->\n<g id=\"node94\" class=\"node\">\n<title>93</title>\n<path fill=\"#39e581\" stroke=\"#000000\" d=\"M5130,-298.5C5130,-298.5 5039,-298.5 5039,-298.5 5033,-298.5 5027,-292.5 5027,-286.5 5027,-286.5 5027,-242.5 5027,-242.5 5027,-236.5 5033,-230.5 5039,-230.5 5039,-230.5 5130,-230.5 5130,-230.5 5136,-230.5 5142,-236.5 5142,-242.5 5142,-242.5 5142,-286.5 5142,-286.5 5142,-292.5 5136,-298.5 5130,-298.5\"/>\n<text text-anchor=\"middle\" x=\"5084.5\" y=\"-283.3\" font-family=\"Helvetica,sans-Serif\" font-size=\"14.00\" fill=\"#000000\">entropy = 0.0</text>\n<text text-anchor=\"middle\" x=\"5084.5\" y=\"-268.3\" font-family=\"Helvetica,sans-Serif\" font-size=\"14.00\" fill=\"#000000\">samples = 3</text>\n<text text-anchor=\"middle\" x=\"5084.5\" y=\"-253.3\" font-family=\"Helvetica,sans-Serif\" font-size=\"14.00\" fill=\"#000000\">value = [0, 5, 0]</text>\n<text text-anchor=\"middle\" x=\"5084.5\" y=\"-238.3\" font-family=\"Helvetica,sans-Serif\" font-size=\"14.00\" fill=\"#000000\">class = Major</text>\n</g>\n<!-- 92&#45;&gt;93 -->\n<g id=\"edge93\" class=\"edge\">\n<title>92&#45;&gt;93</title>\n<path fill=\"none\" stroke=\"#000000\" d=\"M5170.9831,-341.8796C5157.833,-330.1138 5143.5337,-317.3197 5130.4191,-305.5855\"/>\n<polygon fill=\"#000000\" stroke=\"#000000\" points=\"5132.6382,-302.8746 5122.852,-298.8149 5127.9706,-308.0913 5132.6382,-302.8746\"/>\n</g>\n<!-- 94 -->\n<g id=\"node95\" class=\"node\">\n<title>94</title>\n<path fill=\"#8139e5\" stroke=\"#000000\" d=\"M5263,-298.5C5263,-298.5 5172,-298.5 5172,-298.5 5166,-298.5 5160,-292.5 5160,-286.5 5160,-286.5 5160,-242.5 5160,-242.5 5160,-236.5 5166,-230.5 5172,-230.5 5172,-230.5 5263,-230.5 5263,-230.5 5269,-230.5 5275,-236.5 5275,-242.5 5275,-242.5 5275,-286.5 5275,-286.5 5275,-292.5 5269,-298.5 5263,-298.5\"/>\n<text text-anchor=\"middle\" x=\"5217.5\" y=\"-283.3\" font-family=\"Helvetica,sans-Serif\" font-size=\"14.00\" fill=\"#000000\">entropy = 0.0</text>\n<text text-anchor=\"middle\" x=\"5217.5\" y=\"-268.3\" font-family=\"Helvetica,sans-Serif\" font-size=\"14.00\" fill=\"#000000\">samples = 1</text>\n<text text-anchor=\"middle\" x=\"5217.5\" y=\"-253.3\" font-family=\"Helvetica,sans-Serif\" font-size=\"14.00\" fill=\"#000000\">value = [0, 0, 1]</text>\n<text text-anchor=\"middle\" x=\"5217.5\" y=\"-238.3\" font-family=\"Helvetica,sans-Serif\" font-size=\"14.00\" fill=\"#000000\">class = Minor</text>\n</g>\n<!-- 92&#45;&gt;94 -->\n<g id=\"edge94\" class=\"edge\">\n<title>92&#45;&gt;94</title>\n<path fill=\"none\" stroke=\"#000000\" d=\"M5217.5,-341.8796C5217.5,-331.2134 5217.5,-319.7021 5217.5,-308.9015\"/>\n<polygon fill=\"#000000\" stroke=\"#000000\" points=\"5221.0001,-308.8149 5217.5,-298.8149 5214.0001,-308.815 5221.0001,-308.8149\"/>\n</g>\n<!-- 96 -->\n<g id=\"node97\" class=\"node\">\n<title>96</title>\n<path fill=\"#8a46e7\" stroke=\"#000000\" d=\"M5431.5,-306C5431.5,-306 5305.5,-306 5305.5,-306 5299.5,-306 5293.5,-300 5293.5,-294 5293.5,-294 5293.5,-235 5293.5,-235 5293.5,-229 5299.5,-223 5305.5,-223 5305.5,-223 5431.5,-223 5431.5,-223 5437.5,-223 5443.5,-229 5443.5,-235 5443.5,-235 5443.5,-294 5443.5,-294 5443.5,-300 5437.5,-306 5431.5,-306\"/>\n<text text-anchor=\"middle\" x=\"5368.5\" y=\"-290.8\" font-family=\"Helvetica,sans-Serif\" font-size=\"14.00\" fill=\"#000000\">Cloud Cover &lt;= 77.4</text>\n<text text-anchor=\"middle\" x=\"5368.5\" y=\"-275.8\" font-family=\"Helvetica,sans-Serif\" font-size=\"14.00\" fill=\"#000000\">entropy = 0.34</text>\n<text text-anchor=\"middle\" x=\"5368.5\" y=\"-260.8\" font-family=\"Helvetica,sans-Serif\" font-size=\"14.00\" fill=\"#000000\">samples = 227</text>\n<text text-anchor=\"middle\" x=\"5368.5\" y=\"-245.8\" font-family=\"Helvetica,sans-Serif\" font-size=\"14.00\" fill=\"#000000\">value = [0, 23, 340]</text>\n<text text-anchor=\"middle\" x=\"5368.5\" y=\"-230.8\" font-family=\"Helvetica,sans-Serif\" font-size=\"14.00\" fill=\"#000000\">class = Minor</text>\n</g>\n<!-- 95&#45;&gt;96 -->\n<g id=\"edge96\" class=\"edge\">\n<title>95&#45;&gt;96</title>\n<path fill=\"none\" stroke=\"#000000\" d=\"M5408.8154,-341.8796C5404.3577,-333.3236 5399.6166,-324.2238 5395.0106,-315.3833\"/>\n<polygon fill=\"#000000\" stroke=\"#000000\" points=\"5398.0017,-313.5494 5390.2771,-306.2981 5391.7938,-316.7838 5398.0017,-313.5494\"/>\n</g>\n<!-- 101 -->\n<g id=\"node102\" class=\"node\">\n<title>101</title>\n<path fill=\"#8139e5\" stroke=\"#000000\" d=\"M5573,-298.5C5573,-298.5 5474,-298.5 5474,-298.5 5468,-298.5 5462,-292.5 5462,-286.5 5462,-286.5 5462,-242.5 5462,-242.5 5462,-236.5 5468,-230.5 5474,-230.5 5474,-230.5 5573,-230.5 5573,-230.5 5579,-230.5 5585,-236.5 5585,-242.5 5585,-242.5 5585,-286.5 5585,-286.5 5585,-292.5 5579,-298.5 5573,-298.5\"/>\n<text text-anchor=\"middle\" x=\"5523.5\" y=\"-283.3\" font-family=\"Helvetica,sans-Serif\" font-size=\"14.00\" fill=\"#000000\">entropy = 0.0</text>\n<text text-anchor=\"middle\" x=\"5523.5\" y=\"-268.3\" font-family=\"Helvetica,sans-Serif\" font-size=\"14.00\" fill=\"#000000\">samples = 20</text>\n<text text-anchor=\"middle\" x=\"5523.5\" y=\"-253.3\" font-family=\"Helvetica,sans-Serif\" font-size=\"14.00\" fill=\"#000000\">value = [0, 0, 30]</text>\n<text text-anchor=\"middle\" x=\"5523.5\" y=\"-238.3\" font-family=\"Helvetica,sans-Serif\" font-size=\"14.00\" fill=\"#000000\">class = Minor</text>\n</g>\n<!-- 95&#45;&gt;101 -->\n<g id=\"edge101\" class=\"edge\">\n<title>95&#45;&gt;101</title>\n<path fill=\"none\" stroke=\"#000000\" d=\"M5463.0269,-341.8796C5471.8783,-330.5536 5481.4743,-318.2748 5490.3593,-306.9058\"/>\n<polygon fill=\"#000000\" stroke=\"#000000\" points=\"5493.2824,-308.8494 5496.6824,-298.8149 5487.7669,-304.539 5493.2824,-308.8494\"/>\n</g>\n<!-- 97 -->\n<g id=\"node98\" class=\"node\">\n<title>97</title>\n<path fill=\"#8e4de8\" stroke=\"#000000\" d=\"M5392,-187C5392,-187 5249,-187 5249,-187 5243,-187 5237,-181 5237,-175 5237,-175 5237,-116 5237,-116 5237,-110 5243,-104 5249,-104 5249,-104 5392,-104 5392,-104 5398,-104 5404,-110 5404,-116 5404,-116 5404,-175 5404,-175 5404,-181 5398,-187 5392,-187\"/>\n<text text-anchor=\"middle\" x=\"5320.5\" y=\"-171.8\" font-family=\"Helvetica,sans-Serif\" font-size=\"14.00\" fill=\"#000000\">WEEKDAY_Sun &lt;= 0.5</text>\n<text text-anchor=\"middle\" x=\"5320.5\" y=\"-156.8\" font-family=\"Helvetica,sans-Serif\" font-size=\"14.00\" fill=\"#000000\">entropy = 0.45</text>\n<text text-anchor=\"middle\" x=\"5320.5\" y=\"-141.8\" font-family=\"Helvetica,sans-Serif\" font-size=\"14.00\" fill=\"#000000\">samples = 157</text>\n<text text-anchor=\"middle\" x=\"5320.5\" y=\"-126.8\" font-family=\"Helvetica,sans-Serif\" font-size=\"14.00\" fill=\"#000000\">value = [0, 23, 224]</text>\n<text text-anchor=\"middle\" x=\"5320.5\" y=\"-111.8\" font-family=\"Helvetica,sans-Serif\" font-size=\"14.00\" fill=\"#000000\">class = Minor</text>\n</g>\n<!-- 96&#45;&gt;97 -->\n<g id=\"edge97\" class=\"edge\">\n<title>96&#45;&gt;97</title>\n<path fill=\"none\" stroke=\"#000000\" d=\"M5351.7119,-222.8796C5348.2971,-214.4136 5344.6675,-205.4153 5341.137,-196.6626\"/>\n<polygon fill=\"#000000\" stroke=\"#000000\" points=\"5344.3464,-195.2628 5337.3597,-187.2981 5337.8547,-197.8813 5344.3464,-195.2628\"/>\n</g>\n<!-- 100 -->\n<g id=\"node101\" class=\"node\">\n<title>100</title>\n<path fill=\"#8139e5\" stroke=\"#000000\" d=\"M5541,-179.5C5541,-179.5 5434,-179.5 5434,-179.5 5428,-179.5 5422,-173.5 5422,-167.5 5422,-167.5 5422,-123.5 5422,-123.5 5422,-117.5 5428,-111.5 5434,-111.5 5434,-111.5 5541,-111.5 5541,-111.5 5547,-111.5 5553,-117.5 5553,-123.5 5553,-123.5 5553,-167.5 5553,-167.5 5553,-173.5 5547,-179.5 5541,-179.5\"/>\n<text text-anchor=\"middle\" x=\"5487.5\" y=\"-164.3\" font-family=\"Helvetica,sans-Serif\" font-size=\"14.00\" fill=\"#000000\">entropy = 0.0</text>\n<text text-anchor=\"middle\" x=\"5487.5\" y=\"-149.3\" font-family=\"Helvetica,sans-Serif\" font-size=\"14.00\" fill=\"#000000\">samples = 70</text>\n<text text-anchor=\"middle\" x=\"5487.5\" y=\"-134.3\" font-family=\"Helvetica,sans-Serif\" font-size=\"14.00\" fill=\"#000000\">value = [0, 0, 116]</text>\n<text text-anchor=\"middle\" x=\"5487.5\" y=\"-119.3\" font-family=\"Helvetica,sans-Serif\" font-size=\"14.00\" fill=\"#000000\">class = Minor</text>\n</g>\n<!-- 96&#45;&gt;100 -->\n<g id=\"edge100\" class=\"edge\">\n<title>96&#45;&gt;100</title>\n<path fill=\"none\" stroke=\"#000000\" d=\"M5410.1204,-222.8796C5421.7763,-211.2237 5434.4413,-198.5587 5446.0852,-186.9148\"/>\n<polygon fill=\"#000000\" stroke=\"#000000\" points=\"5448.5889,-189.3609 5453.1851,-179.8149 5443.6391,-184.4111 5448.5889,-189.3609\"/>\n</g>\n<!-- 98 -->\n<g id=\"node99\" class=\"node\">\n<title>98</title>\n<path fill=\"#8d4de8\" stroke=\"#000000\" d=\"M5337.5,-68C5337.5,-68 5221.5,-68 5221.5,-68 5215.5,-68 5209.5,-62 5209.5,-56 5209.5,-56 5209.5,-12 5209.5,-12 5209.5,-6 5215.5,0 5221.5,0 5221.5,0 5337.5,0 5337.5,0 5343.5,0 5349.5,-6 5349.5,-12 5349.5,-12 5349.5,-56 5349.5,-56 5349.5,-62 5343.5,-68 5337.5,-68\"/>\n<text text-anchor=\"middle\" x=\"5279.5\" y=\"-52.8\" font-family=\"Helvetica,sans-Serif\" font-size=\"14.00\" fill=\"#000000\">entropy = 0.44</text>\n<text text-anchor=\"middle\" x=\"5279.5\" y=\"-37.8\" font-family=\"Helvetica,sans-Serif\" font-size=\"14.00\" fill=\"#000000\">samples = 137</text>\n<text text-anchor=\"middle\" x=\"5279.5\" y=\"-22.8\" font-family=\"Helvetica,sans-Serif\" font-size=\"14.00\" fill=\"#000000\">value = [0, 19, 192]</text>\n<text text-anchor=\"middle\" x=\"5279.5\" y=\"-7.8\" font-family=\"Helvetica,sans-Serif\" font-size=\"14.00\" fill=\"#000000\">class = Minor</text>\n</g>\n<!-- 97&#45;&gt;98 -->\n<g id=\"edge98\" class=\"edge\">\n<title>97&#45;&gt;98</title>\n<path fill=\"none\" stroke=\"#000000\" d=\"M5305.2331,-103.9815C5302.0902,-95.4342 5298.7713,-86.4086 5295.5999,-77.7839\"/>\n<polygon fill=\"#000000\" stroke=\"#000000\" points=\"5298.8354,-76.4413 5292.0992,-68.2637 5292.2655,-78.8572 5298.8354,-76.4413\"/>\n</g>\n<!-- 99 -->\n<g id=\"node100\" class=\"node\">\n<title>99</title>\n<path fill=\"#9152e8\" stroke=\"#000000\" d=\"M5479,-68C5479,-68 5380,-68 5380,-68 5374,-68 5368,-62 5368,-56 5368,-56 5368,-12 5368,-12 5368,-6 5374,0 5380,0 5380,0 5479,0 5479,0 5485,0 5491,-6 5491,-12 5491,-12 5491,-56 5491,-56 5491,-62 5485,-68 5479,-68\"/>\n<text text-anchor=\"middle\" x=\"5429.5\" y=\"-52.8\" font-family=\"Helvetica,sans-Serif\" font-size=\"14.00\" fill=\"#000000\">entropy = 0.5</text>\n<text text-anchor=\"middle\" x=\"5429.5\" y=\"-37.8\" font-family=\"Helvetica,sans-Serif\" font-size=\"14.00\" fill=\"#000000\">samples = 20</text>\n<text text-anchor=\"middle\" x=\"5429.5\" y=\"-22.8\" font-family=\"Helvetica,sans-Serif\" font-size=\"14.00\" fill=\"#000000\">value = [0, 4, 32]</text>\n<text text-anchor=\"middle\" x=\"5429.5\" y=\"-7.8\" font-family=\"Helvetica,sans-Serif\" font-size=\"14.00\" fill=\"#000000\">class = Minor</text>\n</g>\n<!-- 97&#45;&gt;99 -->\n<g id=\"edge99\" class=\"edge\">\n<title>97&#45;&gt;99</title>\n<path fill=\"none\" stroke=\"#000000\" d=\"M5361.0876,-103.9815C5370.162,-94.6989 5379.7879,-84.8522 5388.8643,-75.5677\"/>\n<polygon fill=\"#000000\" stroke=\"#000000\" points=\"5391.5169,-77.8611 5396.0046,-68.2637 5386.5113,-72.9678 5391.5169,-77.8611\"/>\n</g>\n<!-- 103 -->\n<g id=\"node104\" class=\"node\">\n<title>103</title>\n<path fill=\"#8642e6\" stroke=\"#000000\" d=\"M5766.5,-425C5766.5,-425 5554.5,-425 5554.5,-425 5548.5,-425 5542.5,-419 5542.5,-413 5542.5,-413 5542.5,-354 5542.5,-354 5542.5,-348 5548.5,-342 5554.5,-342 5554.5,-342 5766.5,-342 5766.5,-342 5772.5,-342 5778.5,-348 5778.5,-354 5778.5,-354 5778.5,-413 5778.5,-413 5778.5,-419 5772.5,-425 5766.5,-425\"/>\n<text text-anchor=\"middle\" x=\"5660.5\" y=\"-409.8\" font-family=\"Helvetica,sans-Serif\" font-size=\"14.00\" fill=\"#000000\">Conditions_Partially cloudy &lt;= 0.5</text>\n<text text-anchor=\"middle\" x=\"5660.5\" y=\"-394.8\" font-family=\"Helvetica,sans-Serif\" font-size=\"14.00\" fill=\"#000000\">entropy = 0.25</text>\n<text text-anchor=\"middle\" x=\"5660.5\" y=\"-379.8\" font-family=\"Helvetica,sans-Serif\" font-size=\"14.00\" fill=\"#000000\">samples = 17</text>\n<text text-anchor=\"middle\" x=\"5660.5\" y=\"-364.8\" font-family=\"Helvetica,sans-Serif\" font-size=\"14.00\" fill=\"#000000\">value = [1, 0, 23]</text>\n<text text-anchor=\"middle\" x=\"5660.5\" y=\"-349.8\" font-family=\"Helvetica,sans-Serif\" font-size=\"14.00\" fill=\"#000000\">class = Minor</text>\n</g>\n<!-- 102&#45;&gt;103 -->\n<g id=\"edge103\" class=\"edge\">\n<title>102&#45;&gt;103</title>\n<path fill=\"none\" stroke=\"#000000\" d=\"M5660.5,-460.8796C5660.5,-452.6838 5660.5,-443.9891 5660.5,-435.5013\"/>\n<polygon fill=\"#000000\" stroke=\"#000000\" points=\"5664.0001,-435.298 5660.5,-425.2981 5657.0001,-435.2981 5664.0001,-435.298\"/>\n</g>\n<!-- 108 -->\n<g id=\"node109\" class=\"node\">\n<title>108</title>\n<path fill=\"#8139e5\" stroke=\"#000000\" d=\"M5900,-417.5C5900,-417.5 5809,-417.5 5809,-417.5 5803,-417.5 5797,-411.5 5797,-405.5 5797,-405.5 5797,-361.5 5797,-361.5 5797,-355.5 5803,-349.5 5809,-349.5 5809,-349.5 5900,-349.5 5900,-349.5 5906,-349.5 5912,-355.5 5912,-361.5 5912,-361.5 5912,-405.5 5912,-405.5 5912,-411.5 5906,-417.5 5900,-417.5\"/>\n<text text-anchor=\"middle\" x=\"5854.5\" y=\"-402.3\" font-family=\"Helvetica,sans-Serif\" font-size=\"14.00\" fill=\"#000000\">entropy = 0.0</text>\n<text text-anchor=\"middle\" x=\"5854.5\" y=\"-387.3\" font-family=\"Helvetica,sans-Serif\" font-size=\"14.00\" fill=\"#000000\">samples = 2</text>\n<text text-anchor=\"middle\" x=\"5854.5\" y=\"-372.3\" font-family=\"Helvetica,sans-Serif\" font-size=\"14.00\" fill=\"#000000\">value = [0, 0, 3]</text>\n<text text-anchor=\"middle\" x=\"5854.5\" y=\"-357.3\" font-family=\"Helvetica,sans-Serif\" font-size=\"14.00\" fill=\"#000000\">class = Minor</text>\n</g>\n<!-- 102&#45;&gt;108 -->\n<g id=\"edge108\" class=\"edge\">\n<title>102&#45;&gt;108</title>\n<path fill=\"none\" stroke=\"#000000\" d=\"M5728.7679,-460.955C5747.7962,-449.344 5768.4668,-436.7018 5787.5,-425 5788.6146,-424.3147 5789.7394,-423.6228 5790.8721,-422.9255\"/>\n<polygon fill=\"#000000\" stroke=\"#000000\" points=\"5792.9958,-425.7281 5799.6722,-417.5016 5789.3229,-419.769 5792.9958,-425.7281\"/>\n</g>\n<!-- 104 -->\n<g id=\"node105\" class=\"node\">\n<title>104</title>\n<path fill=\"#9152e8\" stroke=\"#000000\" d=\"M5742,-306C5742,-306 5615,-306 5615,-306 5609,-306 5603,-300 5603,-294 5603,-294 5603,-235 5603,-235 5603,-229 5609,-223 5615,-223 5615,-223 5742,-223 5742,-223 5748,-223 5754,-229 5754,-235 5754,-235 5754,-294 5754,-294 5754,-300 5748,-306 5742,-306\"/>\n<text text-anchor=\"middle\" x=\"5678.5\" y=\"-290.8\" font-family=\"Helvetica,sans-Serif\" font-size=\"14.00\" fill=\"#000000\">Temperature &lt;= 73.7</text>\n<text text-anchor=\"middle\" x=\"5678.5\" y=\"-275.8\" font-family=\"Helvetica,sans-Serif\" font-size=\"14.00\" fill=\"#000000\">entropy = 0.5</text>\n<text text-anchor=\"middle\" x=\"5678.5\" y=\"-260.8\" font-family=\"Helvetica,sans-Serif\" font-size=\"14.00\" fill=\"#000000\">samples = 6</text>\n<text text-anchor=\"middle\" x=\"5678.5\" y=\"-245.8\" font-family=\"Helvetica,sans-Serif\" font-size=\"14.00\" fill=\"#000000\">value = [1, 0, 8]</text>\n<text text-anchor=\"middle\" x=\"5678.5\" y=\"-230.8\" font-family=\"Helvetica,sans-Serif\" font-size=\"14.00\" fill=\"#000000\">class = Minor</text>\n</g>\n<!-- 103&#45;&gt;104 -->\n<g id=\"edge104\" class=\"edge\">\n<title>103&#45;&gt;104</title>\n<path fill=\"none\" stroke=\"#000000\" d=\"M5666.7955,-341.8796C5668.0488,-333.5938 5669.3793,-324.798 5670.6766,-316.2216\"/>\n<polygon fill=\"#000000\" stroke=\"#000000\" points=\"5674.1426,-316.7091 5672.1776,-306.2981 5667.2213,-315.6621 5674.1426,-316.7091\"/>\n</g>\n<!-- 107 -->\n<g id=\"node108\" class=\"node\">\n<title>107</title>\n<path fill=\"#8139e5\" stroke=\"#000000\" d=\"M5883,-298.5C5883,-298.5 5784,-298.5 5784,-298.5 5778,-298.5 5772,-292.5 5772,-286.5 5772,-286.5 5772,-242.5 5772,-242.5 5772,-236.5 5778,-230.5 5784,-230.5 5784,-230.5 5883,-230.5 5883,-230.5 5889,-230.5 5895,-236.5 5895,-242.5 5895,-242.5 5895,-286.5 5895,-286.5 5895,-292.5 5889,-298.5 5883,-298.5\"/>\n<text text-anchor=\"middle\" x=\"5833.5\" y=\"-283.3\" font-family=\"Helvetica,sans-Serif\" font-size=\"14.00\" fill=\"#000000\">entropy = 0.0</text>\n<text text-anchor=\"middle\" x=\"5833.5\" y=\"-268.3\" font-family=\"Helvetica,sans-Serif\" font-size=\"14.00\" fill=\"#000000\">samples = 11</text>\n<text text-anchor=\"middle\" x=\"5833.5\" y=\"-253.3\" font-family=\"Helvetica,sans-Serif\" font-size=\"14.00\" fill=\"#000000\">value = [0, 0, 15]</text>\n<text text-anchor=\"middle\" x=\"5833.5\" y=\"-238.3\" font-family=\"Helvetica,sans-Serif\" font-size=\"14.00\" fill=\"#000000\">class = Minor</text>\n</g>\n<!-- 103&#45;&gt;107 -->\n<g id=\"edge107\" class=\"edge\">\n<title>103&#45;&gt;107</title>\n<path fill=\"none\" stroke=\"#000000\" d=\"M5721.007,-341.8796C5738.6752,-329.7263 5757.9385,-316.4759 5775.4509,-304.4297\"/>\n<polygon fill=\"#000000\" stroke=\"#000000\" points=\"5777.6371,-307.1741 5783.8926,-298.623 5773.6699,-301.4067 5777.6371,-307.1741\"/>\n</g>\n<!-- 105 -->\n<g id=\"node106\" class=\"node\">\n<title>105</title>\n<path fill=\"#c09cf2\" stroke=\"#000000\" d=\"M5689,-179.5C5689,-179.5 5598,-179.5 5598,-179.5 5592,-179.5 5586,-173.5 5586,-167.5 5586,-167.5 5586,-123.5 5586,-123.5 5586,-117.5 5592,-111.5 5598,-111.5 5598,-111.5 5689,-111.5 5689,-111.5 5695,-111.5 5701,-117.5 5701,-123.5 5701,-123.5 5701,-167.5 5701,-167.5 5701,-173.5 5695,-179.5 5689,-179.5\"/>\n<text text-anchor=\"middle\" x=\"5643.5\" y=\"-164.3\" font-family=\"Helvetica,sans-Serif\" font-size=\"14.00\" fill=\"#000000\">entropy = 0.92</text>\n<text text-anchor=\"middle\" x=\"5643.5\" y=\"-149.3\" font-family=\"Helvetica,sans-Serif\" font-size=\"14.00\" fill=\"#000000\">samples = 2</text>\n<text text-anchor=\"middle\" x=\"5643.5\" y=\"-134.3\" font-family=\"Helvetica,sans-Serif\" font-size=\"14.00\" fill=\"#000000\">value = [1, 0, 2]</text>\n<text text-anchor=\"middle\" x=\"5643.5\" y=\"-119.3\" font-family=\"Helvetica,sans-Serif\" font-size=\"14.00\" fill=\"#000000\">class = Minor</text>\n</g>\n<!-- 104&#45;&gt;105 -->\n<g id=\"edge105\" class=\"edge\">\n<title>104&#45;&gt;105</title>\n<path fill=\"none\" stroke=\"#000000\" d=\"M5666.2587,-222.8796C5663.0892,-212.1034 5659.6661,-200.4647 5656.4611,-189.5677\"/>\n<polygon fill=\"#000000\" stroke=\"#000000\" points=\"5659.7721,-188.421 5653.5926,-179.8149 5653.0566,-190.3962 5659.7721,-188.421\"/>\n</g>\n<!-- 106 -->\n<g id=\"node107\" class=\"node\">\n<title>106</title>\n<path fill=\"#8139e5\" stroke=\"#000000\" d=\"M5822,-179.5C5822,-179.5 5731,-179.5 5731,-179.5 5725,-179.5 5719,-173.5 5719,-167.5 5719,-167.5 5719,-123.5 5719,-123.5 5719,-117.5 5725,-111.5 5731,-111.5 5731,-111.5 5822,-111.5 5822,-111.5 5828,-111.5 5834,-117.5 5834,-123.5 5834,-123.5 5834,-167.5 5834,-167.5 5834,-173.5 5828,-179.5 5822,-179.5\"/>\n<text text-anchor=\"middle\" x=\"5776.5\" y=\"-164.3\" font-family=\"Helvetica,sans-Serif\" font-size=\"14.00\" fill=\"#000000\">entropy = 0.0</text>\n<text text-anchor=\"middle\" x=\"5776.5\" y=\"-149.3\" font-family=\"Helvetica,sans-Serif\" font-size=\"14.00\" fill=\"#000000\">samples = 4</text>\n<text text-anchor=\"middle\" x=\"5776.5\" y=\"-134.3\" font-family=\"Helvetica,sans-Serif\" font-size=\"14.00\" fill=\"#000000\">value = [0, 0, 6]</text>\n<text text-anchor=\"middle\" x=\"5776.5\" y=\"-119.3\" font-family=\"Helvetica,sans-Serif\" font-size=\"14.00\" fill=\"#000000\">class = Minor</text>\n</g>\n<!-- 104&#45;&gt;106 -->\n<g id=\"edge106\" class=\"edge\">\n<title>104&#45;&gt;106</title>\n<path fill=\"none\" stroke=\"#000000\" d=\"M5712.7756,-222.8796C5722.1935,-211.4436 5732.4113,-199.0363 5741.85,-187.575\"/>\n<polygon fill=\"#000000\" stroke=\"#000000\" points=\"5744.5853,-189.7592 5748.2406,-179.8149 5739.1818,-185.3093 5744.5853,-189.7592\"/>\n</g>\n<!-- 111 -->\n<g id=\"node112\" class=\"node\">\n<title>111</title>\n<path fill=\"#833ce5\" stroke=\"#000000\" d=\"M6270,-782C6270,-782 6163,-782 6163,-782 6157,-782 6151,-776 6151,-770 6151,-770 6151,-711 6151,-711 6151,-705 6157,-699 6163,-699 6163,-699 6270,-699 6270,-699 6276,-699 6282,-705 6282,-711 6282,-711 6282,-770 6282,-770 6282,-776 6276,-782 6270,-782\"/>\n<text text-anchor=\"middle\" x=\"6216.5\" y=\"-766.8\" font-family=\"Helvetica,sans-Serif\" font-size=\"14.00\" fill=\"#000000\">Visibility &lt;= 8.0</text>\n<text text-anchor=\"middle\" x=\"6216.5\" y=\"-751.8\" font-family=\"Helvetica,sans-Serif\" font-size=\"14.00\" fill=\"#000000\">entropy = 0.11</text>\n<text text-anchor=\"middle\" x=\"6216.5\" y=\"-736.8\" font-family=\"Helvetica,sans-Serif\" font-size=\"14.00\" fill=\"#000000\">samples = 143</text>\n<text text-anchor=\"middle\" x=\"6216.5\" y=\"-721.8\" font-family=\"Helvetica,sans-Serif\" font-size=\"14.00\" fill=\"#000000\">value = [0, 3, 214]</text>\n<text text-anchor=\"middle\" x=\"6216.5\" y=\"-706.8\" font-family=\"Helvetica,sans-Serif\" font-size=\"14.00\" fill=\"#000000\">class = Minor</text>\n</g>\n<!-- 110&#45;&gt;111 -->\n<g id=\"edge111\" class=\"edge\">\n<title>110&#45;&gt;111</title>\n<path fill=\"none\" stroke=\"#000000\" d=\"M6216.5,-817.8796C6216.5,-809.6838 6216.5,-800.9891 6216.5,-792.5013\"/>\n<polygon fill=\"#000000\" stroke=\"#000000\" points=\"6220.0001,-792.298 6216.5,-782.2981 6213.0001,-792.2981 6220.0001,-792.298\"/>\n</g>\n<!-- 128 -->\n<g id=\"node129\" class=\"node\">\n<title>128</title>\n<path fill=\"#8b48e7\" stroke=\"#000000\" d=\"M6746.5,-782C6746.5,-782 6604.5,-782 6604.5,-782 6598.5,-782 6592.5,-776 6592.5,-770 6592.5,-770 6592.5,-711 6592.5,-711 6592.5,-705 6598.5,-699 6604.5,-699 6604.5,-699 6746.5,-699 6746.5,-699 6752.5,-699 6758.5,-705 6758.5,-711 6758.5,-711 6758.5,-770 6758.5,-770 6758.5,-776 6752.5,-782 6746.5,-782\"/>\n<text text-anchor=\"middle\" x=\"6675.5\" y=\"-766.8\" font-family=\"Helvetica,sans-Serif\" font-size=\"14.00\" fill=\"#000000\">WEEKDAY_Tue &lt;= 0.5</text>\n<text text-anchor=\"middle\" x=\"6675.5\" y=\"-751.8\" font-family=\"Helvetica,sans-Serif\" font-size=\"14.00\" fill=\"#000000\">entropy = 0.37</text>\n<text text-anchor=\"middle\" x=\"6675.5\" y=\"-736.8\" font-family=\"Helvetica,sans-Serif\" font-size=\"14.00\" fill=\"#000000\">samples = 159</text>\n<text text-anchor=\"middle\" x=\"6675.5\" y=\"-721.8\" font-family=\"Helvetica,sans-Serif\" font-size=\"14.00\" fill=\"#000000\">value = [0, 18, 235]</text>\n<text text-anchor=\"middle\" x=\"6675.5\" y=\"-706.8\" font-family=\"Helvetica,sans-Serif\" font-size=\"14.00\" fill=\"#000000\">class = Minor</text>\n</g>\n<!-- 110&#45;&gt;128 -->\n<g id=\"edge128\" class=\"edge\">\n<title>110&#45;&gt;128</title>\n<path fill=\"none\" stroke=\"#000000\" d=\"M6296.1895,-838.8397C6375.9513,-818.1608 6498.5884,-786.366 6582.6927,-764.5612\"/>\n<polygon fill=\"#000000\" stroke=\"#000000\" points=\"6583.6949,-767.9171 6592.4964,-762.0194 6581.9381,-761.1411 6583.6949,-767.9171\"/>\n</g>\n<!-- 112 -->\n<g id=\"node113\" class=\"node\">\n<title>112</title>\n<path fill=\"#8f4fe8\" stroke=\"#000000\" d=\"M6210.5,-663C6210.5,-663 6000.5,-663 6000.5,-663 5994.5,-663 5988.5,-657 5988.5,-651 5988.5,-651 5988.5,-592 5988.5,-592 5988.5,-586 5994.5,-580 6000.5,-580 6000.5,-580 6210.5,-580 6210.5,-580 6216.5,-580 6222.5,-586 6222.5,-592 6222.5,-592 6222.5,-651 6222.5,-651 6222.5,-657 6216.5,-663 6210.5,-663\"/>\n<text text-anchor=\"middle\" x=\"6105.5\" y=\"-647.8\" font-family=\"Helvetica,sans-Serif\" font-size=\"14.00\" fill=\"#000000\">Conditions_Rain, Overcast &lt;= 0.5</text>\n<text text-anchor=\"middle\" x=\"6105.5\" y=\"-632.8\" font-family=\"Helvetica,sans-Serif\" font-size=\"14.00\" fill=\"#000000\">entropy = 0.47</text>\n<text text-anchor=\"middle\" x=\"6105.5\" y=\"-617.8\" font-family=\"Helvetica,sans-Serif\" font-size=\"14.00\" fill=\"#000000\">samples = 14</text>\n<text text-anchor=\"middle\" x=\"6105.5\" y=\"-602.8\" font-family=\"Helvetica,sans-Serif\" font-size=\"14.00\" fill=\"#000000\">value = [0, 2, 18]</text>\n<text text-anchor=\"middle\" x=\"6105.5\" y=\"-587.8\" font-family=\"Helvetica,sans-Serif\" font-size=\"14.00\" fill=\"#000000\">class = Minor</text>\n</g>\n<!-- 111&#45;&gt;112 -->\n<g id=\"edge112\" class=\"edge\">\n<title>111&#45;&gt;112</title>\n<path fill=\"none\" stroke=\"#000000\" d=\"M6177.6776,-698.8796C6169.1927,-689.7832 6160.1346,-680.0722 6151.4032,-670.7116\"/>\n<polygon fill=\"#000000\" stroke=\"#000000\" points=\"6153.8686,-668.2233 6144.4881,-663.2981 6148.7497,-672.9981 6153.8686,-668.2233\"/>\n</g>\n<!-- 119 -->\n<g id=\"node120\" class=\"node\">\n<title>119</title>\n<path fill=\"#823ae5\" stroke=\"#000000\" d=\"M6402,-663C6402,-663 6253,-663 6253,-663 6247,-663 6241,-657 6241,-651 6241,-651 6241,-592 6241,-592 6241,-586 6247,-580 6253,-580 6253,-580 6402,-580 6402,-580 6408,-580 6414,-586 6414,-592 6414,-592 6414,-651 6414,-651 6414,-657 6408,-663 6402,-663\"/>\n<text text-anchor=\"middle\" x=\"6327.5\" y=\"-647.8\" font-family=\"Helvetica,sans-Serif\" font-size=\"14.00\" fill=\"#000000\">Conditions_Clear &lt;= 0.5</text>\n<text text-anchor=\"middle\" x=\"6327.5\" y=\"-632.8\" font-family=\"Helvetica,sans-Serif\" font-size=\"14.00\" fill=\"#000000\">entropy = 0.05</text>\n<text text-anchor=\"middle\" x=\"6327.5\" y=\"-617.8\" font-family=\"Helvetica,sans-Serif\" font-size=\"14.00\" fill=\"#000000\">samples = 129</text>\n<text text-anchor=\"middle\" x=\"6327.5\" y=\"-602.8\" font-family=\"Helvetica,sans-Serif\" font-size=\"14.00\" fill=\"#000000\">value = [0, 1, 196]</text>\n<text text-anchor=\"middle\" x=\"6327.5\" y=\"-587.8\" font-family=\"Helvetica,sans-Serif\" font-size=\"14.00\" fill=\"#000000\">class = Minor</text>\n</g>\n<!-- 111&#45;&gt;119 -->\n<g id=\"edge119\" class=\"edge\">\n<title>111&#45;&gt;119</title>\n<path fill=\"none\" stroke=\"#000000\" d=\"M6255.3224,-698.8796C6263.8073,-689.7832 6272.8654,-680.0722 6281.5968,-670.7116\"/>\n<polygon fill=\"#000000\" stroke=\"#000000\" points=\"6284.2503,-672.9981 6288.5119,-663.2981 6279.1314,-668.2233 6284.2503,-672.9981\"/>\n</g>\n<!-- 113 -->\n<g id=\"node114\" class=\"node\">\n<title>113</title>\n<path fill=\"#8139e5\" stroke=\"#000000\" d=\"M6001,-536.5C6001,-536.5 5910,-536.5 5910,-536.5 5904,-536.5 5898,-530.5 5898,-524.5 5898,-524.5 5898,-480.5 5898,-480.5 5898,-474.5 5904,-468.5 5910,-468.5 5910,-468.5 6001,-468.5 6001,-468.5 6007,-468.5 6013,-474.5 6013,-480.5 6013,-480.5 6013,-524.5 6013,-524.5 6013,-530.5 6007,-536.5 6001,-536.5\"/>\n<text text-anchor=\"middle\" x=\"5955.5\" y=\"-521.3\" font-family=\"Helvetica,sans-Serif\" font-size=\"14.00\" fill=\"#000000\">entropy = 0.0</text>\n<text text-anchor=\"middle\" x=\"5955.5\" y=\"-506.3\" font-family=\"Helvetica,sans-Serif\" font-size=\"14.00\" fill=\"#000000\">samples = 6</text>\n<text text-anchor=\"middle\" x=\"5955.5\" y=\"-491.3\" font-family=\"Helvetica,sans-Serif\" font-size=\"14.00\" fill=\"#000000\">value = [0, 0, 8]</text>\n<text text-anchor=\"middle\" x=\"5955.5\" y=\"-476.3\" font-family=\"Helvetica,sans-Serif\" font-size=\"14.00\" fill=\"#000000\">class = Minor</text>\n</g>\n<!-- 112&#45;&gt;113 -->\n<g id=\"edge113\" class=\"edge\">\n<title>112&#45;&gt;113</title>\n<path fill=\"none\" stroke=\"#000000\" d=\"M6053.0373,-579.8796C6038.0678,-568.0038 6021.7778,-555.0804 6006.8741,-543.2568\"/>\n<polygon fill=\"#000000\" stroke=\"#000000\" points=\"6008.7635,-540.2881 5998.7541,-536.8149 6004.413,-545.772 6008.7635,-540.2881\"/>\n</g>\n<!-- 114 -->\n<g id=\"node115\" class=\"node\">\n<title>114</title>\n<path fill=\"#9a61ea\" stroke=\"#000000\" d=\"M6178,-544C6178,-544 6043,-544 6043,-544 6037,-544 6031,-538 6031,-532 6031,-532 6031,-473 6031,-473 6031,-467 6037,-461 6043,-461 6043,-461 6178,-461 6178,-461 6184,-461 6190,-467 6190,-473 6190,-473 6190,-532 6190,-532 6190,-538 6184,-544 6178,-544\"/>\n<text text-anchor=\"middle\" x=\"6110.5\" y=\"-528.8\" font-family=\"Helvetica,sans-Serif\" font-size=\"14.00\" fill=\"#000000\">Temperature &lt;= 44.35</text>\n<text text-anchor=\"middle\" x=\"6110.5\" y=\"-513.8\" font-family=\"Helvetica,sans-Serif\" font-size=\"14.00\" fill=\"#000000\">entropy = 0.65</text>\n<text text-anchor=\"middle\" x=\"6110.5\" y=\"-498.8\" font-family=\"Helvetica,sans-Serif\" font-size=\"14.00\" fill=\"#000000\">samples = 8</text>\n<text text-anchor=\"middle\" x=\"6110.5\" y=\"-483.8\" font-family=\"Helvetica,sans-Serif\" font-size=\"14.00\" fill=\"#000000\">value = [0, 2, 10]</text>\n<text text-anchor=\"middle\" x=\"6110.5\" y=\"-468.8\" font-family=\"Helvetica,sans-Serif\" font-size=\"14.00\" fill=\"#000000\">class = Minor</text>\n</g>\n<!-- 112&#45;&gt;114 -->\n<g id=\"edge114\" class=\"edge\">\n<title>112&#45;&gt;114</title>\n<path fill=\"none\" stroke=\"#000000\" d=\"M6107.2488,-579.8796C6107.5931,-571.6838 6107.9584,-562.9891 6108.3151,-554.5013\"/>\n<polygon fill=\"#000000\" stroke=\"#000000\" points=\"6111.8208,-554.4362 6108.7438,-544.2981 6104.827,-554.1423 6111.8208,-554.4362\"/>\n</g>\n<!-- 115 -->\n<g id=\"node116\" class=\"node\">\n<title>115</title>\n<path fill=\"#8139e5\" stroke=\"#000000\" d=\"M6033,-417.5C6033,-417.5 5942,-417.5 5942,-417.5 5936,-417.5 5930,-411.5 5930,-405.5 5930,-405.5 5930,-361.5 5930,-361.5 5930,-355.5 5936,-349.5 5942,-349.5 5942,-349.5 6033,-349.5 6033,-349.5 6039,-349.5 6045,-355.5 6045,-361.5 6045,-361.5 6045,-405.5 6045,-405.5 6045,-411.5 6039,-417.5 6033,-417.5\"/>\n<text text-anchor=\"middle\" x=\"5987.5\" y=\"-402.3\" font-family=\"Helvetica,sans-Serif\" font-size=\"14.00\" fill=\"#000000\">entropy = 0.0</text>\n<text text-anchor=\"middle\" x=\"5987.5\" y=\"-387.3\" font-family=\"Helvetica,sans-Serif\" font-size=\"14.00\" fill=\"#000000\">samples = 4</text>\n<text text-anchor=\"middle\" x=\"5987.5\" y=\"-372.3\" font-family=\"Helvetica,sans-Serif\" font-size=\"14.00\" fill=\"#000000\">value = [0, 0, 5]</text>\n<text text-anchor=\"middle\" x=\"5987.5\" y=\"-357.3\" font-family=\"Helvetica,sans-Serif\" font-size=\"14.00\" fill=\"#000000\">class = Minor</text>\n</g>\n<!-- 114&#45;&gt;115 -->\n<g id=\"edge115\" class=\"edge\">\n<title>114&#45;&gt;115</title>\n<path fill=\"none\" stroke=\"#000000\" d=\"M6067.4806,-460.8796C6055.4329,-449.2237 6042.3422,-436.5587 6030.3069,-424.9148\"/>\n<polygon fill=\"#000000\" stroke=\"#000000\" points=\"6032.589,-422.2528 6022.9684,-417.8149 6027.7217,-427.2837 6032.589,-422.2528\"/>\n</g>\n<!-- 116 -->\n<g id=\"node117\" class=\"node\">\n<title>116</title>\n<path fill=\"#b388ef\" stroke=\"#000000\" d=\"M6166,-425C6166,-425 6075,-425 6075,-425 6069,-425 6063,-419 6063,-413 6063,-413 6063,-354 6063,-354 6063,-348 6069,-342 6075,-342 6075,-342 6166,-342 6166,-342 6172,-342 6178,-348 6178,-354 6178,-354 6178,-413 6178,-413 6178,-419 6172,-425 6166,-425\"/>\n<text text-anchor=\"middle\" x=\"6120.5\" y=\"-409.8\" font-family=\"Helvetica,sans-Serif\" font-size=\"14.00\" fill=\"#000000\">Visibility &lt;= 7.7</text>\n<text text-anchor=\"middle\" x=\"6120.5\" y=\"-394.8\" font-family=\"Helvetica,sans-Serif\" font-size=\"14.00\" fill=\"#000000\">entropy = 0.86</text>\n<text text-anchor=\"middle\" x=\"6120.5\" y=\"-379.8\" font-family=\"Helvetica,sans-Serif\" font-size=\"14.00\" fill=\"#000000\">samples = 4</text>\n<text text-anchor=\"middle\" x=\"6120.5\" y=\"-364.8\" font-family=\"Helvetica,sans-Serif\" font-size=\"14.00\" fill=\"#000000\">value = [0, 2, 5]</text>\n<text text-anchor=\"middle\" x=\"6120.5\" y=\"-349.8\" font-family=\"Helvetica,sans-Serif\" font-size=\"14.00\" fill=\"#000000\">class = Minor</text>\n</g>\n<!-- 114&#45;&gt;116 -->\n<g id=\"edge116\" class=\"edge\">\n<title>114&#45;&gt;116</title>\n<path fill=\"none\" stroke=\"#000000\" d=\"M6113.9975,-460.8796C6114.6862,-452.6838 6115.4169,-443.9891 6116.1301,-435.5013\"/>\n<polygon fill=\"#000000\" stroke=\"#000000\" points=\"6119.6378,-435.5561 6116.9876,-425.2981 6112.6624,-434.9698 6119.6378,-435.5561\"/>\n</g>\n<!-- 117 -->\n<g id=\"node118\" class=\"node\">\n<title>117</title>\n<path fill=\"#8139e5\" stroke=\"#000000\" d=\"M6033,-298.5C6033,-298.5 5942,-298.5 5942,-298.5 5936,-298.5 5930,-292.5 5930,-286.5 5930,-286.5 5930,-242.5 5930,-242.5 5930,-236.5 5936,-230.5 5942,-230.5 5942,-230.5 6033,-230.5 6033,-230.5 6039,-230.5 6045,-236.5 6045,-242.5 6045,-242.5 6045,-286.5 6045,-286.5 6045,-292.5 6039,-298.5 6033,-298.5\"/>\n<text text-anchor=\"middle\" x=\"5987.5\" y=\"-283.3\" font-family=\"Helvetica,sans-Serif\" font-size=\"14.00\" fill=\"#000000\">entropy = 0.0</text>\n<text text-anchor=\"middle\" x=\"5987.5\" y=\"-268.3\" font-family=\"Helvetica,sans-Serif\" font-size=\"14.00\" fill=\"#000000\">samples = 3</text>\n<text text-anchor=\"middle\" x=\"5987.5\" y=\"-253.3\" font-family=\"Helvetica,sans-Serif\" font-size=\"14.00\" fill=\"#000000\">value = [0, 0, 5]</text>\n<text text-anchor=\"middle\" x=\"5987.5\" y=\"-238.3\" font-family=\"Helvetica,sans-Serif\" font-size=\"14.00\" fill=\"#000000\">class = Minor</text>\n</g>\n<!-- 116&#45;&gt;117 -->\n<g id=\"edge117\" class=\"edge\">\n<title>116&#45;&gt;117</title>\n<path fill=\"none\" stroke=\"#000000\" d=\"M6073.9831,-341.8796C6060.833,-330.1138 6046.5337,-317.3197 6033.4191,-305.5855\"/>\n<polygon fill=\"#000000\" stroke=\"#000000\" points=\"6035.6382,-302.8746 6025.852,-298.8149 6030.9706,-308.0913 6035.6382,-302.8746\"/>\n</g>\n<!-- 118 -->\n<g id=\"node119\" class=\"node\">\n<title>118</title>\n<path fill=\"#39e581\" stroke=\"#000000\" d=\"M6166,-298.5C6166,-298.5 6075,-298.5 6075,-298.5 6069,-298.5 6063,-292.5 6063,-286.5 6063,-286.5 6063,-242.5 6063,-242.5 6063,-236.5 6069,-230.5 6075,-230.5 6075,-230.5 6166,-230.5 6166,-230.5 6172,-230.5 6178,-236.5 6178,-242.5 6178,-242.5 6178,-286.5 6178,-286.5 6178,-292.5 6172,-298.5 6166,-298.5\"/>\n<text text-anchor=\"middle\" x=\"6120.5\" y=\"-283.3\" font-family=\"Helvetica,sans-Serif\" font-size=\"14.00\" fill=\"#000000\">entropy = 0.0</text>\n<text text-anchor=\"middle\" x=\"6120.5\" y=\"-268.3\" font-family=\"Helvetica,sans-Serif\" font-size=\"14.00\" fill=\"#000000\">samples = 1</text>\n<text text-anchor=\"middle\" x=\"6120.5\" y=\"-253.3\" font-family=\"Helvetica,sans-Serif\" font-size=\"14.00\" fill=\"#000000\">value = [0, 2, 0]</text>\n<text text-anchor=\"middle\" x=\"6120.5\" y=\"-238.3\" font-family=\"Helvetica,sans-Serif\" font-size=\"14.00\" fill=\"#000000\">class = Major</text>\n</g>\n<!-- 116&#45;&gt;118 -->\n<g id=\"edge118\" class=\"edge\">\n<title>116&#45;&gt;118</title>\n<path fill=\"none\" stroke=\"#000000\" d=\"M6120.5,-341.8796C6120.5,-331.2134 6120.5,-319.7021 6120.5,-308.9015\"/>\n<polygon fill=\"#000000\" stroke=\"#000000\" points=\"6124.0001,-308.8149 6120.5,-298.8149 6117.0001,-308.815 6124.0001,-308.8149\"/>\n</g>\n<!-- 120 -->\n<g id=\"node121\" class=\"node\">\n<title>120</title>\n<path fill=\"#823ae5\" stroke=\"#000000\" d=\"M6358.5,-544C6358.5,-544 6242.5,-544 6242.5,-544 6236.5,-544 6230.5,-538 6230.5,-532 6230.5,-532 6230.5,-473 6230.5,-473 6230.5,-467 6236.5,-461 6242.5,-461 6242.5,-461 6358.5,-461 6358.5,-461 6364.5,-461 6370.5,-467 6370.5,-473 6370.5,-473 6370.5,-532 6370.5,-532 6370.5,-538 6364.5,-544 6358.5,-544\"/>\n<text text-anchor=\"middle\" x=\"6300.5\" y=\"-528.8\" font-family=\"Helvetica,sans-Serif\" font-size=\"14.00\" fill=\"#000000\">Precipitation &lt;= 0.0</text>\n<text text-anchor=\"middle\" x=\"6300.5\" y=\"-513.8\" font-family=\"Helvetica,sans-Serif\" font-size=\"14.00\" fill=\"#000000\">entropy = 0.05</text>\n<text text-anchor=\"middle\" x=\"6300.5\" y=\"-498.8\" font-family=\"Helvetica,sans-Serif\" font-size=\"14.00\" fill=\"#000000\">samples = 115</text>\n<text text-anchor=\"middle\" x=\"6300.5\" y=\"-483.8\" font-family=\"Helvetica,sans-Serif\" font-size=\"14.00\" fill=\"#000000\">value = [0, 1, 175]</text>\n<text text-anchor=\"middle\" x=\"6300.5\" y=\"-468.8\" font-family=\"Helvetica,sans-Serif\" font-size=\"14.00\" fill=\"#000000\">class = Minor</text>\n</g>\n<!-- 119&#45;&gt;120 -->\n<g id=\"edge120\" class=\"edge\">\n<title>119&#45;&gt;120</title>\n<path fill=\"none\" stroke=\"#000000\" d=\"M6318.0567,-579.8796C6316.1767,-571.5938 6314.1811,-562.798 6312.2351,-554.2216\"/>\n<polygon fill=\"#000000\" stroke=\"#000000\" points=\"6315.6096,-553.2757 6309.9836,-544.2981 6308.7831,-554.8247 6315.6096,-553.2757\"/>\n</g>\n<!-- 127 -->\n<g id=\"node128\" class=\"node\">\n<title>127</title>\n<path fill=\"#8139e5\" stroke=\"#000000\" d=\"M6500,-536.5C6500,-536.5 6401,-536.5 6401,-536.5 6395,-536.5 6389,-530.5 6389,-524.5 6389,-524.5 6389,-480.5 6389,-480.5 6389,-474.5 6395,-468.5 6401,-468.5 6401,-468.5 6500,-468.5 6500,-468.5 6506,-468.5 6512,-474.5 6512,-480.5 6512,-480.5 6512,-524.5 6512,-524.5 6512,-530.5 6506,-536.5 6500,-536.5\"/>\n<text text-anchor=\"middle\" x=\"6450.5\" y=\"-521.3\" font-family=\"Helvetica,sans-Serif\" font-size=\"14.00\" fill=\"#000000\">entropy = 0.0</text>\n<text text-anchor=\"middle\" x=\"6450.5\" y=\"-506.3\" font-family=\"Helvetica,sans-Serif\" font-size=\"14.00\" fill=\"#000000\">samples = 14</text>\n<text text-anchor=\"middle\" x=\"6450.5\" y=\"-491.3\" font-family=\"Helvetica,sans-Serif\" font-size=\"14.00\" fill=\"#000000\">value = [0, 0, 21]</text>\n<text text-anchor=\"middle\" x=\"6450.5\" y=\"-476.3\" font-family=\"Helvetica,sans-Serif\" font-size=\"14.00\" fill=\"#000000\">class = Minor</text>\n</g>\n<!-- 119&#45;&gt;127 -->\n<g id=\"edge127\" class=\"edge\">\n<title>119&#45;&gt;127</title>\n<path fill=\"none\" stroke=\"#000000\" d=\"M6370.5194,-579.8796C6382.5671,-568.2237 6395.6578,-555.5587 6407.6931,-543.9148\"/>\n<polygon fill=\"#000000\" stroke=\"#000000\" points=\"6410.2783,-546.2837 6415.0316,-536.8149 6405.411,-541.2528 6410.2783,-546.2837\"/>\n</g>\n<!-- 121 -->\n<g id=\"node122\" class=\"node\">\n<title>121</title>\n<path fill=\"#823be5\" stroke=\"#000000\" d=\"M6348,-425C6348,-425 6213,-425 6213,-425 6207,-425 6201,-419 6201,-413 6201,-413 6201,-354 6201,-354 6201,-348 6207,-342 6213,-342 6213,-342 6348,-342 6348,-342 6354,-342 6360,-348 6360,-354 6360,-354 6360,-413 6360,-413 6360,-419 6354,-425 6348,-425\"/>\n<text text-anchor=\"middle\" x=\"6280.5\" y=\"-409.8\" font-family=\"Helvetica,sans-Serif\" font-size=\"14.00\" fill=\"#000000\">Temperature &lt;= 52.65</text>\n<text text-anchor=\"middle\" x=\"6280.5\" y=\"-394.8\" font-family=\"Helvetica,sans-Serif\" font-size=\"14.00\" fill=\"#000000\">entropy = 0.07</text>\n<text text-anchor=\"middle\" x=\"6280.5\" y=\"-379.8\" font-family=\"Helvetica,sans-Serif\" font-size=\"14.00\" fill=\"#000000\">samples = 80</text>\n<text text-anchor=\"middle\" x=\"6280.5\" y=\"-364.8\" font-family=\"Helvetica,sans-Serif\" font-size=\"14.00\" fill=\"#000000\">value = [0, 1, 121]</text>\n<text text-anchor=\"middle\" x=\"6280.5\" y=\"-349.8\" font-family=\"Helvetica,sans-Serif\" font-size=\"14.00\" fill=\"#000000\">class = Minor</text>\n</g>\n<!-- 120&#45;&gt;121 -->\n<g id=\"edge121\" class=\"edge\">\n<title>120&#45;&gt;121</title>\n<path fill=\"none\" stroke=\"#000000\" d=\"M6293.505,-460.8796C6292.1124,-452.5938 6290.6341,-443.798 6289.1927,-435.2216\"/>\n<polygon fill=\"#000000\" stroke=\"#000000\" points=\"6292.634,-434.5796 6287.5249,-425.2981 6285.7308,-435.7399 6292.634,-434.5796\"/>\n</g>\n<!-- 126 -->\n<g id=\"node127\" class=\"node\">\n<title>126</title>\n<path fill=\"#8139e5\" stroke=\"#000000\" d=\"M6489,-417.5C6489,-417.5 6390,-417.5 6390,-417.5 6384,-417.5 6378,-411.5 6378,-405.5 6378,-405.5 6378,-361.5 6378,-361.5 6378,-355.5 6384,-349.5 6390,-349.5 6390,-349.5 6489,-349.5 6489,-349.5 6495,-349.5 6501,-355.5 6501,-361.5 6501,-361.5 6501,-405.5 6501,-405.5 6501,-411.5 6495,-417.5 6489,-417.5\"/>\n<text text-anchor=\"middle\" x=\"6439.5\" y=\"-402.3\" font-family=\"Helvetica,sans-Serif\" font-size=\"14.00\" fill=\"#000000\">entropy = 0.0</text>\n<text text-anchor=\"middle\" x=\"6439.5\" y=\"-387.3\" font-family=\"Helvetica,sans-Serif\" font-size=\"14.00\" fill=\"#000000\">samples = 35</text>\n<text text-anchor=\"middle\" x=\"6439.5\" y=\"-372.3\" font-family=\"Helvetica,sans-Serif\" font-size=\"14.00\" fill=\"#000000\">value = [0, 0, 54]</text>\n<text text-anchor=\"middle\" x=\"6439.5\" y=\"-357.3\" font-family=\"Helvetica,sans-Serif\" font-size=\"14.00\" fill=\"#000000\">class = Minor</text>\n</g>\n<!-- 120&#45;&gt;126 -->\n<g id=\"edge126\" class=\"edge\">\n<title>120&#45;&gt;126</title>\n<path fill=\"none\" stroke=\"#000000\" d=\"M6349.1155,-460.8796C6362.8587,-449.1138 6377.8031,-436.3197 6391.5093,-424.5855\"/>\n<polygon fill=\"#000000\" stroke=\"#000000\" points=\"6394.0976,-426.9771 6399.4178,-417.8149 6389.5452,-421.6596 6394.0976,-426.9771\"/>\n</g>\n<!-- 122 -->\n<g id=\"node123\" class=\"node\">\n<title>122</title>\n<path fill=\"#8139e5\" stroke=\"#000000\" d=\"M6307,-298.5C6307,-298.5 6208,-298.5 6208,-298.5 6202,-298.5 6196,-292.5 6196,-286.5 6196,-286.5 6196,-242.5 6196,-242.5 6196,-236.5 6202,-230.5 6208,-230.5 6208,-230.5 6307,-230.5 6307,-230.5 6313,-230.5 6319,-236.5 6319,-242.5 6319,-242.5 6319,-286.5 6319,-286.5 6319,-292.5 6313,-298.5 6307,-298.5\"/>\n<text text-anchor=\"middle\" x=\"6257.5\" y=\"-283.3\" font-family=\"Helvetica,sans-Serif\" font-size=\"14.00\" fill=\"#000000\">entropy = 0.0</text>\n<text text-anchor=\"middle\" x=\"6257.5\" y=\"-268.3\" font-family=\"Helvetica,sans-Serif\" font-size=\"14.00\" fill=\"#000000\">samples = 51</text>\n<text text-anchor=\"middle\" x=\"6257.5\" y=\"-253.3\" font-family=\"Helvetica,sans-Serif\" font-size=\"14.00\" fill=\"#000000\">value = [0, 0, 81]</text>\n<text text-anchor=\"middle\" x=\"6257.5\" y=\"-238.3\" font-family=\"Helvetica,sans-Serif\" font-size=\"14.00\" fill=\"#000000\">class = Minor</text>\n</g>\n<!-- 121&#45;&gt;122 -->\n<g id=\"edge122\" class=\"edge\">\n<title>121&#45;&gt;122</title>\n<path fill=\"none\" stroke=\"#000000\" d=\"M6272.4557,-341.8796C6270.3942,-331.2134 6268.1693,-319.7021 6266.0818,-308.9015\"/>\n<polygon fill=\"#000000\" stroke=\"#000000\" points=\"6269.4664,-307.969 6264.1323,-298.8149 6262.5936,-309.2974 6269.4664,-307.969\"/>\n</g>\n<!-- 123 -->\n<g id=\"node124\" class=\"node\">\n<title>123</title>\n<path fill=\"#843ee6\" stroke=\"#000000\" d=\"M6484,-306C6484,-306 6349,-306 6349,-306 6343,-306 6337,-300 6337,-294 6337,-294 6337,-235 6337,-235 6337,-229 6343,-223 6349,-223 6349,-223 6484,-223 6484,-223 6490,-223 6496,-229 6496,-235 6496,-235 6496,-294 6496,-294 6496,-300 6490,-306 6484,-306\"/>\n<text text-anchor=\"middle\" x=\"6416.5\" y=\"-290.8\" font-family=\"Helvetica,sans-Serif\" font-size=\"14.00\" fill=\"#000000\">Temperature &lt;= 53.55</text>\n<text text-anchor=\"middle\" x=\"6416.5\" y=\"-275.8\" font-family=\"Helvetica,sans-Serif\" font-size=\"14.00\" fill=\"#000000\">entropy = 0.17</text>\n<text text-anchor=\"middle\" x=\"6416.5\" y=\"-260.8\" font-family=\"Helvetica,sans-Serif\" font-size=\"14.00\" fill=\"#000000\">samples = 29</text>\n<text text-anchor=\"middle\" x=\"6416.5\" y=\"-245.8\" font-family=\"Helvetica,sans-Serif\" font-size=\"14.00\" fill=\"#000000\">value = [0, 1, 40]</text>\n<text text-anchor=\"middle\" x=\"6416.5\" y=\"-230.8\" font-family=\"Helvetica,sans-Serif\" font-size=\"14.00\" fill=\"#000000\">class = Minor</text>\n</g>\n<!-- 121&#45;&gt;123 -->\n<g id=\"edge123\" class=\"edge\">\n<title>121&#45;&gt;123</title>\n<path fill=\"none\" stroke=\"#000000\" d=\"M6328.0662,-341.8796C6338.6679,-332.6031 6350.0002,-322.6874 6360.8933,-313.1559\"/>\n<polygon fill=\"#000000\" stroke=\"#000000\" points=\"6363.5098,-315.5172 6368.7308,-306.2981 6358.9002,-310.2491 6363.5098,-315.5172\"/>\n</g>\n<!-- 124 -->\n<g id=\"node125\" class=\"node\">\n<title>124</title>\n<path fill=\"#39e581\" stroke=\"#000000\" d=\"M6328,-179.5C6328,-179.5 6237,-179.5 6237,-179.5 6231,-179.5 6225,-173.5 6225,-167.5 6225,-167.5 6225,-123.5 6225,-123.5 6225,-117.5 6231,-111.5 6237,-111.5 6237,-111.5 6328,-111.5 6328,-111.5 6334,-111.5 6340,-117.5 6340,-123.5 6340,-123.5 6340,-167.5 6340,-167.5 6340,-173.5 6334,-179.5 6328,-179.5\"/>\n<text text-anchor=\"middle\" x=\"6282.5\" y=\"-164.3\" font-family=\"Helvetica,sans-Serif\" font-size=\"14.00\" fill=\"#000000\">entropy = 0.0</text>\n<text text-anchor=\"middle\" x=\"6282.5\" y=\"-149.3\" font-family=\"Helvetica,sans-Serif\" font-size=\"14.00\" fill=\"#000000\">samples = 1</text>\n<text text-anchor=\"middle\" x=\"6282.5\" y=\"-134.3\" font-family=\"Helvetica,sans-Serif\" font-size=\"14.00\" fill=\"#000000\">value = [0, 1, 0]</text>\n<text text-anchor=\"middle\" x=\"6282.5\" y=\"-119.3\" font-family=\"Helvetica,sans-Serif\" font-size=\"14.00\" fill=\"#000000\">class = Major</text>\n</g>\n<!-- 123&#45;&gt;124 -->\n<g id=\"edge124\" class=\"edge\">\n<title>123&#45;&gt;124</title>\n<path fill=\"none\" stroke=\"#000000\" d=\"M6369.6333,-222.8796C6356.3844,-211.1138 6341.9776,-198.3197 6328.7644,-186.5855\"/>\n<polygon fill=\"#000000\" stroke=\"#000000\" points=\"6330.9416,-183.8381 6321.1403,-179.8149 6326.2935,-189.0722 6330.9416,-183.8381\"/>\n</g>\n<!-- 125 -->\n<g id=\"node126\" class=\"node\">\n<title>125</title>\n<path fill=\"#8139e5\" stroke=\"#000000\" d=\"M6469,-179.5C6469,-179.5 6370,-179.5 6370,-179.5 6364,-179.5 6358,-173.5 6358,-167.5 6358,-167.5 6358,-123.5 6358,-123.5 6358,-117.5 6364,-111.5 6370,-111.5 6370,-111.5 6469,-111.5 6469,-111.5 6475,-111.5 6481,-117.5 6481,-123.5 6481,-123.5 6481,-167.5 6481,-167.5 6481,-173.5 6475,-179.5 6469,-179.5\"/>\n<text text-anchor=\"middle\" x=\"6419.5\" y=\"-164.3\" font-family=\"Helvetica,sans-Serif\" font-size=\"14.00\" fill=\"#000000\">entropy = 0.0</text>\n<text text-anchor=\"middle\" x=\"6419.5\" y=\"-149.3\" font-family=\"Helvetica,sans-Serif\" font-size=\"14.00\" fill=\"#000000\">samples = 28</text>\n<text text-anchor=\"middle\" x=\"6419.5\" y=\"-134.3\" font-family=\"Helvetica,sans-Serif\" font-size=\"14.00\" fill=\"#000000\">value = [0, 0, 40]</text>\n<text text-anchor=\"middle\" x=\"6419.5\" y=\"-119.3\" font-family=\"Helvetica,sans-Serif\" font-size=\"14.00\" fill=\"#000000\">class = Minor</text>\n</g>\n<!-- 123&#45;&gt;125 -->\n<g id=\"edge125\" class=\"edge\">\n<title>123&#45;&gt;125</title>\n<path fill=\"none\" stroke=\"#000000\" d=\"M6417.5493,-222.8796C6417.8182,-212.2134 6418.1084,-200.7021 6418.3806,-189.9015\"/>\n<polygon fill=\"#000000\" stroke=\"#000000\" points=\"6421.8817,-189.9 6418.6349,-179.8149 6414.8839,-189.7235 6421.8817,-189.9\"/>\n</g>\n<!-- 129 -->\n<g id=\"node130\" class=\"node\">\n<title>129</title>\n<path fill=\"#8e4de8\" stroke=\"#000000\" d=\"M6745,-663C6745,-663 6606,-663 6606,-663 6600,-663 6594,-657 6594,-651 6594,-651 6594,-592 6594,-592 6594,-586 6600,-580 6606,-580 6606,-580 6745,-580 6745,-580 6751,-580 6757,-586 6757,-592 6757,-592 6757,-651 6757,-651 6757,-657 6751,-663 6745,-663\"/>\n<text text-anchor=\"middle\" x=\"6675.5\" y=\"-647.8\" font-family=\"Helvetica,sans-Serif\" font-size=\"14.00\" fill=\"#000000\">WEEKDAY_Sat &lt;= 0.5</text>\n<text text-anchor=\"middle\" x=\"6675.5\" y=\"-632.8\" font-family=\"Helvetica,sans-Serif\" font-size=\"14.00\" fill=\"#000000\">entropy = 0.44</text>\n<text text-anchor=\"middle\" x=\"6675.5\" y=\"-617.8\" font-family=\"Helvetica,sans-Serif\" font-size=\"14.00\" fill=\"#000000\">samples = 124</text>\n<text text-anchor=\"middle\" x=\"6675.5\" y=\"-602.8\" font-family=\"Helvetica,sans-Serif\" font-size=\"14.00\" fill=\"#000000\">value = [0, 18, 177]</text>\n<text text-anchor=\"middle\" x=\"6675.5\" y=\"-587.8\" font-family=\"Helvetica,sans-Serif\" font-size=\"14.00\" fill=\"#000000\">class = Minor</text>\n</g>\n<!-- 128&#45;&gt;129 -->\n<g id=\"edge129\" class=\"edge\">\n<title>128&#45;&gt;129</title>\n<path fill=\"none\" stroke=\"#000000\" d=\"M6675.5,-698.8796C6675.5,-690.6838 6675.5,-681.9891 6675.5,-673.5013\"/>\n<polygon fill=\"#000000\" stroke=\"#000000\" points=\"6679.0001,-673.298 6675.5,-663.2981 6672.0001,-673.2981 6679.0001,-673.298\"/>\n</g>\n<!-- 146 -->\n<g id=\"node147\" class=\"node\">\n<title>146</title>\n<path fill=\"#8139e5\" stroke=\"#000000\" d=\"M6886,-655.5C6886,-655.5 6787,-655.5 6787,-655.5 6781,-655.5 6775,-649.5 6775,-643.5 6775,-643.5 6775,-599.5 6775,-599.5 6775,-593.5 6781,-587.5 6787,-587.5 6787,-587.5 6886,-587.5 6886,-587.5 6892,-587.5 6898,-593.5 6898,-599.5 6898,-599.5 6898,-643.5 6898,-643.5 6898,-649.5 6892,-655.5 6886,-655.5\"/>\n<text text-anchor=\"middle\" x=\"6836.5\" y=\"-640.3\" font-family=\"Helvetica,sans-Serif\" font-size=\"14.00\" fill=\"#000000\">entropy = 0.0</text>\n<text text-anchor=\"middle\" x=\"6836.5\" y=\"-625.3\" font-family=\"Helvetica,sans-Serif\" font-size=\"14.00\" fill=\"#000000\">samples = 35</text>\n<text text-anchor=\"middle\" x=\"6836.5\" y=\"-610.3\" font-family=\"Helvetica,sans-Serif\" font-size=\"14.00\" fill=\"#000000\">value = [0, 0, 58]</text>\n<text text-anchor=\"middle\" x=\"6836.5\" y=\"-595.3\" font-family=\"Helvetica,sans-Serif\" font-size=\"14.00\" fill=\"#000000\">class = Minor</text>\n</g>\n<!-- 128&#45;&gt;146 -->\n<g id=\"edge146\" class=\"edge\">\n<title>128&#45;&gt;146</title>\n<path fill=\"none\" stroke=\"#000000\" d=\"M6731.81,-698.8796C6748.1032,-686.8368 6765.8539,-673.7167 6782.0325,-661.7586\"/>\n<polygon fill=\"#000000\" stroke=\"#000000\" points=\"6784.3721,-664.3816 6790.3335,-655.623 6780.2114,-658.7524 6784.3721,-664.3816\"/>\n</g>\n<!-- 130 -->\n<g id=\"node131\" class=\"node\">\n<title>130</title>\n<path fill=\"#8f4fe8\" stroke=\"#000000\" d=\"M6748.5,-544C6748.5,-544 6602.5,-544 6602.5,-544 6596.5,-544 6590.5,-538 6590.5,-532 6590.5,-532 6590.5,-473 6590.5,-473 6590.5,-467 6596.5,-461 6602.5,-461 6602.5,-461 6748.5,-461 6748.5,-461 6754.5,-461 6760.5,-467 6760.5,-473 6760.5,-473 6760.5,-532 6760.5,-532 6760.5,-538 6754.5,-544 6748.5,-544\"/>\n<text text-anchor=\"middle\" x=\"6675.5\" y=\"-528.8\" font-family=\"Helvetica,sans-Serif\" font-size=\"14.00\" fill=\"#000000\">WEEKDAY_Mon &lt;= 0.5</text>\n<text text-anchor=\"middle\" x=\"6675.5\" y=\"-513.8\" font-family=\"Helvetica,sans-Serif\" font-size=\"14.00\" fill=\"#000000\">entropy = 0.47</text>\n<text text-anchor=\"middle\" x=\"6675.5\" y=\"-498.8\" font-family=\"Helvetica,sans-Serif\" font-size=\"14.00\" fill=\"#000000\">samples = 114</text>\n<text text-anchor=\"middle\" x=\"6675.5\" y=\"-483.8\" font-family=\"Helvetica,sans-Serif\" font-size=\"14.00\" fill=\"#000000\">value = [0, 18, 163]</text>\n<text text-anchor=\"middle\" x=\"6675.5\" y=\"-468.8\" font-family=\"Helvetica,sans-Serif\" font-size=\"14.00\" fill=\"#000000\">class = Minor</text>\n</g>\n<!-- 129&#45;&gt;130 -->\n<g id=\"edge130\" class=\"edge\">\n<title>129&#45;&gt;130</title>\n<path fill=\"none\" stroke=\"#000000\" d=\"M6675.5,-579.8796C6675.5,-571.6838 6675.5,-562.9891 6675.5,-554.5013\"/>\n<polygon fill=\"#000000\" stroke=\"#000000\" points=\"6679.0001,-554.298 6675.5,-544.2981 6672.0001,-554.2981 6679.0001,-554.298\"/>\n</g>\n<!-- 145 -->\n<g id=\"node146\" class=\"node\">\n<title>145</title>\n<path fill=\"#8139e5\" stroke=\"#000000\" d=\"M6890,-536.5C6890,-536.5 6791,-536.5 6791,-536.5 6785,-536.5 6779,-530.5 6779,-524.5 6779,-524.5 6779,-480.5 6779,-480.5 6779,-474.5 6785,-468.5 6791,-468.5 6791,-468.5 6890,-468.5 6890,-468.5 6896,-468.5 6902,-474.5 6902,-480.5 6902,-480.5 6902,-524.5 6902,-524.5 6902,-530.5 6896,-536.5 6890,-536.5\"/>\n<text text-anchor=\"middle\" x=\"6840.5\" y=\"-521.3\" font-family=\"Helvetica,sans-Serif\" font-size=\"14.00\" fill=\"#000000\">entropy = 0.0</text>\n<text text-anchor=\"middle\" x=\"6840.5\" y=\"-506.3\" font-family=\"Helvetica,sans-Serif\" font-size=\"14.00\" fill=\"#000000\">samples = 10</text>\n<text text-anchor=\"middle\" x=\"6840.5\" y=\"-491.3\" font-family=\"Helvetica,sans-Serif\" font-size=\"14.00\" fill=\"#000000\">value = [0, 0, 14]</text>\n<text text-anchor=\"middle\" x=\"6840.5\" y=\"-476.3\" font-family=\"Helvetica,sans-Serif\" font-size=\"14.00\" fill=\"#000000\">class = Minor</text>\n</g>\n<!-- 129&#45;&gt;145 -->\n<g id=\"edge145\" class=\"edge\">\n<title>129&#45;&gt;145</title>\n<path fill=\"none\" stroke=\"#000000\" d=\"M6733.209,-579.8796C6749.907,-567.8368 6768.0987,-554.7167 6784.6793,-542.7586\"/>\n<polygon fill=\"#000000\" stroke=\"#000000\" points=\"6787.1232,-545.3113 6793.1865,-536.623 6783.0285,-539.6339 6787.1232,-545.3113\"/>\n</g>\n<!-- 131 -->\n<g id=\"node132\" class=\"node\">\n<title>131</title>\n<path fill=\"#8641e6\" stroke=\"#000000\" d=\"M6749,-425C6749,-425 6602,-425 6602,-425 6596,-425 6590,-419 6590,-413 6590,-413 6590,-354 6590,-354 6590,-348 6596,-342 6602,-342 6602,-342 6749,-342 6749,-342 6755,-342 6761,-348 6761,-354 6761,-354 6761,-413 6761,-413 6761,-419 6755,-425 6749,-425\"/>\n<text text-anchor=\"middle\" x=\"6675.5\" y=\"-409.8\" font-family=\"Helvetica,sans-Serif\" font-size=\"14.00\" fill=\"#000000\">WEEKDAY_Wed &lt;= 0.5</text>\n<text text-anchor=\"middle\" x=\"6675.5\" y=\"-394.8\" font-family=\"Helvetica,sans-Serif\" font-size=\"14.00\" fill=\"#000000\">entropy = 0.23</text>\n<text text-anchor=\"middle\" x=\"6675.5\" y=\"-379.8\" font-family=\"Helvetica,sans-Serif\" font-size=\"14.00\" fill=\"#000000\">samples = 87</text>\n<text text-anchor=\"middle\" x=\"6675.5\" y=\"-364.8\" font-family=\"Helvetica,sans-Serif\" font-size=\"14.00\" fill=\"#000000\">value = [0, 5, 129]</text>\n<text text-anchor=\"middle\" x=\"6675.5\" y=\"-349.8\" font-family=\"Helvetica,sans-Serif\" font-size=\"14.00\" fill=\"#000000\">class = Minor</text>\n</g>\n<!-- 130&#45;&gt;131 -->\n<g id=\"edge131\" class=\"edge\">\n<title>130&#45;&gt;131</title>\n<path fill=\"none\" stroke=\"#000000\" d=\"M6675.5,-460.8796C6675.5,-452.6838 6675.5,-443.9891 6675.5,-435.5013\"/>\n<polygon fill=\"#000000\" stroke=\"#000000\" points=\"6679.0001,-435.298 6675.5,-425.2981 6672.0001,-435.2981 6679.0001,-435.298\"/>\n</g>\n<!-- 138 -->\n<g id=\"node139\" class=\"node\">\n<title>138</title>\n<path fill=\"#b185ef\" stroke=\"#000000\" d=\"M7009,-425C7009,-425 6884,-425 6884,-425 6878,-425 6872,-419 6872,-413 6872,-413 6872,-354 6872,-354 6872,-348 6878,-342 6884,-342 6884,-342 7009,-342 7009,-342 7015,-342 7021,-348 7021,-354 7021,-354 7021,-413 7021,-413 7021,-419 7015,-425 7009,-425\"/>\n<text text-anchor=\"middle\" x=\"6946.5\" y=\"-409.8\" font-family=\"Helvetica,sans-Serif\" font-size=\"14.00\" fill=\"#000000\">MONTH_Aug &lt;= 0.5</text>\n<text text-anchor=\"middle\" x=\"6946.5\" y=\"-394.8\" font-family=\"Helvetica,sans-Serif\" font-size=\"14.00\" fill=\"#000000\">entropy = 0.85</text>\n<text text-anchor=\"middle\" x=\"6946.5\" y=\"-379.8\" font-family=\"Helvetica,sans-Serif\" font-size=\"14.00\" fill=\"#000000\">samples = 27</text>\n<text text-anchor=\"middle\" x=\"6946.5\" y=\"-364.8\" font-family=\"Helvetica,sans-Serif\" font-size=\"14.00\" fill=\"#000000\">value = [0, 13, 34]</text>\n<text text-anchor=\"middle\" x=\"6946.5\" y=\"-349.8\" font-family=\"Helvetica,sans-Serif\" font-size=\"14.00\" fill=\"#000000\">class = Minor</text>\n</g>\n<!-- 130&#45;&gt;138 -->\n<g id=\"edge138\" class=\"edge\">\n<title>130&#45;&gt;138</title>\n<path fill=\"none\" stroke=\"#000000\" d=\"M6760.5493,-464.9378C6763.5697,-463.6082 6766.5605,-462.2924 6769.5,-461 6799.8422,-447.6595 6833.1297,-433.0718 6862.569,-420.1871\"/>\n<polygon fill=\"#000000\" stroke=\"#000000\" points=\"6864.2253,-423.2828 6871.9834,-416.0673 6861.419,-416.8699 6864.2253,-423.2828\"/>\n</g>\n<!-- 132 -->\n<g id=\"node133\" class=\"node\">\n<title>132</title>\n<path fill=\"#8139e5\" stroke=\"#000000\" d=\"M6625,-298.5C6625,-298.5 6526,-298.5 6526,-298.5 6520,-298.5 6514,-292.5 6514,-286.5 6514,-286.5 6514,-242.5 6514,-242.5 6514,-236.5 6520,-230.5 6526,-230.5 6526,-230.5 6625,-230.5 6625,-230.5 6631,-230.5 6637,-236.5 6637,-242.5 6637,-242.5 6637,-286.5 6637,-286.5 6637,-292.5 6631,-298.5 6625,-298.5\"/>\n<text text-anchor=\"middle\" x=\"6575.5\" y=\"-283.3\" font-family=\"Helvetica,sans-Serif\" font-size=\"14.00\" fill=\"#000000\">entropy = 0.0</text>\n<text text-anchor=\"middle\" x=\"6575.5\" y=\"-268.3\" font-family=\"Helvetica,sans-Serif\" font-size=\"14.00\" fill=\"#000000\">samples = 58</text>\n<text text-anchor=\"middle\" x=\"6575.5\" y=\"-253.3\" font-family=\"Helvetica,sans-Serif\" font-size=\"14.00\" fill=\"#000000\">value = [0, 0, 93]</text>\n<text text-anchor=\"middle\" x=\"6575.5\" y=\"-238.3\" font-family=\"Helvetica,sans-Serif\" font-size=\"14.00\" fill=\"#000000\">class = Minor</text>\n</g>\n<!-- 131&#45;&gt;132 -->\n<g id=\"edge132\" class=\"edge\">\n<title>131&#45;&gt;132</title>\n<path fill=\"none\" stroke=\"#000000\" d=\"M6640.5249,-341.8796C6630.9148,-330.4436 6620.4885,-318.0363 6610.8571,-306.575\"/>\n<polygon fill=\"#000000\" stroke=\"#000000\" points=\"6613.4491,-304.219 6604.3361,-298.8149 6608.09,-308.7225 6613.4491,-304.219\"/>\n</g>\n<!-- 133 -->\n<g id=\"node134\" class=\"node\">\n<title>133</title>\n<path fill=\"#9254e9\" stroke=\"#000000\" d=\"M6793.5,-306C6793.5,-306 6667.5,-306 6667.5,-306 6661.5,-306 6655.5,-300 6655.5,-294 6655.5,-294 6655.5,-235 6655.5,-235 6655.5,-229 6661.5,-223 6667.5,-223 6667.5,-223 6793.5,-223 6793.5,-223 6799.5,-223 6805.5,-229 6805.5,-235 6805.5,-235 6805.5,-294 6805.5,-294 6805.5,-300 6799.5,-306 6793.5,-306\"/>\n<text text-anchor=\"middle\" x=\"6730.5\" y=\"-290.8\" font-family=\"Helvetica,sans-Serif\" font-size=\"14.00\" fill=\"#000000\">Cloud Cover &lt;= 61.6</text>\n<text text-anchor=\"middle\" x=\"6730.5\" y=\"-275.8\" font-family=\"Helvetica,sans-Serif\" font-size=\"14.00\" fill=\"#000000\">entropy = 0.53</text>\n<text text-anchor=\"middle\" x=\"6730.5\" y=\"-260.8\" font-family=\"Helvetica,sans-Serif\" font-size=\"14.00\" fill=\"#000000\">samples = 29</text>\n<text text-anchor=\"middle\" x=\"6730.5\" y=\"-245.8\" font-family=\"Helvetica,sans-Serif\" font-size=\"14.00\" fill=\"#000000\">value = [0, 5, 36]</text>\n<text text-anchor=\"middle\" x=\"6730.5\" y=\"-230.8\" font-family=\"Helvetica,sans-Serif\" font-size=\"14.00\" fill=\"#000000\">class = Minor</text>\n</g>\n<!-- 131&#45;&gt;133 -->\n<g id=\"edge133\" class=\"edge\">\n<title>131&#45;&gt;133</title>\n<path fill=\"none\" stroke=\"#000000\" d=\"M6694.7363,-341.8796C6698.6908,-333.3236 6702.8966,-324.2238 6706.9825,-315.3833\"/>\n<polygon fill=\"#000000\" stroke=\"#000000\" points=\"6710.1632,-316.8439 6711.1816,-306.2981 6703.809,-313.907 6710.1632,-316.8439\"/>\n</g>\n<!-- 134 -->\n<g id=\"node135\" class=\"node\">\n<title>134</title>\n<path fill=\"#a26dec\" stroke=\"#000000\" d=\"M6639,-187C6639,-187 6514,-187 6514,-187 6508,-187 6502,-181 6502,-175 6502,-175 6502,-116 6502,-116 6502,-110 6508,-104 6514,-104 6514,-104 6639,-104 6639,-104 6645,-104 6651,-110 6651,-116 6651,-116 6651,-175 6651,-175 6651,-181 6645,-187 6639,-187\"/>\n<text text-anchor=\"middle\" x=\"6576.5\" y=\"-171.8\" font-family=\"Helvetica,sans-Serif\" font-size=\"14.00\" fill=\"#000000\">MONTH_Aug &lt;= 0.5</text>\n<text text-anchor=\"middle\" x=\"6576.5\" y=\"-156.8\" font-family=\"Helvetica,sans-Serif\" font-size=\"14.00\" fill=\"#000000\">entropy = 0.74</text>\n<text text-anchor=\"middle\" x=\"6576.5\" y=\"-141.8\" font-family=\"Helvetica,sans-Serif\" font-size=\"14.00\" fill=\"#000000\">samples = 16</text>\n<text text-anchor=\"middle\" x=\"6576.5\" y=\"-126.8\" font-family=\"Helvetica,sans-Serif\" font-size=\"14.00\" fill=\"#000000\">value = [0, 5, 19]</text>\n<text text-anchor=\"middle\" x=\"6576.5\" y=\"-111.8\" font-family=\"Helvetica,sans-Serif\" font-size=\"14.00\" fill=\"#000000\">class = Minor</text>\n</g>\n<!-- 133&#45;&gt;134 -->\n<g id=\"edge134\" class=\"edge\">\n<title>133&#45;&gt;134</title>\n<path fill=\"none\" stroke=\"#000000\" d=\"M6676.6383,-222.8796C6664.3291,-213.368 6651.1503,-203.1843 6638.5296,-193.432\"/>\n<polygon fill=\"#000000\" stroke=\"#000000\" points=\"6640.3843,-190.4419 6630.3313,-187.0969 6636.1041,-195.9809 6640.3843,-190.4419\"/>\n</g>\n<!-- 137 -->\n<g id=\"node138\" class=\"node\">\n<title>137</title>\n<path fill=\"#8139e5\" stroke=\"#000000\" d=\"M6780,-179.5C6780,-179.5 6681,-179.5 6681,-179.5 6675,-179.5 6669,-173.5 6669,-167.5 6669,-167.5 6669,-123.5 6669,-123.5 6669,-117.5 6675,-111.5 6681,-111.5 6681,-111.5 6780,-111.5 6780,-111.5 6786,-111.5 6792,-117.5 6792,-123.5 6792,-123.5 6792,-167.5 6792,-167.5 6792,-173.5 6786,-179.5 6780,-179.5\"/>\n<text text-anchor=\"middle\" x=\"6730.5\" y=\"-164.3\" font-family=\"Helvetica,sans-Serif\" font-size=\"14.00\" fill=\"#000000\">entropy = 0.0</text>\n<text text-anchor=\"middle\" x=\"6730.5\" y=\"-149.3\" font-family=\"Helvetica,sans-Serif\" font-size=\"14.00\" fill=\"#000000\">samples = 13</text>\n<text text-anchor=\"middle\" x=\"6730.5\" y=\"-134.3\" font-family=\"Helvetica,sans-Serif\" font-size=\"14.00\" fill=\"#000000\">value = [0, 0, 17]</text>\n<text text-anchor=\"middle\" x=\"6730.5\" y=\"-119.3\" font-family=\"Helvetica,sans-Serif\" font-size=\"14.00\" fill=\"#000000\">class = Minor</text>\n</g>\n<!-- 133&#45;&gt;137 -->\n<g id=\"edge137\" class=\"edge\">\n<title>133&#45;&gt;137</title>\n<path fill=\"none\" stroke=\"#000000\" d=\"M6730.5,-222.8796C6730.5,-212.2134 6730.5,-200.7021 6730.5,-189.9015\"/>\n<polygon fill=\"#000000\" stroke=\"#000000\" points=\"6734.0001,-189.8149 6730.5,-179.8149 6727.0001,-189.815 6734.0001,-189.8149\"/>\n</g>\n<!-- 135 -->\n<g id=\"node136\" class=\"node\">\n<title>135</title>\n<path fill=\"#ab7bee\" stroke=\"#000000\" d=\"M6582,-68C6582,-68 6483,-68 6483,-68 6477,-68 6471,-62 6471,-56 6471,-56 6471,-12 6471,-12 6471,-6 6477,0 6483,0 6483,0 6582,0 6582,0 6588,0 6594,-6 6594,-12 6594,-12 6594,-56 6594,-56 6594,-62 6588,-68 6582,-68\"/>\n<text text-anchor=\"middle\" x=\"6532.5\" y=\"-52.8\" font-family=\"Helvetica,sans-Serif\" font-size=\"14.00\" fill=\"#000000\">entropy = 0.81</text>\n<text text-anchor=\"middle\" x=\"6532.5\" y=\"-37.8\" font-family=\"Helvetica,sans-Serif\" font-size=\"14.00\" fill=\"#000000\">samples = 14</text>\n<text text-anchor=\"middle\" x=\"6532.5\" y=\"-22.8\" font-family=\"Helvetica,sans-Serif\" font-size=\"14.00\" fill=\"#000000\">value = [0, 5, 15]</text>\n<text text-anchor=\"middle\" x=\"6532.5\" y=\"-7.8\" font-family=\"Helvetica,sans-Serif\" font-size=\"14.00\" fill=\"#000000\">class = Minor</text>\n</g>\n<!-- 134&#45;&gt;135 -->\n<g id=\"edge135\" class=\"edge\">\n<title>134&#45;&gt;135</title>\n<path fill=\"none\" stroke=\"#000000\" d=\"M6560.116,-103.9815C6556.7431,-95.4342 6553.1814,-86.4086 6549.778,-77.7839\"/>\n<polygon fill=\"#000000\" stroke=\"#000000\" points=\"6552.9475,-76.2808 6546.0211,-68.2637 6546.4362,-78.8504 6552.9475,-76.2808\"/>\n</g>\n<!-- 136 -->\n<g id=\"node137\" class=\"node\">\n<title>136</title>\n<path fill=\"#8139e5\" stroke=\"#000000\" d=\"M6715,-68C6715,-68 6624,-68 6624,-68 6618,-68 6612,-62 6612,-56 6612,-56 6612,-12 6612,-12 6612,-6 6618,0 6624,0 6624,0 6715,0 6715,0 6721,0 6727,-6 6727,-12 6727,-12 6727,-56 6727,-56 6727,-62 6721,-68 6715,-68\"/>\n<text text-anchor=\"middle\" x=\"6669.5\" y=\"-52.8\" font-family=\"Helvetica,sans-Serif\" font-size=\"14.00\" fill=\"#000000\">entropy = 0.0</text>\n<text text-anchor=\"middle\" x=\"6669.5\" y=\"-37.8\" font-family=\"Helvetica,sans-Serif\" font-size=\"14.00\" fill=\"#000000\">samples = 2</text>\n<text text-anchor=\"middle\" x=\"6669.5\" y=\"-22.8\" font-family=\"Helvetica,sans-Serif\" font-size=\"14.00\" fill=\"#000000\">value = [0, 0, 4]</text>\n<text text-anchor=\"middle\" x=\"6669.5\" y=\"-7.8\" font-family=\"Helvetica,sans-Serif\" font-size=\"14.00\" fill=\"#000000\">class = Minor</text>\n</g>\n<!-- 134&#45;&gt;136 -->\n<g id=\"edge136\" class=\"edge\">\n<title>134&#45;&gt;136</title>\n<path fill=\"none\" stroke=\"#000000\" d=\"M6611.1298,-103.9815C6618.7189,-94.8828 6626.76,-85.242 6634.3686,-76.1199\"/>\n<polygon fill=\"#000000\" stroke=\"#000000\" points=\"6637.2039,-78.1849 6640.9213,-68.2637 6631.8283,-73.7012 6637.2039,-78.1849\"/>\n</g>\n<!-- 139 -->\n<g id=\"node140\" class=\"node\">\n<title>139</title>\n<path fill=\"#b992f1\" stroke=\"#000000\" d=\"M7000,-306C7000,-306 6893,-306 6893,-306 6887,-306 6881,-300 6881,-294 6881,-294 6881,-235 6881,-235 6881,-229 6887,-223 6893,-223 6893,-223 7000,-223 7000,-223 7006,-223 7012,-229 7012,-235 7012,-235 7012,-294 7012,-294 7012,-300 7006,-306 7000,-306\"/>\n<text text-anchor=\"middle\" x=\"6946.5\" y=\"-290.8\" font-family=\"Helvetica,sans-Serif\" font-size=\"14.00\" fill=\"#000000\">Visibility &lt;= 9.35</text>\n<text text-anchor=\"middle\" x=\"6946.5\" y=\"-275.8\" font-family=\"Helvetica,sans-Serif\" font-size=\"14.00\" fill=\"#000000\">entropy = 0.89</text>\n<text text-anchor=\"middle\" x=\"6946.5\" y=\"-260.8\" font-family=\"Helvetica,sans-Serif\" font-size=\"14.00\" fill=\"#000000\">samples = 24</text>\n<text text-anchor=\"middle\" x=\"6946.5\" y=\"-245.8\" font-family=\"Helvetica,sans-Serif\" font-size=\"14.00\" fill=\"#000000\">value = [0, 13, 29]</text>\n<text text-anchor=\"middle\" x=\"6946.5\" y=\"-230.8\" font-family=\"Helvetica,sans-Serif\" font-size=\"14.00\" fill=\"#000000\">class = Minor</text>\n</g>\n<!-- 138&#45;&gt;139 -->\n<g id=\"edge139\" class=\"edge\">\n<title>138&#45;&gt;139</title>\n<path fill=\"none\" stroke=\"#000000\" d=\"M6946.5,-341.8796C6946.5,-333.6838 6946.5,-324.9891 6946.5,-316.5013\"/>\n<polygon fill=\"#000000\" stroke=\"#000000\" points=\"6950.0001,-316.298 6946.5,-306.2981 6943.0001,-316.2981 6950.0001,-316.298\"/>\n</g>\n<!-- 144 -->\n<g id=\"node145\" class=\"node\">\n<title>144</title>\n<path fill=\"#8139e5\" stroke=\"#000000\" d=\"M7133,-298.5C7133,-298.5 7042,-298.5 7042,-298.5 7036,-298.5 7030,-292.5 7030,-286.5 7030,-286.5 7030,-242.5 7030,-242.5 7030,-236.5 7036,-230.5 7042,-230.5 7042,-230.5 7133,-230.5 7133,-230.5 7139,-230.5 7145,-236.5 7145,-242.5 7145,-242.5 7145,-286.5 7145,-286.5 7145,-292.5 7139,-298.5 7133,-298.5\"/>\n<text text-anchor=\"middle\" x=\"7087.5\" y=\"-283.3\" font-family=\"Helvetica,sans-Serif\" font-size=\"14.00\" fill=\"#000000\">entropy = 0.0</text>\n<text text-anchor=\"middle\" x=\"7087.5\" y=\"-268.3\" font-family=\"Helvetica,sans-Serif\" font-size=\"14.00\" fill=\"#000000\">samples = 3</text>\n<text text-anchor=\"middle\" x=\"7087.5\" y=\"-253.3\" font-family=\"Helvetica,sans-Serif\" font-size=\"14.00\" fill=\"#000000\">value = [0, 0, 5]</text>\n<text text-anchor=\"middle\" x=\"7087.5\" y=\"-238.3\" font-family=\"Helvetica,sans-Serif\" font-size=\"14.00\" fill=\"#000000\">class = Minor</text>\n</g>\n<!-- 138&#45;&gt;144 -->\n<g id=\"edge144\" class=\"edge\">\n<title>138&#45;&gt;144</title>\n<path fill=\"none\" stroke=\"#000000\" d=\"M6995.815,-341.8796C7009.756,-330.1138 7024.9154,-317.3197 7038.8188,-305.5855\"/>\n<polygon fill=\"#000000\" stroke=\"#000000\" points=\"7041.4564,-307.9394 7046.8411,-298.8149 7036.9416,-302.5899 7041.4564,-307.9394\"/>\n</g>\n<!-- 140 -->\n<g id=\"node141\" class=\"node\">\n<title>140</title>\n<path fill=\"#76eda8\" stroke=\"#000000\" d=\"M7071,-187C7071,-187 6822,-187 6822,-187 6816,-187 6810,-181 6810,-175 6810,-175 6810,-116 6810,-116 6810,-110 6816,-104 6822,-104 6822,-104 7071,-104 7071,-104 7077,-104 7083,-110 7083,-116 7083,-116 7083,-175 7083,-175 7083,-181 7077,-187 7071,-187\"/>\n<text text-anchor=\"middle\" x=\"6946.5\" y=\"-171.8\" font-family=\"Helvetica,sans-Serif\" font-size=\"14.00\" fill=\"#000000\">Conditions_Rain, Partially cloudy &lt;= 0.5</text>\n<text text-anchor=\"middle\" x=\"6946.5\" y=\"-156.8\" font-family=\"Helvetica,sans-Serif\" font-size=\"14.00\" fill=\"#000000\">entropy = 0.79</text>\n<text text-anchor=\"middle\" x=\"6946.5\" y=\"-141.8\" font-family=\"Helvetica,sans-Serif\" font-size=\"14.00\" fill=\"#000000\">samples = 11</text>\n<text text-anchor=\"middle\" x=\"6946.5\" y=\"-126.8\" font-family=\"Helvetica,sans-Serif\" font-size=\"14.00\" fill=\"#000000\">value = [0, 13, 4]</text>\n<text text-anchor=\"middle\" x=\"6946.5\" y=\"-111.8\" font-family=\"Helvetica,sans-Serif\" font-size=\"14.00\" fill=\"#000000\">class = Major</text>\n</g>\n<!-- 139&#45;&gt;140 -->\n<g id=\"edge140\" class=\"edge\">\n<title>139&#45;&gt;140</title>\n<path fill=\"none\" stroke=\"#000000\" d=\"M6946.5,-222.8796C6946.5,-214.6838 6946.5,-205.9891 6946.5,-197.5013\"/>\n<polygon fill=\"#000000\" stroke=\"#000000\" points=\"6950.0001,-197.298 6946.5,-187.2981 6943.0001,-197.2981 6950.0001,-197.298\"/>\n</g>\n<!-- 143 -->\n<g id=\"node144\" class=\"node\">\n<title>143</title>\n<path fill=\"#8139e5\" stroke=\"#000000\" d=\"M7212,-179.5C7212,-179.5 7113,-179.5 7113,-179.5 7107,-179.5 7101,-173.5 7101,-167.5 7101,-167.5 7101,-123.5 7101,-123.5 7101,-117.5 7107,-111.5 7113,-111.5 7113,-111.5 7212,-111.5 7212,-111.5 7218,-111.5 7224,-117.5 7224,-123.5 7224,-123.5 7224,-167.5 7224,-167.5 7224,-173.5 7218,-179.5 7212,-179.5\"/>\n<text text-anchor=\"middle\" x=\"7162.5\" y=\"-164.3\" font-family=\"Helvetica,sans-Serif\" font-size=\"14.00\" fill=\"#000000\">entropy = 0.0</text>\n<text text-anchor=\"middle\" x=\"7162.5\" y=\"-149.3\" font-family=\"Helvetica,sans-Serif\" font-size=\"14.00\" fill=\"#000000\">samples = 13</text>\n<text text-anchor=\"middle\" x=\"7162.5\" y=\"-134.3\" font-family=\"Helvetica,sans-Serif\" font-size=\"14.00\" fill=\"#000000\">value = [0, 0, 25]</text>\n<text text-anchor=\"middle\" x=\"7162.5\" y=\"-119.3\" font-family=\"Helvetica,sans-Serif\" font-size=\"14.00\" fill=\"#000000\">class = Minor</text>\n</g>\n<!-- 139&#45;&gt;143 -->\n<g id=\"edge143\" class=\"edge\">\n<title>139&#45;&gt;143</title>\n<path fill=\"none\" stroke=\"#000000\" d=\"M7012.2769,-227.9278C7015.3895,-226.2525 7018.4758,-224.6027 7021.5,-223 7052.7614,-206.4325 7061.4886,-204.0307 7092.5,-187 7093.9899,-186.1818 7095.4943,-185.3488 7097.0087,-184.5043\"/>\n<polygon fill=\"#000000\" stroke=\"#000000\" points=\"7098.7715,-187.5284 7105.7578,-179.5633 7095.3293,-181.4332 7098.7715,-187.5284\"/>\n</g>\n<!-- 141 -->\n<g id=\"node142\" class=\"node\">\n<title>141</title>\n<path fill=\"#81eeaf\" stroke=\"#000000\" d=\"M6904,-68C6904,-68 6805,-68 6805,-68 6799,-68 6793,-62 6793,-56 6793,-56 6793,-12 6793,-12 6793,-6 6799,0 6805,0 6805,0 6904,0 6904,0 6910,0 6916,-6 6916,-12 6916,-12 6916,-56 6916,-56 6916,-62 6910,-68 6904,-68\"/>\n<text text-anchor=\"middle\" x=\"6854.5\" y=\"-52.8\" font-family=\"Helvetica,sans-Serif\" font-size=\"14.00\" fill=\"#000000\">entropy = 0.84</text>\n<text text-anchor=\"middle\" x=\"6854.5\" y=\"-37.8\" font-family=\"Helvetica,sans-Serif\" font-size=\"14.00\" fill=\"#000000\">samples = 10</text>\n<text text-anchor=\"middle\" x=\"6854.5\" y=\"-22.8\" font-family=\"Helvetica,sans-Serif\" font-size=\"14.00\" fill=\"#000000\">value = [0, 11, 4]</text>\n<text text-anchor=\"middle\" x=\"6854.5\" y=\"-7.8\" font-family=\"Helvetica,sans-Serif\" font-size=\"14.00\" fill=\"#000000\">class = Major</text>\n</g>\n<!-- 140&#45;&gt;141 -->\n<g id=\"edge141\" class=\"edge\">\n<title>140&#45;&gt;141</title>\n<path fill=\"none\" stroke=\"#000000\" d=\"M6912.2426,-103.9815C6904.7351,-94.8828 6896.7804,-85.242 6889.2536,-76.1199\"/>\n<polygon fill=\"#000000\" stroke=\"#000000\" points=\"6891.8354,-73.7495 6882.7714,-68.2637 6886.4361,-78.2045 6891.8354,-73.7495\"/>\n</g>\n<!-- 142 -->\n<g id=\"node143\" class=\"node\">\n<title>142</title>\n<path fill=\"#39e581\" stroke=\"#000000\" d=\"M7037,-68C7037,-68 6946,-68 6946,-68 6940,-68 6934,-62 6934,-56 6934,-56 6934,-12 6934,-12 6934,-6 6940,0 6946,0 6946,0 7037,0 7037,0 7043,0 7049,-6 7049,-12 7049,-12 7049,-56 7049,-56 7049,-62 7043,-68 7037,-68\"/>\n<text text-anchor=\"middle\" x=\"6991.5\" y=\"-52.8\" font-family=\"Helvetica,sans-Serif\" font-size=\"14.00\" fill=\"#000000\">entropy = 0.0</text>\n<text text-anchor=\"middle\" x=\"6991.5\" y=\"-37.8\" font-family=\"Helvetica,sans-Serif\" font-size=\"14.00\" fill=\"#000000\">samples = 1</text>\n<text text-anchor=\"middle\" x=\"6991.5\" y=\"-22.8\" font-family=\"Helvetica,sans-Serif\" font-size=\"14.00\" fill=\"#000000\">value = [0, 2, 0]</text>\n<text text-anchor=\"middle\" x=\"6991.5\" y=\"-7.8\" font-family=\"Helvetica,sans-Serif\" font-size=\"14.00\" fill=\"#000000\">class = Major</text>\n</g>\n<!-- 140&#45;&gt;142 -->\n<g id=\"edge142\" class=\"edge\">\n<title>140&#45;&gt;142</title>\n<path fill=\"none\" stroke=\"#000000\" d=\"M6963.2563,-103.9815C6966.7059,-95.4342 6970.3486,-86.4086 6973.8294,-77.7839\"/>\n<polygon fill=\"#000000\" stroke=\"#000000\" points=\"6977.1746,-78.8469 6977.6716,-68.2637 6970.6833,-76.227 6977.1746,-78.8469\"/>\n</g>\n</g>\n</svg>\n"
          },
          "metadata": {},
          "execution_count": 54
        }
      ]
    },
    {
      "cell_type": "code",
      "source": [
        ""
      ],
      "metadata": {
        "id": "41izE3BnwDTP"
      },
      "execution_count": null,
      "outputs": []
    }
  ]
}
